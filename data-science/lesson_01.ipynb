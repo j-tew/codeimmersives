{
 "cells": [
  {
   "cell_type": "markdown",
   "metadata": {},
   "source": [
    "<a href=\"https://codeimmersives.com\"><img src = \"https://www.codeimmersives.com/wp-content/uploads/2019/09/CodeImmersives_Logo_RGB_NYC_BW.png\" width = 400> </a>\n",
    "\n",
    "\n",
    "<h1 align=center><font size = 5>Agenda</font></h1>"
   ]
  },
  {
   "cell_type": "markdown",
   "metadata": {},
   "source": [
    "### \n",
    "<div class=\"alert alert-block alert-info\" style=\"margin-top: 20px\">\n",
    "\n",
    "1. [Mean or Average](#0)<br>\n",
    "2. [Median](#2)<br> \n",
    "3. [Mode](#4)<br>     \n",
    "4. [Max](#6)<br> \n",
    "5. [Min](#8)<br> \n",
    "6. [Range](#10)<br>    \n",
    "7. [Weighted Mean](#12)<br> \n",
    "8. [Exercise 1](#14)<br>   \n",
    "9. [Exercise 2](#16)<br>    \n",
    "10.[Exercise 3](#18)<br>\n",
    "</div>\n",
    "<hr>"
   ]
  },
  {
   "cell_type": "markdown",
   "metadata": {},
   "source": [
    "<h2>Mean or Average</h2><a id=\"0\"></a>\n",
    "The first basic statistic that we are going to cover is the mean or average.  It is calculated by <br>\n",
    "adding up all of the values in a data set and dividing by the number of items in the set. <br>\n",
    "Let's start with a set of high school algebra test scores.  <br>\n",
    "<br>\n",
    "91,88,83,84,92,95,88,91,88,86<br>\n",
    "<br>\n",
    "In our case we have 10 numbers.  <br>\n",
    "$\\sum_{i=1}^{10} X_i$/10<br>\n",
    "<br>\n",
    "Which can be generalized to:\n",
    "$\\sum_{i=1}^{n} X_i$/n<br>\n",
    "<br>\n",
    "Above is the mathematical representation of the mean<br>\n",
    "<br>\n",
    "Write your python code below is calculate the mean<br>"
   ]
  },
  {
   "cell_type": "code",
   "execution_count": 13,
   "metadata": {},
   "outputs": [
    {
     "data": {
      "text/plain": [
       "88.6"
      ]
     },
     "execution_count": 13,
     "metadata": {},
     "output_type": "execute_result"
    }
   ],
   "source": [
    "nums = [91,88,83,84,92,95,88,91,88,86]\n",
    "\n",
    "def my_mean(x=nums):\n",
    "    return sum(x)/len(x)\n",
    "\n",
    "my_mean(nums)"
   ]
  },
  {
   "cell_type": "markdown",
   "metadata": {},
   "source": [
    "To get a better idea of the range of our data let's order it from <br>\n",
    "smallest to largest number<br>"
   ]
  },
  {
   "cell_type": "markdown",
   "metadata": {},
   "source": [
    "<h4>Question</h4>\n",
    "How do you order a list in ascending order?"
   ]
  },
  {
   "cell_type": "code",
   "execution_count": 14,
   "metadata": {},
   "outputs": [
    {
     "name": "stdout",
     "output_type": "stream",
     "text": [
      "[83, 84, 86, 88, 88, 88, 91, 91, 92, 95]\n"
     ]
    }
   ],
   "source": [
    "sorted_nums = sorted(nums)\n",
    "print(sorted_nums)"
   ]
  },
  {
   "cell_type": "markdown",
   "metadata": {},
   "source": [
    "<h4>Question</h4>\n",
    "How would we sort the same list of grades from largest to smallest?"
   ]
  },
  {
   "cell_type": "code",
   "execution_count": 15,
   "metadata": {},
   "outputs": [
    {
     "name": "stdout",
     "output_type": "stream",
     "text": [
      "[95, 92, 91, 91, 88, 88, 88, 86, 84, 83]\n"
     ]
    }
   ],
   "source": [
    "rev_sorted = sorted_nums[::-1]\n",
    "print(rev_sorted)"
   ]
  },
  {
   "cell_type": "markdown",
   "metadata": {},
   "source": [
    "<h2>The median</h2><a id=\"2\"></a>\n",
    "Is the middle number in a series.  It is calculated in 2 different ways<br>\n",
    "based on the number of items in the data set.<br>\n",
    "<br>\n",
    "Even number of items<br>\n",
    "The median takes the 2 middle numbers in the case of a set of 10 numbers it would be <br>\n",
    "the 5th and 6th items added together and divided by 2.  In the case of our ordered<br>\n",
    "final grades it would entail adding (88 + 88 )/ 2 = 88<br>\n",
    "Which can be generalized to:<br>\n",
    "$ (X_5$ + $X_6$ )/2<br>\n",
    "<br>\n",
    "For an odd number of items the median is the middle number.  <br>"
   ]
  },
  {
   "cell_type": "code",
   "execution_count": 17,
   "metadata": {},
   "outputs": [
    {
     "data": {
      "text/plain": [
       "89.5"
      ]
     },
     "execution_count": 17,
     "metadata": {},
     "output_type": "execute_result"
    }
   ],
   "source": [
    "def my_median(x=sorted_nums):\n",
    "        return (x[int(l/2+1)] + x[int(l/2-1)]) / 2 if (l := len(x)) % 2 == 0 else x[l/2]\n",
    "\n",
    "my_median(sorted_nums)"
   ]
  },
  {
   "cell_type": "markdown",
   "metadata": {},
   "source": [
    "<h2>Exercise</h2>\n",
    "Calculate the median of the following odd numbered data set:<br>\n",
    "<code>\n",
    "    heights = [62, 65, 67, 60, 63]\n",
    "</code>"
   ]
  },
  {
   "cell_type": "markdown",
   "metadata": {},
   "source": [
    "<h4>Solution</h4>\n",
    "Steps<br>\n",
    "1 - Order the data set from smallest to largest<br>\n",
    "2 - Calculate the length of the list<br>\n",
    "3 - If odd numbered take the middle number<br>\n",
    "4 - If even number of items take the middle 2 number and add them<br>\n",
    "Then divide by 2<br>"
   ]
  },
  {
   "cell_type": "code",
   "execution_count": null,
   "metadata": {},
   "outputs": [],
   "source": []
  },
  {
   "cell_type": "markdown",
   "metadata": {},
   "source": [
    "<h2>Exercise</h2>\n",
    "Take 5 - 10 minutes to develop a object oriented solution<br>\n",
    "or at least 2 functions<br>\n",
    "Calculate the mean and median of the following data sets.<br>\n",
    "Create a class called BaseStatistics<br>\n",
    "Create a method called calc_mean which takes in a list argument<br>\n",
    "Create a method called calc_median which takes in a list argument<br>\n",
    "<code>\n",
    "fire_flies_per_yard = [22,34,37,14,11,10]<br>\n",
    "summer_temps = [78, 77, 74, 80, 72]\n",
    "</code>"
   ]
  },
  {
   "cell_type": "code",
   "execution_count": null,
   "metadata": {},
   "outputs": [],
   "source": []
  },
  {
   "cell_type": "markdown",
   "metadata": {},
   "source": [
    "<h4>Solution</h4>"
   ]
  },
  {
   "cell_type": "code",
   "execution_count": null,
   "metadata": {},
   "outputs": [],
   "source": [
    "\n",
    "   "
   ]
  },
  {
   "cell_type": "markdown",
   "metadata": {},
   "source": [
    "<h2>The Mode</h2><a id=\"4\"></a>\n",
    "The mode represents the most common number in a data set.<br>\n",
    "A data set could have several modes or no mode at all<br>\n",
    "For example the number 1 through 10 would not have a mode<br>\n",
    "<br>\n",
    "nums = [1,2,3,4,5,6,7,8,9,10]<br>\n",
    "<br>\n",
    "Whereas the following data set would have a mode<br>\n",
    "nums = [3,7,2,5,11,5]<br>\n",
    "The mode would be 5 because it is repeated twice in this data set.<br>\n",
    "Before we create a method and add it to out baseStatisics class let's<br>\n",
    "create a function for the mode<br>"
   ]
  },
  {
   "cell_type": "markdown",
   "metadata": {},
   "source": [
    "<h2>Exercise</h2>\n",
    "Create a python function to calculate the mode of the below data set<br>\n",
    "<code>\n",
    "summer_temps = [72,77,79,82,84,77,89]\n",
    "</code>\n",
    "<br>"
   ]
  },
  {
   "cell_type": "markdown",
   "metadata": {},
   "source": [
    "<h4>Solution</h4>"
   ]
  },
  {
   "cell_type": "code",
   "execution_count": 53,
   "metadata": {},
   "outputs": [
    {
     "data": {
      "text/plain": [
       "[72, 82, 89]"
      ]
     },
     "execution_count": 53,
     "metadata": {},
     "output_type": "execute_result"
    }
   ],
   "source": [
    "summer_temps = [72,72,72,77,79,82,82,82,84,77,89,89,89]\n",
    "\n",
    "def my_mode(x=summer_temps):\n",
    "    counts = {i: x.count(i) for i in x}\n",
    "    return [k for k,v in counts.items() if v == max(counts.values())]\n",
    "\n",
    "my_mode()"
   ]
  },
  {
   "cell_type": "markdown",
   "metadata": {},
   "source": [
    "<h2>Question</h2>\n",
    "How do we sort a dictionary in descending key order?"
   ]
  },
  {
   "cell_type": "code",
   "execution_count": null,
   "metadata": {},
   "outputs": [],
   "source": []
  },
  {
   "cell_type": "markdown",
   "metadata": {},
   "source": [
    "<h4>Exercise</h4>\n",
    "Return all of the modes for the following data set:<br>\n",
    "    <code>\n",
    "    summer_temps = [72,77,79,82,84,77,89,79]\n",
    "    </code>"
   ]
  },
  {
   "cell_type": "markdown",
   "metadata": {},
   "source": [
    "<h4>Solution</h4>"
   ]
  },
  {
   "cell_type": "code",
   "execution_count": null,
   "metadata": {},
   "outputs": [],
   "source": []
  },
  {
   "cell_type": "markdown",
   "metadata": {},
   "source": [
    "<h2>Algebra Problem</h2>\n",
    "A student scores the following on 5 exams:<br>\n",
    "<code>\n",
    "grades = [88,86,89, 92, 94]\n",
    "</code>\n",
    "What grade do they have to obtain on their next exam to have a<br>\n",
    "90 average?<br>\n"
   ]
  },
  {
   "cell_type": "markdown",
   "metadata": {},
   "source": [
    "<h4>Solution</h4>\n",
    "To solve this equation we need to set up up like this:<br>\n",
    "(88, 86, 89, 92, 94 + x)/ 6 = 90<br>\n",
    "step 1 - multiply both sides by 6 to eliminate the denominator on the right side<br>\n",
    "step 2 - (88, 86, 89, 92, 94 + x) = 540<br>\n",
    "step 3 - isolate the x by subtracting 88, 86, 89, 92, 94 which is 449 from both sides<br>\n",
    "step 4 - x = 540 - 449 = 91<br>"
   ]
  },
  {
   "cell_type": "code",
   "execution_count": null,
   "metadata": {},
   "outputs": [],
   "source": []
  },
  {
   "cell_type": "markdown",
   "metadata": {},
   "source": [
    "<h2>Minimum</h2><a id=\"8\"></a>\n",
    "What is the smallest number in our data set?<br>\n",
    "We can calculate the minimum 2 ways<br>\n",
    "method 1<br>\n",
    "sort the list and using slicing give the 1st item<br>\n",
    "method 2<br>\n",
    "use the built in python method - min()<br>\n",
    "<br>\n",
    "<code>\n",
    "grades = [88, 86, 89, 92, 94]\n",
    "</code>"
   ]
  },
  {
   "cell_type": "code",
   "execution_count": null,
   "metadata": {},
   "outputs": [],
   "source": []
  },
  {
   "cell_type": "code",
   "execution_count": null,
   "metadata": {},
   "outputs": [],
   "source": []
  },
  {
   "cell_type": "markdown",
   "metadata": {},
   "source": [
    "<h2>Maximum</h2><a id=\"6\"></a>\n",
    "What is the largestest number in our data set?<br>\n",
    "We can calculate the maximum 2 ways<br>\n",
    "method 1<br>\n",
    "sort the list and using slicing give the last item<br>\n",
    "method 2<br>\n",
    "use the built in python method - max()<br>\n",
    "<br>\n",
    "<code>\n",
    "grades = [88, 86, 89, 92, 94]\n",
    "</code>"
   ]
  },
  {
   "cell_type": "code",
   "execution_count": null,
   "metadata": {},
   "outputs": [],
   "source": []
  },
  {
   "cell_type": "code",
   "execution_count": null,
   "metadata": {},
   "outputs": [],
   "source": []
  },
  {
   "cell_type": "markdown",
   "metadata": {},
   "source": [
    "<h4>Range</h4>\n",
    "The range is calculated by taking the maximum minus the minimum<br>\n",
    "<br>\n",
    "Find the range for:<br>\n",
    "<code>\n",
    "grades = [88, 86, 89, 92, 94]\n",
    "</code>"
   ]
  },
  {
   "cell_type": "code",
   "execution_count": null,
   "metadata": {},
   "outputs": [],
   "source": []
  },
  {
   "cell_type": "markdown",
   "metadata": {},
   "source": [
    "<h2>Weighted Mean</h2><a id=\"12\"></a>\n",
    "The weighted mean is calculated by taking each number in the data set and <br>\n",
    "multiplying it by a weight which represents its portion of the total result.<br>\n",
    "The weights must add up to 1 or 100%.  For example let's take our exams and classify<br>\n",
    "them by exam type of regular exam or midterm or final exam.<br>\n",
    "regular exam - 12%<br>\n",
    "regular exam - 12%<br>\n",
    "regular exam - 12%<br>\n",
    "regular exam - 12%<br>\n",
    "regular exam - 12%<br>\n",
    "midtern 1 - 10%<br>\n",
    "midtern 2 - 10%<br>\n",
    "final exam - 20%<br>\n",
    "<br>\n",
    "The exam scores are as follows:<br>\n",
    "regular exams - 88, 84, 89, 92, 90<br>\n",
    "midterm exams - 87, 84<br>\n",
    "final exam - 94<br>\n",
    "<br>\n",
    "How would you represent this in a data structure and solve the problem?<br>"
   ]
  },
  {
   "cell_type": "markdown",
   "metadata": {},
   "source": [
    "<h4>Solution</h4>\n",
    "<code>\n",
    "\n",
    "</code>"
   ]
  },
  {
   "cell_type": "code",
   "execution_count": null,
   "metadata": {},
   "outputs": [],
   "source": [
    "scores = []\n",
    "\n",
    "def weighted_mean(x=scores)"
   ]
  },
  {
   "cell_type": "markdown",
   "metadata": {},
   "source": [
    "<h2>Exercise 1</h2><a id=\"14\"></a>\n",
    "Go back to your class BaseStatistics and add a method for calculating the:<br>\n",
    "mode<br>\n",
    "min<br>\n",
    "max<br>\n",
    "range<br>\n",
    "weighted mean<br>"
   ]
  },
  {
   "cell_type": "markdown",
   "metadata": {},
   "source": [
    "<h2>Exercise 2</h2><a id=\"16\"></a>\n",
    "There is a file grades.txt read the file and generate the base statistics for this file<br>"
   ]
  },
  {
   "cell_type": "code",
   "execution_count": null,
   "metadata": {},
   "outputs": [],
   "source": []
  },
  {
   "cell_type": "markdown",
   "metadata": {},
   "source": [
    "### <h2>Exercise 3</h2><a id=\"18\"></a>\n",
    "Calculate all of the base statistics for the following different data structure<br>\n",
    "<code>\n",
    "class_grades = {'Anton': [88, 78,83,85,87],\n",
    "               'Rebecca': [92,97,95, 92, 88],\n",
    "               'Franklin': [77, 78, 73,88, 90],\n",
    "               'Orin': [88,78,98,92,85],\n",
    "               'Rose': [90,92,94,96,98]}\n",
    "</code><br>\n",
    "Calculate each individuals grade statistics and the class statistics<br>"
   ]
  },
  {
   "cell_type": "code",
   "execution_count": null,
   "metadata": {},
   "outputs": [],
   "source": []
  },
  {
   "cell_type": "code",
   "execution_count": null,
   "metadata": {},
   "outputs": [],
   "source": []
  },
  {
   "cell_type": "markdown",
   "metadata": {},
   "source": [
    "This notebook is part of a course at www.codeimmersives.com called Data Science. If you accessed this notebook outside the course, you can get more information about this course online by clicking here."
   ]
  },
  {
   "cell_type": "markdown",
   "metadata": {},
   "source": [
    "<hr>\n",
    "\n",
    "Copyright &copy; 2021  Code Immersives"
   ]
  }
 ],
 "metadata": {
  "kernelspec": {
   "display_name": "Python 3",
   "language": "python",
   "name": "python3"
  },
  "language_info": {
   "codemirror_mode": {
    "name": "ipython",
    "version": 3
   },
   "file_extension": ".py",
   "mimetype": "text/x-python",
   "name": "python",
   "nbconvert_exporter": "python",
   "pygments_lexer": "ipython3",
   "version": "3.10.1"
  }
 },
 "nbformat": 4,
 "nbformat_minor": 4
}
