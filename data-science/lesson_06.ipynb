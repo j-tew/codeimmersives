{
  "cells": [
    {
      "cell_type": "markdown",
      "metadata": {
        "id": "3BvIIlDM_x6e"
      },
      "source": [
        "<a href=\"https://codeimmersives.com\"><img src = \"https://www.codeimmersives.com/wp-content/uploads/2019/09/CodeImmersives_Logo_RGB_NYC_BW.png\" width = 400> </a>\n",
        "\n",
        "\n",
        "<h1 align=center><font size = 5>Agenda</font></h1>"
      ]
    },
    {
      "cell_type": "markdown",
      "metadata": {
        "id": "MVO_08TW_x6h"
      },
      "source": [
        "### \n",
        "<div class=\"alert alert-block alert-info\" style=\"margin-top: 20px\">\n",
        "\n",
        "1.  [Review](#0)<br>\n",
        "2.  [Numpy Intro and Installation](#2)<br>\n",
        "2.  [Exercise](#10)<br> \n",
        "3.  [Exercise](#12)<br>     \n",
        "</div>\n",
        "<hr>"
      ]
    },
    {
      "cell_type": "markdown",
      "metadata": {
        "id": "qDn1jdEE_x6h"
      },
      "source": [
        "<h2>Review</h2>"
      ]
    },
    {
      "cell_type": "markdown",
      "metadata": {
        "id": "mzwc0Abl_x6i"
      },
      "source": [
        "<h2>Exercise</h2>\n",
        "The following list represents the diameters of circles:<br>\n",
        "<code>\n",
        "circle_diameters = [1,2,3,5,8,13,21]\n",
        "</code><br>\n",
        "1 - Calculate the area of each circle<br>\n",
        "2 - Calculate the circumference of each circle<br>\n",
        "<br>\n",
        "Use Numpy for the solution"
      ]
    },
    {
      "cell_type": "markdown",
      "metadata": {
        "id": "heqKy-Ya_x6i"
      },
      "source": [
        "<h4>Solution</h4>"
      ]
    },
    {
      "cell_type": "code",
      "execution_count": 4,
      "metadata": {
        "id": "uXH1dmRf_x6j"
      },
      "outputs": [
        {
          "name": "stdout",
          "output_type": "stream",
          "text": [
            "[3.141592653589793, 6.283185307179586, 9.42477796076938, 15.707963267948966, 25.132741228718345, 40.840704496667314, 65.97344572538566]\n"
          ]
        }
      ],
      "source": [
        "import numpy as np\n",
        "\n",
        "circle_diameters = [1,2,3,5,8,13,21]\n",
        "\n",
        "circle_circumferences = [np.pi * d for d in circle_diameters]\n",
        "\n",
        "print(circle_circumferences)"
      ]
    },
    {
      "cell_type": "markdown",
      "metadata": {
        "id": "p685WCMG_x6j"
      },
      "source": [
        "<h2>Exercise</h2>\n",
        "For each tuple in the list print the area of each rectangle<br><br>\n",
        "Each element in the list represents the length and the width\n",
        "<code>\n",
        "dimensions = [(20,2),(2,3),(4,4),(6,6)]\n",
        "</code><br>\n",
        "Solve as a non numpy problem"
      ]
    },
    {
      "cell_type": "markdown",
      "metadata": {
        "id": "-cv9b0JK_x6k"
      },
      "source": [
        "<h4>Solution</h4>"
      ]
    },
    {
      "cell_type": "code",
      "execution_count": 5,
      "metadata": {
        "id": "qKVzzZtO_x6l"
      },
      "outputs": [
        {
          "name": "stdout",
          "output_type": "stream",
          "text": [
            "[40, 6, 16, 36]\n"
          ]
        }
      ],
      "source": [
        "dimensions = [(20,2),(2,3),(4,4),(6,6)]\n",
        "\n",
        "areas = [w * h for w, h in dimensions]\n",
        "\n",
        "print(areas)"
      ]
    },
    {
      "cell_type": "markdown",
      "metadata": {
        "id": "8U2_5Ein_x6l"
      },
      "source": [
        "<h2>Exercise</h2>\n",
        "The following dictionary represents the dimensions of an apartment in <br>\n",
        "New York City.  <br><br>\n",
        "<code>\n",
        "apartment = {'Bedroom 1':(12,12), 'Bedroom 2': (12,10), 'Bathroom 1': (6,8),\n",
        "    'Bathroom 2': (6,8), 'Kitchen': (10,8), 'Foyer': (14,4), 'Dining Room': (12,10),\n",
        "    'Living Room': (12,15)}\n",
        "</code><br>\n",
        "1 - Calculate the square footage of each room<br>\n",
        "2 - Calculate the total square footage of the apartment<br>\n",
        "3 - If the apartment is selling for $90 a square foot.  How much is it selling for?<br><br>\n",
        "NOTE: Selling price is the Square footage * price per square foot as 12<br>\n",
        "Do not use numpy"
      ]
    },
    {
      "cell_type": "code",
      "execution_count": 10,
      "metadata": {
        "id": "9z7fAdR-_x6l"
      },
      "outputs": [
        {
          "name": "stdout",
          "output_type": "stream",
          "text": [
            "{'Bedroom 1': 144, 'Bedroom 2': 120, 'Bathroom 1': 48, 'Bathroom 2': 48, 'Kitchen': 80, 'Foyer': 56, 'Dining Room': 120, 'Living Room': 180}\n",
            "$71640\n"
          ]
        }
      ],
      "source": [
        "apartment = {'Bedroom 1':(12,12), 'Bedroom 2': (12,10), 'Bathroom 1': (6,8), 'Bathroom 2': (6,8), 'Kitchen': (10,8), 'Foyer': (14,4), 'Dining Room': (12,10), 'Living Room': (12,15)}\n",
        "\n",
        "square_feet = {k: (v[0] * v[1]) for k, v in apartment.items()}\n",
        "\n",
        "price = sum(square_feet.values()) * 90\n",
        "\n",
        "print(square_feet)\n",
        "print(f'${price}')"
      ]
    },
    {
      "cell_type": "markdown",
      "metadata": {
        "id": "tB19HJEs_x6m"
      },
      "source": [
        "<h2>Exercise</h2>\n",
        "5 friends go out to dinner and their individual amounts were tallied on 1 bill<br>\n",
        "<code>\n",
        "dinner = [36, 42, 27, 32, 39]\n",
        "</code><br>\n",
        "Using numpy calculate the following:<br>\n",
        "1 - The average meal price<br>\n",
        "2 - The median meal price<br>\n",
        "3 - The maximum cost for the meal<br>\n",
        "4 - The least expensive meal<br>\n",
        "5 - The difference each person varied from the mean<br>\n",
        "6 - Add a 20% tip to each persons meal then Add 8.875 tax to the pre tax meal amount<br>\n",
        "7 - What percentage of the total bill is each person contributing?<br>\n",
        "8 - It was the birthday of the person who had the most expensive meal.  <br>\n",
        "Distribute the cost of their meal amoungst the other patrons.<br>"
      ]
    },
    {
      "cell_type": "markdown",
      "metadata": {
        "id": "s7NsHUXj_x6n"
      },
      "source": [
        "<h4>Solution</h4>"
      ]
    },
    {
      "cell_type": "code",
      "execution_count": 18,
      "metadata": {
        "id": "G0vqzfww_x6n"
      },
      "outputs": [
        {
          "name": "stdout",
          "output_type": "stream",
          "text": [
            "35.2\n",
            "36.0\n",
            "42\n",
            "27\n",
            "[0.7999999999999972, 6.799999999999997, -8.200000000000003, -3.200000000000003, 3.799999999999997]\n"
          ]
        }
      ],
      "source": [
        "dinner = [36, 42, 27, 32, 39]\n",
        "dinner2 = np.array(dinner)\n",
        "\n",
        "print(np.mean(dinner))\n",
        "print(np.median(dinner))\n",
        "print(np.max(dinner))\n",
        "print(np.min(dinner))\n",
        "diff_from_mean = [p - np.mean(dinner) for p in dinner]\n",
        "print(diff_from_mean)\n",
        "\n"
      ]
    },
    {
      "cell_type": "markdown",
      "metadata": {
        "id": "_HNYUDgS_x6o"
      },
      "source": [
        "<h2>Numpy continued</h2>"
      ]
    },
    {
      "cell_type": "markdown",
      "metadata": {
        "id": "RvNmY-MD_x6o"
      },
      "source": [
        "Strings can also be stored in a numpy array.<br>\n",
        "<code>\n",
        "import numpy as np\n",
        "pasta_shapes = ['Macaroni','Rigatoni','Angel Hair','Spaghetti','Linguini']\n",
        "shapes = np.array(pasta_shapes)\n",
        "shapes = np.sort(shapes)\n",
        "print(shapes)\n",
        "print(shapes.dtype)\n",
        "</code>"
      ]
    },
    {
      "cell_type": "code",
      "execution_count": null,
      "metadata": {
        "id": "qJ3klNaU_x6o"
      },
      "outputs": [],
      "source": []
    },
    {
      "cell_type": "markdown",
      "metadata": {
        "id": "7QT7Iz8b_x6o"
      },
      "source": [
        "We can use short cut abreviations to assign the data types to numpy<br>\n",
        "arrays:<br>\n",
        "For i, u, f, S and U we can define size as well. <br>\n",
        "We can combine each letter with a size as well like: 4,8<br>\n",
        "<br>\n",
        "<code>\n",
        "import numpy as np\n",
        "arr = np.array(list(range(1,11)), dtype='i8')\n",
        "print(arr, arr.dtype)\n",
        "</code>"
      ]
    },
    {
      "cell_type": "markdown",
      "metadata": {
        "id": "Z21nOOVe_x6p"
      },
      "source": [
        "<h2>Casting</h2>\n",
        "We can convert python data type into numpy data type using 2 methods<br>\n",
        "<br>\n",
        "Method 1<br>\n",
        "Use dtype parameter<br>\n",
        "<br>\n",
        "<code>\n",
        "arr_string = np.array(list(range(1,11)), dtype='S')\n",
        "print(arr_string)\n",
        "</code><br>\n",
        "Method 2<br>\n",
        "Use astype()<br>\n",
        "<code>\n",
        "import numpy as np\n",
        "arr = np.array(list(range(1,11)), dtype='i8')\n",
        "arr_2 = arr.astype('S')\n",
        "print(arr_2)\n",
        "</code>"
      ]
    },
    {
      "cell_type": "code",
      "execution_count": null,
      "metadata": {
        "id": "xeproktY_x6p"
      },
      "outputs": [],
      "source": []
    },
    {
      "cell_type": "markdown",
      "metadata": {
        "id": "X7Ih3dzW_x6p"
      },
      "source": [
        "<h2>Exercise</h2>\n",
        "Take the following floating point number and cast them as integers<br>\n",
        "Use both methods.<br>\n",
        "<code>\n",
        "rainfall = [2.3,3.7,2.4,1.9]\n",
        "</code>"
      ]
    },
    {
      "cell_type": "markdown",
      "metadata": {
        "id": "o3Xz2QtS_x6p"
      },
      "source": [
        "<h4>Solution</h4>"
      ]
    },
    {
      "cell_type": "code",
      "execution_count": null,
      "metadata": {
        "id": "0hUOCwlU_x6p"
      },
      "outputs": [],
      "source": []
    },
    {
      "cell_type": "code",
      "execution_count": null,
      "metadata": {
        "id": "ddA5-MpD_x6q"
      },
      "outputs": [],
      "source": [
        "import numpy as np\n",
        " \n"
      ]
    },
    {
      "cell_type": "code",
      "execution_count": null,
      "metadata": {
        "id": "C_tVi4KG_x6q"
      },
      "outputs": [],
      "source": [
        "import numpy as np\n",
        " \n"
      ]
    },
    {
      "cell_type": "code",
      "execution_count": null,
      "metadata": {
        "id": "An2WMTQ6_x6q"
      },
      "outputs": [],
      "source": []
    },
    {
      "cell_type": "code",
      "execution_count": null,
      "metadata": {
        "id": "C0NBP-CB_x6q"
      },
      "outputs": [],
      "source": []
    },
    {
      "cell_type": "code",
      "execution_count": null,
      "metadata": {
        "id": "9MV1vJHF_x6r"
      },
      "outputs": [],
      "source": []
    },
    {
      "cell_type": "markdown",
      "metadata": {
        "id": "15zdbmFY_x6r"
      },
      "source": [
        "This notebook is part of a course at www.codeimmersives.com called Data Science. If you accessed this notebook outside the course, you can get more information about this course online by clicking here."
      ]
    },
    {
      "cell_type": "markdown",
      "metadata": {
        "id": "-mRTyVbl_x6r"
      },
      "source": [
        "<hr>\n",
        "\n",
        "Copyright &copy; 2021  Code Immersives"
      ]
    }
  ],
  "metadata": {
    "colab": {
      "name": "CI Data Science - Lesson 06 - NO ANSWERS.ipynb",
      "provenance": []
    },
    "kernelspec": {
      "display_name": "Python 3",
      "language": "python",
      "name": "python3"
    },
    "language_info": {
      "codemirror_mode": {
        "name": "ipython",
        "version": 3
      },
      "file_extension": ".py",
      "mimetype": "text/x-python",
      "name": "python",
      "nbconvert_exporter": "python",
      "pygments_lexer": "ipython3",
      "version": "3.10.2"
    }
  },
  "nbformat": 4,
  "nbformat_minor": 0
}
