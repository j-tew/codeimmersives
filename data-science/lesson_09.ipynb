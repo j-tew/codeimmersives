{
  "cells": [
    {
      "cell_type": "markdown",
      "metadata": {
        "id": "Xj6qpLnjN_8b"
      },
      "source": [
        "<a href=\"https://codeimmersives.com\"><img src = \"https://www.codeimmersives.com/wp-content/uploads/2019/09/CodeImmersives_Logo_RGB_NYC_BW.png\" width = 400> </a>\n",
        "\n",
        "\n",
        "<h1 align=center><font size = 5>Agenda</font></h1>"
      ]
    },
    {
      "cell_type": "markdown",
      "metadata": {
        "id": "19LfV4dNN_8d"
      },
      "source": [
        "### \n",
        "<div class=\"alert alert-block alert-info\" style=\"margin-top: 20px\">\n",
        "\n",
        "1.  [Review](#0)<br>\n",
        "2.  [Pandas continued](#2)<br>\n",
        "2.  [Exercise](#10)<br> \n",
        "3.  [Exercise](#12)<br>     \n",
        "</div>\n",
        "<hr>"
      ]
    },
    {
      "cell_type": "markdown",
      "metadata": {
        "id": "pvX1dOXgN_8d"
      },
      "source": [
        "<h2>Review</h2>"
      ]
    },
    {
      "cell_type": "markdown",
      "metadata": {
        "id": "fPu9Ax0SN_8d"
      },
      "source": [
        "<h2>Exercise</h2>\n",
        "Create a pandas data series with every lower case letter of the alphabet<br>\n",
        "with the ascii number as the index.<br>\n",
        "Use alphabet_string = string.ascii_lowercase for a list of letters."
      ]
    },
    {
      "cell_type": "markdown",
      "metadata": {
        "id": "XtYXJkM9N_8d"
      },
      "source": [
        "<h4>Solution</h4>"
      ]
    },
    {
      "cell_type": "code",
      "execution_count": 2,
      "metadata": {
        "colab": {
          "base_uri": "https://localhost:8080/"
        },
        "id": "UIGTrlYON_8e",
        "outputId": "e7a55ac4-e29d-4227-df61-5fd9708b88c0"
      },
      "outputs": [
        {
          "output_type": "stream",
          "name": "stdout",
          "text": [
            "97\n"
          ]
        }
      ],
      "source": [
        "print(ord('a'))"
      ]
    },
    {
      "cell_type": "markdown",
      "metadata": {
        "id": "Fyell7H_N_8f"
      },
      "source": [
        "<h2>Exercise</h2>\n",
        "<br>\n",
        "<code>\n",
        "cusips = ['A123456','C711111','P90909A','VG20000']<br>\n",
        "bonds = ['AAA - CLO Bonds','TRANCHE C Rated bond','Vanilla Repo 2.3%','ETF Russell 1000']<br>\n",
        "</code><br>\n",
        "Create a pandas data frame and locate the bond with this cusip 'P90909A' as the index.\n",
        "<br>\n",
        "NOTE: loc uses square brackets"
      ]
    },
    {
      "cell_type": "markdown",
      "metadata": {
        "id": "5gBllPBkN_8g"
      },
      "source": [
        "<h4>Solution</h4>"
      ]
    },
    {
      "cell_type": "code",
      "execution_count": null,
      "metadata": {
        "id": "4iBCw12eN_8g"
      },
      "outputs": [],
      "source": [
        ""
      ]
    },
    {
      "cell_type": "code",
      "execution_count": null,
      "metadata": {
        "id": "kTTaEHWNN_8g"
      },
      "outputs": [],
      "source": [
        ""
      ]
    },
    {
      "cell_type": "markdown",
      "metadata": {
        "id": "UAnNO79QN_8h"
      },
      "source": [
        "<h2>Exercise</h2>\n",
        "Read in and clean the following list of data and place into a pandas series<br>\n",
        "without an index.  The numbers should be cast as int32 data.\n",
        "<br>\n",
        "<code>\n",
        "grades = ['68\\n', '90\\n', '69\\n', '86\\n', '78\\n', \n",
        "          '97\\n', '95\\n', '83\\n', '84\\n', '74\\n', \n",
        "          '84\\n', '71\\n', '79\\n', '82\\n', '79\\n', \n",
        "          '69\\n', '99\\n', '93\\n', '77\\n', '77\\n', \n",
        "          '75\\n', '83\\n', '86\\n', '89\\n', '76\\n', \n",
        "          '88\\n', '65\\n', '65\\n']\n",
        "</code><br>\n",
        "Finally, add 5 points to every grade"
      ]
    },
    {
      "cell_type": "markdown",
      "metadata": {
        "id": "LkDu44OZN_8h"
      },
      "source": [
        "<h4>Solution</h4>"
      ]
    },
    {
      "cell_type": "code",
      "execution_count": null,
      "metadata": {
        "id": "dCx7VIcnN_8h"
      },
      "outputs": [],
      "source": [
        ""
      ]
    },
    {
      "cell_type": "markdown",
      "metadata": {
        "id": "8qRIba8qN_8i"
      },
      "source": [
        "<h2>Pandas Series Continued</h2>"
      ]
    },
    {
      "cell_type": "code",
      "execution_count": null,
      "metadata": {
        "id": "8hM13gmeN_8i"
      },
      "outputs": [],
      "source": [
        ""
      ]
    },
    {
      "cell_type": "markdown",
      "metadata": {
        "id": "LE45RCflN_8i"
      },
      "source": [
        "Using the index we can output a range of values based on the index.<br>\n",
        "Exercise: Print out the sales from April until July<br>\n",
        "<code>\n",
        "import pandas as pd\n",
        "sales = {'Jan': 150, 'Feb':200, 'Mar': 175,\n",
        "        'April': 75, 'May': 80, 'June': 300,\n",
        "        'July': 250, 'August':130, 'September': 195,\n",
        "        'October': 75, 'November': 120, 'December': 400}\n",
        "\n",
        "</code><br>\n",
        "NOTE: The loc method includes the last item listed in the range."
      ]
    },
    {
      "cell_type": "code",
      "execution_count": null,
      "metadata": {
        "id": "17TswQDXN_8j"
      },
      "outputs": [],
      "source": [
        ""
      ]
    },
    {
      "cell_type": "markdown",
      "metadata": {
        "id": "BJa9FVFHN_8j"
      },
      "source": [
        "<h2>Exercise</h2>\n",
        "Using the dictionary below do the following:<br>\n",
        "1 - Create a pandas data series<br>\n",
        "2 - Use a 3 character all caps month abreviation as the index<br>\n",
        "3 - Add 50 to each sales number<br>\n",
        "4 - Print the first 6 months of sales<br>\n",
        "<code>\n",
        "import pandas as pd\n",
        "sales = {'January': 150, 'February':200, 'March': 175,\n",
        "        'April': 75, 'May': 80, 'June': 300,\n",
        "        'July': 250, 'August':130, 'September': 195,\n",
        "        'October': 75, 'November': 120, 'December': 400}\n",
        "</code>"
      ]
    },
    {
      "cell_type": "markdown",
      "metadata": {
        "id": "i3dUg9RWN_8j"
      },
      "source": [
        "<h4>Soluton</h4>"
      ]
    },
    {
      "cell_type": "code",
      "execution_count": null,
      "metadata": {
        "id": "Ps7VFzFxN_8k",
        "outputId": "0f8e4760-6677-4c04-82ee-2ec401e888ad"
      },
      "outputs": [
        {
          "data": {
            "text/plain": [
              "JAN    200\n",
              "FEB    250\n",
              "MAR    225\n",
              "APR    125\n",
              "MAY    130\n",
              "JUN    350\n",
              "dtype: int64"
            ]
          },
          "execution_count": 25,
          "metadata": {},
          "output_type": "execute_result"
        }
      ],
      "source": [
        ""
      ]
    },
    {
      "cell_type": "markdown",
      "metadata": {
        "id": "4KVFyuQ6N_8k"
      },
      "source": [
        "<h2>Pandas Series - Basic Statistics</h2>\n",
        "To gather basic statistics on a data Series we can use the built in<br>\n",
        "'.describe' method <br>\n",
        "<code>\n",
        "import pandas as pd\n",
        "sales = {'January': 150, 'February':200, 'March': 175,\n",
        "        'April': 75, 'May': 80, 'June': 300,\n",
        "        'July': 250, 'August':130, 'September': 195,\n",
        "        'October': 75, 'November': 120, 'December': 400}\n",
        "ps = pd.Series([int(val)+50 for val in sales.values()],\n",
        "               index = [mon.upper()[:3] for mon in sales.keys()])\n",
        "ps.describe()\n",
        "</code><br><br>\n",
        "This will give us the following statistics:<br>\n",
        "1 - count<br>\n",
        "2 - mean<br>\n",
        "3 - standard deviation<br>\n",
        "4 - minimum<br>\n",
        "5 - 25% quartile<br>\n",
        "6 - Median<br>\n",
        "7 - 75% quartile<br>\n",
        "5 - maximum<br>\n"
      ]
    },
    {
      "cell_type": "code",
      "execution_count": null,
      "metadata": {
        "id": "FTvbvGPLN_8k",
        "outputId": "627b88d7-c277-4a4d-a2ca-1c10a74b131f"
      },
      "outputs": [
        {
          "data": {
            "text/plain": [
              "count     12.000000\n",
              "mean     229.166667\n",
              "std       98.807281\n",
              "min      125.000000\n",
              "25%      160.000000\n",
              "50%      212.500000\n",
              "75%      262.500000\n",
              "max      450.000000\n",
              "dtype: float64"
            ]
          },
          "execution_count": 38,
          "metadata": {},
          "output_type": "execute_result"
        }
      ],
      "source": [
        ""
      ]
    },
    {
      "cell_type": "markdown",
      "metadata": {
        "id": "2kICHNNdN_8l"
      },
      "source": [
        "We can also get the same statistics by running the commands individually.<br>\n",
        "The list to run are as follows:<br>\n",
        "ps.mean()<br>\n",
        "ps.median()<br>\n",
        "ps.count()<br>\n",
        "ps.std()<br>\n",
        "ps.min()<br>\n",
        "ps.max()<br>\n",
        "ps.mode()<br>"
      ]
    },
    {
      "cell_type": "markdown",
      "metadata": {
        "id": "otVCHPfON_8l"
      },
      "source": [
        "We can also get the quantile values as well using a pandas method<br>\n",
        "<code>\n",
        "import pandas as pd\n",
        "s = ['68', '90', '69', '86', '78', '97', '95', '83', '84', '74', '84', \n",
        "     '71', '79', '82', '79', '69', '99', '93', '77', '77', '75', '83', \n",
        "     '86', '89', '76', '88', '65', '65']\n",
        "ps = pd.Series(s).astype('int64')\n",
        "ps = ps.quantile([.25, .5, .75])\n",
        "ps\n",
        "</code>"
      ]
    },
    {
      "cell_type": "code",
      "execution_count": null,
      "metadata": {
        "id": "IwWs9tUkN_8l"
      },
      "outputs": [],
      "source": [
        ""
      ]
    },
    {
      "cell_type": "code",
      "execution_count": null,
      "metadata": {
        "id": "ng1lO76CN_8l"
      },
      "outputs": [],
      "source": [
        ""
      ]
    },
    {
      "cell_type": "markdown",
      "metadata": {
        "id": "uWn4NSsqN_8l"
      },
      "source": [
        "This notebook is part of a course at www.codeimmersives.com called Data Science. If you accessed this notebook outside the course, you can get more information about this course online by clicking here."
      ]
    },
    {
      "cell_type": "markdown",
      "metadata": {
        "id": "mthE-mlQN_8l"
      },
      "source": [
        "<hr>\n",
        "\n",
        "Copyright &copy; 2021  Code Immersives"
      ]
    }
  ],
  "metadata": {
    "kernelspec": {
      "display_name": "Python 3",
      "language": "python",
      "name": "python3"
    },
    "language_info": {
      "codemirror_mode": {
        "name": "ipython",
        "version": 3
      },
      "file_extension": ".py",
      "mimetype": "text/x-python",
      "name": "python",
      "nbconvert_exporter": "python",
      "pygments_lexer": "ipython3",
      "version": "3.8.2"
    },
    "colab": {
      "name": "CI Data Science - Lesson 09 - NO ANSWERS.ipynb",
      "provenance": []
    }
  },
  "nbformat": 4,
  "nbformat_minor": 0
}
