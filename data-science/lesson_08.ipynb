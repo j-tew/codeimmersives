{
  "cells": [
    {
      "cell_type": "markdown",
      "metadata": {
        "id": "fGeC890o8svo"
      },
      "source": [
        "<a href=\"https://codeimmersives.com\"><img src = \"https://www.codeimmersives.com/wp-content/uploads/2019/09/CodeImmersives_Logo_RGB_NYC_BW.png\" width = 400> </a>\n",
        "\n",
        "\n",
        "<h1 align=center><font size = 5>Agenda</font></h1>"
      ]
    },
    {
      "cell_type": "markdown",
      "metadata": {
        "id": "MbDlCnH38svq"
      },
      "source": [
        "### \n",
        "<div class=\"alert alert-block alert-info\" style=\"margin-top: 20px\">\n",
        "\n",
        "1.  [Review](#0)<br>\n",
        "2.  [Pandas](#2)<br>\n",
        "2.  [Exercise](#10)<br> \n",
        "3.  [Exercise](#12)<br>     \n",
        "</div>\n",
        "<hr>"
      ]
    },
    {
      "cell_type": "markdown",
      "metadata": {
        "id": "ErulIQ4D8svs"
      },
      "source": [
        "<h2>Pandas Overwiew</h2>"
      ]
    },
    {
      "cell_type": "markdown",
      "metadata": {
        "id": "Behn8FQa8svs"
      },
      "source": [
        "We use Pandas as the primary tool for analyzing data.  All of the functions we calculated<br>\n",
        "by hand earlier in this course are now given to you automatically using built in functions.<br>\n",
        "<br>\n",
        "The primary data structures used with Pandas are series and dataframes<br>\n",
        "The difference is that we use series for 1 dimensional data and we use dataframes for<br>\n",
        "multidimensional data.\n"
      ]
    },
    {
      "cell_type": "markdown",
      "metadata": {
        "id": "dUXWgOXy8svt"
      },
      "source": [
        "<h2>Pandas Series</h2>"
      ]
    },
    {
      "cell_type": "markdown",
      "metadata": {
        "id": "f6Ir1kSe8svt"
      },
      "source": [
        "To create a pandas data series do the following:<br>\n",
        "    <code>\n",
        "    import pandas as pd\n",
        "    x = pd.Series(range(1,10))\n",
        "    x\n",
        "    </code>\n",
        "Notice the capital letter in the Series"
      ]
    },
    {
      "cell_type": "code",
      "execution_count": 3,
      "metadata": {
        "colab": {
          "base_uri": "https://localhost:8080/"
        },
        "id": "Wv53kTEd8svt",
        "outputId": "9d23a6b6-0643-4bb9-9987-8a15317a29aa"
      },
      "outputs": [
        {
          "ename": "AttributeError",
          "evalue": "'numpy.ndarray' object has no attribute 'divide'",
          "output_type": "error",
          "traceback": [
            "\u001b[0;31m---------------------------------------------------------------------------\u001b[0m",
            "\u001b[0;31mAttributeError\u001b[0m                            Traceback (most recent call last)",
            "Input \u001b[0;32mIn [3]\u001b[0m, in \u001b[0;36m<module>\u001b[0;34m\u001b[0m\n\u001b[1;32m      1\u001b[0m \u001b[38;5;28;01mimport\u001b[39;00m \u001b[38;5;21;01mpandas\u001b[39;00m \u001b[38;5;28;01mas\u001b[39;00m \u001b[38;5;21;01mpd\u001b[39;00m \n\u001b[1;32m      2\u001b[0m x \u001b[38;5;241m=\u001b[39m pd\u001b[38;5;241m.\u001b[39mSeries(\u001b[38;5;28mrange\u001b[39m(\u001b[38;5;241m1\u001b[39m,\u001b[38;5;241m130\u001b[39m))\n\u001b[0;32m----> 3\u001b[0m \u001b[38;5;28mprint\u001b[39m(\u001b[43mx\u001b[49m\u001b[38;5;241;43m.\u001b[39;49m\u001b[43mvalues\u001b[49m\u001b[38;5;241;43m.\u001b[39;49m\u001b[43mdivide\u001b[49m(\u001b[38;5;241m3\u001b[39m))\n",
            "\u001b[0;31mAttributeError\u001b[0m: 'numpy.ndarray' object has no attribute 'divide'"
          ]
        }
      ],
      "source": [
        "import pandas as pd \n",
        "x = pd.Series(range(1,130))\n",
        "print(x.values.divide(3))"
      ]
    },
    {
      "cell_type": "markdown",
      "metadata": {
        "id": "GaNIXK1t_MGM"
      },
      "source": [
        "Notice as well the index: the main difference between pandas series and numpy arrays. Oh but, what's this inside? A Numpy array!"
      ]
    },
    {
      "cell_type": "code",
      "execution_count": 5,
      "metadata": {
        "colab": {
          "base_uri": "https://localhost:8080/"
        },
        "id": "MgFiJimG_GuL",
        "outputId": "31b4cd07-a790-44b7-df83-7a238d028b59"
      },
      "outputs": [
        {
          "name": "stdout",
          "output_type": "stream",
          "text": [
            "1\n"
          ]
        }
      ],
      "source": [
        "x.values\n",
        "type(x.values)\n"
      ]
    },
    {
      "cell_type": "code",
      "execution_count": 7,
      "metadata": {
        "colab": {
          "base_uri": "https://localhost:8080/"
        },
        "id": "Sj3r9MfY_T7r",
        "outputId": "bfd2db69-98f9-4cf4-8291-b378faf61577"
      },
      "outputs": [
        {
          "data": {
            "text/plain": [
              "2    3\n",
              "3    4\n",
              "dtype: int64"
            ]
          },
          "execution_count": 7,
          "metadata": {},
          "output_type": "execute_result"
        }
      ],
      "source": [
        "x[0]\n",
        "x[2:4]"
      ]
    },
    {
      "cell_type": "markdown",
      "metadata": {
        "id": "T_1pMObw_TNh"
      },
      "source": [
        "Pandas series house numpy arrays, but add a flexible indexing list. "
      ]
    },
    {
      "cell_type": "markdown",
      "metadata": {
        "id": "o65FQgOG8svt"
      },
      "source": [
        "<h4>Data types</h4>\n"
      ]
    },
    {
      "cell_type": "markdown",
      "metadata": {
        "id": "Zg243qVP8svu"
      },
      "source": [
        "Let's try the same thing using charaters in a string<br>\n",
        "<code>\n",
        "import pandas as pd\n",
        "x = pd.Series(['Python'])\n",
        "x\n",
        "</code>"
      ]
    },
    {
      "cell_type": "code",
      "execution_count": 11,
      "metadata": {
        "colab": {
          "base_uri": "https://localhost:8080/"
        },
        "id": "VqVmVYYs8svu",
        "outputId": "08b4a7a7-ad18-4e50-b21c-9e110ea98f76"
      },
      "outputs": [
        {
          "data": {
            "text/plain": [
              "0    Python\n",
              "dtype: object"
            ]
          },
          "execution_count": 11,
          "metadata": {},
          "output_type": "execute_result"
        }
      ],
      "source": [
        "x = pd.Series(['Python']) \n",
        "x"
      ]
    },
    {
      "cell_type": "markdown",
      "metadata": {
        "id": "7Wd2F9V88svu"
      },
      "source": [
        "<h2>Exercise</h2>\n",
        "Store the string 'Learning Python is fun' as a string of characters to a pandas series and print the first letter of each word.<br>"
      ]
    },
    {
      "cell_type": "markdown",
      "metadata": {
        "id": "dx3PnpqD8svu"
      },
      "source": [
        "<h4>Solution</h4>"
      ]
    },
    {
      "cell_type": "code",
      "execution_count": null,
      "metadata": {
        "id": "AeEvRlBQ8svv"
      },
      "outputs": [],
      "source": []
    },
    {
      "cell_type": "markdown",
      "metadata": {
        "id": "rbCImhduAYVF"
      },
      "source": [
        "<h4>The Index of Pandas Series</h4>\n",
        "Create your own indexing by specifying pd.Series([values],index = ['your', 'index', 'labels' 'here'])\n"
      ]
    },
    {
      "cell_type": "code",
      "execution_count": 17,
      "metadata": {
        "colab": {
          "base_uri": "https://localhost:8080/"
        },
        "id": "D3iufAIkAhL-",
        "outputId": "cc7dd890-5a89-4fb4-c0dd-5445714f1647"
      },
      "outputs": [
        {
          "data": {
            "text/plain": [
              "Joe       0.25\n",
              "Roe       0.50\n",
              "Tiafoe    0.75\n",
              "Jo        1.00\n",
              "dtype: float64"
            ]
          },
          "execution_count": 17,
          "metadata": {},
          "output_type": "execute_result"
        }
      ],
      "source": [
        "data = pd.Series([0.25, 0.5, 0.75, 1.0],\n",
        "                 index=['Joe', 'Roe', 'Tiafoe', 'Jo'])\n",
        "data\n"
      ]
    },
    {
      "cell_type": "markdown",
      "metadata": {
        "id": "sKyMBDb1BXap"
      },
      "source": [
        "Rings like a dictionary? True!"
      ]
    },
    {
      "cell_type": "code",
      "execution_count": 20,
      "metadata": {
        "colab": {
          "base_uri": "https://localhost:8080/"
        },
        "id": "1z-3_M7FBaR0",
        "outputId": "f8661d83-afc8-4245-8cf1-9ff92c8d403e"
      },
      "outputs": [
        {
          "data": {
            "text/plain": [
              "California    38332521\n",
              "Texas         26448193\n",
              "New York      19651127\n",
              "Florida       19552860\n",
              "Illinois      12882135\n",
              "dtype: int64"
            ]
          },
          "execution_count": 20,
          "metadata": {},
          "output_type": "execute_result"
        }
      ],
      "source": [
        "population_dict = {'California': 38332521,\n",
        "                   'Texas': 26448193,\n",
        "                   'New York': 19651127,\n",
        "                   'Florida': 19552860,\n",
        "                   'Illinois': 12882135}\n",
        "population = pd.Series(population_dict)\n",
        "population"
      ]
    },
    {
      "cell_type": "markdown",
      "metadata": {
        "id": "WQo184Z8BleA"
      },
      "source": [
        "Now we can slice and operate, unlike w/ dictionaries:"
      ]
    },
    {
      "cell_type": "code",
      "execution_count": 22,
      "metadata": {
        "colab": {
          "base_uri": "https://localhost:8080/"
        },
        "id": "M9JI-EOdBpb7",
        "outputId": "08616010-64cd-4092-e189-b7eb3518d01d"
      },
      "outputs": [
        {
          "data": {
            "text/plain": [
              "California    38332521\n",
              "Texas         26448193\n",
              "New York      19651127\n",
              "dtype: int64"
            ]
          },
          "execution_count": 22,
          "metadata": {},
          "output_type": "execute_result"
        }
      ],
      "source": [
        "population['California':'New York']"
      ]
    },
    {
      "cell_type": "markdown",
      "metadata": {
        "id": "FG73mHBA8svv"
      },
      "source": [
        "Let's now take a mix of floating point numbers and integers and store them in a pandas series<br>\n",
        "<code>\n",
        "import pandas as pd\n",
        "numbers = [2, 2.4, 3, 3.4]\n",
        "ps = pd.Series(numbers)\n",
        "ps\n",
        "</code>"
      ]
    },
    {
      "cell_type": "code",
      "execution_count": 13,
      "metadata": {
        "colab": {
          "base_uri": "https://localhost:8080/"
        },
        "id": "Ob2FwwSQ8svv",
        "outputId": "baf6f707-0399-428e-bcbf-521b3b76207e"
      },
      "outputs": [
        {
          "data": {
            "text/plain": [
              "0    2.0\n",
              "1    2.4\n",
              "2    3.0\n",
              "3    3.4\n",
              "dtype: float64"
            ]
          },
          "execution_count": 13,
          "metadata": {},
          "output_type": "execute_result"
        }
      ],
      "source": [
        "numbers = [2, 2.4, 3, 3.4]\n",
        "ps = pd.Series(numbers)\n",
        "ps"
      ]
    },
    {
      "cell_type": "markdown",
      "metadata": {
        "id": "7VNT8KPNw8MH"
      },
      "source": [
        "Broadcasting also happens when we add only one value to the values list but multiple indices:"
      ]
    },
    {
      "cell_type": "code",
      "execution_count": 9,
      "metadata": {
        "colab": {
          "base_uri": "https://localhost:8080/"
        },
        "id": "9YGfSSwnxBFo",
        "outputId": "6781425d-ff57-4ff6-c75d-8fe4820dc10e"
      },
      "outputs": [
        {
          "data": {
            "text/plain": [
              "100    5\n",
              "200    5\n",
              "300    5\n",
              "dtype: int64"
            ]
          },
          "execution_count": 9,
          "metadata": {},
          "output_type": "execute_result"
        }
      ],
      "source": [
        "x = pd.Series(5, index=[100, 200, 300])\n",
        "x"
      ]
    },
    {
      "cell_type": "markdown",
      "metadata": {
        "id": "_sgtde9g8svw"
      },
      "source": [
        "To access individual elements in a series we use indexinging and slicing as we<br>\n",
        "do in regular python.  To access the first element in our series type:\n",
        "<br>\n",
        "<code>\n",
        "import pandas as pd\n",
        "numbers = [2, 2.4, 3, 3.4,'Blue']\n",
        "ps = pd.Series(numbers)\n",
        "ps[0]\n",
        "</code>"
      ]
    },
    {
      "cell_type": "code",
      "execution_count": null,
      "metadata": {
        "id": "WoweHOYX8svw"
      },
      "outputs": [],
      "source": []
    },
    {
      "cell_type": "markdown",
      "metadata": {
        "id": "1cVU_-Kh8svw"
      },
      "source": [
        "To obtain a range of number we use slicing.  To get the last 2 elements in our series<br>\n",
        "<br>\n",
        "<code>\n",
        "import pandas as pd\n",
        "numbers = [2, 2.4, 3, 3.4,'Blue']\n",
        "ps = pd.Series(numbers)\n",
        "ps[-2:]\n",
        "</code>"
      ]
    },
    {
      "cell_type": "code",
      "execution_count": 10,
      "metadata": {
        "colab": {
          "base_uri": "https://localhost:8080/"
        },
        "id": "ZBL7OKoP8svw",
        "outputId": "c4abf64e-dfe6-4bd3-a8f7-57a22299c2bc"
      },
      "outputs": [
        {
          "data": {
            "text/plain": [
              "3     3.4\n",
              "4    Blue\n",
              "dtype: object"
            ]
          },
          "execution_count": 10,
          "metadata": {},
          "output_type": "execute_result"
        }
      ],
      "source": [
        "numbers = [2, 2.4, 3, 3.4,'Blue']\n",
        "ps = pd.Series(numbers)\n",
        "ps[-2:]"
      ]
    },
    {
      "cell_type": "markdown",
      "metadata": {
        "id": "gUkCDpAB8svw"
      },
      "source": [
        "We can change elements in a series by assigning a value to the element<br>\n",
        "<br>\n",
        "<code>\n",
        "import pandas as pd\n",
        "numbers = [2, 2.4, 3, 3.4,'Blue']\n",
        "ps = pd.Series(numbers)\n",
        "ps[4] = 23.5\n",
        "ps\n",
        "</code><br>\n",
        "NOTE: It does not automatically change all of the elements in a series if we manually change<br>\n",
        "all of the elements to the same data type"
      ]
    },
    {
      "cell_type": "code",
      "execution_count": null,
      "metadata": {
        "id": "jlnqf6vP8svw"
      },
      "outputs": [],
      "source": []
    },
    {
      "cell_type": "markdown",
      "metadata": {
        "id": "boZbyOLi8svx"
      },
      "source": [
        "<h2>Pandas Series Casting</h2>\n",
        "We wil now change our data from an object to a int64 data series<br>\n",
        "<code>\n",
        "import pandas as pd\n",
        "numbers = [2, 2.4, 3, 3.4,'Blue']\n",
        "ps = pd.Series(numbers)\n",
        "ps[4] = 23.5\n",
        "ps.astype('float32')\n",
        "ps.dtype\n",
        "new_ps = ps.astype('float32')\n",
        "new_ps\n",
        "</code>\n",
        "NOTE: This operation is not in place"
      ]
    },
    {
      "cell_type": "code",
      "execution_count": null,
      "metadata": {
        "id": "ItDXTiQs8svx"
      },
      "outputs": [],
      "source": []
    },
    {
      "cell_type": "markdown",
      "metadata": {
        "id": "UjfkKIpO8svx"
      },
      "source": [
        "We can create a series of dates<br>\n",
        "<code>\n",
        "import pandas as pd\n",
        "dates = pd.Series(pd.date_range('20200101', periods=6))\n",
        "print(dates.dtype)\n",
        "dates\n",
        "</code>"
      ]
    },
    {
      "cell_type": "code",
      "execution_count": null,
      "metadata": {
        "id": "0F1Go-Ra8svx"
      },
      "outputs": [],
      "source": []
    },
    {
      "cell_type": "markdown",
      "metadata": {
        "id": "ie3YCKXL8svx"
      },
      "source": [
        "<h2>Pandas Operations</h2>\n",
        "We can perform an operation against the whole series<br>\n",
        "<code>\n",
        "x = range(10,21)\n",
        "s1 = pd.Series(x) * 2\n",
        "s1\n",
        "</code>"
      ]
    },
    {
      "cell_type": "code",
      "execution_count": null,
      "metadata": {
        "id": "Xmk7wToD8svx"
      },
      "outputs": [],
      "source": []
    },
    {
      "cell_type": "markdown",
      "metadata": {
        "id": "J1gLlY4b8svy"
      },
      "source": [
        "<h2>Exercise</h2>\n",
        "Create a data series of all the odd numbers from 100 to 130<br>\n",
        "Then divide each number by 3<br>"
      ]
    },
    {
      "cell_type": "markdown",
      "metadata": {
        "id": "EVXpDDEH8svy"
      },
      "source": [
        "<h4>Solution</h4>"
      ]
    },
    {
      "cell_type": "code",
      "execution_count": 9,
      "metadata": {
        "id": "6MhUskQG0xzp"
      },
      "outputs": [
        {
          "data": {
            "text/plain": [
              "0     33.666667\n",
              "1     34.333333\n",
              "2     35.000000\n",
              "3     35.666667\n",
              "4     36.333333\n",
              "5     37.000000\n",
              "6     37.666667\n",
              "7     38.333333\n",
              "8     39.000000\n",
              "9     39.666667\n",
              "10    40.333333\n",
              "11    41.000000\n",
              "12    41.666667\n",
              "13    42.333333\n",
              "14    43.000000\n",
              "dtype: float64"
            ]
          },
          "execution_count": 9,
          "metadata": {},
          "output_type": "execute_result"
        }
      ],
      "source": [
        "import pandas as pd\n",
        "import numpy as np\n",
        "\n",
        "r = pd.Series(i for i in range(100, 130) if i % 2 != 0)\n",
        "np.divide(r, 3)"
      ]
    },
    {
      "cell_type": "markdown",
      "metadata": {
        "id": "o6osxxDu8svy"
      },
      "source": [
        "<h2>Series head and tail</h2>\n",
        "To display the beginning and ending of a long series use head and tail.<br>\n",
        "This is the same as using the linux head() and tail(). This is great to get a quick overview of the data types without overcomplicating your view<br>\n",
        "<code>\n",
        "x = range(101,171,2)\n",
        "ps = pd.Series(x) / 3\n",
        "ps.head()\n",
        "ps.tail()\n",
        "</code>\n",
        "<br>\n",
        "Head will show the first 5 items in a series\n",
        "Tail will show the last 5 items in a series"
      ]
    },
    {
      "cell_type": "code",
      "execution_count": null,
      "metadata": {
        "id": "uD89mnav8svy"
      },
      "outputs": [],
      "source": []
    },
    {
      "cell_type": "code",
      "execution_count": null,
      "metadata": {
        "id": "-I0p1Cw88svy"
      },
      "outputs": [],
      "source": []
    },
    {
      "cell_type": "markdown",
      "metadata": {
        "id": "hJZZPY_j8svy"
      },
      "source": [
        "<h2>Adding to a data series</h2>\n",
        "To add to a series we use the append method.  However, we must use an optional<br>\n",
        "parameter if we haven't included an index on our series.<br>\n",
        "<code>\n",
        "import pandas as pd\n",
        "x = range(101,121,2)\n",
        "ps = pd.Series(x)\n",
        "y = range(1,11)\n",
        "p2 = pd.Series(y)\n",
        "p3 = ps.append(p2, ignore_index=True)\n",
        "p3\n",
        "</code>"
      ]
    },
    {
      "cell_type": "code",
      "execution_count": null,
      "metadata": {
        "id": "WGNg-VCC8svy"
      },
      "outputs": [],
      "source": []
    },
    {
      "cell_type": "markdown",
      "metadata": {
        "id": "oeZZKqK58svz"
      },
      "source": [
        "<h2>Removing a row from a series</h2>\n",
        "To remove a line from a series use the drop method<br>\n",
        "<code>\n",
        "import pandas as pd\n",
        "x = range(101,121,2)\n",
        "ps = pd.Series(x)\n",
        "y = range(1,11)\n",
        "p2 = pd.Series(y)\n",
        "p3 = ps.append(p2, ignore_index=True)\n",
        "p4 = p3.drop(1)\n",
        "p4\n",
        "</code>"
      ]
    },
    {
      "cell_type": "code",
      "execution_count": null,
      "metadata": {
        "id": "MK8_3W-E8svz"
      },
      "outputs": [],
      "source": []
    },
    {
      "cell_type": "markdown",
      "metadata": {
        "id": "B2GT9vt_8svz"
      },
      "source": [
        "<h2>Pandas Series Index</h2>\n",
        "We can add an index to a series by passing in an index of the same size as the data<br>\n",
        "<code>\n",
        "import pandas as pd\n",
        "phrase = ['A','B','C','D','E']\n",
        "index = range(5,10)\n",
        "ps = pd.Series(phrase, index = index)\n",
        "ps\n",
        "</code>\n",
        "<br>\n",
        "NOTE: The size of the index and data must be the same"
      ]
    },
    {
      "cell_type": "code",
      "execution_count": null,
      "metadata": {
        "id": "ehev3mXT8svz"
      },
      "outputs": [],
      "source": []
    },
    {
      "cell_type": "markdown",
      "metadata": {
        "id": "iQ_2eK6K8svz"
      },
      "source": [
        "<h2>Pandas search using the index</h2>\n",
        "To search for an element isn a series use the 'loc' method<br>\n",
        "<code>\n",
        "import pandas as pd\n",
        "phrase = ['A','B','C','D','E']\n",
        "index = range(5,10)\n",
        "ps = pd.Series(phrase, index = index)\n",
        "ps.loc[8]\n",
        "</code>"
      ]
    },
    {
      "cell_type": "code",
      "execution_count": null,
      "metadata": {
        "id": "q1eeLVSh8svz"
      },
      "outputs": [],
      "source": []
    },
    {
      "cell_type": "code",
      "execution_count": null,
      "metadata": {
        "id": "_9hmv1AZ8svz"
      },
      "outputs": [],
      "source": []
    },
    {
      "cell_type": "code",
      "execution_count": null,
      "metadata": {
        "id": "jUBFcxk98svz"
      },
      "outputs": [],
      "source": []
    },
    {
      "cell_type": "markdown",
      "metadata": {
        "id": "gNRoNjOH8wEV"
      },
      "source": [
        "<h2> Exercise </h2>"
      ]
    },
    {
      "cell_type": "markdown",
      "metadata": {
        "id": "ooPLR_-08sv0"
      },
      "source": [
        "This notebook is part of a course at www.codeimmersives.com called Data Science. If you accessed this notebook outside the course, you can get more information about this course online by clicking here."
      ]
    },
    {
      "cell_type": "markdown",
      "metadata": {
        "id": "qOgfbgis8sv0"
      },
      "source": [
        "<hr>\n",
        "\n",
        "Copyright &copy; 2021  Code Immersives"
      ]
    }
  ],
  "metadata": {
    "colab": {
      "name": "CI Data Science - Lesson 08 - NO ANSWERS .ipynb",
      "provenance": []
    },
    "kernelspec": {
      "display_name": "Python 3",
      "language": "python",
      "name": "python3"
    },
    "language_info": {
      "codemirror_mode": {
        "name": "ipython",
        "version": 3
      },
      "file_extension": ".py",
      "mimetype": "text/x-python",
      "name": "python",
      "nbconvert_exporter": "python",
      "pygments_lexer": "ipython3",
      "version": "3.10.2"
    }
  },
  "nbformat": 4,
  "nbformat_minor": 0
}
