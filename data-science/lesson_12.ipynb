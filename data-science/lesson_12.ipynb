{
  "cells": [
    {
      "cell_type": "markdown",
      "metadata": {
        "id": "FIA8kQVbSoZ9"
      },
      "source": [
        "<a href=\"https://codeimmersives.com\"><img src = \"https://www.codeimmersives.com/wp-content/uploads/2019/09/CodeImmersives_Logo_RGB_NYC_BW.png\" width = 400> </a>\n",
        "\n",
        "\n",
        "<h1 align=center><font size = 5>Agenda</font></h1>"
      ]
    },
    {
      "cell_type": "markdown",
      "metadata": {
        "id": "2rZC8T7lSoaD"
      },
      "source": [
        "### \n",
        "<div class=\"alert alert-block alert-info\" style=\"margin-top: 20px\">\n",
        "\n",
        "1.  [Review](#0)<br>\n",
        "2.  [Pandas](#2)<br>\n",
        "2.  [Exercise](#10)<br> \n",
        "3.  [Exercise](#12)<br>     \n",
        "</div>\n",
        "<hr>"
      ]
    },
    {
      "cell_type": "markdown",
      "metadata": {
        "id": "WrN_S-vrSoaE"
      },
      "source": [
        "<h2>Review</h2>"
      ]
    },
    {
      "cell_type": "code",
      "execution_count": null,
      "metadata": {
        "id": "deFie1eaSoaE"
      },
      "outputs": [],
      "source": [
        "project_files = 'C:\\\\Projects\\\\Code immersives\\\\pandas\\\\'"
      ]
    },
    {
      "cell_type": "markdown",
      "metadata": {
        "id": "Lgz4-AQrSoaG"
      },
      "source": [
        "<h2>Exercise</h2>\n",
        "<code>\n",
        "purchases = {'2020/01/02': ['Shampoo','Razors','Mints','Lotion','Suntan lotion'],\n",
        "'2020/01/03': ['Flip Flops','Water bottle'],\n",
        "'2020/01/04': ['32 ounce Gaterade'],\n",
        "'2020/01/05': ['Cashews 32 ounce can','Fiji Water']}\n",
        "</code><br>\n",
        "1 - On which day did you purchase the most items?<br>\n",
        "2 - Put the table in the order of most items purchased in descending order<br>"
      ]
    },
    {
      "cell_type": "markdown",
      "metadata": {
        "id": "SimnLwkOSoaI"
      },
      "source": [
        "<h4>Solution</h4>"
      ]
    },
    {
      "cell_type": "code",
      "execution_count": 7,
      "metadata": {
        "id": "CLsN5WPBSoaI"
      },
      "outputs": [
        {
          "name": "stdout",
          "output_type": "stream",
          "text": [
            "2020/01/02\n",
            "2020/01/02\n",
            "['2020/01/02', '2020/01/03', '2020/01/04', '2020/01/05']\n"
          ]
        }
      ],
      "source": [
        "purchases = {'2020/01/02': ['Shampoo','Razors','Mints','Lotion','Suntan lotion'],\n",
        "'2020/01/03': ['Flip Flops','Water bottle'],\n",
        "'2020/01/04': ['32 ounce Gaterade'],\n",
        "'2020/01/05': ['Cashews 32 ounce can','Fiji Water']}\n",
        "\n",
        "# Sort dictionary by length of values\n",
        "item_count = {k: len(v) for k, v in purchases.items()}\n",
        "\n",
        "print(max(item_count, key=item_count.get))\n",
        "\n",
        "# Without creating a new dictionary\n",
        "print(max(purchases, key=len))\n",
        "\n",
        "# Using sorted()\n",
        "print(sorted(purchases, key=len))"
      ]
    },
    {
      "cell_type": "markdown",
      "metadata": {
        "id": "RgKidd1wSoaJ"
      },
      "source": [
        "<h2>Exercise</h2>\n",
        "Find and print the top 3 salespeople by sold amount adding up their amounts<br>\n",
        "<code>\n",
        "sales = {'Susan':[130000,90000,120000,80000],\n",
        "         'Hal':[100000,100000,105000,99000],\n",
        "         'Joyce':[90000,111000,88000,85000],\n",
        "         'Florence':[150000,99000,102000,69000],\n",
        "         'Samuel':[85000,90000,77000,92000]}\n",
        "</code>"
      ]
    },
    {
      "cell_type": "markdown",
      "metadata": {
        "id": "c6SbBK1tSoaJ"
      },
      "source": [
        "<h4>Solution</h4>"
      ]
    },
    {
      "cell_type": "code",
      "execution_count": 38,
      "metadata": {
        "id": "HjTSg2NhSoaK"
      },
      "outputs": [
        {
          "name": "stdout",
          "output_type": "stream",
          "text": [
            "Florence\n",
            "Susan\n",
            "Hal\n",
            "[('Susan', [130000, 90000, 120000, 80000]), ('Florence', [150000, 99000, 102000, 69000]), ('Hal', [100000, 100000, 105000, 99000])]\n"
          ]
        }
      ],
      "source": [
        "sales = {'Susan':[130000,90000,120000,80000],\n",
        "         'Hal':[100000,100000,105000,99000],\n",
        "         'Joyce':[90000,111000,88000,85000],\n",
        "         'Florence':[150000,99000,102000,69000],\n",
        "         'Samuel':[85000,90000,77000,92000]}\n",
        "\n",
        "sales_totals = sorted({k: sum(v) for k, v in sales.items()}, key=sales.get, reverse=True)\n",
        "top_sales = sorted(sales.items(), key=lambda v: sum(v[1]), reverse=True)\n",
        "\n",
        "print(*sales_totals[:3], sep='\\n')\n",
        "print(top_sales[:3])"
      ]
    },
    {
      "cell_type": "markdown",
      "metadata": {
        "id": "l7-AD31ISoaK"
      },
      "source": [
        "<h2>Exercise</h2>\n",
        "<code>\n",
        "cartItems = {'Toothpaste':3.99, 'Lotion':5.99, 'Cotton swaps':2.99,'Deoderant':4.99,'Hair Spray':8.99,'Conditioner':11.99, 'Gum':1.99, 'Hair Gel':2.49, 'Body Wash':3.99, 'Tooth Brush': .99}\n",
        "</code>\n",
        "<br>\n",
        "1 - You only have $20. Purchase items until you run out of money<br>\n",
        "2 - How could you put together a basket with the lowest cost purchasing as many items as <br>possible but buying an item only once?"
      ]
    },
    {
      "cell_type": "code",
      "execution_count": 45,
      "metadata": {
        "id": "ZVi6FMZdSoaL"
      },
      "outputs": [
        {
          "data": {
            "text/plain": [
              "['Tooth Brush', 'Gum', 'Hair Gel', 'Cotton swaps', 'Toothpaste', 'Body Wash']"
            ]
          },
          "execution_count": 45,
          "metadata": {},
          "output_type": "execute_result"
        }
      ],
      "source": [
        "cartItems = {'Toothpaste':3.99, 'Lotion':5.99, 'Cotton swaps':2.99,'Deoderant':4.99,'Hair Spray':8.99,'Conditioner':11.99, 'Gum':1.99, 'Hair Gel':2.49, 'Body Wash':3.99, 'Tooth Brush': .99}\n",
        "\n",
        "def purchase(shopping_list: dict, budget: float = 20.0) -> list:\n",
        "    '''Given a budget and a shopping list, purchase the most items possible and return a list of the puchased items'''\n",
        "    sorted_list = sorted(shopping_list.items(), key=lambda t: t[1])\n",
        "    bought = []\n",
        "    for item in sorted_list:\n",
        "        if budget >= (price := item[1]):\n",
        "            bought.append(item[0])\n",
        "            budget -= price\n",
        "    return bought\n",
        "\n",
        "purchase(cartItems)"
      ]
    },
    {
      "cell_type": "markdown",
      "metadata": {
        "id": "eOvDKiemSoaM"
      },
      "source": [
        "<h2>Exercise</h2>\n",
        "<code>\n",
        "numbers = (23,43,14,23,19,52,15,13)\n",
        "</code><br>\n",
        "You should stop iterating over the numbers and stop when you find <br>\n",
        "a number divisible by 13"
      ]
    },
    {
      "cell_type": "markdown",
      "metadata": {
        "id": "-BUZZhZOSoaM"
      },
      "source": [
        "<h4>Solution</h4>"
      ]
    },
    {
      "cell_type": "code",
      "execution_count": null,
      "metadata": {
        "id": "qB2Cs0ZeBj0Q"
      },
      "outputs": [],
      "source": []
    },
    {
      "cell_type": "markdown",
      "metadata": {
        "id": "ozO0Et9TSoaP"
      },
      "source": [
        "<h2>Exercise</h2>\n",
        "Open the file grades.txt using python not pandas and calculate the<br>\n",
        "mean value.<br>"
      ]
    },
    {
      "cell_type": "markdown",
      "metadata": {
        "id": "fxvZLTP1SoaQ"
      },
      "source": [
        "<h4>Solution</h4>"
      ]
    },
    {
      "cell_type": "code",
      "execution_count": null,
      "metadata": {
        "id": "JtKBZLihSoaQ"
      },
      "outputs": [],
      "source": []
    },
    {
      "cell_type": "markdown",
      "metadata": {
        "id": "QL41bjLYSoaQ"
      },
      "source": [
        "<h2>Pandas Reading a file</h2>\n",
        "We can use the read_csv method to open a CSV file for a pandas<br>\n",
        "dataframe<br>\n",
        "<code>\n",
        "import pandas as pd \n",
        "df = pd.read_csv(project_files + 'Home_supplies.csv')\n",
        "df\n",
        "</code>"
      ]
    },
    {
      "cell_type": "code",
      "execution_count": null,
      "metadata": {
        "id": "Dw7_of_TSoaQ"
      },
      "outputs": [],
      "source": []
    },
    {
      "cell_type": "markdown",
      "metadata": {
        "id": "G0lGzjLISoaQ"
      },
      "source": [
        "Let's open and examine the US_Cities_delimited.txt<br>\n",
        "We can add a new parameter to the read_csv mrthod which<br>\n",
        "allows us the select the delimeter of the file<br>\n",
        "<code>\n",
        "df = pd.read_csv( project_files + 'US_Cities_delimited.txt',delimiter='|')\n",
        "df.dtypes\n",
        "</code><br>\n",
        "NOTE: Most of the columns are labeled object.  We need to clean the fields and cast<br>\n",
        "them with the correct data type."
      ]
    },
    {
      "cell_type": "code",
      "execution_count": null,
      "metadata": {
        "id": "cPJySe-MSoaQ"
      },
      "outputs": [],
      "source": []
    },
    {
      "cell_type": "markdown",
      "metadata": {
        "id": "EwolBq2HSoaQ"
      },
      "source": [
        "Let's look at 1 column of our data<br>\n",
        "<code>\n",
        "import pandas as pd\n",
        "df = pd.read_csv( project_files + 'US_Cities_delimited.txt',delimiter='|')    \n",
        "df['Population']\n",
        "</code><br>\n",
        "NOTE: The returned data was more rows than could fit on the screen.  "
      ]
    },
    {
      "cell_type": "code",
      "execution_count": null,
      "metadata": {
        "id": "r4qOzLvpSoaR"
      },
      "outputs": [],
      "source": []
    },
    {
      "cell_type": "markdown",
      "metadata": {
        "id": "QE_Oa6cwSoaR"
      },
      "source": [
        "We can slice the column data to show all or parts of our data<br>\n",
        "<code>\n",
        "import pandas as pd\n",
        "df = pd.read_csv( project_files + 'US_Cities_delimited.txt',delimiter='|')    \n",
        "df['Population']\n",
        "df.head()\n",
        "<code>\n",
        "or use df.tail()  # For the end of the data frame"
      ]
    },
    {
      "cell_type": "code",
      "execution_count": null,
      "metadata": {
        "id": "jiq6Ap3YSoaR"
      },
      "outputs": [],
      "source": []
    },
    {
      "cell_type": "markdown",
      "metadata": {
        "id": "1uHsRepfSoaR"
      },
      "source": [
        "We can display a portion of the file using head and tail\n",
        "<code>\n",
        "df.head(10) # First 10 values\n",
        "df.tail(10) # Last 10 values\n",
        "\n",
        "df['Begin_Term'].head()<br>\n",
        "df['Begin_Term'].describe()<br>\n",
        "df['Population'].describe()<br>\n",
        "df[25:51]  # Examine certain rows\n",
        "df[25:]\n",
        "df[df.Begin_Term == 2016]   # filter data\n",
        "df[df.End_Term == 2022]\n",
        "df[df.End_Term - df.Begin_Term >= 10] # Query every mayor who has served more than 10 years\n",
        "df['Begin_Term'].unique()    \n",
        "df.groupby(['Begin_Term']).count()\n",
        "    # Exercise: how many cities have a budget of 1 Billion and their population is less than 1 million\n",
        "</code>"
      ]
    },
    {
      "cell_type": "code",
      "execution_count": null,
      "metadata": {
        "id": "oevpRFlsCZQu"
      },
      "outputs": [],
      "source": [
        "df[(df.Budget > 1000000000) & (df.Population < 1000000)]"
      ]
    },
    {
      "cell_type": "code",
      "execution_count": null,
      "metadata": {
        "id": "Lw3tW526SoaR"
      },
      "outputs": [],
      "source": []
    },
    {
      "cell_type": "code",
      "execution_count": null,
      "metadata": {
        "id": "RVrzrXf7SoaR"
      },
      "outputs": [],
      "source": []
    },
    {
      "cell_type": "code",
      "execution_count": null,
      "metadata": {
        "id": "_tjFeNLtSoaS"
      },
      "outputs": [],
      "source": []
    },
    {
      "cell_type": "code",
      "execution_count": null,
      "metadata": {
        "id": "jxlV9rozSoaS"
      },
      "outputs": [],
      "source": []
    },
    {
      "cell_type": "code",
      "execution_count": null,
      "metadata": {
        "id": "kACf08L0SoaS"
      },
      "outputs": [],
      "source": []
    },
    {
      "cell_type": "code",
      "execution_count": null,
      "metadata": {
        "id": "o6GAUqjSSoaS"
      },
      "outputs": [],
      "source": []
    },
    {
      "cell_type": "code",
      "execution_count": null,
      "metadata": {
        "id": "KDIbvYnVSoaS"
      },
      "outputs": [],
      "source": []
    },
    {
      "cell_type": "code",
      "execution_count": null,
      "metadata": {
        "id": "SRlL77NhSoaS"
      },
      "outputs": [],
      "source": []
    },
    {
      "cell_type": "code",
      "execution_count": null,
      "metadata": {
        "id": "dz_gVVsNSoaS"
      },
      "outputs": [],
      "source": []
    },
    {
      "cell_type": "markdown",
      "metadata": {
        "id": "N6e9ZWUHSoaS"
      },
      "source": [
        "<h2>Exercise</h2>\n",
        "Find the greatest number in the list without using the max() function or<br>\n",
        "sorting the list<br>\n",
        "<code>\n",
        "x = [1,2,0,5,1,4,-1,2]\n",
        "</code>"
      ]
    },
    {
      "cell_type": "markdown",
      "metadata": {
        "id": "mKKGlw3_SoaS"
      },
      "source": [
        "<h4>Solution</h4>"
      ]
    },
    {
      "cell_type": "code",
      "execution_count": null,
      "metadata": {
        "id": "mgL9o3k5SoaS"
      },
      "outputs": [],
      "source": []
    },
    {
      "cell_type": "markdown",
      "metadata": {
        "id": "zpIdbMWPSoaT"
      },
      "source": [
        "<h2>Exercise</h2>\n",
        "<code>\n",
        "titles = ['team leader','squad leader','manager','managing director','director of operations','operations manager','operations manager (US)', 'operations manager (Canada)',\n",
        "'Operations manager (Mexico)']\n",
        "</code><br>\n",
        "Find every title that has to do with operations."
      ]
    },
    {
      "cell_type": "markdown",
      "metadata": {
        "id": "-_dlfbzASoaT"
      },
      "source": [
        "<h4>Solution</h4>"
      ]
    },
    {
      "cell_type": "code",
      "execution_count": null,
      "metadata": {
        "id": "GOtz65C5SoaT"
      },
      "outputs": [],
      "source": []
    },
    {
      "cell_type": "markdown",
      "metadata": {
        "id": "d7cVgKWPSoaT"
      },
      "source": [
        "This notebook is part of a course at www.codeimmersives.com called Data Science. If you accessed this notebook outside the course, you can get more information about this course online by clicking here."
      ]
    },
    {
      "cell_type": "markdown",
      "metadata": {
        "id": "Q0mHIuEESoaT"
      },
      "source": [
        "<hr>\n",
        "\n",
        "Copyright &copy; 2021  Code Immersives"
      ]
    }
  ],
  "metadata": {
    "colab": {
      "name": "CI Data Science - Lesson 11 - NO ANSWERS.ipynb",
      "provenance": []
    },
    "kernelspec": {
      "display_name": "Python 3",
      "language": "python",
      "name": "python3"
    },
    "language_info": {
      "codemirror_mode": {
        "name": "ipython",
        "version": 3
      },
      "file_extension": ".py",
      "mimetype": "text/x-python",
      "name": "python",
      "nbconvert_exporter": "python",
      "pygments_lexer": "ipython3",
      "version": "3.10.2"
    }
  },
  "nbformat": 4,
  "nbformat_minor": 0
}
