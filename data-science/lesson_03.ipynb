{
 "cells": [
  {
   "cell_type": "markdown",
   "metadata": {},
   "source": [
    "<a href=\"https://codeimmersives.com\"><img src = \"https://www.codeimmersives.com/wp-content/uploads/2019/09/CodeImmersives_Logo_RGB_NYC_BW.png\" width = 400> </a>\n",
    "\n",
    "\n",
    "<h1 align=center><font size = 5>Agenda</font></h1>"
   ]
  },
  {
   "cell_type": "markdown",
   "metadata": {},
   "source": [
    "### \n",
    "<div class=\"alert alert-block alert-info\" style=\"margin-top: 20px\">\n",
    "\n",
    "1.  [Review](#0)<br>\n",
    "2.  [Skewness](#2)<br> \n",
    "3.  [Kutosis](#4)<br>    \n",
    "4.  [Aggregating Data](#6)<br> \n",
    "5.  [Quartiles](#8)<br>   \n",
    "6.  [Deciles](#10)<br>     \n",
    "7.  [Exercise 1](#12)<br> \n",
    "8.  [Exercise 2](#14)<br>\n",
    "9.  [Exercise 3](#16)<br>    \n",
    "</div>\n",
    "<hr>"
   ]
  },
  {
   "cell_type": "markdown",
   "metadata": {},
   "source": [
    "<h2>Review</h2><a id=\"0\"></a>"
   ]
  },
  {
   "cell_type": "markdown",
   "metadata": {},
   "source": [
    "<h2>Exercise</h2>\n",
    "You have the following dictionary that contains sales data.<br>\n",
    "<code>\n",
    "sales = {'Jan': 150, 'Feb':200, 'Mar': 175,\n",
    "        'April': 75, 'May': 80, 'Jun': 300,\n",
    "        'July': 250, 'August':130, 'September': 195,\n",
    "        'October': 75, 'November': 120, 'December': 400}\n",
    "</code>\n",
    "<br>\n",
    "Answer the following:<br>\n",
    "1 - List the months where sales are greater than or equal to 150<br>\n",
    "2 - Return a tuple of all months and sales amounts greater than or equal to 300<br>\n",
    "3 - List all 3 consecutive month periods where sales are below 500<br>\n",
    "4 - Include the total sales amount for answer 3"
   ]
  },
  {
   "cell_type": "markdown",
   "metadata": {},
   "source": [
    "<h4>Solution</h4>"
   ]
  },
  {
   "cell_type": "code",
   "execution_count": 10,
   "metadata": {},
   "outputs": [
    {
     "name": "stdout",
     "output_type": "stream",
     "text": [
      "['Jan', 'Feb', 'Mar', 'Jun', 'July', 'September', 'December'] [('Jun', 300), ('December', 400)]\n",
      "{1: [('Jan', 150), ('Feb', 200), ('Mar', 175)], 2: [('Feb', 200), ('Mar', 175), ('April', 75), ('May', 80), ('Jun', 300)], 3: [('Mar', 175), ('April', 75), ('May', 80), ('Jun', 300), ('July', 250), ('August', 130), ('September', 195)], 4: [('April', 75), ('May', 80), ('Jun', 300), ('July', 250), ('August', 130), ('September', 195), ('October', 75), ('November', 120), ('December', 400)]}\n"
     ]
    }
   ],
   "source": [
    "sales = {\n",
    "    'Jan': 150,\n",
    "    'Feb':200,\n",
    "    'Mar': 175,\n",
    "    'April': 75,\n",
    "    'May': 80,\n",
    "    'Jun': 300,\n",
    "    'July': 250,\n",
    "    'August':130,\n",
    "    'September': 195,\n",
    "    'October': 75,\n",
    "    'November': 120,\n",
    "    'December': 400\n",
    "    }\n",
    "\n",
    "all_sales = sales.items()\n",
    "gt_150 = [m for m,s in all_sales if s >=150]\n",
    "gt_300 = [t for t in all_sales if t[1] >=300]\n",
    "quarters = {i: list(all_sales)[i-1:i*3] for i in range(1, 5)}\n",
    "\n",
    "print(gt_150, gt_300)\n",
    "print(quarters)"
   ]
  },
  {
   "cell_type": "markdown",
   "metadata": {},
   "source": [
    "<h2>Exercise</h2>\n",
    "<code>\n",
    "stock_price = [23.5, 24.1, 22.7, 24.2, 25.2, 28.4, 27.8, 26.5, 27.5, 28.2]\n",
    "</code>\n",
    "<br>\n",
    "1 - Calculate the mean stock price<br>\n",
    "2 - Count the number of times the stock price was greater than 25<br>\n",
    "3 - Calculate the daily rate of return for the series<br>\n",
    "NOTE: rate of return is ((current price-previous price)/previous_price) * 100<br>\n",
    "Example: price was 100 next day 105 then ((105-100)/100)*100 = 5% gain<br>\n",
    "4 - How many days was the price up 3% or down 3% from the previous day?<br>\n"
   ]
  },
  {
   "cell_type": "markdown",
   "metadata": {},
   "source": [
    "<h4>Solution</h4>"
   ]
  },
  {
   "cell_type": "code",
   "execution_count": null,
   "metadata": {},
   "outputs": [],
   "source": []
  },
  {
   "cell_type": "markdown",
   "metadata": {},
   "source": [
    "<h2>Skewness</h2>\n",
    "Skewness is a measure of symetry, or better the lack of symetry.<br>\n",
    "A distribution of data set is symetric if it looks the same on the left and right side of the mean.<br>\n",
    "We aggregate the data and use a histogram to visualize if the distribution is normal.<br>\n",
    "<br>\n",
    "The skewness formula is as follows:<br>\n",
    "Fisher-Pearson coefficient<br>\n",
    "<br>\n",
    "$\\sum_{i=1}^{n} ((X_i - mean)^3$/n)/$s^3$<br><br>\n",
    "We can also use the formula for the adjusted Fisher-Pearson coefficient of skewness<br>\n",
    "<br>\n",
    "$\\sqrt N(N-1)/(N-2)$ $\\sum_{i=1}^{n} ((X_i - mean)^3$/n)/$s^3$<br><br>\n",
    "As the size of our sample goes up the first part of the equations coverges to 1<br>\n",
    "<br>\n",
    "The skewness of a nomal distribution is 0<br>"
   ]
  },
  {
   "cell_type": "markdown",
   "metadata": {},
   "source": [
    "<h2>Kurtosis</h2>\n",
    "The kurtosis for a standard normal distribution is three. <br>\n",
    "The formula for excess kutosis is:<br>\n",
    "<br>\n",
    "$\\sum_{i=1}^{n} ((X_i - mean)^4$/n)/$s^4$ -3 \n",
    "<br><br>\n",
    "This definition is used so that the standard normal distribution has a kurtosis of zero. <br>\n",
    "In addition, with the second definition positive kurtosis indicates a \"heavy-tailed\" distribution <br>\n",
    "and negative kurtosis indicates a \"light tailed\" distribution.<br>\n",
    "<br>\n",
    "Which definition of kurtosis is used is a matter of convention. <br>\n",
    "When using software to compute the sample kurtosis, you need to be aware of which convention <br>\n",
    "is being followed. Many sources use the term kurtosis when they are actually computing \"excess kurtosis\", <br>\n",
    "so it may not always be clear. <br>"
   ]
  },
  {
   "cell_type": "markdown",
   "metadata": {},
   "source": [
    "<h2>Exercise</h2>\n",
    "Calculate the skewness (Fisher-Pearson coefficient) of our original grades file.<br>\n",
    "Calculate the skewness (adjusted Fisher-Pearson coefficient) of our original grades file.<br>\n",
    "Calculate the excess kurtosis of our data set>br>\n",
    "<code>\n",
    "grades = [68.0, 90.0, 69.0, 86.0, 78.0, 97.0, 95.0, 83.0, 84.0, 74.0, 84.0, 71.0, 79.0, 82.0, 79.0, 69.0, 99.0, 93.0, \n",
    " 77.0, 77.0, 75.0, 83.0, 86.0, 89.0, 76.0, 88.0, 65.0, 65.0, 78.0, 77.0, 82.0, 97.0, 87.0, 83.0, 67.0, 83.0, \n",
    " 67.0, 77.0, 79.0, 79.0, 68.0, 69.0, 89.0, 79.0, 66.0, 85.0, 93.0, 74.0, 70.0, 83.0, 90.0, 75.0, 94.0, 77.0, \n",
    " 92.0, 84.0, 93.0, 83.0, 79.0, 87.0, 62.0, 85.0, 99.0, 76.0, 96.0, 89.0, 66.0, 85.0, 70.0, 83.0, 77.0, 96.0, \n",
    " 92.0, 76.0, 95.0, 84.0, 74.0, 83.0, 83.0, 89.0, 81.0, 91.0, 83.0, 74.0, 93.0, 73.0, 73.0, 84.0, 84.0, 83.0, \n",
    " 91.0, 68.0, 88.0, 72.0, 84.0, 93.0, 86.0, 83.0, 83.0, 77.0]\n",
    "</code>\n"
   ]
  },
  {
   "cell_type": "markdown",
   "metadata": {},
   "source": [
    "<h4>Solution</h4>"
   ]
  },
  {
   "cell_type": "code",
   "execution_count": null,
   "metadata": {},
   "outputs": [],
   "source": []
  },
  {
   "cell_type": "markdown",
   "metadata": {},
   "source": [
    "<h2>Aggregating Data</h2>\n",
    "To visualize the 100 grade values the chart would look crowded<br>\n",
    "Let's chart the data now.<br>"
   ]
  },
  {
   "cell_type": "code",
   "execution_count": 1,
   "metadata": {},
   "outputs": [
    {
     "data": {
      "image/png": "[encoded data removed]",
      "text/plain": [
       "<Figure size 432x288 with 1 Axes>"
      ]
     },
     "metadata": {
      "needs_background": "light"
     },
     "output_type": "display_data"
    }
   ],
   "source": [
    "import matplotlib.pyplot as plt\n",
    "\n",
    "grades = [68.0, 90.0, 69.0, 86.0, 78.0, 97.0, 95.0, 83.0, 84.0, 74.0, 84.0, 71.0, 79.0, 82.0, 79.0, 69.0, 99.0, 93.0, \n",
    " 77.0, 77.0, 75.0, 83.0, 86.0, 89.0, 76.0, 88.0, 65.0, 65.0, 78.0, 77.0, 82.0, 97.0, 87.0, 83.0, 67.0, 83.0, \n",
    " 67.0, 77.0, 79.0, 79.0, 68.0, 69.0, 89.0, 79.0, 66.0, 85.0, 93.0, 74.0, 70.0, 83.0, 90.0, 75.0, 94.0, 77.0, \n",
    " 92.0, 84.0, 93.0, 83.0, 79.0, 87.0, 62.0, 85.0, 99.0, 76.0, 96.0, 89.0, 66.0, 85.0, 70.0, 83.0, 77.0, 96.0, \n",
    " 92.0, 76.0, 95.0, 84.0, 74.0, 83.0, 83.0, 89.0, 81.0, 91.0, 83.0, 74.0, 93.0, 73.0, 73.0, 84.0, 84.0, 83.0, \n",
    " 91.0, 68.0, 88.0, 72.0, 84.0, 93.0, 86.0, 83.0, 83.0, 77.0]\n",
    "xAxis = range(1,len(grades)+1)\n",
    "plt.bar(xAxis,grades)\n",
    "plt.title('student grades')\n",
    "plt.xlabel('exam')\n",
    "plt.ylabel('score')\n",
    "plt.show()"
   ]
  },
  {
   "cell_type": "markdown",
   "metadata": {},
   "source": [
    "We notice that the grades data is crowded.  We need to add meaning to <br>\n",
    "the visualization of this data.  We do this by aggregating the data.<br>\n",
    "<br>"
   ]
  },
  {
   "cell_type": "markdown",
   "metadata": {},
   "source": [
    "<h2>Exercise</h2>\n",
    "If we have a group of numbers from 0 to 20 how can we set the boundaries <br>\n",
    "For creating a frequency distribution histogram in qurtiles<br>"
   ]
  },
  {
   "cell_type": "code",
   "execution_count": null,
   "metadata": {},
   "outputs": [],
   "source": []
  },
  {
   "cell_type": "markdown",
   "metadata": {},
   "source": [
    "<h4>Deciles</h4>\n",
    "Break the data set into 10 equal parts and chart the number of items that<br>\n",
    "fall within each boundary."
   ]
  },
  {
   "cell_type": "markdown",
   "metadata": {},
   "source": [
    "<h2>Exercise</h2>\n",
    "Creating the boundaries for the deciles consists of dividing the range into<br>\n",
    "10 intervals.  Create a function to calculate the boundaries for deciles of<br>\n",
    "a data set the goes from 100 to 150."
   ]
  },
  {
   "cell_type": "markdown",
   "metadata": {},
   "source": [
    "<h4>Solution</h4>"
   ]
  },
  {
   "cell_type": "code",
   "execution_count": null,
   "metadata": {},
   "outputs": [],
   "source": []
  },
  {
   "cell_type": "markdown",
   "metadata": {},
   "source": [
    "<h4>Frequency distribution chart</h4>"
   ]
  },
  {
   "cell_type": "code",
   "execution_count": 4,
   "metadata": {},
   "outputs": [],
   "source": [
    "import matplotlib.pyplot as plt\n",
    "import math\n",
    "\n",
    "grades = [68.0, 90.0, 69.0, 86.0, 78.0, 97.0, 95.0, 83.0, 84.0, 74.0, 84.0, 71.0, 79.0, 82.0, 79.0, 69.0, 99.0, 93.0, \n",
    " 77.0, 77.0, 75.0, 83.0, 86.0, 89.0, 76.0, 88.0, 65.0, 65.0, 78.0, 77.0, 82.0, 97.0, 87.0, 83.0, 67.0, 83.0, \n",
    " 67.0, 77.0, 79.0, 79.0, 68.0, 69.0, 89.0, 79.0, 66.0, 85.0, 93.0, 74.0, 70.0, 83.0, 90.0, 75.0, 94.0, 77.0, \n",
    " 92.0, 84.0, 93.0, 83.0, 79.0, 87.0, 62.0, 85.0, 99.0, 76.0, 96.0, 89.0, 66.0, 85.0, 70.0, 83.0, 77.0, 96.0, \n",
    " 92.0, 76.0, 95.0, 84.0, 74.0, 83.0, 83.0, 89.0, 81.0, 91.0, 83.0, 74.0, 93.0, 73.0, 73.0, 84.0, 84.0, 83.0, \n",
    " 91.0, 68.0, 88.0, 72.0, 84.0, 93.0, 86.0, 83.0, 83.0, 77.0]\n",
    "\n"
   ]
  },
  {
   "cell_type": "markdown",
   "metadata": {},
   "source": [
    "<h4>Cumulative Frequency distribution chart</h4>"
   ]
  },
  {
   "cell_type": "code",
   "execution_count": 2,
   "metadata": {},
   "outputs": [],
   "source": [
    "import matplotlib.pyplot as plt\n",
    "import math\n",
    "\n",
    "grades = [68.0, 90.0, 69.0, 86.0, 78.0, 97.0, 95.0, 83.0, 84.0, 74.0, 84.0, 71.0, 79.0, 82.0, 79.0, 69.0, 99.0, 93.0, \n",
    " 77.0, 77.0, 75.0, 83.0, 86.0, 89.0, 76.0, 88.0, 65.0, 65.0, 78.0, 77.0, 82.0, 97.0, 87.0, 83.0, 67.0, 83.0, \n",
    " 67.0, 77.0, 79.0, 79.0, 68.0, 69.0, 89.0, 79.0, 66.0, 85.0, 93.0, 74.0, 70.0, 83.0, 90.0, 75.0, 94.0, 77.0, \n",
    " 92.0, 84.0, 93.0, 83.0, 79.0, 87.0, 62.0, 85.0, 99.0, 76.0, 96.0, 89.0, 66.0, 85.0, 70.0, 83.0, 77.0, 96.0, \n",
    " 92.0, 76.0, 95.0, 84.0, 74.0, 83.0, 83.0, 89.0, 81.0, 91.0, 83.0, 74.0, 93.0, 73.0, 73.0, 84.0, 84.0, 83.0, \n",
    " 91.0, 68.0, 88.0, 72.0, 84.0, 93.0, 86.0, 83.0, 83.0, 77.0]\n",
    "\n",
    "#create boundaries\n"
   ]
  },
  {
   "cell_type": "markdown",
   "metadata": {},
   "source": [
    "<h2>Exercise</h2>\n",
    "Suppose we have data like the following:<br>\n",
    "<code>\n",
    "sat_scores = [540, 590, 780, 720, 680, 570, 590, 600, 600, 610]\n",
    "</code>\n",
    "<br>\n",
    "Calculate what percentage of students are above the 50th percentile and what percentage<br>\n",
    "score below the 50th percentile<br>\n",
    "HINT: You need to calculate the median of the data set<br>"
   ]
  },
  {
   "cell_type": "code",
   "execution_count": null,
   "metadata": {},
   "outputs": [],
   "source": [
    "sat_scores = [540, 590, 780, 720, 680, 570, 590, 600, 600, 610]"
   ]
  },
  {
   "cell_type": "markdown",
   "metadata": {},
   "source": [
    "<h2>Exercise</h2>\n",
    "Take the grades data and chart the frequency distribution and the cumulative<br>\n",
    "frequency distribution in quartiles"
   ]
  },
  {
   "cell_type": "code",
   "execution_count": null,
   "metadata": {},
   "outputs": [],
   "source": []
  },
  {
   "cell_type": "markdown",
   "metadata": {},
   "source": [
    "This notebook is part of a course at www.codeimmersives.com called Data Science. If you accessed this notebook outside the course, you can get more information about this course online by clicking here."
   ]
  },
  {
   "cell_type": "markdown",
   "metadata": {},
   "source": [
    "<hr>\n",
    "\n",
    "Copyright &copy; 2021  Code Immersives"
   ]
  }
 ],
 "metadata": {
  "kernelspec": {
   "display_name": "Python 3",
   "language": "python",
   "name": "python3"
  },
  "language_info": {
   "codemirror_mode": {
    "name": "ipython",
    "version": 3
   },
   "file_extension": ".py",
   "mimetype": "text/x-python",
   "name": "python",
   "nbconvert_exporter": "python",
   "pygments_lexer": "ipython3",
   "version": "3.10.2"
  }
 },
 "nbformat": 4,
 "nbformat_minor": 4
}
