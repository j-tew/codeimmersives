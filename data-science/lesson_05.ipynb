{
  "cells": [
    {
      "cell_type": "markdown",
      "metadata": {
        "id": "cIsJUe-zPxhb"
      },
      "source": [
        "<h4>Object Oriented</h4>\n",
        "This type of coding relies creating objects which in turn have properties and atributes.<br>\n",
        "For example if we want to create a model of a zoo.<br>\n",
        "The zoo has certain charactristics.  It has the following attributes:<br>\n",
        "- Location<br>\n",
        "- Employees<br>\n",
        "- Animals<br>\n",
        "- Cages<br>\n",
        "\n",
        "The zoo can also implement certain behaviors<br>\n",
        "- Charge admission<br>\n",
        "- Open<br>\n",
        "- Close<br>\n",
        "- Purchase animals<br>\n",
        "- Display animals<br>\n",
        "- Hire employees<br>\n",
        "- Fire employees<br>\n",
        "- Borrow animals<br>\n",
        "- Loan animals<br>\n",
        "- Feed animals<br>\n",
        "- Sell animals<br>\n",
        "<br>\n",
        "In Object Oriented Programming (OOP) the behaviors are methods and the charateristics or<br>\n",
        "attributes are variables (instance or class).<br>"
      ]
    },
    {
      "cell_type": "markdown",
      "metadata": {
        "id": "j5RYDLzXPxhc"
      },
      "source": [
        "<h2>Python implementation of OOP</h2>\n",
        "<h4>Base class</h4><br>\n",
        "1. Classes typically start with a capital letter<br>\n",
        "2. Classes can contain methods and attributes<br>\n",
        "<br>\n",
        "We can create a simple class with no attributes<br>\n",
        "<code>\n",
        "class Fruit:\n",
        "    pass\n",
        "print(Fruit)\n",
        "print(type(Fruit))\n",
        "</code>"
      ]
    },
    {
      "cell_type": "code",
      "execution_count": null,
      "metadata": {
        "id": "u3UHFNXTPxhc"
      },
      "outputs": [],
      "source": [
        "class Fruit:\n",
        "    pass\n",
        "print(Fruit)\n",
        "print(type(Fruit))"
      ]
    },
    {
      "cell_type": "code",
      "execution_count": null,
      "metadata": {
        "id": "5tvjB6AWPxhd"
      },
      "outputs": [],
      "source": [
        "# Examine the attributes of the object\n",
        "print(dir(Fruit()))"
      ]
    },
    {
      "cell_type": "markdown",
      "metadata": {
        "id": "4vztdHZuPxhd"
      },
      "source": [
        "<h2>Dunder methods</h2>\n",
        "Dunder or magic methods in Python are the methods having two prefix and suffix underscores in the method name. Dunder here means “Double Under (Underscores)”. Built in methods of a class. <br>\n",
        "<br>\n",
        "To list all of the methods of a class using list comprehension: <br>\n",
        "[x for x in dir(Fruit()) if x.startswith('__')]"
      ]
    },
    {
      "cell_type": "code",
      "execution_count": null,
      "metadata": {
        "id": "sniU7RGMPxhd"
      },
      "outputs": [],
      "source": [
        "[x for x in dir(Fruit()) if x.startswith('__')]"
      ]
    },
    {
      "cell_type": "code",
      "execution_count": null,
      "metadata": {
        "id": "0vFDQdjZPxhe"
      },
      "outputs": [],
      "source": [
        "class Fruit:\n",
        "    pass\n",
        "fruit1 = Fruit()\n",
        "fruit2 = Fruit()\n",
        "print(type(fruit1),type(fruit2))"
      ]
    },
    {
      "cell_type": "markdown",
      "metadata": {
        "id": "YspAr07OPxhe"
      },
      "source": [
        "Are these objects the same or different?<br>\n",
        "We can investigate by using the id() function.<br>\n",
        "<code>\n",
        "class Fruit:\n",
        "    pass\n",
        "fruit1 = Fruit()\n",
        "fruit2 = Fruit()\n",
        "print(type(fruit1), type(fruit2))\n",
        "print(id(fruit1),id(fruit2))\n",
        "</code>\n",
        "<br>\n",
        "NOTE: The ids are different"
      ]
    },
    {
      "cell_type": "code",
      "execution_count": null,
      "metadata": {
        "id": "AxH8qelxPxhf"
      },
      "outputs": [],
      "source": [
        "class Fruit:\n",
        "    pass\n",
        "fruit1 = Fruit()\n",
        "fruit2 = Fruit()\n",
        "print(type(fruit1), type(fruit2))\n",
        "print(id(fruit1),id(fruit2))"
      ]
    },
    {
      "cell_type": "markdown",
      "metadata": {
        "id": "BT-bqMppPxhf"
      },
      "source": [
        "<h2>Default inheritance</h2>\n",
        "By default every class inherits from object."
      ]
    },
    {
      "cell_type": "code",
      "execution_count": null,
      "metadata": {
        "id": "HsetqWutPxhg"
      },
      "outputs": [],
      "source": [
        "class Fruit(object):\n",
        "    pass\n",
        "fruit1 = Fruit()\n",
        "print(fruit1)"
      ]
    },
    {
      "cell_type": "markdown",
      "metadata": {
        "id": "DCRw_RfNPxhg"
      },
      "source": [
        "<h2>On the Fly Attribution</h2>\n",
        "You can assign an attribute on the fly using a dot operator<br>\n",
        "<code>\n",
        "class Fruit:\n",
        "    pass\n",
        "fruit1 = Fruit()   # instantiate the object\n",
        "fruit1.name = 'Orange'\n",
        "print(fruit1.name)\n",
        "</code>"
      ]
    },
    {
      "cell_type": "code",
      "execution_count": null,
      "metadata": {
        "id": "Y0UlnC7iPxhg"
      },
      "outputs": [],
      "source": [
        "class Fruit:\n",
        "    pass\n",
        "fruit1 = Fruit()   # instantiate the object\n",
        "fruit2 = Fruit()   # instantiate the object\n",
        "fruit1.name = 'Orange'\n",
        "fruit1.taste = 'Sweet'\n",
        "print(fruit1.name)\n",
        "print(fruit1.taste)\n",
        "#print(fruit2.name)"
      ]
    },
    {
      "cell_type": "code",
      "execution_count": null,
      "metadata": {
        "id": "hnC1GBr_Pxhh",
        "outputId": "1b43961f-158f-48e9-ca5e-b4bbdca70d5a"
      },
      "outputs": [
        {
          "name": "stdout",
          "output_type": "stream",
          "text": [
            "Orange\n",
            "Orange is RIPE\n",
            "Apple\n",
            "Apple is NOT RIPE\n"
          ]
        }
      ],
      "source": [
        "class Fruit:\n",
        "    ripe = True\n",
        "fruit1 = Fruit()   # instantiate the object\n",
        "fruit1.name = 'Orange'\n",
        "fruit1.ripe = True\n",
        "print(fruit1.name)\n",
        "print(f\"{fruit1.name} is {'RIPE' if fruit1.ripe else 'NOT RIPE'}\")\n",
        "fruit2 = Fruit()\n",
        "fruit2.name = 'Apple'\n",
        "print(fruit2.name)\n",
        "fruit2.ripe = False\n",
        "print(f\"{fruit2.name} is {'RIPE' if fruit2.ripe else 'NOT RIPE'}\")"
      ]
    },
    {
      "cell_type": "markdown",
      "metadata": {
        "id": "PIWRlo9cPxhh"
      },
      "source": [
        "<h2>Constructor Attribution</h2>\n",
        "<h4>We can assign a constructor that initializes attributes using the __init__ method</h4>\n",
        "Below we create the class Fruit and require that it is created with a name<br>\n",
        "<code>\n",
        "class Fruit:\n",
        "    def __init__(self,name): \n",
        "        '''Constructor'''\n",
        "        self.name = name\n",
        "        \n",
        "fruit1 = Fruit('Apple')\n",
        "</code>\n",
        "\n",
        "In its current form if you try to create a fruit object without a name it<br>\n",
        "will give you an error"
      ]
    },
    {
      "cell_type": "code",
      "execution_count": null,
      "metadata": {
        "id": "aCs5J_PnPxhi"
      },
      "outputs": [],
      "source": [
        "class Fruit:\n",
        "    def __init__(self,name): \n",
        "        '''Constructor'''\n",
        "        self.name = name\n",
        "fruit1 = Fruit('Kiwi')\n",
        "print(fruit1.name)\n",
        "fruit2 = Fruit('Banana')\n",
        "print(fruit2.name)\n",
        "print(fruit2)"
      ]
    },
    {
      "cell_type": "markdown",
      "source": [
        "Add a __str__(self) to output a default statement upon construction:"
      ],
      "metadata": {
        "id": "Pm9linAQoNZW"
      }
    },
    {
      "cell_type": "code",
      "execution_count": null,
      "metadata": {
        "id": "WU491pGIPxhi",
        "outputId": "e796d588-5537-45ae-8114-62977375f71b"
      },
      "outputs": [
        {
          "name": "stdout",
          "output_type": "stream",
          "text": [
            "The name of the fruit is Apple\n"
          ]
        }
      ],
      "source": [
        "class Fruit:\n",
        "    def __init__(self,name): # <-- Constructor\n",
        "        self.name = name\n",
        "        \n",
        "    def __str__(self):\n",
        "        return f'The name of the fruit is {self.name}'\n",
        "    \n",
        "fruit1 = Fruit('Apple')\n",
        "print(fruit1)"
      ]
    },
    {
      "cell_type": "code",
      "execution_count": null,
      "metadata": {
        "id": "wutDEdOdPxhi"
      },
      "outputs": [],
      "source": [
        "class Fruit:\n",
        "    def __init__(self,name, seed_type = 'hard'): # <-- Constructor\n",
        "        self.name = name\n",
        "        self.seed_type = seed_type\n",
        "        \n",
        "    def __str__(self):\n",
        "        return f'The name of the fruit is {self.name} and its seeds are {self.seed_type}'\n",
        "    \n",
        "fruit1 = Fruit('Kiwi','soft')\n",
        "print(fruit1)"
      ]
    },
    {
      "cell_type": "markdown",
      "metadata": {
        "id": "f46EHytMPxhz"
      },
      "source": [
        "Task: <br>\n",
        "1) add 2 attributes: Taste and color<br>\n",
        "2) Add 3 instances of the object"
      ]
    },
    {
      "cell_type": "code",
      "execution_count": null,
      "metadata": {
        "id": "sIl4HSnVPxh0"
      },
      "outputs": [],
      "source": [
        "#your code here"
      ]
    },
    {
      "cell_type": "markdown",
      "source": [
        "Create a new class called NumberTheory with the following\n",
        "methods:\n",
        "1) is_prime\n",
        "2) factors\n",
        "3) prime_factors\n",
        "4) square_root\n",
        "<br> Hint for prime number finder is below:"
      ],
      "metadata": {
        "id": "KmIiA7XdpNTG"
      }
    },
    {
      "cell_type": "code",
      "source": [
        "import math\n",
        "for i in range(2,int(math.sqrt(10))+1):\n",
        "  print(i)\n"
      ],
      "metadata": {
        "id": "8ifI57HOivFe"
      },
      "execution_count": null,
      "outputs": []
    },
    {
      "cell_type": "code",
      "execution_count": null,
      "metadata": {
        "id": "92hAWBaUPxh1"
      },
      "outputs": [],
      "source": [
        "#Your code here"
      ]
    },
    {
      "cell_type": "markdown",
      "metadata": {
        "id": "8adtG9FxPxh2"
      },
      "source": [
        "<h2>Revisiting the Geometry Class Exercise</h2>\n",
        "Now for review, we'll briefly revisit the structure of the class you created yesterday. <br>\n",
        "TASK: Simplify this code to accept 2 sides only and switch accepted shape types to include circle, square, and rectangle (you're replacing triangle with square, so you'll only need 1 side for area and perimeter). "
      ]
    },
    {
      "cell_type": "code",
      "execution_count": null,
      "metadata": {
        "id": "wdw3CU2dPxh2"
      },
      "outputs": [],
      "source": [
        "import math\n",
        "class Geometry():\n",
        "    def __init__(self,shape,side_1,side_2,side_3):\n",
        "        self.shape = shape\n",
        "        self.side_1 = side_1\n",
        "        self.side_2 = side_2\n",
        "        self.side_3 = side_3\n",
        "        res = 0\n",
        "    \n",
        "    def calc_perimeter(self):\n",
        "        if self.shape == 'C':\n",
        "            res = round(math.pi * self.side_1,2)\n",
        "        elif self.shape == 'R':\n",
        "            res = (self.side_1 *2) + (self.side_2 * 2)\n",
        "        elif self.shape == 'T':\n",
        "            res = self.side_1 + self.side_2 + self.side_3\n",
        "        return res\n",
        "    def calc_area(self):\n",
        "        if self.shape == 'C':\n",
        "            res = round(math.pi * ((self.side_1/2)**2),2)\n",
        "        elif self.shape == 'R':\n",
        "            res = self.side_1 * self.side_2\n",
        "        elif self.shape == 'T':\n",
        "            res = ((0.5*self.side_1) * self.side_2) \n",
        "        return res\n",
        "Geo = Geometry('R',4,5,1)\n",
        "print(Geo.calc_perimeter())\n",
        "print(Geo.calc_area())\n",
        "Geo_2 = Geometry('C',6,1,1)\n",
        "print(Geo_2.calc_perimeter())\n",
        "print(Geo_2.calc_area())\n",
        "Geo_3 = Geometry('T',7,6,3)\n",
        "print(Geo_3.calc_perimeter())\n",
        "print(Geo_3.calc_area())"
      ]
    },
    {
      "cell_type": "markdown",
      "metadata": {
        "id": "82G8nPvqPxh3"
      },
      "source": [
        "<h2>Banking App Model</h2>"
      ]
    },
    {
      "cell_type": "markdown",
      "source": [
        "Open an account with Name and possibly an initial deposit amount\n",
        "When you print the object have This person deposited X amount and now has Y amount on deposit\n"
      ],
      "metadata": {
        "id": "qJ1wZ2spq0FN"
      }
    },
    {
      "cell_type": "code",
      "execution_count": null,
      "metadata": {
        "id": "CKgGTPXAPxh4"
      },
      "outputs": [],
      "source": [
        "#Your code here"
      ]
    },
    {
      "cell_type": "markdown",
      "metadata": {
        "id": "l0jI_X5gPxh5"
      },
      "source": [
        "<h2>HW</h2>\n",
        "Add a withdrawal method<br>\n",
        "NOTE: you cannot let someone withdraw more money than they have in their account<br>\n"
      ]
    },
    {
      "cell_type": "code",
      "execution_count": null,
      "metadata": {
        "id": "w-EyZKEcPxh5"
      },
      "outputs": [],
      "source": [
        ""
      ]
    }
  ],
  "metadata": {
    "kernelspec": {
      "display_name": "Python 3",
      "language": "python",
      "name": "python3"
    },
    "language_info": {
      "codemirror_mode": {
        "name": "ipython",
        "version": 3
      },
      "file_extension": ".py",
      "mimetype": "text/x-python",
      "name": "python",
      "nbconvert_exporter": "python",
      "pygments_lexer": "ipython3",
      "version": "3.7.4"
    },
    "colab": {
      "name": "CI Data Science-Lesson 05_no answers.ipynb",
      "provenance": []
    }
  },
  "nbformat": 4,
  "nbformat_minor": 0
}