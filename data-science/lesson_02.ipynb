{
 "cells": [
  {
   "cell_type": "markdown",
   "metadata": {},
   "source": [
    "<a href=\"https://codeimmersives.com\"><img src = \"https://www.codeimmersives.com/wp-content/uploads/2019/09/CodeImmersives_Logo_RGB_NYC_BW.png\" width = 400> </a>\n",
    "\n",
    "\n",
    "<h1 align=center><font size = 5>Agenda</font></h1>"
   ]
  },
  {
   "cell_type": "markdown",
   "metadata": {},
   "source": [
    "### \n",
    "<div class=\"alert alert-block alert-info\" style=\"margin-top: 20px\">\n",
    "\n",
    "1.  [Review](#0)<br>\n",
    "2.  [Variance](#2)<br> \n",
    "3.  [Standard Deviation](#4)<br>     \n",
    "4.  [Exercise 1](#6)<br> \n",
    "5.  [Exercise 2](#8)<br>\n",
    "6.  [Exercise 3](#10)<br>    \n",
    "</div>\n",
    "<hr>"
   ]
  },
  {
   "cell_type": "markdown",
   "metadata": {},
   "source": [
    "<h2>Review</h2><a id=\"0\"></a>\n"
   ]
  },
  {
   "cell_type": "markdown",
   "metadata": {},
   "source": [
    "Calculate the mean, median, mode and standard deviation of the following data set:<br>\n",
    "<code>\n",
    "summer_temps = {'2020-04-01': [72,83],\n",
    "                '2020-04-02': [64,72],\n",
    "                '2020-04-03': [66,69],\n",
    "                '2020-04-04': [70,88],\n",
    "                '2020-04-05': [75,79],\n",
    "                '2020-04-06': [71,80],\n",
    "                '2020-04-07': [68,74],\n",
    "                '2020-04-08': [69,76],\n",
    "                '2020-04-09': [62,80],\n",
    "                '2020-04-10': [71,84],\n",
    "                '2020-04-11': [70,88],\n",
    "                '2020-04-12': [65,73],\n",
    "                '2020-04-13': [67,85],\n",
    "                '2020-04-14': [76,89],\n",
    "                '2020-04-15': [74,88],\n",
    "               }\n",
    "</code>\n",
    "<br>\n",
    "The first temperature represents the daily low and the 2nd represents<br>\n",
    "the daily high.<br>\n",
    "Calculate the following statistics:<br>\n",
    "1 - The mean, mode, median daily low<br>\n",
    "2 - The mean, mode, median daily high<br>\n",
    "3 - What is the daily temperature difference every day?<br>\n",
    "4 - What is the mean daily temperate difference every day?<br>"
   ]
  },
  {
   "cell_type": "markdown",
   "metadata": {},
   "source": [
    "<h4>Solution</h4>"
   ]
  },
  {
   "cell_type": "code",
   "execution_count": null,
   "metadata": {},
   "outputs": [],
   "source": []
  },
  {
   "cell_type": "markdown",
   "metadata": {},
   "source": [
    "<h2>Population Variance</h2><a id=\"2\"></a>\n",
    "It is the average of the squared differences from the mean<br>\n"
   ]
  },
  {
   "cell_type": "markdown",
   "metadata": {},
   "source": [
    "$\\sum_{i=1}^{n} (X_i - mean)$/n<br><br>\n",
    "Calculating the variance starts with calculating the mean<br>\n",
    "Steps for calculating the variance:<br>\n",
    "step 1 - Calculate the mean<br>\n",
    "step 2 - Subtract the mean from each number<br>\n",
    "step 3 - Square the difference of each value<br>\n",
    "step 4 - Sum the squares<br>\n",
    "step 5 - Divide by the number of items<br>\n",
    "<br>\n",
    "<code>\n",
    "grades = [84, 86, 80, 78, 90, 92, 94, 91, 89, 90]\n",
    "</code>\n",
    "<br>\n",
    "Calculate the variance of the data set"
   ]
  },
  {
   "cell_type": "code",
   "execution_count": 4,
   "metadata": {},
   "outputs": [
    {
     "data": {
      "text/plain": [
       "25.04"
      ]
     },
     "execution_count": 4,
     "metadata": {},
     "output_type": "execute_result"
    }
   ],
   "source": [
    "grades = [84, 86, 80, 78, 90, 92, 94, 91, 89, 90]\n",
    "\n",
    "def calculate_variance(x: list = grades) -> float:\n",
    "    '''Given a list of integers, calculate the variance'''\n",
    "    return sum([(i - sum(x) / len(x))**2 for i in x]) / len(x)\n",
    "\n",
    "calculate_variance()\n"
   ]
  },
  {
   "cell_type": "markdown",
   "metadata": {},
   "source": [
    "<h4>Refactored pythonic variance</h4>\n",
    "Use list comprehension<br>"
   ]
  },
  {
   "cell_type": "code",
   "execution_count": null,
   "metadata": {},
   "outputs": [],
   "source": []
  },
  {
   "cell_type": "markdown",
   "metadata": {},
   "source": [
    "<h2>Standard Deviation</h2><a id=\"4\"></a>\n",
    "The standard deviation is a measure of how spread out the numbers in a data set are.<br>\n",
    "The formula is the square root of the variance.<br><br>\n",
    "\n",
    "$\\sqrt(\\sum_{i=1}^{n} (X_i - mean)$/n)<br><br>\n"
   ]
  },
  {
   "cell_type": "code",
   "execution_count": 7,
   "metadata": {},
   "outputs": [
    {
     "data": {
      "text/plain": [
       "5.004"
      ]
     },
     "execution_count": 7,
     "metadata": {},
     "output_type": "execute_result"
    }
   ],
   "source": [
    "def calculate_standard_dev(x: list = grades) -> float:\n",
    "    '''Given a list of integers calculate the standard deviation'''\n",
    "    variance = sum([(i - sum(x) / len(x))**2 for i in x]) / len(x)\n",
    "    return round((variance ** 0.5), 3)\n",
    "\n",
    "calculate_standard_dev()"
   ]
  },
  {
   "cell_type": "markdown",
   "metadata": {},
   "source": [
    "<h2>Population vs Sample</h2>\n",
    "When we have all of the data collected from a studied topic we can calculate<br>\n",
    "the statistics like standard deviation of a population.  However, we will<br>\n",
    "usually use the sample statistic of variance and standard deviation by<br>\n",
    "dividing by n-1.  Which is the population minus 1.  Therefore the calculation<br>\n",
    "of the <b>sample variance</b> is:<br><br>\n",
    "\n",
    "$\\sum_{i=1}^{n} (X_i - mean)$/(n-1)<br><br>\n",
    "\n",
    "and the <b>sample standard deviation</b> is:<br><br>\n",
    "\n",
    "$\\sqrt(\\sum_{i=1}^{n} (X_i - mean)$/(n-1)<br><br>"
   ]
  },
  {
   "cell_type": "markdown",
   "metadata": {},
   "source": [
    "<h4>Empirical rule</h4>\n",
    "The empirical rule states that if a population has a normal distribution (bell shaped)<br>\n",
    "68% of the values lie within 1 SD of the mean<br>\n",
    "95% of the values lie within 2 SDs of the mean<br>\n",
    "99% of the values lie within 3 SDs of the mean<br>"
   ]
  },
  {
   "cell_type": "markdown",
   "metadata": {},
   "source": [
    "<h2>Exercise</h2>\n",
    "Using the previous file grades.txt calculate the following:<br>\n",
    "Calculate the boundaries of 1 standard deviation above and below the mean<br>\n",
    "1 STD goes from (mean - stdev) to (mean + stdev)<br>\n",
    "Calculate the boundaries of 2 standard deviation above and below the mean<br>\n",
    "2 STD goes from (mean - 2*stdev) to (mean + 2*stdev)<br>\n",
    "Calculate the boundaries of 3 standard deviation above and below the mean<br>\n",
    "3 STD goes from (mean - 3*stdev) to (mean + 3*stdev)<br>\n",
    "<br>\n",
    "Calculate the percentage of values that lie within those boundaries.<br>\n",
    "Is this a normal distribution?<br>\n",
    "<br>"
   ]
  },
  {
   "cell_type": "code",
   "execution_count": 12,
   "metadata": {},
   "outputs": [
    {
     "name": "stdout",
     "output_type": "stream",
     "text": [
      "(82.396, 92.40400000000001)\n",
      "(77.39200000000001, 97.408)\n",
      "(72.388, 102.412)\n"
     ]
    }
   ],
   "source": [
    "def calculate_boundary(standard_dev: float, x: list = grades) -> tuple:\n",
    "    mean = sum(x) / len(x)\n",
    "    for i in range(1,4):\n",
    "        yield ((mean - i * standard_dev), (mean + i * standard_dev))\n",
    "\n",
    "for i in calculate_boundary(calculate_standard_dev()):\n",
    "    print(i)"
   ]
  },
  {
   "cell_type": "code",
   "execution_count": null,
   "metadata": {},
   "outputs": [],
   "source": []
  },
  {
   "cell_type": "markdown",
   "metadata": {},
   "source": [
    "<h2>Standard Deviation related to the mean</h2>\n",
    "<br>\n",
    "What happens if we add a fixed number to values?  How does it<br>\n",
    "affect the mean?<br>\n",
    "<code>\n",
    "grades = [78, 80, 67, 77, 76, 78, 82, 74, 77, 70]\n",
    "fixed_amt = 10\n",
    "</code>\n",
    "<br>\n",
    "The instructor determines that he will add 10 points to every exam given<br>\n",
    "How does this affect the mean and the standard deviation?<br>\n",
    "What happens when you change the fixed amount?<br>"
   ]
  },
  {
   "cell_type": "markdown",
   "metadata": {},
   "source": [
    "<h4>Solution</h4>"
   ]
  },
  {
   "cell_type": "code",
   "execution_count": null,
   "metadata": {},
   "outputs": [],
   "source": []
  },
  {
   "cell_type": "markdown",
   "metadata": {},
   "source": [
    "<h3>OBSERVATION</h3>\n",
    "The mean was increased by the factor, however, the standard deviation did not change!<br>"
   ]
  },
  {
   "cell_type": "markdown",
   "metadata": {},
   "source": [
    "<h2>Exercise</h2>\n",
    "We now want to multiply each item in our data set by a fixed amount.<br>\n",
    "How does this affect the mean and the standard deviation?<br>"
   ]
  },
  {
   "cell_type": "markdown",
   "metadata": {},
   "source": [
    "<h4>Solution</h4>"
   ]
  },
  {
   "cell_type": "code",
   "execution_count": 14,
   "metadata": {},
   "outputs": [
    {
     "name": "stdout",
     "output_type": "stream",
     "text": [
      "25.04 626.0\n"
     ]
    }
   ],
   "source": [
    "multi = [i * 5 for i in grades]\n",
    "old_mean = sum(grades) / len(grades)\n",
    "new_mean = sum(multi) / len(multi)\n",
    "old_std_dev = calculate_standard_dev(grades)\n",
    "new_std_dev = calculate_standard_dev(multi)\n",
    "old_variance = calculate_variance(grades)\n",
    "new_variance = calculate_variance(multi)\n",
    "\n",
    "\n",
    "print(old_variance, new_variance)"
   ]
  },
  {
   "cell_type": "markdown",
   "metadata": {},
   "source": [
    "<h3>OBSERVATION</h3>\n",
    "The mean was multiplied by the factor and the standard deviation was multiplied by the factor!<br>\n",
    "Multiplying will spread the data which will increase the standard deviation.<br>"
   ]
  },
  {
   "cell_type": "markdown",
   "metadata": {},
   "source": [
    "<h2>Exercise 1 - HOMEWORK </h2><a id=\"6\"></a>\n",
    "We have captured the following grades for 4 students in a graduate level phD<br>\n",
    "chemistry program.  <br>\n",
    "<code>\n",
    "chemistry_grades = {'Hester': ['88','99','89','90','80','88','93','94','91','80'] ,\n",
    "                    'Walter': ['83','92','83','76','75','85','93','92','90','91'] ,\n",
    "                    'George': ['86','90','86','84','78','84','93','94','81','90'] ,\n",
    "                    'Susan':  ['81','94','80','79','74','94','93','92','94','98'] ,\n",
    "                    'Kathy':  ['78','89','70','99','81','85','93','97','96','92'] }\n",
    "</code>\n",
    "<br>\n",
    "1 - Calculate the mean and standard deviation of each exam?<br>\n",
    "2 - Calculate each students gpa?<br>\n",
    "3 - Which exam had the biggest range?<br>\n",
    "4 - Which exam had the lowest mean?  Add 10 points to the test score of each student<br>\n",
    "on that exam and recalulate the mean and standard deviation<br>"
   ]
  },
  {
   "cell_type": "code",
   "execution_count": 40,
   "metadata": {},
   "outputs": [
    {
     "name": "stdout",
     "output_type": "stream",
     "text": [
      "Exam 4 has the biggest range.\n",
      "Exam 5 has the lowest mean.\n",
      "\n",
      "Exam 1\n",
      "Mean: 83.2\n",
      "Standard Deviation: 3.544\n",
      "Range: 10\n",
      "\n",
      "Exam 2\n",
      "Mean: 92.8\n",
      "Standard Deviation: 3.544\n",
      "Range: 10\n",
      "\n",
      "Exam 3\n",
      "Mean: 81.6\n",
      "Standard Deviation: 6.53\n",
      "Range: 19\n",
      "\n",
      "Exam 4\n",
      "Mean: 85.6\n",
      "Standard Deviation: 8.212\n",
      "Range: 23\n",
      "\n",
      "Exam 5\n",
      "Mean: 77.6\n",
      "Standard Deviation: 2.728\n",
      "Range: 7\n",
      "\n",
      "Exam 6\n",
      "Mean: 87.2\n",
      "Standard Deviation: 3.655\n",
      "Range: 10\n",
      "\n",
      "Exam 7\n",
      "Mean: 93.0\n",
      "Standard Deviation: 0.0\n",
      "Range: 0\n",
      "\n",
      "Exam 8\n",
      "Mean: 93.8\n",
      "Standard Deviation: 1.833\n",
      "Range: 5\n",
      "\n",
      "Exam 9\n",
      "Mean: 90.4\n",
      "Standard Deviation: 5.161\n",
      "Range: 15\n",
      "\n",
      "Exam 10\n",
      "Mean: 90.2\n",
      "Standard Deviation: 5.81\n",
      "Range: 18\n",
      "\n",
      "Hester GPA: 89.2\n",
      "Walter GPA: 86.0\n",
      "George GPA: 86.6\n",
      "Susan GPA: 87.9\n",
      "Kathy GPA: 88.0\n",
      "\n",
      "After adjusting the scores for Exam 5\n",
      "Mean: 87.6\n",
      "Standard Deviation: 2.728\n"
     ]
    }
   ],
   "source": [
    "chemistry_grades = {\n",
    "    'Hester': ['88','99','89','90','80','88','93','94','91','80'] ,\n",
    "    'Walter': ['83','92','83','76','75','85','93','92','90','91'] ,\n",
    "    'George': ['86','90','86','84','78','84','93','94','81','90'] ,\n",
    "    'Susan':  ['81','94','80','79','74','94','93','92','94','98'] ,\n",
    "    'Kathy':  ['78','89','70','99','81','85','93','97','96','92'] \n",
    "    }\n",
    "\n",
    "def convert_grades(x: dict = chemistry_grades) -> dict:\n",
    "    '''Convert the grade strings to integers'''\n",
    "    for student in chemistry_grades:\n",
    "        chemistry_grades[student] = [int(grade) for grade in chemistry_grades[student]]\n",
    "\n",
    "convert_grades()\n",
    "\n",
    "def get_exam_scores(x: dict = chemistry_grades) -> dict:\n",
    "    '''Extract each students score for each exam and place in a dictionary'''\n",
    "    list_of_grade_lists = [grade_list for grade_list in chemistry_grades.values()]\n",
    "    exams = {}\n",
    "    for i in range(10):\n",
    "        exams[f'Exam {i+1}'] = [grade_list[i] for grade_list in list_of_grade_lists if i != 10]\n",
    "    return exams\n",
    "\n",
    "def calc_gpa(x: dict = chemistry_grades) -> dict:\n",
    "    '''Calculate average scores from a dictionary with student names as keys and lists of grades as values'''\n",
    "    return {name: (sum(grade_list) / len(grade_list)) for name, grade_list in x.items()}\n",
    "\n",
    "exam_scores = get_exam_scores()\n",
    "\n",
    "print(f'Exam 4 has the biggest range.\\nExam 5 has the lowest mean.\\n')\n",
    "\n",
    "for exam, scores in exam_scores.items():\n",
    "    print(f'{exam}\\nMean: {sum(scores) / len(scores)}\\nStandard Deviation: {calculate_standard_dev(scores)}\\nRange: {max(scores) - min(scores)}\\n')\n",
    "\n",
    "for name, gpa in calc_gpa().items():\n",
    "    print(f'{name} GPA: {gpa}')\n",
    "\n",
    "exam_5 = [score + 10 for score in exam_scores['Exam 5']]\n",
    "\n",
    "print(f'\\nAfter adjusting the scores for Exam 5\\nMean: {sum(exam_5) / len(exam_5)}\\nStandard Deviation: {calculate_standard_dev(exam_5)}')\n"
   ]
  },
  {
   "cell_type": "markdown",
   "metadata": {},
   "source": [
    "<h2>Exercise 2 - *** HOMEWORK OVER A WEEKEND***</h2><a id=\"8\"></a>"
   ]
  },
  {
   "cell_type": "markdown",
   "metadata": {},
   "source": [
    "You are a data scientist in the bio chemical division of a large pharmaceutical company<br>\n",
    "trying to find a method to break a gene strand by using a matching protein<br>\n",
    "<code>\n",
    "protein_strand = '''ACACGTGTCAGTTGTGCAGTACACGTACGTCAGTCAACTGTGACCAGTTGGTCAGT\n",
    "    CAACCAACGTCAGTCAACTGACCACAGTGTCATGACACGTACGT'''\n",
    "</code>\n",
    "<br>\n",
    "1 - How many times does the sequence 'AGTC' appear in the protein_strand?<br>\n",
    "2 - The sequence 'CAACTGGT' will split the strand when matched against its opposite<br>\n",
    "    List all remaining pieces after the split. <br>\n",
    "3 - Group all character in groups of 4 and output how many times each sequence appears<br>\n",
    "4 - Which group of 4 appears the most?\n",
    "<br>\n",
    "<br>\n",
    "HINT: 'A' only pairs with 'C' and 'G' only pairs with 'T'<br>"
   ]
  },
  {
   "cell_type": "code",
   "execution_count": 36,
   "metadata": {},
   "outputs": [
    {
     "name": "stdout",
     "output_type": "stream",
     "text": [
      "The sequence 'AGTC' appears 3 times.\n",
      "After splitting the protein, these are the remaining sequences:\n",
      "ACACGTGTCAGTTGTGCAGTACACGTACGTCAGTCAACTGTG\n",
      "GTCAGTCAACCAACGTCAGTCAACTGACCACAGTGTCATGACACGTACGT\n",
      "ACAC: 3\n",
      "GTGT: 2\n",
      "CAGT: 7\n",
      "TGTG: 2\n",
      "GTAC: 3\n",
      "GTCA: 8\n",
      "ACTG: 2\n",
      "TGAC: 3\n",
      "TGGT: 1\n",
      "CAAC: 4\n",
      "ACCA: 3\n",
      "ACGT: 6\n",
      "GTCA occurs the most: 8 times.\n"
     ]
    }
   ],
   "source": [
    "import re\n",
    "\n",
    "protein_strand = 'ACACGTGTCAGTTGTGCAGTACACGTACGTCAGTCAACTGTGACCAGTTGGTCAGTCAACCAACGTCAGTCAACTGACCACAGTGTCATGACACGTACGT'\n",
    "AGTC_sequence = re.findall('AGTC', protein_strand)\n",
    "\n",
    "print(f'The sequence \\'AGTC\\' appears {len(AGTC_sequence)} times.')\n",
    "\n",
    "sequence_split = protein_strand.split('ACCAGTTG')\n",
    "\n",
    "print(f'After splitting the protein, these are the remaining sequences:\\n{sequence_split[0]}\\n{sequence_split[1]}')\n",
    "\n",
    "groups = [protein_strand[i-4:i] for i in range(4, 101, 4)]\n",
    "group_occurences = {group: len(re.findall(group, protein_strand)) for group in groups}\n",
    "\n",
    "for g, o in group_occurences.items():\n",
    "    print(f'{g}: {o}')\n",
    "\n",
    "most_occuring = max(group_occurences, key=group_occurences.get)\n",
    "print(f'{most_occuring} occurs the most: {group_occurences[most_occuring]} times.')"
   ]
  },
  {
   "cell_type": "markdown",
   "metadata": {},
   "source": [
    "<h2>Exercise 3</h2><a id=\"10\"></a>"
   ]
  },
  {
   "cell_type": "markdown",
   "metadata": {},
   "source": []
  },
  {
   "cell_type": "markdown",
   "metadata": {},
   "source": [
    "Write code to return all numbers between 2000 and 2751 divisible by both 7 and 5 "
   ]
  },
  {
   "cell_type": "code",
   "execution_count": null,
   "metadata": {},
   "outputs": [],
   "source": []
  },
  {
   "cell_type": "markdown",
   "metadata": {},
   "source": [
    "This notebook is part of a course at www.codeimmersives.com called Data Science. If you accessed this notebook outside the course, you can get more information about this course online by clicking here."
   ]
  },
  {
   "cell_type": "markdown",
   "metadata": {},
   "source": [
    "<hr>\n",
    "\n",
    "Copyright &copy; 2021  Code Immersives"
   ]
  }
 ],
 "metadata": {
  "kernelspec": {
   "display_name": "Python 3",
   "language": "python",
   "name": "python3"
  },
  "language_info": {
   "codemirror_mode": {
    "name": "ipython",
    "version": 3
   },
   "file_extension": ".py",
   "mimetype": "text/x-python",
   "name": "python",
   "nbconvert_exporter": "python",
   "pygments_lexer": "ipython3",
   "version": "3.10.2"
  }
 },
 "nbformat": 4,
 "nbformat_minor": 4
}
