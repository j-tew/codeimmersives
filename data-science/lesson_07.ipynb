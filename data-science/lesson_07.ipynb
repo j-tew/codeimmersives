{
  "cells": [
    {
      "cell_type": "markdown",
      "metadata": {
        "id": "2nS0WXhEXrWW"
      },
      "source": [
        "<a href=\"https://codeimmersives.com\"><img src = \"https://www.codeimmersives.com/wp-content/uploads/2019/09/CodeImmersives_Logo_RGB_NYC_BW.png\" width = 400> </a>\n",
        "\n",
        "\n",
        "<h1 align=center><font size = 5>Agenda</font></h1>"
      ]
    },
    {
      "cell_type": "markdown",
      "metadata": {
        "id": "rkRPB2_yXrWZ"
      },
      "source": [
        "### \n",
        "<div class=\"alert alert-block alert-info\" style=\"margin-top: 20px\">\n",
        "\n",
        "1.  [Review](#0)<br>\n",
        "2.  [Numpy continued](#2)<br>\n",
        "2.  [Exercise](#10)<br> \n",
        "3.  [Exercise](#12)<br>     \n",
        "</div>\n",
        "<hr>"
      ]
    },
    {
      "cell_type": "markdown",
      "metadata": {
        "id": "atv12Y0tXrWa"
      },
      "source": [
        "<h2>Review</h2>"
      ]
    },
    {
      "cell_type": "markdown",
      "metadata": {
        "id": "F1arqlIxYEqI"
      },
      "source": [
        "Each array has attributes ``ndim`` (the number of dimensions), ``shape`` (the size of each dimension), and ``size`` (the total size of the array):"
      ]
    },
    {
      "cell_type": "code",
      "execution_count": 2,
      "metadata": {
        "colab": {
          "base_uri": "https://localhost:8080/"
        },
        "id": "6-I_mdtSY2fb",
        "outputId": "4f727780-63e6-445e-decf-eee92bed8c30"
      },
      "outputs": [
        {
          "name": "stdout",
          "output_type": "stream",
          "text": [
            "[[False  True  True False False]\n",
            " [False False False False False]\n",
            " [False False  True  True  True]\n",
            " [False False False False  True]\n",
            " [ True  True  True  True  True]]\n"
          ]
        }
      ],
      "source": [
        "import numpy as np\n",
        "x2 = np.random.randint(10, size=(5, 5))  # Three-dimensional array\n",
        "x2_1 = np.random.randint(10, size=(5, 5))\n",
        "# print(\"x3 ndim: \", x3.ndim)\n",
        "# print(\"x3 shape:\", x3.shape)\n",
        "# print(\"x3 size: \", x3.size)\n",
        "\n"
      ]
    },
    {
      "cell_type": "markdown",
      "metadata": {
        "id": "L_sHtDTGfWED"
      },
      "source": [
        "<h4> Array Arithmetic </h4>\n",
        "Vectorized operations in NumPy are implemented via *ufuncs*, whose main purpose is to quickly execute repeated operations on values in NumPy arrays. We also call this element-wise arithmetic.\n",
        "\n",
        "\n"
      ]
    },
    {
      "cell_type": "code",
      "execution_count": 20,
      "metadata": {
        "colab": {
          "base_uri": "https://localhost:8080/"
        },
        "id": "LKElO0xPfzTJ",
        "outputId": "38bcfd13-47c6-416c-e7f6-bda8226844ba"
      },
      "outputs": [
        {
          "name": "stdout",
          "output_type": "stream",
          "text": [
            "[3 5 7 9]\n"
          ]
        }
      ],
      "source": [
        "x = np.array([1,2,3,4])\n",
        "y = np.array([2,3,4,5])\n",
        "print(x+y)"
      ]
    },
    {
      "cell_type": "code",
      "execution_count": 22,
      "metadata": {
        "colab": {
          "base_uri": "https://localhost:8080/"
        },
        "id": "m5j4LWo1gGpI",
        "outputId": "6e3d501e-d26b-4fc7-e294-91013b7ac23a"
      },
      "outputs": [
        {
          "data": {
            "text/plain": [
              "array([0.        , 0.5       , 0.66666667, 0.75      , 0.8       ])"
            ]
          },
          "execution_count": 22,
          "metadata": {},
          "output_type": "execute_result"
        }
      ],
      "source": [
        "np.arange(5) / np.arange(1,6)"
      ]
    },
    {
      "cell_type": "code",
      "execution_count": null,
      "metadata": {
        "id": "cZEKQfRcgaYg"
      },
      "outputs": [],
      "source": [
        "np.add(x, 2)"
      ]
    },
    {
      "cell_type": "markdown",
      "metadata": {
        "id": "wWve9LrYfywf"
      },
      "source": [
        "All the arithmetic operators implemented in NumPy:\n",
        "\n",
        "| Operator\t    | Equivalent ufunc    | Description                           |\n",
        "|---------------|---------------------|---------------------------------------|\n",
        "|``+``          |``np.add``           |Addition (e.g., ``1 + 1 = 2``)         |\n",
        "|``-``          |``np.subtract``      |Subtraction (e.g., ``3 - 2 = 1``)      |\n",
        "|``-``          |``np.negative``      |Unary negation (e.g., ``-2``)          |\n",
        "|``*``          |``np.multiply``      |Multiplication (e.g., ``2 * 3 = 6``)   |\n",
        "|``/``          |``np.divide``        |Division (e.g., ``3 / 2 = 1.5``)       |\n",
        "|``//``         |``np.floor_divide``  |Floor division (e.g., ``3 // 2 = 1``)  |\n",
        "|``**``         |``np.power``         |Exponentiation (e.g., ``2 ** 3 = 8``)  |\n",
        "|``%``          |``np.mod``           |Modulus/remainder (e.g., ``9 % 4 = 1``)|\n"
      ]
    },
    {
      "cell_type": "markdown",
      "metadata": {
        "id": "CDxvIQOTZj20"
      },
      "source": [
        "<h4> Array Indexing: Accessing Single Elements </h4>\n",
        "Done the exact same way as with Python lists. In multi-dimensional numpy arrays, we can index multiple times to access values. \n"
      ]
    },
    {
      "cell_type": "code",
      "execution_count": 5,
      "metadata": {
        "colab": {
          "base_uri": "https://localhost:8080/"
        },
        "id": "7Tm5R6VUZ4qP",
        "outputId": "e6c73832-d2d3-4296-8cc7-14f90651c663"
      },
      "outputs": [
        {
          "data": {
            "text/plain": [
              "3"
            ]
          },
          "execution_count": 5,
          "metadata": {},
          "output_type": "execute_result"
        }
      ],
      "source": [
        "x1 = np.random.randint(10, size=6)  # One-dimensional array\n",
        "x1[0]\n",
        "x1[-1]\n"
      ]
    },
    {
      "cell_type": "code",
      "execution_count": 9,
      "metadata": {
        "colab": {
          "base_uri": "https://localhost:8080/"
        },
        "id": "jrrv2O6haKmG",
        "outputId": "ff61f885-68b4-4419-a8d9-5ffbaeba214a"
      },
      "outputs": [
        {
          "name": "stdout",
          "output_type": "stream",
          "text": [
            "[[0 6 6 9]\n",
            " [4 2 6 0]\n",
            " [5 2 7 7]]\n"
          ]
        },
        {
          "data": {
            "text/plain": [
              "0"
            ]
          },
          "execution_count": 9,
          "metadata": {},
          "output_type": "execute_result"
        }
      ],
      "source": [
        "x2 = np.random.randint(10, size=(3, 4))  # Two-dimensional array\n",
        "print(x2)\n",
        "#x2[0, 0]\n",
        "#x2[1, 0]\n",
        "x2[1, -1]"
      ]
    },
    {
      "cell_type": "markdown",
      "metadata": {
        "id": "bdkcxHX2a8u2"
      },
      "source": [
        "## Slicing Arrays"
      ]
    },
    {
      "cell_type": "markdown",
      "metadata": {
        "id": "41jppO_FbKFk"
      },
      "source": [
        "To access subsections of a larger array, we use the : operation to *slice* a specified part of the array."
      ]
    },
    {
      "cell_type": "markdown",
      "metadata": {
        "id": "BQbv_G7tbETL"
      },
      "source": [
        "``` python\n",
        "x[start:stop:step]\n",
        "```\n",
        "If any of these are unspecified, they default to the values ``start=0``, ``stop=``*``size of dimension``*, ``step=1``.\n",
        "We'll take a look at accessing sub-arrays in one dimension and in multiple dimensions."
      ]
    },
    {
      "cell_type": "code",
      "execution_count": 12,
      "metadata": {
        "colab": {
          "base_uri": "https://localhost:8080/"
        },
        "id": "o9lficNha72O",
        "outputId": "b74447b9-4648-4f83-fe65-a5a019ac9063"
      },
      "outputs": [
        {
          "data": {
            "text/plain": [
              "array([9, 8, 7, 6, 5, 4, 3, 2, 1, 0])"
            ]
          },
          "execution_count": 12,
          "metadata": {},
          "output_type": "execute_result"
        }
      ],
      "source": [
        "x = np.arange(10)\n",
        "x[:3]  # first three elements\n",
        "x[5:] #elements after index 5 \n",
        "x[4:7]  # middle sub-array\n",
        "x[::-1]  # all elements, reversed"
      ]
    },
    {
      "cell_type": "markdown",
      "metadata": {
        "id": "ioiKHBggdDf0"
      },
      "source": [
        "<h4>Reshaping Arrays</h4>\n",
        "Simply call array.reshape(new_shape) on your old array with a new shape. Make sure the shape size is compatible with the array length (factors)."
      ]
    },
    {
      "cell_type": "code",
      "execution_count": 16,
      "metadata": {
        "colab": {
          "base_uri": "https://localhost:8080/"
        },
        "id": "F3vc1od3dEtb",
        "outputId": "8161d34b-dbd1-45bd-ff41-7fb00dc2fa5d"
      },
      "outputs": [
        {
          "name": "stdout",
          "output_type": "stream",
          "text": [
            "[[ 1  2]\n",
            " [ 3  4]\n",
            " [ 5  6]\n",
            " [ 7  8]\n",
            " [ 9 10]]\n"
          ]
        }
      ],
      "source": [
        "grid = np.arange(1, 11).reshape((5, 2))\n",
        "print(grid)"
      ]
    },
    {
      "cell_type": "markdown",
      "metadata": {
        "id": "DPaAfC0hXrWb"
      },
      "source": [
        "<h2>Exercise</h2>\n",
        "Create a numpy array with 2 dimensions, a shape of 5x5, and calculate the array's size."
      ]
    },
    {
      "cell_type": "markdown",
      "metadata": {
        "id": "Oa7R--qyXrWb"
      },
      "source": [
        "<h4>Solution</h4>"
      ]
    },
    {
      "cell_type": "code",
      "execution_count": null,
      "metadata": {
        "id": "OG7sjVh1XrWc"
      },
      "outputs": [],
      "source": []
    },
    {
      "cell_type": "markdown",
      "metadata": {
        "id": "9THVnTd3XrWc"
      },
      "source": [
        "<h2>Exercise</h2>\n"
      ]
    },
    {
      "cell_type": "markdown",
      "metadata": {
        "id": "N4m7WFTGc9pK"
      },
      "source": [
        "Create a 1-D array of 8 values using np.arange(8), and then reshape it to a 3-dimensional array using the array.reshape(new_shape) function. \n",
        "*HINT* look at the cubic of 8 to find the appropriate shape."
      ]
    },
    {
      "cell_type": "markdown",
      "metadata": {
        "id": "urCGCcWnXrWd"
      },
      "source": [
        "<h4>Solution</h4>"
      ]
    },
    {
      "cell_type": "code",
      "execution_count": null,
      "metadata": {
        "id": "mgHry62_XrWe"
      },
      "outputs": [],
      "source": []
    },
    {
      "cell_type": "markdown",
      "metadata": {
        "id": "yYuqc1_lXrWe"
      },
      "source": [
        "<h2>Exercise</h2>\n"
      ]
    },
    {
      "cell_type": "markdown",
      "metadata": {
        "id": "i1vjogmgetAa"
      },
      "source": []
    },
    {
      "cell_type": "code",
      "execution_count": null,
      "metadata": {
        "id": "nBuS4kshXrWf"
      },
      "outputs": [],
      "source": []
    },
    {
      "cell_type": "markdown",
      "metadata": {
        "id": "dQfHn7ChXrWg"
      },
      "source": [
        "<h2>Numpy continued</h2>\n",
        "We will explore Numpy ufuncs, which stand for 'Universal Functions', that<br>\n",
        "operate on the ndarray object.<br>\n",
        "ufuncs are used to implement vectorization in NumPy which is way faster than <br>\n",
        "iterating over elements.<br>\n",
        "<br>\n",
        "They also provide broadcasting and additional methods like reduce, accumulate etc. <br>\n",
        "that are very helpful for computation.<br>\n",
        "<br>\n",
        "ufuncs also take additional arguments, <br>\n",
        "like:<br>\n",
        "\n",
        "- where - boolean array or condition defining where the operations should take place.<br>\n",
        "- dtype - defining the return type of elements.<br>\n",
        "- out - output array where the return value should be copied.<br>"
      ]
    },
    {
      "cell_type": "markdown",
      "metadata": {
        "id": "pNIZ09dQXrWh"
      },
      "source": [
        "<h4>Adding 2 python lists together</h4>\n",
        "<br>\n",
        "<code>\n",
        "x = [3, 5, 7, 9]\n",
        "y = [4, 6, 8, 10]\n",
        "z = np.add(x, y)\n",
        "\n",
        "print(z)  \n",
        "print(type(z))\n",
        "</code>\n",
        "<br>\n",
        "NOTE: The shape of the numpy objects must be the same."
      ]
    },
    {
      "cell_type": "code",
      "execution_count": null,
      "metadata": {
        "id": "1Y5z6ziMXrWh",
        "outputId": "c1143752-acc4-48e8-e0ad-0eb2d14d1789"
      },
      "outputs": [
        {
          "name": "stdout",
          "output_type": "stream",
          "text": [
            "[ 7 11 15 19]\n",
            "<class 'numpy.ndarray'>\n"
          ]
        }
      ],
      "source": []
    },
    {
      "cell_type": "markdown",
      "metadata": {
        "id": "poGpmSM_XrWh"
      },
      "source": [
        "<h4>Subtraction</h4>\n",
        "<br>\n",
        "<code>\n",
        "x = [13, 25, -7, 39]\n",
        "y = [4, 6, 8, 10]\n",
        "z = np.subtract(x, y)\n",
        "\n",
        "print(z)\n",
        "print(type(z))\n",
        "</code>"
      ]
    },
    {
      "cell_type": "code",
      "execution_count": null,
      "metadata": {
        "id": "FNqJnsd6XrWh",
        "outputId": "890e9bde-741c-4e84-8dbd-894647bd7e10"
      },
      "outputs": [
        {
          "name": "stdout",
          "output_type": "stream",
          "text": [
            "[  9  19 -15  29]\n",
            "<class 'numpy.ndarray'>\n"
          ]
        }
      ],
      "source": []
    },
    {
      "cell_type": "markdown",
      "metadata": {
        "id": "wrzRNCn5XrWi"
      },
      "source": [
        "<h4>Multiplication</h4>\n",
        "<code>\n",
        "x = [13, 25, -7, 39]\n",
        "y = [4, 6, 8, 10]\n",
        "z = np.multiply(x, y)\n",
        "\n",
        "print(z)\n",
        "print(type(z))\n",
        "</code>"
      ]
    },
    {
      "cell_type": "code",
      "execution_count": null,
      "metadata": {
        "id": "r6o_pXl2XrWi",
        "outputId": "5f043a7a-f4c2-4e92-d97b-57c962f36ffa"
      },
      "outputs": [
        {
          "name": "stdout",
          "output_type": "stream",
          "text": [
            "[ 52 150 -56 390]\n",
            "<class 'numpy.ndarray'>\n"
          ]
        }
      ],
      "source": []
    },
    {
      "cell_type": "markdown",
      "metadata": {
        "id": "Cu4eUfUDXrWi"
      },
      "source": [
        "<h4>Division</h4>\n",
        "<code>\n",
        "import numpy as np\n",
        "\n",
        "arr1 = np.array([10, 20, 30, 40, 50, 60])\n",
        "arr2 = np.array([3, 5, 8, 13, 21, 34])\n",
        "\n",
        "newarr = np.divide(arr1, arr2)\n",
        "print(newarr) \n",
        "</code>\n",
        "<br>\n",
        "Powers\n",
        "<code>\n",
        "arr1 = np.array([2, 3, 4, 5, 6, 7])\n",
        "arr2 = np.array([7, 6, 5, 4, 3, 2])\n",
        "\n",
        "newarr = np.power(arr1, arr2)\n",
        "print(newarr) \n",
        "</code>\n",
        "<br>\n",
        "Reminder/ Modulus\n",
        "<code>\n",
        "arr1 = np.array([10, 20, 30, 40, 50, 60])\n",
        "arr2 = np.array([3, 7, 6, 14, 8, 13])\n",
        "newarr = np.remainder(arr1, arr2)\n",
        "\n",
        "print(newarr) \n",
        "\n",
        "\n",
        "arr1 = np.array([10, 20, 30, 40, 50, 60])\n",
        "arr2 = np.array([3, 7, 9, 8, 2, 33])\n",
        "\n",
        "newarr = np.mod(arr1, arr2)\n",
        "\n",
        "print(newarr) \n",
        "</code>\n",
        "<br>\n",
        "Quotient and Mod\n",
        "<code>\n",
        "arr1 = np.array([10, 20, 30, 40, 50, 60])\n",
        "arr2 = np.array([2, 5, 9, 8, 13, 43])\n",
        "newarr = np.divmod(arr1, arr2)   # Returns 2 arrays !!!\n",
        "\n",
        "print(newarr) \n",
        "</code>\n",
        "<br>\n",
        "Absolute Value\n",
        "<code>\n",
        "arr = np.array([-1, -2, 10, 2, 13, -9])\n",
        "newarr = np.absolute(arr)\n",
        "\n",
        "print(newarr) \n",
        "</code>"
      ]
    },
    {
      "cell_type": "markdown",
      "metadata": {
        "id": "QOLiwsG_hiei"
      },
      "source": [
        "<h2> Try them Out! </h2>"
      ]
    },
    {
      "cell_type": "code",
      "execution_count": null,
      "metadata": {
        "id": "CkU0DeCiXrWj"
      },
      "outputs": [],
      "source": []
    },
    {
      "cell_type": "markdown",
      "metadata": {
        "id": "4K1X8CvfhmR0"
      },
      "source": [
        "<h2>Exercise</h2>\n"
      ]
    },
    {
      "cell_type": "markdown",
      "metadata": {
        "id": "WhzrLI0qhgNE"
      },
      "source": [
        "a1 = np.array([[1,2],\n",
        "               [3,4],\n",
        "               [5,6]])\n",
        "\n",
        "a2 = np.array([[7,8],\n",
        "               [9,10],\n",
        "               [10,11]])\n",
        "\n",
        "Reshape the two arrays into 1-D arrays and add them, print the sum.\n"
      ]
    },
    {
      "cell_type": "markdown",
      "metadata": {
        "id": "Ocua_CvGXrWj"
      },
      "source": [
        "<h2>Numpy ufunc - Rounding Decimals</h2><br>\n",
        "There are primarily five ways of rounding off decimals in NumPy:<br>\n",
        "- truncation - remove the decimal portion of a number\n",
        "<br>\n",
        "<code>\n",
        "import numpy as np\n",
        "arr = np.trunc([-3.1666, 3.6667, 111.23334])\n",
        "print(arr)    \n",
        "</code><br>\n",
        "- rounding - equivalent to python rounding\n",
        "<br>\n",
        "<code>\n",
        "arr = np.around(3.1417, 2)\n",
        "print(arr)     \n",
        "</code><br>\n",
        "- floor - Returns the next lower integer number\n",
        "<br>\n",
        "<code>\n",
        "arr = np.floor([-3.1666, 3.6667])\n",
        "print(arr)     \n",
        "</code><br>\n",
        "- ceil - Returns the next higher integer number\n",
        "<br>\n",
        "<code>\n",
        "arr = np.ceil([-3.1666, 3.6667])\n",
        "print(arr)     \n",
        "</code><br>"
      ]
    },
    {
      "cell_type": "markdown",
      "metadata": {
        "id": "Md9XSiOvh8G1"
      },
      "source": [
        "Exercise: round pi to the nearest 5 digits using numpy and use to calculate the area of a circle with radius 3. "
      ]
    },
    {
      "cell_type": "code",
      "execution_count": 23,
      "metadata": {
        "colab": {
          "base_uri": "https://localhost:8080/"
        },
        "id": "fWbMdhJ2XrWj",
        "outputId": "24392f3f-9125-4f82-ff00-80c06178ce8c"
      },
      "outputs": [
        {
          "name": "stdout",
          "output_type": "stream",
          "text": [
            "3.141592653589793\n"
          ]
        }
      ],
      "source": [
        "print(np.pi)"
      ]
    },
    {
      "cell_type": "markdown",
      "metadata": {
        "id": "EI5Ghx1SXrWj"
      },
      "source": [
        "<h2>Summing all elements</h2>\n",
        "We can use the Numpy sum function to add up all of the values in<br>\n",
        "1 or more np.arrays<br>\n",
        "<code>\n",
        "import numpy as np\n",
        "\n",
        "arr1 = np.array([3, 4, 1])\n",
        "arr2 = np.array([-1,-2, 7])\n",
        "newarr = np.sum([arr1, arr2])\n",
        "print(newarr) \n",
        "</code>"
      ]
    },
    {
      "cell_type": "code",
      "execution_count": null,
      "metadata": {
        "id": "ihin1jytXrWj"
      },
      "outputs": [],
      "source": [
        "import numpy as np\n",
        "\n",
        "arr1 = np.array([3, 4, 1])\n",
        "arr2 = np.array([-1,-2, 7])\n",
        "\n",
        "newarr = np.sum([arr1, arr2])\n",
        "print(newarr) "
      ]
    },
    {
      "cell_type": "markdown",
      "metadata": {
        "id": "osTmz0RrjUaR"
      },
      "source": [
        "Exercise:\n",
        "There are 10 customers with account holdings given below. We want to separate customers with an total holding of more than 1,000 dollars (commercial accounts) and those with less than 1,000 dollars (personal accounts). \n",
        "<br>\n",
        "1) what is the total commercial account value?\n",
        "<br>\n",
        "2) using np.max() what is the highest account holding amongst the personal accounts? <br>\n",
        "\n",
        "We want to aggregate all the personal and commercial account holdings into separate arrays. \n",
        "<br>\n",
        "3) Find the mean and stdev of the personal account list. \n",
        "<br>\n",
        "4) Find the median and mean of the commercial account list.   \n",
        "<br>\n",
        "We'd like to plot the commercial account holdings against the personal account holdings. <br>\n",
        "5) Import matplotlib and use the plt.scatter(x,y) method to print a graph depicting this relationship. <br>\n",
        "\n",
        "\n",
        "<code>\n",
        "c1 = np.array([155, 204, 312, 56])\n",
        "c2 = np.array([233, 245, 333])\n",
        "c3 = np.array([802, 7, 382, 9329, 58392])\n",
        "c4 = np.array([222, 453, 10235, 9929])\n",
        "c5 = np.array([902, 75, 29394])\n",
        "c6 = np.array([65, 45])\n",
        "c7 = np.array([550, 300])\n",
        "c8 = np.array([200, 120])\n",
        "c9 = np.array([550, 1200])\n",
        "c10 = np.array([5312, 0])\n",
        "</code>"
      ]
    },
    {
      "cell_type": "code",
      "execution_count": null,
      "metadata": {
        "id": "15zmxcx5XrWl"
      },
      "outputs": [],
      "source": []
    },
    {
      "cell_type": "markdown",
      "metadata": {
        "id": "tuG1GfnhXrWl"
      },
      "source": [
        "This notebook is part of a course at www.codeimmersives.com called Data Science. If you accessed this notebook outside the course, you can get more information about this course online by clicking here."
      ]
    },
    {
      "cell_type": "markdown",
      "metadata": {
        "id": "LKBVDdVYXrWm"
      },
      "source": [
        "<hr>\n",
        "\n",
        "Copyright &copy; 2021  Code Immersives"
      ]
    }
  ],
  "metadata": {
    "colab": {
      "name": "CI Data Science - Lesson 07 - NO ANSWERS.ipynb",
      "provenance": []
    },
    "kernelspec": {
      "display_name": "Python 3",
      "language": "python",
      "name": "python3"
    },
    "language_info": {
      "codemirror_mode": {
        "name": "ipython",
        "version": 3
      },
      "file_extension": ".py",
      "mimetype": "text/x-python",
      "name": "python",
      "nbconvert_exporter": "python",
      "pygments_lexer": "ipython3",
      "version": "3.10.2"
    }
  },
  "nbformat": 4,
  "nbformat_minor": 0
}
