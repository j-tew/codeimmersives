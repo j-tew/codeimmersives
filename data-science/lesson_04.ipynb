{
 "cells": [
  {
   "cell_type": "markdown",
   "metadata": {},
   "source": [
    "<a href=\"https://codeimmersives.com\"><img src = \"https://www.codeimmersives.com/wp-content/uploads/2019/09/CodeImmersives_Logo_RGB_NYC_BW.png\" width = 400> </a>\n",
    "\n",
    "\n",
    "<h1 align=center><font size = 5>Agenda</font></h1>"
   ]
  },
  {
   "cell_type": "markdown",
   "metadata": {},
   "source": [
    "### \n",
    "<div class=\"alert alert-block alert-info\" style=\"margin-top: 20px\">\n",
    "\n",
    "1.  [Review](#0)<br>\n",
    "2.  [Covariance](#2)<br> \n",
    "3.  [Correlation](#4)<br>        \n",
    "4.  [Exercise 1](#12)<br> \n",
    "5.  [Exercise 2](#14)<br>\n",
    "6.  [Exercise 3](#16)<br>    \n",
    "</div>\n",
    "<hr>"
   ]
  },
  {
   "cell_type": "markdown",
   "metadata": {},
   "source": [
    "<h2>Exercise</h2>\n",
    "You have the following list:<br>\n",
    "<code>\n",
    "product_numbers = ['AS-500','TR-700','TR-800','TR-100','AX-131','AX-232','AL-3400','TR-300']\n",
    "</code><br>\n",
    "You need to process the product_numbers as a batch process but all of the<br>\n",
    "processes that start with 'TR' need to be run first.  Arrange the list so that<br>\n",
    "they are in the beginning of the list.<br>"
   ]
  },
  {
   "cell_type": "code",
   "execution_count": 1,
   "metadata": {},
   "outputs": [
    {
     "name": "stdout",
     "output_type": "stream",
     "text": [
      "['TR-700', 'TR-800', 'TR-100', 'TR-300', 'AS-500', 'AX-131', 'AX-232', 'AL-3400']\n"
     ]
    }
   ],
   "source": [
    "product_numbers = ['AS-500','TR-700','TR-800','TR-100','AX-131','AX-232','AL-3400','TR-300']\n",
    "\n",
    "corrected = [p for p in product_numbers if (p[0] + p[1]) == 'TR'] + [p for p in product_numbers if (p[0] + p[1]) != 'TR']\n",
    "\n",
    "print(corrected)"
   ]
  },
  {
   "cell_type": "markdown",
   "metadata": {},
   "source": [
    "<h4>Solution</h4>"
   ]
  },
  {
   "cell_type": "code",
   "execution_count": null,
   "metadata": {},
   "outputs": [],
   "source": []
  },
  {
   "cell_type": "markdown",
   "metadata": {},
   "source": [
    "<h2>Exercise</h2>\n",
    "You have the following data structure:<br>\n",
    "<code>\n",
    "processes = [{'command':'docker build -t python101:1.0'},\n",
    "             'Reboot server',\n",
    "             'Data cleaning',\n",
    "             {'command': 'git stash','server':'mid west'}]\n",
    "</code><br>\n",
    "How do you execute the process that contains the command - 'git stash' first?<br>"
   ]
  },
  {
   "cell_type": "markdown",
   "metadata": {},
   "source": [
    "<h4>Solution</h4>"
   ]
  },
  {
   "cell_type": "code",
   "execution_count": 2,
   "metadata": {},
   "outputs": [
    {
     "name": "stdout",
     "output_type": "stream",
     "text": [
      "git stash\n"
     ]
    }
   ],
   "source": [
    "processes = [\n",
    "    {'command':'docker build -t python101:1.0'},\n",
    "    'Reboot server',\n",
    "    'Data cleaning',\n",
    "    {'command': 'git stash','server':'mid west'}\n",
    "    ]\n",
    "\n",
    "print(processes[3]['command'])"
   ]
  },
  {
   "cell_type": "markdown",
   "metadata": {},
   "source": [
    "<h2>Covariance</h2>\n",
    "Covariance is the measure of the directional relationship between two random variables<br><br>\n",
    "$\\sum_{i=1}^{n} (X_i - meanX)(Y_i - meanY)$/(n-1)<br><br>\n",
    "Where X is the first list of data and Y is the second list."
   ]
  },
  {
   "cell_type": "markdown",
   "metadata": {},
   "source": [
    "For example.  If we measured the temperate on 7 consecutive summer days and<br>\n",
    "also measure ice_cream_sales for the same 7 consecutive days.  The covariance will<br>\n",
    "measure the direction of the relationship between the 2 lists.<br>\n",
    "<code>\n",
    "temperatures = [89, 93, 77, 79, 93, 95, 94]\n",
    "icecream_sales = [20000, 25000, 16000, 18000, 21000, 24000, 23000]\n",
    "</code>"
   ]
  },
  {
   "cell_type": "markdown",
   "metadata": {},
   "source": [
    "<h4>Solution</h4>"
   ]
  },
  {
   "cell_type": "code",
   "execution_count": null,
   "metadata": {},
   "outputs": [],
   "source": [
    "temperatures = [89, 93, 77, 79, 93, 95, 94]\n",
    "icecream_sales = [20000, 25000, 16000, 18000, 21000, 24000, 23000]\n",
    "\n"
   ]
  },
  {
   "cell_type": "markdown",
   "metadata": {},
   "source": [
    "<h2>Object Oriented Programming</h2>"
   ]
  },
  {
   "cell_type": "markdown",
   "metadata": {},
   "source": [
    "<h4>Static Methods</h4>\n",
    "A static method is a method that is part of the class but does<br>\n",
    "not use the self reference and can be called outside of the class structure.<br>\n",
    "The decoratored method could be a regular function but due to its relationship<br>\n",
    "with the other methods it is included in the class."
   ]
  },
  {
   "cell_type": "markdown",
   "metadata": {},
   "source": [
    "<h4>Class Methods</h4>\n",
    "Class methods don't need a class instance. They can't access the instance ( self ) but they <br>\n",
    "have access to the class itself via cls "
   ]
  },
  {
   "cell_type": "code",
   "execution_count": null,
   "metadata": {},
   "outputs": [],
   "source": []
  },
  {
   "cell_type": "markdown",
   "metadata": {},
   "source": [
    "<h2>Exercise</h2>\n",
    "Create a class called Geometry.  The class should include the following:<br>\n",
    "1 - constructor that takes up to 3 arguments for shape type, side 1, side 2, side 3<br>\n",
    "2 - static method for calc_perimeter<br>\n",
    "3 - static method for calc_area<br>\n",
    "4 - The shape types are: C for Circle, T for Triangle, R for Rectangle<br>\n"
   ]
  },
  {
   "cell_type": "code",
   "execution_count": null,
   "metadata": {},
   "outputs": [],
   "source": []
  },
  {
   "cell_type": "markdown",
   "metadata": {},
   "source": [
    "<h2>Correlation</h2>\n",
    "The correlation is a measure of the direction of the relation of 2 lists and the<br>\n",
    "strength of the relation.  The correlation can only be a number from -1 to 1.  A positive<br>\n",
    "correlation of .7 or more is significant and signals that there is a strong relationship<br>\n",
    "between the 2 data sets. When there is a rise in one of the numbers in the list there is also <br>\n",
    "a rise in the value of the corresponding index value.  A negative correlation of -.07 to 1 means<br>\n",
    "that there is an inverse relationship between the 2 lists.  When one of the values in 1st list<br>\n",
    "goes up, the value in the other list will go down.<br>\n",
    "The formula for correlation is:<br>\n",
    "<br>\n",
    "$ covariance/(S_x* S_y)$<br><br>\n",
    "Where S is the standard deviation of each data set"
   ]
  },
  {
   "cell_type": "markdown",
   "metadata": {},
   "source": [
    "<h2>Exercise</h2>\n",
    "Find the correlation of the following data sets:<br>\n",
    "<code>\n",
    "temperatures = [89, 93, 77, 79, 93, 95, 94]\n",
    "icecream_sales = [20000, 25000, 16000, 18000, 21000, 24000, 23000]\n",
    "</code>"
   ]
  },
  {
   "cell_type": "markdown",
   "metadata": {},
   "source": [
    "<h4>Solution</h4>"
   ]
  },
  {
   "cell_type": "code",
   "execution_count": null,
   "metadata": {},
   "outputs": [],
   "source": []
  },
  {
   "cell_type": "markdown",
   "metadata": {},
   "source": [
    "<h2>Exercise</h2>\n",
    "We have the following class called 'Deck_of_Cards'<br>\n",
    "<code>\n",
    "class Deck_of_Cards:\n",
    "    def __init__(self):\n",
    "        self.cards = self.create_deck()\n",
    "        \n",
    "    def create_deck(self):\n",
    "        face_cards = ['Jack','Queen','King','Ace']\n",
    "        non_face_cards = list(range(2,11))\n",
    "        suit = ['Spades','Clubs','Hearts','Diamonds']\n",
    "        cards = [f'{card} of {s}' for card in non_face_cards + face_cards for s in suit]\n",
    "        return cards\n",
    "\n",
    "    def __str__(self):\n",
    "        return f'There are {self.number_of_cards} cards in the deck'\n",
    "    \n",
    "new_deal = Deck_of_Cards()\n",
    "print(new_deal.cards)\n",
    "</code>\n",
    "<br>\n",
    "Create the following methods:<br>\n",
    "1 - 'shuffle' to reorder the cards<br>\n",
    "2 - 'cut' which takes in an interger or defaults to zero which is called a tap and no<br>\n",
    "reorder is done.<br>\n",
    "3 - 'deal' which takes in 1 arguments the number of cards and removes them from the deck<br>\n",
    "\n"
   ]
  },
  {
   "cell_type": "code",
   "execution_count": null,
   "metadata": {},
   "outputs": [],
   "source": []
  },
  {
   "cell_type": "markdown",
   "metadata": {},
   "source": [
    "<h2>Exercise</h2>"
   ]
  },
  {
   "cell_type": "code",
   "execution_count": null,
   "metadata": {},
   "outputs": [],
   "source": [
    "Take the numbers from  100 to 1000\n",
    "break the categories into groups of 100\n",
    "In each group place the number of prime numbers\n",
    "chart as a bar chart"
   ]
  },
  {
   "cell_type": "code",
   "execution_count": null,
   "metadata": {},
   "outputs": [],
   "source": []
  },
  {
   "cell_type": "markdown",
   "metadata": {},
   "source": [
    "<h4>Conclusion</h4>\n",
    "Prime number are dispersed evenly amougst the number line."
   ]
  },
  {
   "cell_type": "markdown",
   "metadata": {},
   "source": [
    "<h2>Exercise</h2>\n",
    "Without using the built in max function in python, find the maximum value<br>\n",
    "in the following sequence:<br>\n",
    "<code>\n",
    "x = [1,2,0,5,1,4,-1,2]\n",
    "</code>"
   ]
  },
  {
   "cell_type": "markdown",
   "metadata": {},
   "source": [
    "<h4>Solution</h4>"
   ]
  },
  {
   "cell_type": "code",
   "execution_count": null,
   "metadata": {},
   "outputs": [],
   "source": []
  },
  {
   "cell_type": "markdown",
   "metadata": {},
   "source": [
    "This notebook is part of a course at www.codeimmersives.com called Data Science. If you accessed this notebook outside the course, you can get more information about this course online by clicking here."
   ]
  },
  {
   "cell_type": "markdown",
   "metadata": {},
   "source": [
    "<hr>\n",
    "\n",
    "Copyright &copy; 2021  Code Immersives"
   ]
  }
 ],
 "metadata": {
  "kernelspec": {
   "display_name": "Python 3.9.4 64-bit",
   "metadata": {
    "interpreter": {
     "hash": "aee8b7b246df8f9039afb4144a1f6fd8d2ca17a180786b69acc140d282b71a49"
    }
   },
   "name": "python3"
  },
  "language_info": {
   "codemirror_mode": {
    "name": "ipython",
    "version": 3
   },
   "file_extension": ".py",
   "mimetype": "text/x-python",
   "name": "python",
   "nbconvert_exporter": "python",
   "pygments_lexer": "ipython3",
   "version": "3.10.2"
  }
 },
 "nbformat": 4,
 "nbformat_minor": 4
}
