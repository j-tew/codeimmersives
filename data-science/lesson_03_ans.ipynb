{
  "cells": [
    {
      "cell_type": "markdown",
      "metadata": {
        "id": "WnBWxaAHVie2"
      },
      "source": [
        "<a href=\"https://codeimmersives.com\"><img src = \"https://www.codeimmersives.com/wp-content/uploads/2019/09/CodeImmersives_Logo_RGB_NYC_BW.png\" width = 400> </a>\n",
        "\n",
        "\n",
        "<h1 align=center><font size = 5>Agenda</font></h1>"
      ]
    },
    {
      "cell_type": "markdown",
      "metadata": {
        "id": "vlSwU3s3Vie5"
      },
      "source": [
        "### \n",
        "<div class=\"alert alert-block alert-info\" style=\"margin-top: 20px\">\n",
        "\n",
        "1.  [Review](#0)<br>\n",
        "2.  [Skewness](#2)<br> \n",
        "3.  [Kutosis](#4)<br>    \n",
        "4.  [Aggregating Data](#6)<br> \n",
        "5.  [Quartiles](#8)<br>   \n",
        "6.  [Deciles](#10)<br>     \n",
        "7.  [Exercise 1](#12)<br> \n",
        "8.  [Exercise 2](#14)<br>\n",
        "9.  [Exercise 3](#16)<br>    \n",
        "</div>\n",
        "<hr>"
      ]
    },
    {
      "cell_type": "markdown",
      "metadata": {
        "id": "NxNV7X1_Vie6"
      },
      "source": [
        "<h2>Review</h2><a id=\"0\"></a>"
      ]
    },
    {
      "cell_type": "markdown",
      "metadata": {
        "id": "u-ULB846Vie7"
      },
      "source": [
        "<h2>Exercise</h2>\n",
        "You have the following dictionary that contains sales data.<br>\n",
        "<code>\n",
        "sales = {'Jan': 150, 'Feb':200, 'Mar': 175,\n",
        "        'April': 75, 'May': 80, 'Jun': 300,\n",
        "        'July': 250, 'August':130, 'September': 195,\n",
        "        'October': 75, 'November': 120, 'December': 400}\n",
        "</code>\n",
        "<br>\n",
        "Answer the following:<br>\n",
        "1 - List the months where sales are greater than or equal to 150<br>\n",
        "2 - Return a tuple of all months and sales amounts greater than or equal to 300<br>\n",
        "3 - List all 3 consecutive month periods where sales are below 500<br>\n",
        "4 - Include the total sales amount for answer 3"
      ]
    },
    {
      "cell_type": "markdown",
      "metadata": {
        "id": "w3_nnFmTVie7"
      },
      "source": [
        "<h4>Solution</h4>"
      ]
    },
    {
      "cell_type": "code",
      "execution_count": null,
      "metadata": {
        "id": "dNVHsxJeVie8",
        "outputId": "8be77643-4409-4fd8-c370-2495d10624e5"
      },
      "outputs": [
        {
          "name": "stdout",
          "output_type": "stream",
          "text": [
            "['JAN', 'FEB', 'MAR', 'JUN', 'JUL', 'SEP', 'DEC']\n",
            "===================================\n",
            "[('JUN', 300), ('DEC', 400)]\n",
            "===================================\n",
            "['FEB,MAR,APR', 'MAR,APR,MAY', 'APR,MAY,JUN', 'AUG,SEP,OCT', 'SEP,OCT,NOV']\n",
            "===================================\n",
            "['FEB,MAR,APR: 450', 'MAR,APR,MAY: 330', 'APR,MAY,JUN: 455', 'AUG,SEP,OCT: 400', 'SEP,OCT,NOV: 390']\n",
            "===================================\n"
          ]
        }
      ],
      "source": [
        "sales = {'JAN': 150, 'FEB':200, 'MAR': 175,\n",
        "        'APR': 75, 'MAY': 80, 'JUN': 300,\n",
        "        'JUL': 250, 'AUG':130, 'SEP': 195,\n",
        "        'OCT': 75, 'NOV': 120, 'DEC': 400}\n",
        "# 1\n",
        "months = [mon for mon,val in sales.items() if val >= 150]\n",
        "print(months)\n",
        "print('='*35)\n",
        "\n",
        "# 2\n",
        "months = [(mon,val) for mon,val in sales.items() if val >= 300]\n",
        "print(months)\n",
        "print('='*35)\n",
        "\n",
        "# 3\n",
        "short_month = ['JAN', 'FEB', 'MAR', 'APR', 'MAY', 'JUN', 'JUL', 'AUG', 'SEP', 'OCT', 'NOV', 'DEC']\n",
        "months = [ f'{short_month[x]},{short_month[x+1]},{short_month[x+2]}' \n",
        "          for x in range(9) if sales[short_month[x]] + sales[short_month[x+1]] + sales[short_month[x+2]]< 500]\n",
        "print(months)\n",
        "print('='*35)\n",
        "\n",
        "# 4\n",
        "short_month = ['JAN', 'FEB', 'MAR', 'APR', 'MAY', 'JUN', 'JUL', 'AUG', 'SEP', 'OCT', 'NOV', 'DEC']\n",
        "months = [ f'{short_month[x]},{short_month[x+1]},{short_month[x+2]}: {sales[short_month[x]] + sales[short_month[x+1]] + sales[short_month[x+2]]}' \n",
        "          for x in range(9) if sales[short_month[x]] + sales[short_month[x+1]] + sales[short_month[x+2]]< 500]\n",
        "print(months)\n",
        "print('='*35)"
      ]
    },
    {
      "cell_type": "markdown",
      "metadata": {
        "id": "yMUzQenuVie-"
      },
      "source": [
        "<h2>Exercise</h2>\n",
        "<code>\n",
        "stock_price = [23.5, 24.1, 22.7, 24.2, 25.2, 28.4, 27.8, 26.5, 27.5, 28.2]\n",
        "</code>\n",
        "<br>\n",
        "1 - Calculate the mean stock price<br>\n",
        "2 - Count the number of times the stock price was greater than 25<br>\n",
        "3 - Calculate the daily rate of return for the series<br>\n",
        "NOTE: rate of return is ((current price-previous price)/previous_price) * 100<br>\n",
        "Example: price was 100 next day 105 then ((105-100)/100)*100 = 5% gain<br>\n",
        "4 - How many days was the price up 3% or down 3% from the previous day?<br>\n"
      ]
    },
    {
      "cell_type": "markdown",
      "metadata": {
        "id": "JP8BF2NVVie_"
      },
      "source": [
        "<h4>Solution</h4>"
      ]
    },
    {
      "cell_type": "code",
      "execution_count": null,
      "metadata": {
        "id": "dvoM4Vy8VifA",
        "outputId": "b0d43349-4301-4b12-a22f-c81ed65b2259"
      },
      "outputs": [
        {
          "name": "stdout",
          "output_type": "stream",
          "text": [
            "The mean stock price is 25.81\n",
            "===================================\n",
            "The stock price was over 25, 6 time(s)\n",
            "===================================\n",
            "The daily rate of return, [2.55, -5.81, 6.61, 4.13, 12.7, -2.11, -4.68, 3.77, 2.55]\n",
            "===================================\n",
            "The daily rate of return was up or down, 6 time(s)\n"
          ]
        }
      ],
      "source": [
        "stock_price = [23.5, 24.1, 22.7, 24.2, 25.2, 28.4, 27.8, 26.5, 27.5, 28.2]\n",
        "mean = sum(stock_price)/len(stock_price)\n",
        "print(f'The mean stock price is {mean:.2f}')\n",
        "\n",
        "print('='*35)\n",
        "num_over_25 = sum([1 for price in stock_price if price > 25])\n",
        "print(f'The stock price was over 25, {num_over_25} time(s)')\n",
        "\n",
        "print('='*35)\n",
        "ror = [round(((stock_price[i]-stock_price[i-1])/stock_price[i-1])*100,2) for i in range(1,len(stock_price)) ]\n",
        "print(f'The daily rate of return, {ror}')\n",
        "\n",
        "print('='*35)\n",
        "ror_cnt = sum([1 for i in ror if abs(i) > 3 ])\n",
        "print(f'The daily rate of return was up or down, {ror_cnt} time(s)')"
      ]
    },
    {
      "cell_type": "markdown",
      "metadata": {
        "id": "6QJ_j_8zVifA"
      },
      "source": [
        "<h2>Skewness</h2>\n",
        "Skewness is a measure of symetry, or better the lack of symetry.<br>\n",
        "A distribution of data set is symetric if it looks the same on the left and right side of the mean.<br>\n",
        "We aggregate the data and use a histogram to visualize if the distribution is normal.<br>\n",
        "<br>\n",
        "The skewness formula is as follows:<br>\n",
        "Fisher-Pearson coefficient<br>\n",
        "<br>\n",
        "$\\sum_{i=1}^{n} ((X_i - mean)^3$/n)/$s^3$<br><br>\n",
        "We can also use the formula for the adjusted Fisher-Pearson coefficient of skewness<br>\n",
        "<br>\n",
        "$\\sqrt N(N-1)/(N-2)$ $\\sum_{i=1}^{n} ((X_i - mean)^3$/n)/$s^3$<br><br>\n",
        "As the size of our sample goes up the first part of the equations coverges to 1<br>\n",
        "<br>\n",
        "The skewness of a nomal distribution is 0<br>"
      ]
    },
    {
      "cell_type": "markdown",
      "metadata": {
        "id": "m-LDhbQVVifB"
      },
      "source": [
        "<h2>Kurtosis</h2>\n",
        "The kurtosis for a standard normal distribution is three. <br>\n",
        "The formula for excess kutosis is:<br>\n",
        "<br>\n",
        "$\\sum_{i=1}^{n} ((X_i - mean)^4$/n)/$s^4$ -3 \n",
        "<br><br>\n",
        "This definition is used so that the standard normal distribution has a kurtosis of zero. <br>\n",
        "In addition, with the second definition positive kurtosis indicates a \"heavy-tailed\" distribution <br>\n",
        "and negative kurtosis indicates a \"light tailed\" distribution.<br>\n",
        "<br>\n",
        "Which definition of kurtosis is used is a matter of convention. <br>\n",
        "When using software to compute the sample kurtosis, you need to be aware of which convention <br>\n",
        "is being followed. Many sources use the term kurtosis when they are actually computing \"excess kurtosis\", <br>\n",
        "so it may not always be clear. <br>"
      ]
    },
    {
      "cell_type": "markdown",
      "metadata": {
        "id": "8W2KYbU8VifB"
      },
      "source": [
        "<h2>Exercise</h2>\n",
        "Calculate the skewness (Fisher-Pearson coefficient) of our original grades file.<br>\n",
        "Calculate the skewness (adjusted Fisher-Pearson coefficient) of our original grades file.<br>\n",
        "Calculate the excess kurtosis of our data set>br>\n",
        "<code>\n",
        "grades = [68.0, 90.0, 69.0, 86.0, 78.0, 97.0, 95.0, 83.0, 84.0, 74.0, 84.0, 71.0, 79.0, 82.0, 79.0, 69.0, 99.0, 93.0, \n",
        " 77.0, 77.0, 75.0, 83.0, 86.0, 89.0, 76.0, 88.0, 65.0, 65.0, 78.0, 77.0, 82.0, 97.0, 87.0, 83.0, 67.0, 83.0, \n",
        " 67.0, 77.0, 79.0, 79.0, 68.0, 69.0, 89.0, 79.0, 66.0, 85.0, 93.0, 74.0, 70.0, 83.0, 90.0, 75.0, 94.0, 77.0, \n",
        " 92.0, 84.0, 93.0, 83.0, 79.0, 87.0, 62.0, 85.0, 99.0, 76.0, 96.0, 89.0, 66.0, 85.0, 70.0, 83.0, 77.0, 96.0, \n",
        " 92.0, 76.0, 95.0, 84.0, 74.0, 83.0, 83.0, 89.0, 81.0, 91.0, 83.0, 74.0, 93.0, 73.0, 73.0, 84.0, 84.0, 83.0, \n",
        " 91.0, 68.0, 88.0, 72.0, 84.0, 93.0, 86.0, 83.0, 83.0, 77.0]\n",
        "</code>\n"
      ]
    },
    {
      "cell_type": "markdown",
      "metadata": {
        "id": "akFOYpKXVifB"
      },
      "source": [
        "<h4>Solution</h4>"
      ]
    },
    {
      "cell_type": "code",
      "execution_count": null,
      "metadata": {
        "colab": {
          "base_uri": "https://localhost:8080/"
        },
        "id": "Vou0VBi1VifC",
        "outputId": "129ee130-5a5a-4f83-cb42-a425931258c6"
      },
      "outputs": [
        {
          "name": "stdout",
          "output_type": "stream",
          "text": [
            "The mean = 81.51\n",
            "The skewness is -0.088\n",
            "===================================\n",
            "The adjusted skewness is -0.09016526625397915\n",
            "===================================\n",
            "The kurtosis is -0.09016526625397915\n"
          ]
        }
      ],
      "source": [
        "import math\n",
        "class BaseStatistics:\n",
        "    def __init__(self,base_list):\n",
        "        base_list.sort()\n",
        "        self.ordered = base_list\n",
        "        self.list_len = len(self.ordered)\n",
        "        \n",
        "    def calc_mean(self):\n",
        "        if len(self.ordered) > 0:\n",
        "            return round(sum(self.ordered)/self.list_len,2)\n",
        "\n",
        "    def calc_median(self):\n",
        "        if self.list_len % 2 == 0:\n",
        "            pos = (self.list_len/2) - 1\n",
        "            median = (self.ordered[int(pos+1)] + self.ordered[int(pos)])/2\n",
        "        else:\n",
        "            median = self.ordered[int(((self.list_len + 1)/2) - 1)] \n",
        "        return median\n",
        "    \n",
        "    def calc_mode(self):\n",
        "        mode = None\n",
        "        temp_mode = {}\n",
        "        for num in self.ordered:\n",
        "            if num not in temp_mode:\n",
        "                temp_mode[num] = 0\n",
        "            temp_mode[num] += 1\n",
        "        # print(temp_mode)\n",
        "        ans_sort = sorted(temp_mode.items(),key = lambda kv: kv[1] , reverse = True)\n",
        "        # print(ans_sort)\n",
        "\n",
        "        # Step 1 - Get the max number\n",
        "        max_num = ans_sort[0][1]\n",
        "\n",
        "        # Use the value to get all of the keys with that value using list comprehension\n",
        "        if max_num > 1:\n",
        "            mode = [num[0] for num in ans_sort if num[1] == max_num]\n",
        "        return mode\n",
        "        \n",
        "    def calc_max(self):\n",
        "        return max(self.ordered)\n",
        "    \n",
        "    def calc_min(self):\n",
        "        return min(self.ordered)\n",
        "    \n",
        "    def calc_range(self):\n",
        "        return self.calc_max() - self.calc_min()\n",
        "    \n",
        "    def calc_stdev(self):\n",
        "        mean = self.calc_mean()\n",
        "        variance = sum([(x-mean)**2 for x in self.ordered])/len(self.ordered)\n",
        "        return math.sqrt(variance)\n",
        "    \n",
        "    def calc_skewness(self):\n",
        "        mean = self.calc_mean()\n",
        "        skew_part1 = sum([(x-mean)**3 for x in self.ordered])/len(self.ordered)\n",
        "        return round(skew_part1/(self.calc_stdev()**3),3)\n",
        "\n",
        "    def calc_adjusted_skewness(self):\n",
        "        mean = self.calc_mean()\n",
        "        skew_part1 = sum([(x-mean)**3 for x in self.ordered])/len(self.ordered)\n",
        "        return round(math.sqrt((self.list_len*(self.list_len-1)))/(self.list_len-2),2) * (skew_part1/(self.calc_stdev()**3))\n",
        "    \n",
        "    def calc_excess_kurtosis(self):\n",
        "        mean = self.calc_mean()\n",
        "        kurt_part1 = sum([(x-mean)**4 for x in self.ordered])/len(self.ordered)\n",
        "        return (round(kurt_part1/(self.calc_stdev()**4),3)) - 3\n",
        "    \n",
        "grades = [68.0, 90.0, 69.0, 86.0, 78.0, 97.0, 95.0, 83.0, 84.0, 74.0, 84.0, 71.0, 79.0, 82.0, 79.0, 69.0, 99.0, 93.0, \n",
        " 77.0, 77.0, 75.0, 83.0, 86.0, 89.0, 76.0, 88.0, 65.0, 65.0, 78.0, 77.0, 82.0, 97.0, 87.0, 83.0, 67.0, 83.0, \n",
        " 67.0, 77.0, 79.0, 79.0, 68.0, 69.0, 89.0, 79.0, 66.0, 85.0, 93.0, 74.0, 70.0, 83.0, 90.0, 75.0, 94.0, 77.0, \n",
        " 92.0, 84.0, 93.0, 83.0, 79.0, 87.0, 62.0, 85.0, 99.0, 76.0, 96.0, 89.0, 66.0, 85.0, 70.0, 83.0, 77.0, 96.0, \n",
        " 92.0, 76.0, 95.0, 84.0, 74.0, 83.0, 83.0, 89.0, 81.0, 91.0, 83.0, 74.0, 93.0, 73.0, 73.0, 84.0, 84.0, 83.0, \n",
        " 91.0, 68.0, 88.0, 72.0, 84.0, 93.0, 86.0, 83.0, 83.0, 77.0]\n",
        "\n",
        "g1 = BaseStatistics(grades)\n",
        "mean = g1.calc_mean()\n",
        "print(f'The mean = {mean}')\n",
        "skew = g1.calc_skewness()\n",
        "print(f'The skewness is {skew}')\n",
        "print('='*35)\n",
        "adj_skew = g1.calc_adjusted_skewness()\n",
        "print(f'The adjusted skewness is {adj_skew}')\n",
        "print('='*35)\n",
        "kurtosis = g1.calc_adjusted_skewness()\n",
        "print(f'The kurtosis is {kurtosis}')"
      ]
    },
    {
      "cell_type": "markdown",
      "metadata": {
        "id": "eiMsHzk873bU"
      },
      "source": [
        "Side note: check out Matplotlib!"
      ]
    },
    {
      "cell_type": "markdown",
      "metadata": {
        "id": "m2cgkiQ1VifC"
      },
      "source": [
        "<h2>Aggregating Data</h2>\n",
        "To visualize the 100 grade values the chart would look crowded<br>\n",
        "Let's chart the data now.<br>"
      ]
    },
    {
      "cell_type": "code",
      "execution_count": null,
      "metadata": {
        "id": "Z5j3BgzAVifD",
        "outputId": "218f6321-a9e3-45f8-f37c-6e3a71e8680b"
      },
      "outputs": [
        {
          "data": {
            "image/png": "[encoded data removed]",
            "text/plain": [
              "<Figure size 432x288 with 1 Axes>"
            ]
          },
          "metadata": {
            "needs_background": "light"
          },
          "output_type": "display_data"
        }
      ],
      "source": [
        "import matplotlib.pyplot as plt\n",
        "\n",
        "grades = [68.0, 90.0, 69.0, 86.0, 78.0, 97.0, 95.0, 83.0, 84.0, 74.0, 84.0, 71.0, 79.0, 82.0, 79.0, 69.0, 99.0, 93.0, \n",
        " 77.0, 77.0, 75.0, 83.0, 86.0, 89.0, 76.0, 88.0, 65.0, 65.0, 78.0, 77.0, 82.0, 97.0, 87.0, 83.0, 67.0, 83.0, \n",
        " 67.0, 77.0, 79.0, 79.0, 68.0, 69.0, 89.0, 79.0, 66.0, 85.0, 93.0, 74.0, 70.0, 83.0, 90.0, 75.0, 94.0, 77.0, \n",
        " 92.0, 84.0, 93.0, 83.0, 79.0, 87.0, 62.0, 85.0, 99.0, 76.0, 96.0, 89.0, 66.0, 85.0, 70.0, 83.0, 77.0, 96.0, \n",
        " 92.0, 76.0, 95.0, 84.0, 74.0, 83.0, 83.0, 89.0, 81.0, 91.0, 83.0, 74.0, 93.0, 73.0, 73.0, 84.0, 84.0, 83.0, \n",
        " 91.0, 68.0, 88.0, 72.0, 84.0, 93.0, 86.0, 83.0, 83.0, 77.0]\n",
        "xAxis = range(1,len(grades)+1)\n",
        "plt.bar(xAxis,grades)\n",
        "plt.title('student grades')\n",
        "plt.xlabel('exam')\n",
        "plt.ylabel('score')\n",
        "plt.show()"
      ]
    },
    {
      "cell_type": "markdown",
      "metadata": {
        "id": "xXXESTzAVifD"
      },
      "source": [
        "We notice that the grades data is crowded.  We need to add meaning to <br>\n",
        "the visualization of this data.  We do this by aggregating the data.<br>\n",
        "<br>"
      ]
    },
    {
      "cell_type": "markdown",
      "metadata": {
        "id": "_Vb0x4ZhVifD"
      },
      "source": [
        "<h2>Exercise</h2>\n",
        "If we have a group of numbers from 0 to 20 how can we set the boundaries <br>\n",
        "For creating a frequency distribution histogram in quartiles<br>"
      ]
    },
    {
      "cell_type": "code",
      "execution_count": null,
      "metadata": {
        "id": "b4Kl2pUdVifD",
        "outputId": "319f0d70-4701-4364-c679-99ac9f334537"
      },
      "outputs": [
        {
          "name": "stdout",
          "output_type": "stream",
          "text": [
            "{1: [0, 5], 2: [5, 10], 3: [10, 15], 4: [15, 20]}\n"
          ]
        }
      ],
      "source": [
        "import math\n",
        "#create quartiles\n",
        "interval = math.ceil(20/4)\n",
        "quartiles = {1:[],2:[],3:[],4:[]}\n",
        "val = 0\n",
        "for k,v in quartiles.items():\n",
        "        quartiles[k] = [val+(interval*int(k-1)),val + interval*int(k)]\n",
        "print(quartiles)"
      ]
    },
    {
      "cell_type": "markdown",
      "metadata": {
        "id": "BWtBLjxdVifE"
      },
      "source": [
        "<h4>Deciles</h4>\n",
        "Break the data set into 10 equal parts and chart the number of items that<br>\n",
        "fall within each boundary."
      ]
    },
    {
      "cell_type": "markdown",
      "metadata": {
        "id": "eewU4AkjVifE"
      },
      "source": [
        "<h2>Exercise</h2>\n",
        "Creating the boundaries for the deciles consists of dividing the range into<br>\n",
        "10 intervals.  Create a function to calculate the boundaries for deciles of<br>\n",
        "a data set the goes from 100 to 150."
      ]
    },
    {
      "cell_type": "markdown",
      "metadata": {
        "id": "S7KLRLMnVifE"
      },
      "source": [
        "<h4>Solution</h4>"
      ]
    },
    {
      "cell_type": "code",
      "execution_count": null,
      "metadata": {
        "colab": {
          "base_uri": "https://localhost:8080/"
        },
        "id": "ZrH5WEwKVifF",
        "outputId": "6f5fdd7f-b8cf-43c5-e4cc-efc332a35291"
      },
      "outputs": [
        {
          "name": "stdout",
          "output_type": "stream",
          "text": [
            "{1: [0, 5], 2: [5, 10], 3: [10, 15], 4: [15, 20], 5: [20, 25], 6: [25, 30], 7: [30, 35], 8: [35, 40], 9: [40, 45], 10: [45, 50]}\n"
          ]
        }
      ],
      "source": [
        "import math\n",
        "#create quartiles\n",
        "interval = math.ceil((150-100)/10)\n",
        "deciles = {1:[],2:[],3:[],4:[],5:[],6:[],7:[],8:[],9:[],10:[]}\n",
        "val = 0\n",
        "for k,v in deciles.items():\n",
        "        deciles[k] = [val+(interval*int(k-1)),val + interval*int(k)]\n",
        "print(deciles)"
      ]
    },
    {
      "cell_type": "markdown",
      "metadata": {
        "id": "hCmMqw1kVifF"
      },
      "source": [
        "<h4>Frequency distribution chart</h4>"
      ]
    },
    {
      "cell_type": "code",
      "execution_count": null,
      "metadata": {
        "id": "dwT02FeNVifF",
        "outputId": "632b8516-4fda-44c3-cf3a-2d8c144f47fd"
      },
      "outputs": [
        {
          "name": "stdout",
          "output_type": "stream",
          "text": [
            "{1: [62.0, 66.0], 2: [66.0, 70.0], 3: [70.0, 74.0], 4: [74.0, 78.0], 5: [78.0, 82.0], 6: [82.0, 86.0], 7: [86.0, 90.0], 8: [90.0, 94.0], 9: [94.0, 98.0], 10: [98.0, 102.0]}\n",
            "[3, 10, 6, 16, 9, 25, 11, 11, 7, 2]\n"
          ]
        },
        {
          "data": {
            "image/png": "[encoded data removed]",
            "text/plain": [
              "<Figure size 432x288 with 1 Axes>"
            ]
          },
          "metadata": {
            "needs_background": "light"
          },
          "output_type": "display_data"
        }
      ],
      "source": [
        "import matplotlib.pyplot as plt\n",
        "import math\n",
        "\n",
        "\n",
        "#create boundaries\n",
        "interval = math.ceil((max(grades)-min(grades))/10)\n",
        "deciles = {1:[],2:[],3:[],4:[],5:[],6:[],7:[],8:[],9:[],10:[]}\n",
        "val = 0\n",
        "min_grade = min(grades)\n",
        "grade_dist = []\n",
        "for k,v in deciles.items():\n",
        "        beg = min_grade+(interval*int(k-1))\n",
        "        end = min_grade + interval*int(k)\n",
        "        deciles[k] = [beg,end]\n",
        "        sum_int = sum([1 for x in grades if x>= beg and x< end])\n",
        "        grade_dist.append(sum_int)\n",
        "print(deciles)\n",
        "print(grade_dist)\n",
        "xAxis = range(1,11)\n",
        "plt.bar(xAxis,grade_dist)\n",
        "plt.title('Frequency distribution')\n",
        "plt.xlabel('exam')\n",
        "plt.ylabel('score')\n",
        "plt.show()"
      ]
    },
    {
      "cell_type": "markdown",
      "metadata": {
        "id": "1rLJJDmvVifF"
      },
      "source": [
        "<h4>Cumulative Frequency distribution chart</h4>"
      ]
    },
    {
      "cell_type": "code",
      "execution_count": null,
      "metadata": {
        "id": "AyOOdQqiVifG",
        "outputId": "d1f97ea0-e2a1-4eb2-fa8a-75f23b3bc99e"
      },
      "outputs": [
        {
          "name": "stdout",
          "output_type": "stream",
          "text": [
            "{1: [62.0, 66.0], 2: [66.0, 70.0], 3: [70.0, 74.0], 4: [74.0, 78.0], 5: [78.0, 82.0], 6: [82.0, 86.0], 7: [86.0, 90.0], 8: [90.0, 94.0], 9: [94.0, 98.0], 10: [98.0, 102.0]}\n",
            "[3, 13, 19, 35, 44, 69, 80, 91, 98, 100]\n"
          ]
        },
        {
          "data": {
            "image/png": "[encoded data removed]",
            "text/plain": [
              "<Figure size 432x288 with 1 Axes>"
            ]
          },
          "metadata": {
            "needs_background": "light"
          },
          "output_type": "display_data"
        }
      ],
      "source": [
        "import matplotlib.pyplot as plt\n",
        "import math\n",
        "\n",
        "grades = [68.0, 90.0, 69.0, 86.0, 78.0, 97.0, 95.0, 83.0, 84.0, 74.0, 84.0, 71.0, 79.0, 82.0, 79.0, 69.0, 99.0, 93.0, \n",
        " 77.0, 77.0, 75.0, 83.0, 86.0, 89.0, 76.0, 88.0, 65.0, 65.0, 78.0, 77.0, 82.0, 97.0, 87.0, 83.0, 67.0, 83.0, \n",
        " 67.0, 77.0, 79.0, 79.0, 68.0, 69.0, 89.0, 79.0, 66.0, 85.0, 93.0, 74.0, 70.0, 83.0, 90.0, 75.0, 94.0, 77.0, \n",
        " 92.0, 84.0, 93.0, 83.0, 79.0, 87.0, 62.0, 85.0, 99.0, 76.0, 96.0, 89.0, 66.0, 85.0, 70.0, 83.0, 77.0, 96.0, \n",
        " 92.0, 76.0, 95.0, 84.0, 74.0, 83.0, 83.0, 89.0, 81.0, 91.0, 83.0, 74.0, 93.0, 73.0, 73.0, 84.0, 84.0, 83.0, \n",
        " 91.0, 68.0, 88.0, 72.0, 84.0, 93.0, 86.0, 83.0, 83.0, 77.0]\n",
        "\n",
        "#create boundaries\n",
        "interval = math.ceil((max(grades)-min(grades))/10)\n",
        "deciles = {1:[],2:[],3:[],4:[],5:[],6:[],7:[],8:[],9:[],10:[]}\n",
        "val = 0\n",
        "min_grade = min(grades)\n",
        "grade_dist = []\n",
        "for k,v in deciles.items():\n",
        "        beg = min_grade+(interval*int(k-1))\n",
        "        end = min_grade + interval*int(k)\n",
        "        deciles[k] = [beg,end]\n",
        "        sum_int = sum([1 for x in grades if x< end])\n",
        "        grade_dist.append(sum_int)\n",
        "print(deciles)\n",
        "print(grade_dist)\n",
        "xAxis = range(1,11)\n",
        "plt.bar(xAxis,grade_dist)\n",
        "plt.title('Frequency distribution')\n",
        "plt.xlabel('exam')\n",
        "plt.ylabel('score')\n",
        "plt.show()"
      ]
    },
    {
      "cell_type": "markdown",
      "metadata": {
        "id": "NVi4aAQRVifG"
      },
      "source": [
        "<h2>Exercise</h2>\n",
        "Suppose we have data like the following:<br>\n",
        "<code>\n",
        "sat_scores = [540, 590, 780, 720, 680, 570, 590, 600, 600, 610]\n",
        "</code>\n",
        "<br>\n",
        "Calculate what percentage of students are above the 50th percentile and what percentage<br>\n",
        "score below the 50th percentile<br>\n",
        "HINT: You need to calculate the median of the data set<br>"
      ]
    },
    {
      "cell_type": "code",
      "execution_count": null,
      "metadata": {
        "colab": {
          "base_uri": "https://localhost:8080/"
        },
        "id": "tuRiJoTSVifG",
        "outputId": "99a9d5e3-df31-4ec1-89a1-5deb2bbd4743"
      },
      "outputs": [
        {
          "name": "stdout",
          "output_type": "stream",
          "text": [
            "[540, 570, 590, 590, 600, 600, 610, 680, 720, 780]\n",
            "Median = 600.0\n",
            "40.0% Below the median\n",
            "40.0% Above the median\n"
          ]
        }
      ],
      "source": [
        "sat_scores = [540, 590, 780, 720, 680, 570, 590, 600, 600, 610]\n",
        "sat_scores.sort()\n",
        "print(sat_scores)\n",
        "score_len = len(sat_scores)\n",
        "if score_len % 2 == 0:\n",
        "    # Even\n",
        "    pos = int(score_len/2)\n",
        "    median = (sat_scores[pos-1]+sat_scores[pos])/2\n",
        "else:\n",
        "    # odd - middle\n",
        "    pos = int((score_len-1)/2)\n",
        "    median = sat_scores[pos]\n",
        "print(f'Median = {median}')\n",
        "# Calculate how many student are below the median\n",
        "pct_below_median = (sum([1 for x in sat_scores if x < median])/score_len) * 100\n",
        "print(f'{pct_below_median}% Below the median')\n",
        "# Calculate how many student are above the median\n",
        "pct_above_median = (sum([1 for x in sat_scores if x > median])/score_len) * 100\n",
        "print(f'{pct_above_median}% Above the median')"
      ]
    },
    {
      "cell_type": "markdown",
      "metadata": {
        "id": "kvGI8zRGVifH"
      },
      "source": [
        "<h2>Exercise</h2>\n",
        "Take the grades data and chart the frequency distribution and the cumulative<br>\n",
        "frequency distribution in quartiles"
      ]
    },
    {
      "cell_type": "code",
      "execution_count": 36,
      "metadata": {
        "id": "004nNXerVifH"
      },
      "outputs": [
        {
          "data": {
            "image/png": "[encoded data removed]",
            "text/plain": [
              "<Figure size 432x288 with 1 Axes>"
            ]
          },
          "metadata": {
            "needs_background": "light"
          },
          "output_type": "display_data"
        },
        {
          "data": {
            "image/png": "[encoded data removed]",
            "text/plain": [
              "<Figure size 432x288 with 1 Axes>"
            ]
          },
          "metadata": {
            "needs_background": "light"
          },
          "output_type": "display_data"
        }
      ],
      "source": [
        "import matplotlib.pyplot as plt1\n",
        "import matplotlib.pyplot as plt2\n",
        "import math\n",
        "\n",
        "grades = [68.0, 90.0, 69.0, 86.0, 78.0, 97.0, 95.0, 83.0, 84.0, 74.0, 84.0, 71.0, 79.0, 82.0, 79.0, 69.0, 99.0, 93.0, \n",
        " 77.0, 77.0, 75.0, 83.0, 86.0, 89.0, 76.0, 88.0, 65.0, 65.0, 78.0, 77.0, 82.0, 97.0, 87.0, 83.0, 67.0, 83.0, \n",
        " 67.0, 77.0, 79.0, 79.0, 68.0, 69.0, 89.0, 79.0, 66.0, 85.0, 93.0, 74.0, 70.0, 83.0, 90.0, 75.0, 94.0, 77.0, \n",
        " 92.0, 84.0, 93.0, 83.0, 79.0, 87.0, 62.0, 85.0, 99.0, 76.0, 96.0, 89.0, 66.0, 85.0, 70.0, 83.0, 77.0, 96.0, \n",
        " 92.0, 76.0, 95.0, 84.0, 74.0, 83.0, 83.0, 89.0, 81.0, 91.0, 83.0, 74.0, 93.0, 73.0, 73.0, 84.0, 84.0, 83.0, \n",
        " 91.0, 68.0, 88.0, 72.0, 84.0, 93.0, 86.0, 83.0, 83.0, 77.0]\n",
        "\n",
        "q_size = math.ceil((max(grades) - min(grades))/4)\n",
        "quartiles = {i: [(min(grades) + q_size * (i-1)), (min(grades) + q_size * i)] for i in range(1, 5)}\n",
        "distribution = {k: len([g for g in grades if g in range(int(v[0]), int(v[1] + 1))]) for k, v in quartiles.items()}\n",
        "cumulative_dist = {k: v if k == 1 else (sum(distribution.values()) - sum(list(distribution.values())[k:])) for k, v in distribution.items()}\n",
        "\n",
        "x = range(1, 5)\n",
        "plt1.bar(x, list(distribution.values()))\n",
        "plt1.title('Frequency Distribution')\n",
        "plt1.xlabel('quartile')\n",
        "plt1.ylabel('grade')\n",
        "plt1.show()\n",
        "\n",
        "x = range(1,5)\n",
        "plt2.bar(x, list(cumulative_dist.values()))\n",
        "plt2.title('Cumulative Frequency Distribution')\n",
        "plt2.xlabel('quartile')\n",
        "plt2.ylabel('grade')\n",
        "plt2.show()"
      ]
    },
    {
      "cell_type": "markdown",
      "metadata": {
        "id": "_vtYGlSEVifH"
      },
      "source": [
        "This notebook is part of a course at www.codeimmersives.com called Data Science. If you accessed this notebook outside the course, you can get more information about this course online by clicking here."
      ]
    },
    {
      "cell_type": "markdown",
      "metadata": {
        "id": "DgISkQCXVifH"
      },
      "source": [
        "<hr>\n",
        "\n",
        "Copyright &copy; 2021  Code Immersives"
      ]
    }
  ],
  "metadata": {
    "colab": {
      "name": "CI_Data_Science_Lesson_03_NO_ANSWERS_(1).ipynb",
      "provenance": []
    },
    "kernelspec": {
      "display_name": "Python 3",
      "language": "python",
      "name": "python3"
    },
    "language_info": {
      "codemirror_mode": {
        "name": "ipython",
        "version": 3
      },
      "file_extension": ".py",
      "mimetype": "text/x-python",
      "name": "python",
      "nbconvert_exporter": "python",
      "pygments_lexer": "ipython3",
      "version": "3.10.2"
    }
  },
  "nbformat": 4,
  "nbformat_minor": 0
}
