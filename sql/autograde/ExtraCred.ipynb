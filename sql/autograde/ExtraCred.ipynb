{
 "cells": [
  {
   "cell_type": "markdown",
   "metadata": {},
   "source": [
    "##### <h1 align=center><font size=5>SAM Python Capstone Final Project</font></h1>"
   ]
  },
  {
   "cell_type": "markdown",
   "metadata": {},
   "source": [
    "## Description"
   ]
  },
  {
   "cell_type": "markdown",
   "metadata": {},
   "source": [
    "<p>The final project is an automatic grading system.  The goal is open each of the files included in\n",
    "the compressed file</p>"
   ]
  },
  {
   "cell_type": "markdown",
   "metadata": {},
   "source": [
    "### Instructions\n",
    "<div class=\"alert alert-block alert-info\" style=\"margin-top: 20px\">\n",
    "\n",
    "1.  [Create a class roster by parsing the file names](#0)<br>\n",
    "2.  [Create a student exam GPA](#2)<br>\n",
    "3.  [Create a summary report](#4) <br>\n",
    "4.  [Create an input screen for weighted average](#6) <br> \n",
    "5.  [Apply weighted average- create report](#8) <br>  \n",
    "</div>\n",
    "<hr>"
   ]
  },
  {
   "cell_type": "code",
   "execution_count": 2,
   "metadata": {},
   "outputs": [],
   "source": [
    "# Import the tools for the job\n",
    "from pathlib import Path\n",
    "from statistics import mean,stdev"
   ]
  },
  {
   "cell_type": "markdown",
   "metadata": {},
   "source": [
    "### Class roster<a id=\"0\"></a>\n",
    "#### 10 points\n",
    "#### Create a file called 'PYTHON_PTI_CAPSTONE_CLASS_ROSTER.TXT'\n",
    "#### In should contain an unduplicate list of class names\n",
    "#### 1. Lastname, Firstname\n",
    "#### 2. Lastname,Firstname\n",
    "#### NOTE: The names should be in alphabetical order by last name, first name and in proper case\n",
    "#### You must parse the file names to get the student names:  CAPSTONE_lastname_firstname_QUIZ.......txt"
   ]
  },
  {
   "cell_type": "code",
   "execution_count": 3,
   "metadata": {},
   "outputs": [
    {
     "name": "stdout",
     "output_type": "stream",
     "text": [
      "Davis,Frank\n",
      "Dodd,George\n",
      "Floyd,Arnold\n",
      "Gino,Michelle\n",
      "Hanks,David\n",
      "Hires,George\n",
      "James,Ray\n",
      "Johnson,Jack\n",
      "Kellog,Ellen\n",
      "Little,Joyce\n",
      "Lloyd,Oliver\n",
      "Oldman,Lea\n",
      "Paul,Helen\n",
      "Pierre,Frenchie\n",
      "Pope,Lea\n",
      "Rankle,Violet\n",
      "Reece,Clara\n",
      "Rivera,Nelson\n",
      "Sax,Lola\n",
      "Serot,Xavier\n",
      "Sossman,Warren\n",
      "Tao,Sara\n",
      "Tatter,Jennifer\n",
      "Todd,Leo\n",
      "Webb,Paris\n",
      "Williams,Martin\n",
      "Xavier,Felix\n",
      "Yao,Jackie\n",
      "Yates,Forest\n",
      "Zera,Paul\n"
     ]
    }
   ],
   "source": [
    "# Extract student names by parsing the files in the final directory\n",
    "names = sorted(\n",
    "    [file[23:-15].replace('_', ',').title()\n",
    "    for file in [str(file)\n",
    "    for file in Path('answers/final').iterdir()\n",
    "    if file.is_file()]]\n",
    ")\n",
    "\n",
    "# Create a new file with comma separated values *last,first*\n",
    "with open('python_pti_capstone_class_roster.txt', 'w') as class_roster:\n",
    "    # Write the names to the file\n",
    "    for name in names:\n",
    "        class_roster.write(name + '\\n')\n",
    "        print(name)"
   ]
  },
  {
   "cell_type": "markdown",
   "metadata": {},
   "source": [
    "### Class roster with mean test scores<a id=\"2\"></a>\n",
    "#### 30 points\n",
    "#### Create a file called 'PYTHON_PTI_CAPSTONE_CLASS_ROSTER_GPA.TXT'\n",
    "#### In should contain an unduplicate list of student names their graded scores and their mean\n",
    "#### 1. Lastname, Firstname - Test Score 1, Test Score 2, ... Final Exam Score, Mean\n",
    "#### 2. Lastname, Firstname - Test Score 1, Test Score 2, ... Final Exam Score, Mean\n",
    "#### NOTE: The names should be in alphabetical order by last name, first name and in proper case\n",
    "#### Use the file 'CAPSTONE_QUIZ_KEY_LESSON_1' through 5 to score the exams and calculate the mean"
   ]
  },
  {
   "cell_type": "code",
   "execution_count": 24,
   "metadata": {},
   "outputs": [
    {
     "name": "stdout",
     "output_type": "stream",
     "text": [
      "Davis,Frank,80.0,80.0,80.0,70.0,80.0,90.0,80.0\n",
      "Dodd,George,90.0,100.0,90.0,90.0,90.0,95.0,92.5\n",
      "Floyd,Arnold,100.0,90.0,90.0,90.0,100.0,95.0,94.2\n",
      "Gino,Michelle,100.0,80.0,90.0,80.0,90.0,90.0,88.3\n",
      "Hanks,David,80.0,100.0,80.0,70.0,90.0,95.0,85.8\n",
      "Hires,George,70.0,80.0,80.0,80.0,70.0,90.0,78.3\n",
      "James,Ray,90.0,90.0,90.0,90.0,90.0,95.0,90.8\n",
      "Johnson,Jack,80.0,80.0,80.0,90.0,80.0,100.0,85.0\n",
      "Kellog,Ellen,70.0,90.0,80.0,80.0,70.0,95.0,80.8\n",
      "Little,Joyce,90.0,80.0,80.0,80.0,80.0,90.0,83.3\n",
      "Lloyd,Oliver,70.0,80.0,80.0,70.0,80.0,85.0,77.5\n",
      "Oldman,Lea,80.0,80.0,80.0,80.0,80.0,95.0,82.5\n",
      "Paul,Helen,100.0,90.0,90.0,100.0,100.0,95.0,95.8\n",
      "Pierre,Frenchie,80.0,70.0,70.0,70.0,70.0,90.0,75.0\n",
      "Pope,Lea,80.0,90.0,90.0,80.0,80.0,95.0,85.8\n",
      "Rankle,Violet,90.0,90.0,90.0,90.0,90.0,95.0,90.8\n",
      "Reece,Clara,80.0,80.0,80.0,80.0,90.0,90.0,83.3\n",
      "Rivera,Nelson,80.0,70.0,70.0,70.0,90.0,85.0,77.5\n",
      "Sax,Lola,60.0,80.0,70.0,60.0,70.0,85.0,70.8\n",
      "Serot,Xavier,90.0,90.0,100.0,100.0,100.0,95.0,95.8\n",
      "Sossman,Warren,70.0,60.0,70.0,70.0,70.0,85.0,70.8\n",
      "Tao,Sara,80.0,70.0,70.0,70.0,70.0,90.0,75.0\n",
      "Tatter,Jennifer,100.0,80.0,90.0,90.0,90.0,95.0,90.8\n",
      "Todd,Leo,90.0,90.0,80.0,80.0,80.0,95.0,85.8\n",
      "Webb,Paris,70.0,80.0,90.0,70.0,70.0,85.0,77.5\n",
      "Williams,Martin,90.0,90.0,90.0,90.0,100.0,95.0,92.5\n",
      "Xavier,Felix,90.0,90.0,80.0,90.0,80.0,90.0,86.7\n",
      "Yao,Jackie,100.0,90.0,90.0,100.0,90.0,95.0,94.2\n",
      "Yates,Forest,100.0,100.0,90.0,100.0,90.0,95.0,95.8\n",
      "Zera,Paul,80.0,90.0,90.0,90.0,80.0,90.0,86.7\n"
     ]
    }
   ],
   "source": [
    "# List of lessons\n",
    "lessons = ['lesson1', 'lesson2', 'lesson3', 'lesson4', 'lesson5', 'final']\n",
    "# Dictionary containing student answer files and lessons *{lesson:[list_of_files]}*\n",
    "answer_files = {\n",
    "    lesson: sorted([str(answer_file)\n",
    "    for answer_file in Path(f'answers/{lesson}').iterdir()\n",
    "    if answer_file.is_file()])\n",
    "    for lesson in lessons\n",
    "}\n",
    "# Dictionary containing answer key file paths\n",
    "key_files = {\n",
    "    lesson: [str(key_file)\n",
    "        for key_file in Path(f'keys/{lesson}').iterdir()\n",
    "        if key_file.is_file()][0]\n",
    "        for lesson in lessons\n",
    "}\n",
    "# Extract keys into a dictionary for grading\n",
    "def get_key(lesson_name):\n",
    "    with open(Path(f'{key_files[lesson_name]}'), 'r') as f:\n",
    "        key = {int((question := line.rstrip('\\n').replace(',', '-').split('-'))[0]): question[1:] for line in f.readlines()}\n",
    "    return key\n",
    "# Extract answers to be graded\n",
    "def get_answers(answer_file):\n",
    "    with open(answer_file) as f:\n",
    "        answers = {int((question := line.rstrip('\\n').replace(',', '-').split('-'))[0]): question[1:] for line in f.readlines()}\n",
    "        return answers\n",
    "# Grade answers\n",
    "def get_grade(key, answers):\n",
    "    possible_points = 0\n",
    "    points = 0\n",
    "    for question,answer in answers.items():\n",
    "        if answer == key[question]:\n",
    "            points += 1            \n",
    "        possible_points += 1\n",
    "    return 100 * (points / possible_points)\n",
    "# Dictionary of students by name with grades by lesson\n",
    "students = {\n",
    "    name:{\n",
    "        lesson: get_grade(get_key(lesson), get_answers(answer_files[lesson][names.index(name)]))\n",
    "        for lesson in lessons\n",
    "    }\n",
    "    for name in names\n",
    "}\n",
    "\n",
    "# Add mean of scores as GPA\n",
    "for student in students:\n",
    "    students[student]['GPA'] = round(mean(students[student].values()), 1)\n",
    "# Printing score results\n",
    "for student in students:\n",
    "    print(f'{student},{\",\".join([str(v) for v in students[student].values()])}')\n",
    "\n",
    "# Create a new file with comma separated values\n",
    "with open('python_pti_capstone_class_roster_gpa.txt', 'w') as class_roster:\n",
    "    # Write the names to the file\n",
    "    for student in students:\n",
    "        class_roster.write(f'{student},{\",\".join([str(v) for v in students[student].values()])}\\n')\n"
   ]
  },
  {
   "cell_type": "markdown",
   "metadata": {},
   "source": [
    "### Class summary report<a id=\"4\"></a>\n",
    "#### 15 points\n",
    "#### Create a file called 'PYTHON_PTI_CAPSTONE_SUMMARY REPORT.TXT'\n",
    "#### It should contain the following\n",
    "#### 1. There were X students\n",
    "#### 2. Exam 1 - mean, standard deviation\n",
    "#### 3. Exam 2 - mean, standard deviation\n",
    "#### 4. Exam 3 - mean, standard deviation\n",
    "#### 5. Exam 4 - mean, standard deviation\n",
    "#### 6. Exam 5 - mean, standard deviation\n",
    "#### 7. Final exam - mean, standard deviation"
   ]
  },
  {
   "cell_type": "code",
   "execution_count": 27,
   "metadata": {},
   "outputs": [
    {
     "name": "stdout",
     "output_type": "stream",
     "text": [
      "There are 30 students\n",
      "lesson1, Mean: 84.33, Deviation: 11.04\n",
      "lesson2, Mean: 84.33, Deviation: 9.35\n",
      "lesson3, Mean: 83.33, Deviation: 8.02\n",
      "lesson4, Mean: 82.33, Deviation: 11.04\n",
      "lesson5, Mean: 83.67, Deviation: 9.99\n",
      "final, Mean: 92.0, Deviation: 4.07\n"
     ]
    }
   ],
   "source": [
    "print(f'There are {len(students)} students')\n",
    "\n",
    "for lesson in lessons:\n",
    "    scores = [student[lesson] for student in students.values()]\n",
    "    print(f'{lesson}, Mean: {round(mean(scores), 2)}, Deviation: {round(stdev(scores), 2)}')\n",
    "\n",
    "# Create a new file with the values\n",
    "with open('python_pti_capstone_summary_report.txt', 'w') as class_roster:\n",
    "    # Write the names to the file\n",
    "    for student in students:\n",
    "        class_roster.write(f'{student},{\",\".join([str(v) for v in students[student].values()])}\\n')\n"
   ]
  },
  {
   "cell_type": "markdown",
   "metadata": {},
   "source": [
    "### Class summary report<a id=\"6\"></a>\n",
    "#### 15 points\n",
    "#### Create an input screen which saves the following weights: Exam 1 through 5 are 15 points and final is 25 points\n",
    "#### Exam #\n",
    "#### Weight\n",
    "#### NOTE: BONUS - Pickle the data as a dictionary instead of creating a file 'PYTHON_PTI_CAPSTONE_WEIGHTS.TXT'"
   ]
  },
  {
   "cell_type": "code",
   "execution_count": 1,
   "metadata": {},
   "outputs": [
    {
     "name": "stdout",
     "output_type": "stream",
     "text": [
      "10\n"
     ]
    }
   ],
   "source": [
    "lesson_weight = input(f'Please Enter a Weight for Lessons 1-5: ')\n",
    "final_weight = input(f'Please Enter a Weight for the Final Exam: ')\n",
    "weights = \n",
    "print()"
   ]
  },
  {
   "cell_type": "markdown",
   "metadata": {},
   "source": [
    "### Final grade for roster<a id=\"8\"></a>\n",
    "#### 30 points\n",
    "#### List every student from highest to lowest final grade without weights PYTHON_PTI_CAPSTONE_GRADES.TXT\n",
    "#### List every student from highest to lowest final grade with weights  PYTHON_PTI_CAPSTONE_WEIGHTED_GRADES.TXT\n",
    "#### Use must open and use the PYTHON_PTI_CAPSTONE_WEIGHTS.TXT File created above\n",
    "#### 1. Last name, first name - Final grade\n",
    "#### 2. Last name, first name - Final grade\n",
    "#### Add a summary\n",
    "#### Mean, Mode, Median, Standard deviation\n",
    "#### How many students are within 1 standard deviation of the mean\n",
    "#### How many students are within 2 standard deviations of the mean\n",
    "#### How many students are within 3 standard deviations of the mean\n",
    "#### Is this a normal distribution?"
   ]
  },
  {
   "cell_type": "code",
   "execution_count": null,
   "metadata": {},
   "outputs": [],
   "source": []
  }
 ],
 "metadata": {
  "interpreter": {
   "hash": "e7370f93d1d0cde622a1f8e1c04877d8463912d04d973331ad4851f04de6915a"
  },
  "kernelspec": {
   "display_name": "Python 3.9.7 64-bit",
   "name": "python3"
  },
  "language_info": {
   "codemirror_mode": {
    "name": "ipython",
    "version": 3
   },
   "file_extension": ".py",
   "mimetype": "text/x-python",
   "name": "python",
   "nbconvert_exporter": "python",
   "pygments_lexer": "ipython3",
   "version": "3.9.7"
  }
 },
 "nbformat": 4,
 "nbformat_minor": 4
}
