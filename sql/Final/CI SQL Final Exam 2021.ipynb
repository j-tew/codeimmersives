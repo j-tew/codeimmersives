{
 "cells": [
  {
   "cell_type": "markdown",
   "metadata": {},
   "source": [
    "<h2>Final Exam</h2>\n",
    "You are a stock analyst working in the research department of a small<br>\n",
    "hedge fund.  Your job is to analyze the returns of a pool of securities<br>\n",
    "and back test the quants strategy of buys and sells.  You need<br>\n",
    "to load the 4 securities and test their strategy.<br>\n",
    "files:<br>\n",
    "INTC - Intel Corporation<br>\n",
    "AMD - Advanced Micro Devices<br>\n",
    "AAPL - Apple<br>\n",
    "FB - Meta Platforms, Inc.<br>\n",
    "corporations = {'INTC': 'Intel Corporation',<br>\n",
    "'AMD':'Advanced Micro Devices',<br>\n",
    "'AAPL':'Apple',<br>\n",
    "'FB':'Meta Platforms, Inc.'}<br>\n",
    "<br>\n",
    "NOTE: All trades use the closing price!!!!"
   ]
  },
  {
   "cell_type": "markdown",
   "metadata": {},
   "source": [
    "<h2>Step 1</h2>\n",
    "<h4>5 points</h4>\n",
    "Create a directory and place all of the csv files into it<br>\n",
    "Create the variable proj_dir = '  <your directory> '<br>\n",
    "db_name = 'stock_analysis'"
   ]
  },
  {
   "cell_type": "code",
   "execution_count": 1,
   "metadata": {},
   "outputs": [],
   "source": [
    "import sqlite3\n",
    "from datetime import date\n",
    "from random import randint\n",
    "from pathlib import Path\n",
    "\n",
    "# Directory containing CSV files\n",
    "proj_dir = Path('securities')\n",
    "# Name of database\n",
    "db_name = 'stock_analysis'"
   ]
  },
  {
   "cell_type": "markdown",
   "metadata": {},
   "source": [
    "<h2>Step 2</h2>\n",
    "<h4>5 points</h4>\n",
    "Create a database called 'Stock_Analysis'"
   ]
  },
  {
   "cell_type": "code",
   "execution_count": 2,
   "metadata": {},
   "outputs": [],
   "source": [
    "# Create the database\n",
    "connection = sqlite3.connect(f'{db_name}.db')\n",
    "cursor = connection.cursor()\n",
    "\n",
    "# Commit changes and close connection\n",
    "connection.commit()\n",
    "connection.close()"
   ]
  },
  {
   "cell_type": "markdown",
   "metadata": {},
   "source": [
    "<h2>Step 3</h2>\n",
    "<h4>15 points</h4>\n",
    "Create the following tables:<br>\n",
    "1 - security_master<br>\n",
    "symbol<br>\n",
    "trade_date<br>\n",
    "open_price<br>\n",
    "high_price<br>\n",
    "low_price<br>\n",
    "adj_close<br>\n",
    "close_price<br>\n",
    "volume<br>\n",
    "<br>\n",
    "2 - security_info<br>\n",
    "symbol<br>\n",
    "name  Max of 25 characters<br>\n",
    "research_notes Max of 255 characters<br>\n",
    "<br>\n",
    "3 - security_log<br>\n",
    "transaction_id  Character max 20 alpha numeric<br>\n",
    "trade_date<br>\n",
    "symbol<br>\n",
    "trans_type   - (will contain only 'BUY' or 'SELL')<br>\n",
    "shares   (Will only contain whole numbers)<br>\n",
    "cost - Will hold dollar amounts<br>\n",
    "balance - Will hold dollar amounts<br>"
   ]
  },
  {
   "cell_type": "code",
   "execution_count": 3,
   "metadata": {},
   "outputs": [],
   "source": [
    "# Connect to the database\n",
    "connection = sqlite3.connect(f'{db_name}.db')\n",
    "cursor = connection.cursor()\n",
    "\n",
    "# Create the tables\n",
    "cursor.executescript(\n",
    "    '''\n",
    "    create table if not exists security_master (\n",
    "        symbol text,\n",
    "        trade_date text,\n",
    "        open_price real,\n",
    "        high_price real,\n",
    "        low_price real,\n",
    "        adj_close real,\n",
    "        close_price real,\n",
    "        volume integer\n",
    "    );\n",
    "    create table if not exists security_info (\n",
    "        symbol text,\n",
    "        name text,\n",
    "        research_notes text\n",
    "    );\n",
    "    create table if not exists security_log (\n",
    "        transaction_id text,\n",
    "        trade_date text,\n",
    "        symbol text,\n",
    "        trans_type text,\n",
    "        shares integer,\n",
    "        cost real,\n",
    "        balance real\n",
    "    );\n",
    "    '''\n",
    ")\n",
    "\n",
    "# Commit changes and close connection\n",
    "connection.commit()\n",
    "connection.close()"
   ]
  },
  {
   "cell_type": "markdown",
   "metadata": {},
   "source": [
    "<h2>Step 4</h2>\n",
    "<h4>15 points</h4>\n",
    "Load the security master table<br>\n",
    "Your code should read whatever files that are csv files in the directory<br>\n",
    "Use the dictionary below to populate the security_info table:<br>\n",
    "corporations = {'INTC': 'Intel Corporation',\n",
    "'AMD':'Advanced Micro Devices',\n",
    "'AAPL':'Apple',\n",
    "'FB':'Meta Platforms, Inc.'}"
   ]
  },
  {
   "cell_type": "code",
   "execution_count": 4,
   "metadata": {},
   "outputs": [],
   "source": [
    "# Connect to the database\n",
    "connection = sqlite3.connect(f'{db_name}.db')\n",
    "cursor = connection.cursor()\n",
    "\n",
    "# Corporation codes and names\n",
    "corporations = {\n",
    "    'INTC': 'Intel Corporation',\n",
    "    'AMD':'Advanced Micro Devices',\n",
    "    'AAPL':'Apple',\n",
    "    'FB':'Meta Platforms, Inc.'\n",
    "}\n",
    "\n",
    "# Truncate the tables for fresh start on each run\n",
    "cursor.executescript(\n",
    "    '''\n",
    "    delete from security_master;\n",
    "    delete from security_info;\n",
    "    '''    \n",
    ")\n",
    "\n",
    "# Open files, extract data, and populate security_master table\n",
    "for code in corporations:\n",
    "    with open(f'{proj_dir}/{code}.csv', 'r') as data_file:\n",
    "        # List of lines without newline character\n",
    "        lines = [line[:-1] for line in data_file.readlines()[1:]]\n",
    "    # Pull data from the lines\n",
    "    for line in lines:\n",
    "        # Add the corp_code to the data frame\n",
    "        values = [code] + line.split(',')\n",
    "        # Correcting data types of the values\n",
    "        data_types = [str, str, float, float, float, float, float, int]\n",
    "        frame = [dt(v) for dt,v in zip(data_types, values)]\n",
    "        # Insert the data frame into the table\n",
    "        cursor.execute(\n",
    "            '''\n",
    "            insert into security_master values\n",
    "            (?,?,?,?,?,?,?,?)\n",
    "            ''',\n",
    "            tuple(frame)\n",
    "        )\n",
    "\n",
    "# Populate the security_info table using the corporations dictionary\n",
    "for code,name in corporations.items():\n",
    "    cursor.execute(\n",
    "        '''\n",
    "        insert into security_info values\n",
    "        (?,?,?)\n",
    "        ''',\n",
    "        (code,name,'')\n",
    "    )\n",
    "\n",
    "# Commit changes and close connection\n",
    "connection.commit()\n",
    "connection.close()"
   ]
  },
  {
   "cell_type": "markdown",
   "metadata": {},
   "source": [
    "<h2>Step 5</h2>\n",
    "<h4>10 points</h4>\n",
    "Print the symbol,name, and number of records of every security using 1 SQL statement<br>"
   ]
  },
  {
   "cell_type": "code",
   "execution_count": 5,
   "metadata": {},
   "outputs": [
    {
     "name": "stdout",
     "output_type": "stream",
     "text": [
      "('INTC', 'Intel Corporation', 754)\n",
      "('AMD', 'Advanced Micro Devices', 754)\n",
      "('AAPL', 'Apple', 754)\n",
      "('FB', 'Meta Platforms, Inc.', 754)\n"
     ]
    }
   ],
   "source": [
    "# Connect to the database\n",
    "connection = sqlite3.connect(f'{db_name}.db')\n",
    "cursor = connection.cursor()\n",
    "\n",
    "# SQL query for each corporation\n",
    "for corp in corporations:\n",
    "    cursor.execute(\n",
    "        f'''\n",
    "        select security_info.symbol,security_info.name,count(security_master.symbol)\n",
    "        from security_master\n",
    "        join security_info on security_info.symbol=security_master.symbol\n",
    "        where security_master.symbol=:code\n",
    "        ''',\n",
    "        {'code': corp}\n",
    "    )\n",
    "    print(*cursor.fetchall())\n",
    "\n",
    "# Commit changes and close connection\n",
    "connection.commit()\n",
    "connection.close()"
   ]
  },
  {
   "cell_type": "markdown",
   "metadata": {},
   "source": [
    "<h2>Step 6</h2>\n",
    "<h4>10 points</h4>\n",
    "Print the average closing share price for each security in the year 2019<br>"
   ]
  },
  {
   "cell_type": "code",
   "execution_count": 6,
   "metadata": {},
   "outputs": [
    {
     "name": "stdout",
     "output_type": "stream",
     "text": [
      "('INTC', 48.324832607142824)\n",
      "('AMD', 29.94107146031748)\n",
      "('AAPL', 50.99662557936508)\n",
      "('FB', 181.63749959523804)\n"
     ]
    }
   ],
   "source": [
    "# Connect to the database\n",
    "connection = sqlite3.connect(f'{db_name}.db')\n",
    "cursor = connection.cursor()\n",
    "\n",
    "# SQL query for each corporation\n",
    "for corp in corporations:\n",
    "    cursor.execute(\n",
    "        f'''\n",
    "        select symbol,avg(close_price)\n",
    "        from security_master\n",
    "        where symbol=:code and strftime('%Y', date(trade_date))='2019'\n",
    "        ''',\n",
    "        {'code': corp}\n",
    "    )\n",
    "    print(*cursor.fetchall())\n",
    "\n",
    "# Commit changes and close connection\n",
    "connection.commit()\n",
    "connection.close()"
   ]
  },
  {
   "cell_type": "markdown",
   "metadata": {},
   "source": [
    "<h2>Step 7</h2>\n",
    "<h4>5 points</h4>\n",
    "Print the max and min closing share price for each security in the year 2020<br>"
   ]
  },
  {
   "cell_type": "code",
   "execution_count": 7,
   "metadata": {},
   "outputs": [
    {
     "name": "stdout",
     "output_type": "stream",
     "text": [
      "('INTC', 42.636486, 65.120239)\n",
      "('AMD', 38.709999, 97.120003)\n",
      "('AAPL', 55.402668, 135.852524)\n",
      "('FB', 146.009995, 303.910004)\n"
     ]
    }
   ],
   "source": [
    "# Connect to the database\n",
    "connection = sqlite3.connect(f'{db_name}.db')\n",
    "cursor = connection.cursor()\n",
    "\n",
    "# SQL query for each corporation\n",
    "for corp in corporations:\n",
    "    cursor.execute(\n",
    "        f'''\n",
    "        select symbol,min(close_price),max(close_price)\n",
    "        from security_master\n",
    "        where symbol=:code and strftime('%Y', date(trade_date))='2020'\n",
    "        ''',\n",
    "        {'code': corp}\n",
    "    )\n",
    "    print(*cursor.fetchall())\n",
    "\n",
    "# Commit changes and close connection\n",
    "connection.commit()\n",
    "connection.close()"
   ]
  },
  {
   "cell_type": "markdown",
   "metadata": {},
   "source": [
    "<h2>Step 8</h2>\n",
    "<h4>15 points</h4>\n",
    "Alter the trading strategy below to update the security_log table<br>\n",
    "transaction_id = YYYYMMDD_symbol_random number, 100 up to 999<br>\n",
    "trade_date <br>\n",
    "symbol <br>\n",
    "trans_type BUY OR SELL<br>\n",
    "shares number of shares<br>\n",
    "cost =  -1 * close_price * shares if a BUY, close_price * shares if a SELL<br>\n",
    "<br>\n",
    "**(Code Redacted)**"
   ]
  },
  {
   "cell_type": "code",
   "execution_count": 8,
   "metadata": {
    "scrolled": true
   },
   "outputs": [],
   "source": [
    "# Connect to the database\n",
    "connection = sqlite3.connect(f'{db_name}.db')\n",
    "cursor = connection.cursor()\n",
    "\n",
    "# Truncate the tables for fresh start on each run\n",
    "cursor.execute('delete from security_log')\n",
    "\n",
    "# Transaction data for AMD\n",
    "cursor.execute(\n",
    "    f'''\n",
    "    select symbol,trade_date,close_price-open_price as diff,close_price\n",
    "    from security_master\n",
    "    where symbol='AMD'\n",
    "    '''\n",
    ")\n",
    "\n",
    "# Counts for buying and selling\n",
    "up_days = 0\n",
    "down_days = 0\n",
    "total_value = 0\n",
    "total_shares = 0\n",
    "share_size = 10000\n",
    "\n",
    "for row in cursor.fetchall():\n",
    "    symbol = row[0]\n",
    "    trade_date = row[1]\n",
    "    # Trade date object for the transaction_id\n",
    "    d_obj = date(*[int(i) for i in trade_date.split('-')])\n",
    "    y,m,d = str(d_obj.year),str(d_obj.month),str(d_obj.day)\n",
    "    transaction_id =f'{y}_00{m}_00{d}_{row[0]}_{randint(100, 1000)}'\n",
    "    # Track up and down days\n",
    "    if row[2] > 0:\n",
    "        up_days += 1\n",
    "        down_days = 0\n",
    "    else:\n",
    "        up_days = 0\n",
    "        down_days += 1\n",
    "    # Sell when stock up for 5 days\n",
    "    if up_days >= 5:\n",
    "        down_days = 0\n",
    "        if total_shares > 0:\n",
    "            factor = 2 if total_shares - (share_size * 2) > 0 else 1\n",
    "            shares_to_sell = share_size * factor\n",
    "            profit =  shares_to_sell * row[3]\n",
    "            total_shares -= shares_to_sell\n",
    "            total_value += profit\n",
    "            # Insert sells to security_log\n",
    "            cursor.execute(\n",
    "                '''\n",
    "                insert into security_log values\n",
    "                (?,?,?,?,?,?,?)\n",
    "                ''',\n",
    "                (transaction_id, trade_date, symbol, 'SELL', shares_to_sell, round(profit, 2), total_shares)\n",
    "            )\n",
    "    # Buy when stock is down for 5 days\n",
    "    if down_days >= 5:\n",
    "        up_days = 0\n",
    "        down_days = 0\n",
    "        cost = -1 * share_size * row[3]\n",
    "        total_value += cost\n",
    "        total_shares += share_size\n",
    "        # Insert buys to security_log\n",
    "        cursor.execute(\n",
    "            '''\n",
    "            insert into security_log values\n",
    "            (?,?,?,?,?,?,?)\n",
    "            ''',\n",
    "            (transaction_id, trade_date, symbol, 'BUY', share_size, round(cost, 2), total_shares)\n",
    "        )\n",
    "\n",
    "# Commit changes and close connection\n",
    "connection.commit()\n",
    "connection.close()"
   ]
  },
  {
   "cell_type": "markdown",
   "metadata": {},
   "source": [
    "<h2>Step 9</h2>\n",
    "<h4>10 points</h4>\n",
    "If you missed the update on step 8 above manual run the following inserts<br>\n",
    "Then return the symbol,stock price,trans_type For all 2020 trades<br>\n",
    "**(inserts not needed)**"
   ]
  },
  {
   "cell_type": "code",
   "execution_count": 9,
   "metadata": {},
   "outputs": [
    {
     "name": "stdout",
     "output_type": "stream",
     "text": [
      "('AMD', 49.880001, 'BUY')\n",
      "('AMD', 81.989998, 'SELL')\n",
      "('AMD', 81.559998, 'BUY')\n",
      "('AMD', 93.160004, 'BUY')\n"
     ]
    }
   ],
   "source": [
    "# Connect to the database\n",
    "connection = sqlite3.connect(f'{db_name}.db')\n",
    "cursor = connection.cursor()\n",
    "\n",
    "# Querying 2020 trade log\n",
    "cursor.execute(\n",
    "    f'''\n",
    "    select symbol,abs(cost/shares) as stock_price,trans_type\n",
    "    from security_log\n",
    "    where strftime('%Y', date(trade_date))='2020'\n",
    "    '''\n",
    ")\n",
    "for row in cursor.fetchall():\n",
    "    print(row)\n",
    "\n",
    "# Commit changes and close connection\n",
    "connection.commit()\n",
    "connection.close()"
   ]
  },
  {
   "cell_type": "markdown",
   "metadata": {},
   "source": [
    "<h2>Step 10</h2>\n",
    "<h4>10 points</h4>\n",
    "If you bought 100,000 shares of FB the first trading day of 2020 and sold<br>\n",
    "100,000 shares on the last day of 2020. How much would you have gained or lost?"
   ]
  },
  {
   "cell_type": "code",
   "execution_count": 10,
   "metadata": {},
   "outputs": [
    {
     "name": "stdout",
     "output_type": "stream",
     "text": [
      "Earnings for 2020: $63.38\n"
     ]
    }
   ],
   "source": [
    "# Connect to the database\n",
    "connection = sqlite3.connect(f'{db_name}.db')\n",
    "cursor = connection.cursor()\n",
    "\n",
    "# Sub-query to get first and last trade days of 2020 with stock prices for FB\n",
    "cursor.execute(\n",
    "    '''\n",
    "    select * from (\n",
    "        select close_price\n",
    "        from security_master\n",
    "        where strftime('%Y', date(trade_date))='2020'\n",
    "        and symbol='FB'\n",
    "        limit 1\n",
    "    ),(\n",
    "        select close_price\n",
    "        from security_master\n",
    "        where strftime('%Y', date(trade_date))='2020'\n",
    "        and symbol='FB'\n",
    "        order by trade_date desc\n",
    "        limit 1\n",
    "    )\n",
    "    '''\n",
    ")\n",
    "for row in cursor.fetchall():\n",
    "    earnings = row[1] - row[0]\n",
    "print(f'Earnings for 2020: ${round(earnings, 2)}')\n",
    "\n",
    "# Commit changes and close connection\n",
    "connection.commit()\n",
    "connection.close()"
   ]
  },
  {
   "cell_type": "markdown",
   "metadata": {},
   "source": [
    "<h2>Bonus Question</h2>\n",
    "<h4>25 points</h4>\n",
    "Write a program that buys 10000 shares of INTC every time the volume<br>\n",
    "is greater than 10% for the average daily volume for 10 days and sell 10000 shares <br>\n",
    "when the average volume for the past 5 days.  The initial buy should be when the shares <br>\n",
    "have had 5 consecutive positive trading days"
   ]
  }
 ],
 "metadata": {
  "interpreter": {
   "hash": "e7370f93d1d0cde622a1f8e1c04877d8463912d04d973331ad4851f04de6915a"
  },
  "kernelspec": {
   "display_name": "Python 3.9.7 64-bit",
   "name": "python3"
  },
  "language_info": {
   "codemirror_mode": {
    "name": "ipython",
    "version": 3
   },
   "file_extension": ".py",
   "mimetype": "text/x-python",
   "name": "python",
   "nbconvert_exporter": "python",
   "pygments_lexer": "ipython3",
   "version": "3.9.7"
  }
 },
 "nbformat": 4,
 "nbformat_minor": 2
}
