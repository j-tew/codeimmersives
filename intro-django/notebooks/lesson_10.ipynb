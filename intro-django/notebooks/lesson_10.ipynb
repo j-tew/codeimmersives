{
 "cells": [
  {
   "cell_type": "markdown",
   "metadata": {},
   "source": [
    "<a href=\"https://codeimmersives.com\"><img src = \"https://www.codeimmersives.com/wp-content/uploads/2019/09/CodeImmersives_Logo_RGB_NYC_BW.png\" width = 400> </a>\n",
    "\n",
    "\n",
    "<h1 align=center><font size = 5>Agenda</font></h1>"
   ]
  },
  {
   "cell_type": "markdown",
   "metadata": {},
   "source": [
    "### \n",
    "<div class=\"alert alert-block alert-info\" style=\"margin-top: 20px\">\n",
    "\n",
    "1.  [Review](#0)<br>\n",
    "2.  [Django](#2)<br> \n",
    "3.  [Exercise](#4)<br>     \n",
    "</div>\n",
    "<hr>"
   ]
  },
  {
   "cell_type": "markdown",
   "metadata": {},
   "source": [
    "<h2>Django</h2>\n",
    "Django is a free and open source web application written in python that was created<br>\n",
    "in 2005. It is used for rapid application web development framework.  It is written to<br>\n",
    "remove repetitive task and is a more robust framework than Flask.<br> It is also a Full Stack from work. While Flask is a Web Server Gateway Interface (WSGI). In English, Django is used to build websites and Flask just processes request. A python full stack must know Django\n",
    "\n",
    "There is a large community behind Django that can be found at www.djangopackages.org<br>"
   ]
  },
  {
   "source": [
    "<h2> Comparsions to Django and Flask"
   ],
   "cell_type": "markdown",
   "metadata": {}
  },
  {
   "source": [
    "<h3> Django</h3>\n",
    "- Django doesn’t have any support for API. <br>\n",
    "- Django doesn’t offer multiple types of databases. <br>\n",
    "- Django comes Form with which can be integrate with the ORM and the admin site. <br>\n",
    "- Django offers dynamic HTML pages. <br>\n",
    "- All views are set as an individual parameter in the Django. <br>\n",
    "- Django has its own module library. So, it stores several prewritten codes. <br>\n",
    "- URL dispatcher of this Django framework is based on controller-regex. <br>\n",
    "- Django-admin enables developers to start building web applications without any external input. <br>\n",
    "- The best feature of Django is Robust documentation. <br>\n",
    "- The best features of Django are Rapid development, Open source, Great Community, Easy to learn. <br>"
   ],
   "cell_type": "markdown",
   "metadata": {}
  },
  {
   "source": [
    "<h3>Flask</h3>\n",
    "\n",
    "- Python web framework built for rapid development.<br>\n",
    "- Flask provides support for API.<br>\n",
    "- Flask has no default support for forms, but you can use WTForms to fill the gap.<br>\n",
    "- Flask does not offer dynamic HTML pages. <br>\n",
    "- The request based object is imported from the flask module, which is a global variable in Flask.<br>\n",
    "- It supports an extension which could be implemented in the framework.<br>\n",
    "- Flask web framework uses a Ninja2 template design.\n",
    "- URL dispatcher of the Flask web framework is a RESTful request.\n",
    "- Flask does not offer a built-in bootstrapping tool.\n",
    "- Flask is a good choice if you want a lightweight codebase.\n",
    "- Flask framework is suitable for single application.\t"
   ],
   "cell_type": "markdown",
   "metadata": {}
  },
  {
   "source": [
    "<h2> Benefits of Django "
   ],
   "cell_type": "markdown",
   "metadata": {}
  },
  {
   "source": [
    "<h3>Versatile</h3><br>\n",
    "Django can be (and has been) used to build almost any type of website. <br>\n",
    "From content management systems and wikis, through to social networks and news sites. <br>\n",
    "It can work with any client-side framework, and can deliver content in almost any format (including HTML, RSS feeds, JSON, XML, etc).<br>\n",
    "\n",
    "Internally, while it provides choices for almost any functionality you might want (e.g. several popular databases, templating engines, etc.), it can also be extended to use other components if needed."
   ],
   "cell_type": "markdown",
   "metadata": {}
  },
  {
   "source": [
    "<h3>Secure<h3>\n",
    "\n",
    "Django helps developers avoid many common security mistakes by providing a framework that has been engineered to \"do the right things\" to protect the website automatically. For example, Django provides a secure way to manage user accounts and passwords, avoiding common mistakes like putting session information in cookies where it is vulnerable (instead cookies just contain a key, and the actual data is stored in the database) or directly storing passwords rather than a password hash.\n",
    "\n",
    "A password hash is a fixed-length value created by sending the password through a cryptographic hash function. Django can check if an entered password is correct by running it through the hash function and comparing the output to the stored hash value. However due to the \"one-way\" nature of the function, even if a stored hash value is compromised it is hard for an attacker to work out the original password.\n",
    "\n",
    "Django enables protection against many vulnerabilities by default, including SQL injection, cross-site scripting, cross-site request forgery and clickjacking (see Website security for more details of such attacks)."
   ],
   "cell_type": "markdown",
   "metadata": {}
  },
  {
   "source": [
    "<h3>Scalable</h3>\n",
    "\n",
    "Django uses a component-based \"shared-nothing\" architecture (each part of the architecture is independent of the others, and can hence be replaced or changed if needed). Having a clear separation between the different parts means that it can scale for increased traffic by adding hardware at any level: caching servers, database servers, or application servers. Some of the busiest sites have successfully scaled Django to meet their demands (e.g. Instagram and Disqus, to name just two)."
   ],
   "cell_type": "markdown",
   "metadata": {}
  },
  {
   "source": [
    "<h3>Maintainable</h3>\n",
    "\n",
    "Django code is written using design principles and patterns that encourage the creation of maintainable and reusable code. In particular, it makes use of the Don't Repeat Yourself (DRY) principle so there is no unnecessary duplication, reducing the amount of code. Django also promotes the grouping of related functionality into reusable \"applications\" and, at a lower level, groups related code into modules (along the lines of the Model View Controller (MVC) pattern)."
   ],
   "cell_type": "markdown",
   "metadata": {}
  },
  {
   "source": [
    "<h3>Portable<h3>\n",
    "\n",
    "Django is written in Python, which runs on many platforms. That means that you are not tied to any particular server platform, and can run your applications on many flavors of Linux, Windows, and Mac OS X. Furthermore, Django is well-supported by many web hosting providers, who often provide specific infrastructure and documentation for hosting Django sites."
   ],
   "cell_type": "markdown",
   "metadata": {}
  },
  {
   "source": [
    "<h3>More Pros</h3>\n",
    "\n",
    "Here, are pros/benefits of Django framework:\n",
    "\n",
    "- Django is easy to set up and run<br>\n",
    "- It provides an easy to use interface for various administrative activities.<br>\n",
    "- It offers multilingual websites by using its built-in internationalization system<br>\n",
    "- Django allows end-to-end application testing<br>\n",
    "- Allows you to document your API with an HTML output<br>\n",
    "- REST Framework has rich support for several authentication protocols<br>\n",
    "- It is used for rate-limiting API requests from a single user.<br>\n",
    "- Helps you to define patterns for the URLs in your application<br>\n",
    "- Offers built-in authentication system<br>\n",
    "- Cache framework comes with multiple cache mechanisms.<br>\n",
    "- High-level framework for rapid web development<br>\n",
    "- A complete stack of tools<br>\n",
    "- Data modelled with Python classes<br>"
   ],
   "cell_type": "markdown",
   "metadata": {}
  },
  {
   "source": [
    "<h3>Disadvantage of Flask</h3>\n",
    "\n",
    "- Slower MVP development in most cases,\n",
    "- Higher maintenance costs for more complex systems\n",
    "- Complicated maintenance for larger implementations.\n",
    "- Async may be a little problem\n",
    "- Lack of database and ORM\n",
    "- Setting up a large project requires some previous knowledge of the framework\n",
    "- Offers limited support and smaller community compared to Django"
   ],
   "cell_type": "markdown",
   "metadata": {}
  },
  {
   "source": [
    "<h3> Disadvantages of Django</h3>\n",
    "\n",
    "- It is a monolithic platform.\n",
    "- High dependence on Django ORM. Broad Knowledge required.\n",
    "- Fewer Design decisions and Components.\n",
    "- Compatibility with the latest technologies\n",
    "- A higher entry point for simple solutions\n",
    "- The larger size of the code\n",
    "- Too bloated for small projects\n",
    "- Underpowered templating and ORM\n",
    "- Templates failed silently\n",
    "- Auto reload restarts the entire server\n",
    "- High learning curve\n",
    "- Documentations does not cover real-world scenarios\n",
    "- Only allows you to handle a single request per time.\n",
    "- Routing requires some knowledge of regular expressions\n",
    "- Internal subcomponents coupling\n",
    "- You can deploy components together, which can create confusion.\n"
   ],
   "cell_type": "markdown",
   "metadata": {}
  },
  {
   "source": [
    "<h2>Django Architecture</h2>"
   ],
   "cell_type": "markdown",
   "metadata": {}
  },
  {
   "source": [
    "<h3>URLs</h3> While it is possible to process requests from every single URL via a single function, it is much more maintainable to write a separate view function to handle each resource. A URL mapper is used to redirect HTTP requests to the appropriate view based on the request URL. The URL mapper can also match particular patterns of strings or digits that appear in a URL and pass these to a view function as data."
   ],
   "cell_type": "markdown",
   "metadata": {}
  },
  {
   "source": [
    "<h3>View</h3> \n",
    "A view is a request handler function, which receives HTTP requests and returns HTTP responses. Views access the data needed to satisfy requests via models, and delegate the formatting of the response to templates."
   ],
   "cell_type": "markdown",
   "metadata": {}
  },
  {
   "source": [
    "<h3>Models</h3> \n",
    "Models are Python objects that define the structure of an application's data, and provide mechanisms to manage (add, modify, delete) and query records in the database."
   ],
   "cell_type": "markdown",
   "metadata": {}
  },
  {
   "source": [
    "<h3>Templates</h3> \n",
    "A template is a text file defining the structure or layout of a file (such as an HTML page), with placeholders used to represent actual content. A view can dynamically create an HTML page using an HTML template, populating it with data from a model. A template can be used to define the structure of any type of file; it doesn't have to be HTML!"
   ],
   "cell_type": "markdown",
   "metadata": {}
  },
  {
   "cell_type": "code",
   "execution_count": null,
   "metadata": {},
   "outputs": [],
   "source": []
  },
  {
   "cell_type": "markdown",
   "metadata": {},
   "source": []
  },
  {
   "cell_type": "markdown",
   "metadata": {},
   "source": [
    "<h2>Setting Up A Virtual Environment</h2>\n",
    "1 - Create a directory for example Users\\Projects\\Django01<br>\n",
    "2 - move into Users\\Projects directory<br>\n",
    "3 - Type:<br>\n",
    "    python -m venv Django01<br>\n",
    "4 - IF YOU GET AN ERROR - Error: [WinError 5] Access is denied: 'C:\\\\Users\\\\Projects\\\\Users'<br>\n",
    "    Open the command prompt as the administrator by right clicking on the tile and choose 'more...'<br>\n",
    "    run as administrator<br>\n",
    "    (The prompt will return no response)<br>\n",
    "5 - move into Django01 directory by typing:<br>\n",
    "    cd Django01<br>\n",
    "6 - Explore the directories created, dir to get the files or LS on mac or linux<br>\n",
    "7 - Explore the folders : Include, Lib, Scripts<br>\n",
    "9 - Type:<br>\n",
    "    Scripts\\activate.bat<br>\n",
    "    This will activate the virtual environment<br>\n",
    "    Notice the change in prompt<br>\n",
    "    (Django01) c:\\Users\\Projects\\Django01><br>\n",
    "10 - Type:<br>\n",
    "pip install django<br>\n",
    "This will install django in your virtual environment<br>\n",
    "11 - To deactive the virtual environment type<br>\n",
    "Scripts\\deactivate.bat<br>\n",
    "12 - Type:<br>\n",
    "django-admin startproject first_django<br>\n",
    "13 - This command created the following files and directories:<br>\n",
    "first_django\\ - 1 file created call manage.py<br>\n",
    "first_django\\first_django - several files created:<br>\n",
    "__init__.py<br>\n",
    "asgi.py<br>\n",
    "settings.py<br>\n",
    "urls.py<br>\n",
    "wsgi.py<br>\n",
    "14 - Type:<br>\n",
    "cd first_django<br>\n",
    "python manage.py runserver<br>\n",
    "This will run the local server environment.  You should see the following:<br>\n",
    "Django version 3.2, using settings 'first_django.settings'<br>\n",
    "Starting development server at http://127.0.0.1:8000/<br>\n",
    "Quit the server with CTRL-BREAK.<br>\n",
    "<br>\n",
    "We can test out Django app by creating a new brower tab and typing:<br>\n",
    "http://127.0.0.1:8000/<br>\n",
    "The standard message should read:<br>\n",
    "Home page for Django<br>\n",
    "<br>\n",
    "To quit the server [Ctrl]+[Break]"
   ]
  },
  {
   "cell_type": "markdown",
   "metadata": {},
   "source": [
    "<h2>Creating Our First Django App</h2>\n",
    "1 - in the Django01\\first_django directory type:<br>\n",
    "python manage.py startapp hello<br>\n",
    "it created a hello folder<br>\n",
    "Type the following:\n",
    "cd hello<br>\n",
    "dir<br>\n",
    "<br>\n",
    "admin.py<br>\n",
    "apps.py<br>\n",
    "models.py<br>\n",
    "tests.py<br>\n",
    "views.py<br>\n",
    "__init__.py<br>\n",
    "and a migrations directory<br>"
   ]
  },
  {
   "cell_type": "markdown",
   "metadata": {},
   "source": [
    "<h2>Open VS Code</h2>\n",
    "Add the virtual environment folder to your VS Code.<br>\n",
    "By either calling VS Code from the command prompt<br>\n",
    "Type:<br>\n",
    "    code .<br>\n",
    "    in the directory/folder where your code exists<br>\n",
    "or<br>\n",
    "Choosing File:Add folder<br>\n",
    "from the VS Code menu<br>\n"
   ]
  },
  {
   "cell_type": "markdown",
   "metadata": {},
   "source": [
    "in the Django01\\hello<br>\n",
    "edit the settings.api file<br>\n",
    "<br>\n",
    "At the top:<br>\n",
    "    import os<br>\n",
    "Add the following to the INSTALLED_APPS list<br>\n",
    "    'rest_framework',<br>\n",
    "    'games.apps.GamesConfig',<br>\n",
    "    'django_filters',<br>\n",
    "    'django.contrib.admindocs'<br>\n",
    "    'hello',"
   ]
  },
  {
   "cell_type": "markdown",
   "metadata": {},
   "source": [
    "It should look like the following:\n",
    "\n",
    "    \n",
    "    INSTALLED_APPS = [\n",
    "    'django.contrib.admin',\n",
    "    'django.contrib.auth',\n",
    "    'django.contrib.contenttypes',\n",
    "    'django.contrib.sessions',\n",
    "    'django.contrib.messages',\n",
    "    'django.contrib.staticfiles',\n",
    "    'rest_framework',\n",
    "    'hello.apps.HelloConfig',\n",
    "    'django_filters',  \n",
    "    'django.contrib.admindocs',\n",
    "    'hello',\n",
    "    ]\n",
    "    "
   ]
  },
  {
   "cell_type": "markdown",
   "metadata": {},
   "source": [
    "In the TEMPLATES dictionary of the settings.py file, make the following change:<br>\n",
    "    <br>\n",
    "<code>\n",
    "TEMPLATES = [\n",
    "    {\n",
    "        'BACKEND': 'django.template.backends.django.DjangoTemplates',\n",
    "        'DIRS': [f'{PROJECT_DIR}/templates/'],      # <------ NEW CHANGE\n",
    "        'APP_DIRS': True,    \n",
    "                                                              </code>"
   ]
  },
  {
   "cell_type": "markdown",
   "metadata": {},
   "source": [
    "<h4>NOTE: Create a templates folder at:</h4><br>\n",
    "        first_django\\first_django\\<br>\n",
    "        mkdir templates<br>\n",
    "        "
   ]
  },
  {
   "cell_type": "code",
   "execution_count": null,
   "metadata": {},
   "outputs": [],
   "source": [
    "After the templates dictionary add the following:\n",
    "    \n",
    "    WSGI_APPLICATION = 'hello.wsgi.application'"
   ]
  },
  {
   "cell_type": "markdown",
   "metadata": {},
   "source": [
    "<h2>We created one application that is a part of a project</h2>\n",
    "The project can contain multiple applications. <br> \n",
    "i.e.(Registration, Applications, Security)"
   ]
  },
  {
   "cell_type": "markdown",
   "metadata": {},
   "source": [
    "Your hello\\views.py file below:"
   ]
  },
  {
   "source": [
    "<h3>Handling the request (views.py)</h3>\n",
    "\n",
    "Views are the heart of the web application, receiving HTTP requests from web clients and returning HTTP responses. In between, they marshal the other resources of the framework to access databases, render templates, etc.\n",
    "\n",
    "The example below shows a minimal view function index(), which could have been called by our URL mapper in the previous section. Like all view functions it receives an HttpRequest object as a parameter (request) and returns an HttpResponse object. In this case we don't do anything with the request, and our response returns a hard-coded string. We'll show you a request that does something more interesting in a later section."
   ],
   "cell_type": "markdown",
   "metadata": {}
  },
  {
   "cell_type": "code",
   "execution_count": null,
   "metadata": {},
   "outputs": [],
   "source": [
    "# hello\\views.py\n",
    "from django.shortcuts import render\n",
    "from django.http import HttpResponse\n",
    "\n",
    "# Create your views here.\n",
    "def index(request):\n",
    "    # Get an HttpRequest - the request parameter\n",
    "    # perform operations using information from the request.\n",
    "    # Return HttpResponse\n",
    "    return HttpResponse(\"Hello World!\")\n",
    "\n",
    "def start(request):\n",
    "    return HttpResponse(\"Start page!\")\n",
    "\n",
    "def hello(request):\n",
    "    return HttpResponse(\"Hello World!\")"
   ]
  },
  {
   "source": [
    "<h3>Sending the request to the right view (urls.py)</h3>\n",
    "\n",
    "A URL mapper is typically stored in a file named urls.py. In the example below, the mapper (urlpatterns) defines a list of mappings between routes (specific URL patterns) and corresponding view functions. If an HTTP Request is received that has a URL matching a specified pattern, then the associated view function will be called and passed the request."
   ],
   "cell_type": "markdown",
   "metadata": {}
  },
  {
   "source": [
    "<h3> How Django Processes a Request</h3> \n",
    "\n",
    "When a user requests a page from your Django-powered site, this is the algorithm the system follows to determine which Python code to execute:\n",
    "\n",
    "- Django determines the root URLconf module to use. <br> Ordinarily, this is the value of the ROOT_URLCONF setting, but if the incoming HttpRequest object has a urlconf attribute (set by middleware), its value will be used in place of the ROOT_URLCONF setting.<br>\n",
    "\n",
    "- Django loads that Python module and looks for the variable urlpatterns.This should be a sequence of django.urls.path() and/or django.urls.re_path() instances.<br>\n",
    "\n",
    "- Django runs through each URL pattern, in order, and stops at the first one that matches the requested URL, matching against path_info.<br>\n",
    "\n",
    "- Once one of the URL patterns matches, Django imports and calls the given view, which is a Python function (or a class-based view). <br> \n",
    "\n",
    "    The view gets passed the following arguments:<br>\n",
    "    An instance of HttpRequest.<br>\n",
    "\n",
    "    If the matched URL pattern contained no named groups, then the matches from the regular expression are provided as positional arguments.<br>\n",
    "\n",
    "    The keyword arguments are made up of any named parts matched by the path expression that are provided, overridden by any arguments specified in the optional kwargs argument to django.urls.path() or django.urls.re_path().<br>\n",
    "\n",
    "- If no URL pattern matches, or if an exception is raised during any point in this process, Django invokes an appropriate error-handling view. See Error handling below.<br>"
   ],
   "cell_type": "markdown",
   "metadata": {}
  },
  {
   "cell_type": "code",
   "execution_count": null,
   "metadata": {},
   "outputs": [],
   "source": [
    "# urls.py\n",
    "from django.contrib import admin\n",
    "from django.urls import path, include\n",
    "from django import urls\n",
    "from django.conf.urls import url\n",
    "from django.views.generic import TemplateView\n",
    "from hello import views\n",
    "\n",
    "urlpatterns = [\n",
    "    path('start/', views.start),\n",
    "    path('admin/', admin.site.urls),\n",
    "    path('hello/', views.hello),\n",
    "]\n",
    "# another example\n",
    "urlpatterns = [\n",
    "    path('articles/2003/', views.special_case_2003),\n",
    "    path('articles/<int:year>/', views.year_archive),\n",
    "    path('articles/<int:year>/<int:month>/', views.month_archive),\n",
    "    path('articles/<int:year>/<int:month>/<slug:slug>/', views.article_detail),\n",
    "]"
   ]
  },
  {
   "source": [
    "Notes:\n",
    "\n",
    "- To capture a value from the URL, use angle brackets. <br>\n",
    " - Captured values can optionally include a converter type. For example, use <int:name> to capture an integer parameter. If a converter isn’t included, any string, excluding a / character, is matched.<br>\n",
    "\n",
    "- There’s no need to add a leading slash, because every URL has that. For example, it’s articles, not /articles.<br>\n",
    "\n",
    "Example requests:\n",
    "\n",
    "- A request to '/articles/2005/03/' would match the third entry in the list. Django would call the function views.month_archive(request, year=2005, month=3).<br>\n",
    "\n",
    "- '/articles/2003/' would match the first pattern in the list, not the second one, because the patterns are tested in order, and the first one is the first test to pass. Feel free to exploit the ordering to insert special cases like this. Here, Django would call the function views.special_case_2003(request)<br>\n",
    "\n",
    "- /articles/2003 would not match any of these patterns, because each pattern requires that the URL end with a slash.<br>\n",
    "\n",
    "- /articles/2003/03/building-a-django-site/ would match the final pattern. Django would call the function views.article_detail(request, year=2003, month=3, slug=\"building-a-django-site\")."
   ],
   "cell_type": "markdown",
   "metadata": {}
  },
  {
   "source": [
    "<h3>Defining data models (models.py)</h3>\n",
    "\n",
    "Django web applications manage and query data through Python objects referred to as models. Models define the structure of stored data, including the field types and possibly also their maximum size, default values, selection list options, help text for documentation, label text for forms, etc. The definition of the model is independent of the underlying database — you can choose one of several as part of your project settings. Once you've chosen what database you want to use, you don't need to talk to it directly at all — you just write your model structure and other code, and Django handles all the \"dirty work\" of communicating with the database for you.\n",
    "\n",
    "The code snippet below shows a very simple Django model for a Team object. The Team class is derived from the Django class models.Model. It defines the team name and team level as character fields and specifies a maximum number of characters to be stored for each record. The team_level can be one of several values, so we define it as a choice field and provide a mapping between choices to be displayed and data to be stored, along with a default value."
   ],
   "cell_type": "markdown",
   "metadata": {}
  },
  {
   "cell_type": "code",
   "execution_count": null,
   "metadata": {},
   "outputs": [],
   "source": [
    "# filename: models.py\n",
    "from django.db import models\n",
    "\n",
    "class Team(models.Model):\n",
    "    team_name = models.CharField(max_length=40)\n",
    "\n",
    "    TEAM_LEVELS = (\n",
    "        ('U09', 'Under 09s'),\n",
    "        ('U10', 'Under 10s'),\n",
    "        ('U11', 'Under 11s'),\n",
    "        ...  #list other team levels\n",
    "    )\n",
    "    team_level = models.CharField(max_length=3, choices=TEAM_LEVELS, default='U11')"
   ]
  },
  {
   "cell_type": "markdown",
   "metadata": {},
   "source": [
    "<h2>Exercise</h2>\n",
    "Add 2 more paths to the urls file<br>\n",
    "1 - called 'login' - You should view 'Welcome to Django' using html<br>\n",
    "2 - called 'about' - You should view 'Introduction to Django - lesson 1' using html<br>"
   ]
  },
  {
   "cell_type": "markdown",
   "metadata": {},
   "source": [
    "<h2>Running the server with different parameters</h2>\n",
    "Now that you’re familiar with the default Django project structure, let’s see the default Django project in\n",
    "a browser. All Django projects have a built-in web server to observe an application in a browser as changes\n",
    "are made to project files. Placed in the BASE_DIR of a Django project – where the manage.py file is - run the\n",
    "command:\n",
    "    <code>\n",
    "    python manage.py runserver\n",
    "    </code>\n",
    "    \n",
    "the default web server location:  http://127.0.0.1:8000/<br>\n",
    "<br>\n",
    "Run the development server on the local address and port 4345 (http://127.0.0.1:4345/)<br>\n",
    "<code>\n",
    "python manage.py runserver 4345\n",
    "</code>\n",
    "Run the dev server on the 96.126.104.88 address and port 80 (http://96.126.104.88/)<br>\n",
    "<code>\n",
    "python manage.py runserver 96.126.104.88:80\n",
    "</code>\n",
    "Run the dev server on the 192.168.0.2 address and port 8888 (http://192.168.0.2:8888/)<br>\n",
    "<code>\n",
    "python manage.py runserver 192.168.0.2:8888\n",
    "</code>"
   ]
  },
  {
   "cell_type": "markdown",
   "metadata": {},
   "source": [
    "<h2>Exercise</h2>\n",
    "Run the local server with the following parameters:\n",
    "    1 - 127.0.0.100<br>\n",
    "    2 - 127.0.0.100 port 5000<br>\n",
    "NOTE: Make sure you deactive each server after you're done<br>"
   ]
  },
  {
   "cell_type": "markdown",
   "metadata": {},
   "source": [
    "<h2>SQLite is the default database</h2>\n",
    "By default Django is setup to run SQLite as a data base<br>\n",
    "<br>\n",
    "The databases are set in the settings.py file<br>\n",
    "<br>\n",
    "The most important key is the Engine<br>\n",
    "Database   -   Django ENGINE value<br>\n",
    "MySQL      -   django.db.backends.mysql<br>\n",
    "Oracle     -   django.db.backends.oracle<br>\n",
    "PostgreSQL -   django.db.backends.postgresql_psycopg2<br>\n",
    "SQLite     -   django.db.backends.sqlite3<br>\n",
    "<br>\n",
    "If you're using any database besides sqlite<br>\n",
    "Database    -    Python package pip installation syntax<br>\n",
    "PostgreSQL   -   psycopg2 pip install psycopg2<br>\n",
    "MySQL       -    mysql-python pip install mysql-python<br>\n",
    "Oracle      -    cx_Oracle pip install cx_Oracle<br>\n",
    "SQLite      -    Included with Python 2.5+ N/A<br>"
   ]
  },
  {
   "cell_type": "markdown",
   "metadata": {},
   "source": [
    "<h2>Create the Default Databases</h2>\n",
    "Run first Django migrate operation to create base database tables<br>\n",
    "<code>\n",
    "python manage.py migrate\n",
    "</code>"
   ]
  },
  {
   "cell_type": "markdown",
   "metadata": {},
   "source": [
    "<h2>Exercise</h2>\n",
    "Open the SQLite database and view the contents"
   ]
  },
  {
   "cell_type": "markdown",
   "metadata": {},
   "source": [
    "<h2>Built in Security</h2>\n",
    "To create the superuser:<br>\n",
    "    <code>\n",
    "python manage.py createsuperuser\n",
    "    </code>\n",
    "    \n",
    "add credentials<br>\n",
    "<br>\n",
    "Run the server\n",
    "python manage.py runserver\n",
    "<br>\n",
    "Type in the browser:<br>\n",
    "http://127.0.0.1:8000/admin/<br>\n",
    "<br>\n",
    "admin page will pop up<br>\n",
    "enter credentials<br>\n",
    "<br>\n",
    "Django administration page will show<br>\n",
    "<br>\n",
    "This last process creates a superuser whose information is stored in the database connected to the<br>\n",
    "Django project, specifically in the auth_user table<br>\n",
    "<br>\n",
    "click on the users link the left side<br>\n",
    "<br>\n",
    "http://127.0.0.1:8000/admin/auth/user/"
   ]
  },
  {
   "cell_type": "markdown",
   "metadata": {},
   "source": [
    "<h2>Exercise</h2>\n",
    "1 - Add 2 new users with passwords<br>\n",
    "2 - View the users in the SQLite database (in your first_django project folder)"
   ]
  },
  {
   "cell_type": "markdown",
   "metadata": {},
   "source": [
    "Configure and Install the Django admin site docs App\n",
    "The Django admin site also has its own documentation app. The Django admin site documentation app\n",
    "not only provides information about the operation of the admin site itself, but also includes other general\n",
    "documentation about Django filters for Django templates. More importantly, the Django admin site\n",
    "documentation app introspects the source code for all installed project apps to present documentation on\n",
    "controller methods and model objects (i.e., documentation embedded in the source code of app models.py\n",
    "and views.py files).\n",
    "\n",
    "pip install docutils\n",
    "\n",
    "Ensure you add this before the url(r'^admin/'… line to keep more general matching expressions\n",
    "toward the bottom and more granular expressions on the same url path (e.g., /admin) toward the top. This\n",
    "last regular expression pattern tells Django to enable the admin site documentation app on the /admin/doc/\n",
    "url directory (e.g. http://127.0.0.1:8000/admin/doc/).\n",
    "\n",
    "http://127.0.0.1:8000/admin/doc/"
   ]
  },
  {
   "cell_type": "code",
   "execution_count": null,
   "metadata": {},
   "outputs": [],
   "source": []
  },
  {
   "cell_type": "code",
   "execution_count": null,
   "metadata": {},
   "outputs": [],
   "source": []
  },
  {
   "cell_type": "code",
   "execution_count": null,
   "metadata": {},
   "outputs": [],
   "source": []
  },
  {
   "cell_type": "markdown",
   "metadata": {},
   "source": [
    "<h2>Breaking URLs into separate files</h2>\n",
    "We use regular expressions in our URLS.py file<br>\n",
    "<br>\n",
    "urlpatterns = [\n",
    "    url(r'^$',TemplateView.as_view(template_name='homepage.html')),\n",
    "    url(r'^about/',about_views.index),\n",
    "    url(r'^about/contact/',about_views.contact),\n",
    "    url(r'^stores/',stores_views.index),\n",
    "    url(r'^stores/(?P<store_id>\\d+)/',stores_views.detail,{'location':'headquarters'}),\n",
    "]\n",
    "<br>\n",
    "Becomes<br>\n",
    "<code>\n",
    "urlpatterns = [\n",
    "    url(r'^$',TemplateView.as_view(template_name='homepage.html')),\n",
    "    url(r'^about/',include('coffeehouse.about.urls')),\n",
    "    url(r'^stores/',include('coffeehouse.stores.urls'),{'location':'headquarters'}),\n",
    "]\n",
    "</code>\n",
    "\n",
    "makes use of the include argument to load urls from completely separate files. In this<br>\n",
    "case, include('coffeehouse.about.urls') tells Django to load url definitions from the Python module<br>\n",
    "coffeehouse.about.urls, which parting from a Django base directory corresponds to the file route /<br>\n",
    "coffeehouse/about/urls.py. In this case, I kept using the urls.py file name and placed it under the<br>\n",
    "corresponding Django about app directory since it deals with about/ urls. However, you can use any file<br>\n",
    "name or path you like for url definitions (e.g., coffeehouse.allmyurl.resturls to load urls from a file route<br>\n",
    "/coffeehouse/allmyurls/resturls.py).<br>\n",
    "<br>\n",
    "The second include statement  works just like the first one, where<br>\n",
    "include('coffeehouse.stores.urls') tells Django to load url definitions from the Python module<br>\n",
    "coffeehouse.stores.urls. However, notice this second statement appends an additional dictionary as a url<br>\n",
    "extra option, which means all the urls in the include statement will also receive this extra option.<br>\n",
    "This illustrates the contents of the file /coffeehouse/about/urls.py linked via<br>\n",
    "include('coffeehouse.about.urls').<br>\n",
    "<br>\n",
    "<code>\n",
    "Django /coffeehouse/about/urls.py loaded via include\n",
    "from django.conf.urls import url\n",
    "from . import views\n",
    "\n",
    "urlpatterns = [\n",
    "    url(r'^$',views.index),\n",
    "    url(r'^contact/$',views.contact),\n",
    "]\n",
    "\n",
    "You can see the structure is pretty similar to the main urls.py file;<br>\n",
    "however, there are some minor differences. While the url regular expression r'^$' can look like it matches<br>\n",
    "the home page, it isn’t. Because the file in Listing 2-12 is linked via include in the main urls.py file, Django<br>\n",
    "joins the url regular expression with the parent url regular expression. So the first url actually<br>\n",
    "matches /about/ and the second url in Listing 2-12 actually matches /about/contact/. Also because the\n",
    "urls.py file in Listing 2-12 is placed alongside the app’s views.py file, the import statement uses the relative<br>\n",
    "path from . import views syntax.<br>\n",
    "In addition to using the include option to reference a separate file with url definitions, the include<br>\n",
    "option can also accept url definitions as a Python list. In essence, this allows you to keep all url definitions in<br>\n",
    "the main urls.py file, but give it more modularity.<br>\n",
    "<br>\n",
    "Django urls.py with inline include statements<br>\n",
    "\n",
    "from django.conf.urls import include, url\n",
    "from django.views.generic import TemplateView\n",
    "from coffeehouse.about import views as about_views\n",
    "from coffeehouse.stores import views as stores_views\n",
    "store_patterns = [\n",
    "    url(r'^$',stores_views.index),\n",
    "    url(r'^(?P<store_id>\\d+)/$',stores_views.detail),\n",
    "]\n",
    "about_patterns = [\n",
    "    url(r'^$',about_views.index),\n",
    "    url(r'^contact/$',about_views.contact),\n",
    "]\n",
    "urlpatterns = [\n",
    "    url(r'^$',TemplateView.as_view(template_name='homepage.html')),\n",
    "    url(r'^about/',include(about_patterns)),\n",
    "    url(r'^stores/',include(store_patterns),{'location':'headquarters'}),\n",
    "]\n"
   ]
  },
  {
   "cell_type": "code",
   "execution_count": null,
   "metadata": {},
   "outputs": [],
   "source": []
  },
  {
   "cell_type": "code",
   "execution_count": null,
   "metadata": {},
   "outputs": [],
   "source": []
  },
  {
   "cell_type": "code",
   "execution_count": null,
   "metadata": {},
   "outputs": [],
   "source": []
  },
  {
   "cell_type": "markdown",
   "metadata": {},
   "source": [
    "This notebook is part of a course at www.codeimmersives.com called **Python Flask and Django**. If you accessed this notebook outside the course, \n",
    "you can get more information about this course online by clicking [here](https://www.codeimmersives.com/programs/python-aws/)."
   ]
  },
  {
   "cell_type": "markdown",
   "metadata": {},
   "source": [
    "<hr>\n",
    "\n",
    "Copyright &copy; 2021  Code Immersives"
   ]
  }
 ],
 "metadata": {
  "kernelspec": {
   "name": "python3",
   "display_name": "Python 3.10.2 64-bit",
   "metadata": {
    "interpreter": {
     "hash": "98590ff4fe04c8543246b2a01debd3de3c5ca9b666f43f1fa87d5110c692004c"
    }
   }
  },
  "language_info": {
   "codemirror_mode": {
    "name": "ipython",
    "version": 3
   },
   "file_extension": ".py",
   "mimetype": "text/x-python",
   "name": "python",
   "nbconvert_exporter": "python",
   "pygments_lexer": "ipython3",
   "version": "3.10.2-final"
  }
 },
 "nbformat": 4,
 "nbformat_minor": 4
}