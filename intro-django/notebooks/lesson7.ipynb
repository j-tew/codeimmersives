{
 "cells": [
  {
   "cell_type": "markdown",
   "metadata": {},
   "source": [
    "<a href=\"https://codeimmersives.com\"><img src = \"https://www.codeimmersives.com/wp-content/uploads/2019/09/CodeImmersives_Logo_RGB_NYC_BW.png\" width = 400> </a>\n",
    "\n",
    "\n",
    "<h1 align=center><font size = 5>Agenda</font></h1>"
   ]
  },
  {
   "cell_type": "markdown",
   "metadata": {},
   "source": [
    "### Agenda\n",
    "<div class=\"alert alert-block alert-info\" style=\"margin-top: 20px\">\n",
    "\n",
    "1.  [Review data types](#0)<br>\n",
    "2.  [SQLAlchemy](#2)<br> \n",
    "</div>\n",
    "<hr>"
   ]
  },
  {
   "cell_type": "markdown",
   "metadata": {},
   "source": [
    "<h2>Review</h2>"
   ]
  },
  {
   "cell_type": "markdown",
   "metadata": {},
   "source": [
    "<h2>SQLAlchemy Generic Data Types</h2>\n",
    "<code>\n",
    "    BigInteger\n",
    "    Boolean\n",
    "    Date\n",
    "    DateTime\n",
    "    Float\n",
    "    Integer\n",
    "    Numeric\n",
    "    SmallInteger\n",
    "    String\n",
    "    Text\n",
    "    Time<br><br>\n",
    "</code>\n",
    "You must import the data types!<br>\n",
    "<code>\n",
    "    from sqlalchemy import Column, ForeignKey, Integer, String, Float\n",
    "</code>"
   ]
  },
  {
   "cell_type": "markdown",
   "metadata": {},
   "source": [
    "<h2>SQLAlchemy - Table creation</h2>\n",
    "Databases are created using the create_engine method.<br>\n",
    "A table is created by subclassing from declarative_base<br>\n",
    "if you use this method of table creation and the code below <br>\n",
    "is run multiple times it does not erase the table<br>"
   ]
  },
  {
   "cell_type": "code",
   "execution_count": 42,
   "metadata": {},
   "outputs": [
    {
     "output_type": "stream",
     "name": "stdout",
     "text": [
      "FacadeDict({'users': Table('users', MetaData(), Column('id', INTEGER(), table=<users>, primary_key=True, nullable=False), Column('first_name', VARCHAR(length=250), table=<users>, nullable=False), Column('last_name', VARCHAR(length=250), table=<users>, nullable=False), schema=None)})\n"
     ]
    }
   ],
   "source": [
    "import os\n",
    "import sys\n",
    "from sqlalchemy import Column, ForeignKey, Integer, String\n",
    "from sqlalchemy.ext.declarative import declarative_base\n",
    "from sqlalchemy.orm import sessionmaker\n",
    "from sqlalchemy import create_engine\n",
    "from sqlalchemy import inspect\n",
    "# ---------------------------------------------\n",
    "Base = declarative_base()   # All clases inherit from here\n",
    " \n",
    "class User(Base):\n",
    "    __tablename__ = 'users'     # REQUIRED !!!!!!!!\n",
    "    # Here we define columns for the table users\n",
    "    # Notice that each column is also a normal Python instance attribute.\n",
    "    id = Column(Integer, primary_key=True)      # Every table must have a primary key\n",
    "    first_name = Column(String(250), nullable=False)\n",
    "    last_name = Column(String(250), nullable=False)\n",
    "    \n",
    "# Create an engine that stores data in the local directory's\n",
    "db_uri = 'sqlite:///foo.db'\n",
    "engine = create_engine(db_uri)\n",
    "inspector = inspect(engine)\n",
    "\n",
    "# Create all tables in the engine. This is equivalent to \"Create Table\"\n",
    "# statements in raw SQL.\n",
    "Base.metadata.create_all(engine)      # It automatically does a IF NOT EXISTS\n",
    "Base.metadata.bind = engine\n",
    "\n",
    " # Create a MetaData instance\n",
    "metadata = MetaData()\n",
    "# print(metadata.tables)\n",
    "metadata.reflect(bind=engine)\n",
    "# print(metadata.tables)\n",
    "# DBSession = sessionmaker(bind=engine)\n",
    "# session = DBSession()\n",
    " \n",
    "# Insert a new user in the table with a new id every time this code is run\n",
    "new_person = User(first_name='Jane', last_name = 'Reiss')   # The id field is auto incremented\n",
    "session.add(new_person)\n",
    "session.commit()           # Save the record\n",
    "print(metadata.tables)\n",
    "\n",
    "# tables = inspect.get_table_names()   # Which tables exist in the database\n",
    "# for table in tables:\n",
    "#     print(table)"
   ]
  },
  {
   "cell_type": "markdown",
   "metadata": {},
   "source": [
    "<h2>SQLAlchemy - Dropping a table</h2>\n",
    "To drop a table:<br>\n",
    "    <code>\n",
    "    TableName.__table__.drop()\n",
    "    </code>"
   ]
  },
  {
   "cell_type": "code",
   "execution_count": 34,
   "metadata": {},
   "outputs": [
    {
     "output_type": "stream",
     "name": "stdout",
     "text": [
      "users\n",
      "/var/folders/hf/t080y4n54nx1l2k7l90t7bmh0000gn/T/ipykernel_41097/574319253.py:26: SADeprecationWarning: The Engine.table_names() method is deprecated and will be removed in a future release.  Please refer to Inspector.get_table_names(). (deprecated since: 1.4)\n",
      "  tables = engine.table_names()   # Which tables exist in the database\n"
     ]
    }
   ],
   "source": [
    "import os\n",
    "import sys\n",
    "from sqlalchemy import Column, ForeignKey, Integer, String\n",
    "from sqlalchemy.ext.declarative import declarative_base\n",
    "from sqlalchemy.orm import relationship\n",
    "from sqlalchemy import create_engine\n",
    "# ---------------------------------------------\n",
    "Base = declarative_base()   # All clases inherit from here\n",
    " \n",
    "class User(Base):\n",
    "    __tablename__ = 'users'     # REQUIRED !!!!!!!!\n",
    "    # Here we define columns for the table users\n",
    "    # Notice that each column is also a normal Python instance attribute.\n",
    "    id = Column(Integer, primary_key=True)      # Every table must have a primary key\n",
    "    first_name = Column(String(250), nullable=False)\n",
    "    last_name = Column(String(250), nullable=False)\n",
    "    \n",
    "# Create an engine that stores data in the local directory's\n",
    "engine = create_engine('sqlite:///sqlalchemy_simple.db')\n",
    "\n",
    "Base.metadata.bind = engine\n",
    " \n",
    "DBSession = sessionmaker(bind=engine)\n",
    "session = DBSession()\n",
    "\n",
    "tables = engine.table_names()   # Which tables exist in the database\n",
    "i = 0\n",
    "for table in tables:\n",
    "    print(table)\n",
    "    User.__table__.drop()\n",
    "    i += 1\n",
    "if not i:\n",
    "    print('NO TABLES EXISTED')\n",
    "\n",
    "\n",
    "# RUN THE TABLE CREATION CODE AGAIN AFTER DELETING !!!!!"
   ]
  },
  {
   "cell_type": "markdown",
   "metadata": {},
   "source": [
    "<h2>Adding multiple records</h2>\n",
    "Use:\n",
    "    <code>\n",
    "    session.add_all([...])\n",
    "    </code>"
   ]
  },
  {
   "cell_type": "code",
   "execution_count": null,
   "metadata": {},
   "outputs": [],
   "source": [
    "import os\n",
    "import sys\n",
    "from sqlalchemy import Column, ForeignKey, Integer, String\n",
    "from sqlalchemy.ext.declarative import declarative_base\n",
    "from sqlalchemy.orm import relationship\n",
    "from sqlalchemy import create_engine\n",
    "# ---------------------------------------------\n",
    "Base = declarative_base()   # All clases inherit from here\n",
    " \n",
    "class User(Base):\n",
    "    __tablename__ = 'users'     # REQUIRED !!!!!!!!\n",
    "    # Here we define columns for the table users\n",
    "    # Notice that each column is also a normal Python instance attribute.\n",
    "    id = Column(Integer, primary_key=True)      # Every table must have a primary key\n",
    "    first_name = Column(String(250), nullable=False)\n",
    "    last_name = Column(String(250), nullable=False)\n",
    "    \n",
    "# Create an engine that stores data in the local directory's\n",
    "engine = create_engine('sqlite:///sqlalchemy_simple.db')\n",
    "\n",
    "Base.metadata.bind = engine\n",
    " \n",
    "DBSession = sessionmaker(bind=engine)\n",
    "session = DBSession()\n",
    "# ----------------------------------------- Add records below\n",
    "session.add_all([\n",
    "    User(first_name = 'Peter', last_name = 'Evans'), \n",
    "    User(first_name = 'Pau', last_name = 'Knotte'),\n",
    "    User(first_name = 'Kate', last_name = 'Dredd'),\n",
    "    User(first_name = 'Peter', last_name = 'Evans'),\n",
    "    User(first_name = 'Forrest', last_name = 'Trudesdale')\n",
    "]\n",
    ")\n",
    "\n",
    "session.commit()\n",
    "result = session.query(User).all()   # <----SELECT Statement\n",
    "\n",
    "for row in result:\n",
    "    print (\"First: \",row.first_name, \"-   Last:\",row.last_name)\n",
    "print('='*40)"
   ]
  },
  {
   "cell_type": "markdown",
   "metadata": {},
   "source": [
    "<h2>Exercise</h2>\n",
    "Database CI_E_Commerce\n",
    "Create the following 2 tables:\n",
    "<br>\n",
    "Customer Table <br>\n",
    "id auto incrementing, Primary key<br>\n",
    "code varchar(10), <br>\n",
    "first_name varchar(30), <br>\n",
    "last_name varchar(40), <br>\n",
    "region varchar(10), <br>\n",
    "balance_owed float <br>\n",
    "NOTE: The data types are generalized use the proper translation for the ORM\n",
    "     <br> <br>\n",
    "Purchases Table <br>\n",
    "id auto incrementing Primary key <br>\n",
    "cust_code varchar(10) <br>\n",
    "item_id varchar(20), <br>\n",
    "description varchar(200) <br>\n",
    "quantity integer <br>\n",
    "price float <br>\n",
    " <br>\n",
    "  <br>\n",
    "Data with SQL equivalent:<br>\n",
    "INSERT INTO CUSTOMER (code, first_name, last_name, region, balance_owed)  VALUES<br>\n",
    "('JB-001','Jason','Bourne','South',3500)<br>\n",
    "<br>\n",
    "INSERT INTO CUSTOMER (code, first_name, last_name, region, balance_owed)  VALUES<br>\n",
    "('KB-900','Karen','Beal','North',10000)<br>\n",
    "<br>\n",
    "INSERT INTO CUSTOMER (code, first_name, last_name, region, balance_owed)  VALUES<br>\n",
    "('LS-810','Lea','Simpson','South',4400)<br>\n",
    "<br>\n",
    "INSERT INTO CUSTOMER (code, first_name, last_name, region, balance_owed)  VALUES<br>\n",
    "('RR-002','Robert','Reel','East',23000)<br>\n",
    "<br>\n",
    "INSERT INTO CUSTOMER (code, first_name, last_name, region, balance_owed)  VALUES<br>\n",
    "('PK-700','Peter','Krause','South',9800)<br>\n",
    "<br>\n",
    "\n",
    "INSERT INTO PURCHASES (cust_code,item_id, description, quantity, price)  VALUES<br>\n",
    "('JB-001','TV-001','65 inch 4K TV',1,799)<br> \n",
    "INSERT INTO PURCHASES (cust_code,item_id, description, quantity, price)  VALUES<br>\n",
    "('JB-001','SB-999','30 inch sound bar',1,99)<br>\n",
    "INSERT INTO PURCHASES (cust_code,item_id, description, quantity, price)  VALUES<br>\n",
    "('JB-001','SW-001','6 foot speaker wire',2,4.99)<br>\n",
    "INSERT INTO PURCHASES (cust_code,item_id, description, quantity, price)  VALUES<br>\n",
    "('PK-700','CI-001','9 inch Cast Iron fry pan ',3,12,99)<br> \n",
    "INSERT INTO PURCHASES (cust_code,item_id, description, quantity, price)  VALUES<br>\n",
    "('PK-700','PH-888','6 pack of pot holders',3,1.49)<br>\n",
    "INSERT INTO PURCHASES (cust_code,item_id, description, quantity, price)  VALUES<br>\n",
    "('PK-700','TG-555','12 inch food tongs',6,6.99)<br>"
   ]
  },
  {
   "cell_type": "code",
   "execution_count": null,
   "metadata": {},
   "outputs": [],
   "source": []
  },
  {
   "cell_type": "markdown",
   "metadata": {},
   "source": [
    "A class using Declarative at a minimum needs a '\\___tablename\\___' attribute, and at least one Column which is part of a primary key 1. SQLAlchemy never makes any assumptions by itself about the table to which a class refers, including that it has no built-in conventions for names, datatypes, or constraints. \n",
    "\n",
    "When our class is constructed, Declarative replaces all the Column objects with special Python accessors known as descriptors; this is a process known as instrumentation. The “instrumented” mapped class will provide us with the means to refer to our table in a SQL context as well as to persist and load the values of columns from the database.\n",
    "\n",
    "Outside of what the mapping process does to our class, the class remains otherwise mostly a normal Python class, to which we can define any number of ordinary attributes and methods needed by our application."
   ]
  },
  {
   "cell_type": "markdown",
   "metadata": {},
   "source": [
    "Create the following 2 tables by copying the code in the next 2 code<br>\n",
    "blocks and save them using the file name on the first line of each code block.<br>\n",
    "Run each subsequent code block in VS Code to demonstrate all of the features <br>\n",
    "of SQLAlchemy."
   ]
  },
  {
   "cell_type": "code",
   "execution_count": null,
   "metadata": {},
   "outputs": [],
   "source": []
  },
  {
   "cell_type": "code",
   "execution_count": null,
   "metadata": {},
   "outputs": [],
   "source": [
    "# sqlalchemy_insert.py\n",
    "from sqlalchemy import create_engine\n",
    "from sqlalchemy.orm import sessionmaker\n",
    " \n",
    "from sqlalchemy_declarative import Address, Base, Person  # The classes imported\n",
    " \n",
    "engine = create_engine('sqlite:///sqlalchemy_CI.db')\n",
    "# \n",
    "Base.metadata.bind = engine\n",
    " \n",
    "DBSession = sessionmaker(bind=engine)\n",
    "session = DBSession()\n",
    " \n",
    "# Insert a Person in the person table\n",
    "new_person = Person(first_name='Jane', last_name = 'Reiss')\n",
    "session.add(new_person)\n",
    "session.commit()\n",
    "\n",
    "session.add_all([\n",
    "    Person(first_name = 'Peter', last_name = 'Evans'), \n",
    "    Person(first_name = 'Pau', last_name = 'Knotte'),\n",
    "    Person(first_name = 'Kate', last_name = 'Dredd'),\n",
    "    Person(first_name = 'Peter', last_name = 'Evans'),\n",
    "    Person(first_name = 'Forrest', last_name = 'Trudesdale')\n",
    "]\n",
    ")\n",
    "\n",
    "session.commit()"
   ]
  },
  {
   "cell_type": "markdown",
   "metadata": {},
   "source": [
    "<h2>The SQLAlchemy equivalent of a SELECT statement</h2>\n",
    "See below"
   ]
  },
  {
   "cell_type": "code",
   "execution_count": null,
   "metadata": {},
   "outputs": [],
   "source": [
    "from sqlalchemy import create_engine\n",
    "from sqlalchemy.orm import sessionmaker\n",
    "import os\n",
    "os.chdir('C:\\\\Projects\\\\Code immersives\\\\')\n",
    "from sqlalchemy_declarative import Address, Base, Person  # The classes\n",
    " \n",
    "engine = create_engine('sqlite:///sqlalchemy_CI.db')\n",
    "# \n",
    "Base.metadata.bind = engine\n",
    " \n",
    "DBSession = sessionmaker(bind=engine)\n",
    "session = DBSession()\n",
    "\n",
    "result = session.query(Person).all()   # <----SELECT Statement\n",
    "\n",
    "for row in result:\n",
    "    print (\"First: \",row.first_name, \"-   Last:\",row.last_name)\n",
    "print('='*40)\n",
    "\n",
    "result = session.query(Person).order_by(Person.first_name).all()   # <----SELECT Statement with order_by\n",
    "for row in result:\n",
    "    row.id\n",
    "    print (\"id\",row.id,\" - First: \",row.first_name, \"-   Last:\",row.last_name)\n",
    "\n",
    "print('='*40)\n",
    "result = session.query(Person).count() # <----SELECT Statement with COUNT\n",
    "print (\"Person records = \",result)"
   ]
  },
  {
   "cell_type": "markdown",
   "metadata": {},
   "source": [
    "<h2>SqlAlchemy - using an id to retreive a record</h2>\n",
    "<code>\n",
    "session.query(Person).get(2)\n",
    "</code>"
   ]
  },
  {
   "cell_type": "code",
   "execution_count": null,
   "metadata": {},
   "outputs": [],
   "source": [
    "from sqlalchemy import create_engine\n",
    "from sqlalchemy.orm import sessionmaker\n",
    "import os\n",
    "os.chdir('C:\\\\Projects\\\\Code immersives\\\\')\n",
    "from sqlalchemy_declarative import Address, Base, Person  # The classes\n",
    " \n",
    "engine = create_engine('sqlite:///sqlalchemy_CI.db')\n",
    "# \n",
    "Base.metadata.bind = engine\n",
    " \n",
    "DBSession = sessionmaker(bind=engine)\n",
    "session = DBSession()\n",
    "x = session.query(Person).get(12)    # <--- Used the primary key\n",
    "print(x.id,x.first_name,x.last_name)"
   ]
  },
  {
   "cell_type": "markdown",
   "metadata": {},
   "source": [
    "<h2>SQLAlchemy - update</h2>\n",
    "Kate was married and changed her last name to a hyphenated last name<br>\n",
    "We can make the change easily by changing the database object's property"
   ]
  },
  {
   "cell_type": "code",
   "execution_count": null,
   "metadata": {},
   "outputs": [],
   "source": [
    "from sqlalchemy import create_engine\n",
    "from sqlalchemy.orm import sessionmaker\n",
    "import os\n",
    "os.chdir('C:\\\\Projects\\\\Code immersives\\\\')\n",
    "from sqlalchemy_declarative import Address, Base, Person  # The classes\n",
    " \n",
    "engine = create_engine('sqlite:///sqlalchemy_CI.db')\n",
    "# \n",
    "Base.metadata.bind = engine\n",
    " \n",
    "DBSession = sessionmaker(bind=engine)\n",
    "session = DBSession()\n",
    "x = session.query(Person).get(12)    # <--- Used the primary key\n",
    "print(x.id,x.first_name,x.last_name)\n",
    "x.last_name = 'Dredd-Scottish'       # <---- Name changed here\n",
    "session.commit()                     # <---- Change committed\n",
    "x = session.query(Person).get(12)    # <--- Used the primary key\n",
    "print('='*35)\n",
    "print(x.id,x.first_name,x.last_name)"
   ]
  },
  {
   "cell_type": "markdown",
   "metadata": {},
   "source": [
    "<h2>SQLAlchemy - Get the first record</h2>"
   ]
  },
  {
   "cell_type": "code",
   "execution_count": null,
   "metadata": {},
   "outputs": [],
   "source": [
    "from sqlalchemy import create_engine\n",
    "from sqlalchemy.orm import sessionmaker\n",
    "import os\n",
    "os.chdir('C:\\\\Projects\\\\Code immersives\\\\')\n",
    "from sqlalchemy_declarative import Address, Base, Person  # The classes\n",
    " \n",
    "engine = create_engine('sqlite:///sqlalchemy_CI.db')\n",
    "# \n",
    "Base.metadata.bind = engine\n",
    " \n",
    "DBSession = sessionmaker(bind=engine)\n",
    "session = DBSession()\n",
    "# -------------------------------------\n",
    "x = session.query(Person).first()\n",
    "print(x.id,x.first_name,x.last_name)"
   ]
  },
  {
   "cell_type": "markdown",
   "metadata": {},
   "source": [
    "<h2>SQLAlchemy - Rolling back a change</h2>"
   ]
  },
  {
   "cell_type": "code",
   "execution_count": null,
   "metadata": {},
   "outputs": [],
   "source": [
    "from sqlalchemy import create_engine\n",
    "from sqlalchemy.orm import sessionmaker\n",
    "import os\n",
    "os.chdir('C:\\\\Projects\\\\Code immersives\\\\')\n",
    "from sqlalchemy_declarative import Address, Base, Person  # The classes\n",
    " \n",
    "engine = create_engine('sqlite:///sqlalchemy_CI.db')\n",
    "# \n",
    "Base.metadata.bind = engine\n",
    " \n",
    "DBSession = sessionmaker(bind=engine)\n",
    "session = DBSession()\n",
    "x = session.query(Person).get(12)    # <--- Used the primary key\n",
    "print(x.id,x.first_name,x.last_name)\n",
    "x.last_name = 'Dredd-Scottish-Redding'\n",
    "\n",
    "session.rollback()                   # <---- Reverse the change\n",
    "\n",
    "x = session.query(Person).get(12)    # <--- Used the primary key\n",
    "print(x.id,x.first_name,x.last_name)"
   ]
  },
  {
   "cell_type": "markdown",
   "metadata": {},
   "source": [
    "<h2> SQLAlchemy Query with not equals</h2>\n",
    "<code>\n",
    "    result = session.query(Person).filter(Person.first_name !='Jane')\n",
    "</code>"
   ]
  },
  {
   "cell_type": "code",
   "execution_count": null,
   "metadata": {},
   "outputs": [],
   "source": [
    "from sqlalchemy import create_engine\n",
    "from sqlalchemy.orm import sessionmaker\n",
    "import os\n",
    "os.chdir('C:\\\\Projects\\\\Code immersives\\\\')\n",
    "from sqlalchemy_declarative import Address, Base, Person  # The classes\n",
    " \n",
    "engine = create_engine('sqlite:///sqlalchemy_CI.db')\n",
    "# \n",
    "Base.metadata.bind = engine\n",
    " \n",
    "DBSession = sessionmaker(bind=engine)\n",
    "session = DBSession()\n",
    "# -------------------------------------------\n",
    "result = session.query(Person).filter(Person.first_name !='Jane')\n",
    "for row in result:\n",
    "    row.id\n",
    "    print (\"id\",row.id,\" - First: \",row.first_name, \"-   Last:\",row.last_name)"
   ]
  },
  {
   "cell_type": "markdown",
   "metadata": {},
   "source": [
    "<h2>SQLAlchemy - Like, In, And, Or</h2>"
   ]
  },
  {
   "cell_type": "code",
   "execution_count": null,
   "metadata": {},
   "outputs": [],
   "source": [
    "from sqlalchemy import create_engine, and_ , or_   # NEW Import\n",
    "from sqlalchemy.orm import sessionmaker\n",
    "  \n",
    "import os\n",
    "os.chdir('C:\\\\Projects\\\\Code_immersives\\\\')\n",
    "from sqlalchemy_declarative import Address, Base, Person  # The classes\n",
    " \n",
    "engine = create_engine('sqlite:///sqlalchemy_CI.db')\n",
    "# \n",
    "Base.metadata.bind = engine\n",
    " \n",
    "DBSession = sessionmaker(bind=engine)\n",
    "session = DBSession()\n",
    "# ------------------------------------------- like\n",
    "result = session.query(Person).filter(Person.first_name.like('J%'))\n",
    "for row in result:\n",
    "    print (\"id\",row.id,\" - First: \",row.first_name, \"-   Last:\",row.last_name)\n",
    "# ------------------------------------------ in_\n",
    "print('='*35)\n",
    "result = session.query(Person).filter(Person.id.in_([2,4,6,8]))\n",
    "for row in result:\n",
    "    print (\"id\",row.id,\" - First: \",row.first_name, \"-   Last:\",row.last_name)\n",
    "    \n",
    "# ------------------------------------------ and_\n",
    "print('='*35)\n",
    "result = session.query(Person).filter(and_(Person.id.in_([2,4,6,8]),Person.last_name=='Reiss'))\n",
    "for row in result:\n",
    "    print (\"id\",row.id,\" - First: \",row.first_name, \"-   Last:\",row.last_name)\n",
    "# ------------------------------------------ NOT IN using ~\n",
    "print('='*35,\"NOT IN\")    \n",
    "result = session.query(Person).filter(~Person.last_name.in_(['Reiss', 'Evans','Dredd'])) \n",
    "for row in result:\n",
    "    print (\"id\",row.id,\" - First: \",row.first_name, \"-   Last:\",row.last_name)\n",
    "# ------------------------------------------ or_\n",
    "print('='*35)\n",
    "result = session.query(Person).filter(or_(Person.id.in_([2,4,6,8]),Person.first_name=='Pau'))\n",
    "for row in result:\n",
    "    print (\"id\",row.id,\" - First: \",row.first_name, \"-   Last:\",row.last_name)    "
   ]
  },
  {
   "cell_type": "markdown",
   "metadata": {},
   "source": [
    "<h2>SQLAlchemy - text constructs</h2><br>\n",
    "Literal strings can be used flexibly with a Query object<br>\n",
    "by specifying their use with the text() construct.  <br>\n",
    "It can be used with the filter() and order_by()"
   ]
  },
  {
   "cell_type": "code",
   "execution_count": null,
   "metadata": {},
   "outputs": [],
   "source": [
    "from sqlalchemy import create_engine, and_ , or_ ,text  # NEW Import for text\n",
    "from sqlalchemy.orm import sessionmaker\n",
    "  \n",
    "import os\n",
    "os.chdir('C:\\\\Projects\\\\Code immersives\\\\')\n",
    "from sqlalchemy_declarative import Address, Base, Person  # The classes\n",
    " \n",
    "engine = create_engine('sqlite:///sqlalchemy_CI.db')\n",
    "# \n",
    "Base.metadata.bind = engine\n",
    " \n",
    "DBSession = sessionmaker(bind=engine)\n",
    "session = DBSession()\n",
    "# ------------------------------------------- \n",
    "result = session.query(Person).filter(text(\"id>8\")) \n",
    "for row in result:\n",
    "    print (\"id\",row.id,\" - First: \",row.first_name, \"-   Last:\",row.last_name)   "
   ]
  },
  {
   "cell_type": "markdown",
   "metadata": {},
   "source": [
    "<h2>SQLAlchemy - Parameterized filter</h2>\n",
    "To specify bind parameters with string-based SQL, use a colon to specify<br>\n",
    "the values"
   ]
  },
  {
   "cell_type": "code",
   "execution_count": null,
   "metadata": {},
   "outputs": [],
   "source": [
    "from sqlalchemy import create_engine, and_ , or_ ,text  # NEW Import for text\n",
    "from sqlalchemy.orm import sessionmaker\n",
    "  \n",
    "import os\n",
    "os.chdir('C:\\\\Projects\\\\Code immersives\\\\')\n",
    "from sqlalchemy_declarative import Address, Base, Person  # The classes\n",
    " \n",
    "engine = create_engine('sqlite:///sqlalchemy_CI.db')\n",
    "# \n",
    "Base.metadata.bind = engine\n",
    " \n",
    "DBSession = sessionmaker(bind=engine)\n",
    "session = DBSession()\n",
    "# ------------------------------------------- 1 parameter used\n",
    "pers = session.query(Person).filter(text(\"id = :value\")).params(value = 4)\n",
    "for row in pers:\n",
    "    print (\"id\",row.id,\" - First: \",row.first_name, \"-   Last:\",row.last_name)  \n",
    "print('='*35)\n",
    "# ------------------------------------------- Multiple parameters used\n",
    "pers = session.query(Person).filter(text(\"id >= :value and last_name = :value2\")).params(value = 4,value2 = 'Reiss')\n",
    "for row in pers:\n",
    "    print (\"id\",row.id,\" - First: \",row.first_name, \"-   Last:\",row.last_name)  "
   ]
  },
  {
   "cell_type": "markdown",
   "metadata": {},
   "source": [
    "<h2>SQLAlchemy - passing in SQL text statements</h2>\n",
    "You can also pass in SQL text statements using from_statement()"
   ]
  },
  {
   "cell_type": "code",
   "execution_count": null,
   "metadata": {},
   "outputs": [],
   "source": [
    "from sqlalchemy import create_engine, and_ , or_ ,text  # NEW Import for text\n",
    "from sqlalchemy.orm import sessionmaker\n",
    "  \n",
    "import os\n",
    "os.chdir('C:\\\\Projects\\\\Code immersives\\\\')\n",
    "from sqlalchemy_declarative import Address, Base, Person  # The classes\n",
    " \n",
    "engine = create_engine('sqlite:///sqlalchemy_CI.db')\n",
    "# \n",
    "Base.metadata.bind = engine\n",
    " \n",
    "DBSession = sessionmaker(bind=engine)\n",
    "session = DBSession()\n",
    "# ------------------------------------------- from_statement\n",
    "pers = session.query(Person).from_statement(text(\"SELECT * FROM person\")).all()\n",
    "for row in pers:\n",
    "    print (\"id\",row.id,\" - First: \",row.first_name, \"-   Last:\",row.last_name)  \n",
    "print('='*35)\n",
    "# ------------------------------------------- from_statement and a where clause\n",
    "pers = session.query(Person).from_statement(text(\"SELECT * FROM person WHERE last_name like 'K%'\")).all()\n",
    "for row in pers:\n",
    "    print (\"id\",row.id,\" - First: \",row.first_name, \"-   Last:\",row.last_name)  \n",
    "print('='*35)"
   ]
  },
  {
   "cell_type": "markdown",
   "metadata": {},
   "source": [
    "<h2>Exercise</h2>\n",
    "Putting it all together.<br>\n",
    "Create a route to capture: '/login or /signup' <br>\n",
    "Username<br>\n",
    "email<br>\n",
    "password - Encrypted - you choose<br> \n",
    "Keep track of login attempts per username<br>\n",
    "Did the user forget their password?<br>\n",
    "Limit to 5 logins.  Otherwise lock account<br>\n",
    "At the server keep track of the total number of unique logins<br>\n",
    "Use SQLAlchemy to store the database objects<br>\n",
    "USe SQLite to store the data.\n",
    "\n"
   ]
  },
  {
   "cell_type": "markdown",
   "metadata": {},
   "source": [
    "<h4>Step 1 - Create 2 routes</h4>"
   ]
  },
  {
   "cell_type": "code",
   "execution_count": null,
   "metadata": {},
   "outputs": [],
   "source": [
    "from flask import Flask, render_template\n",
    "import os\n",
    "os.chdir('C:\\\\Projects\\\\Code immersives\\\\')\n",
    "\n",
    "app = Flask(__name__) \n",
    "\n",
    "@app.route('/login')\n",
    "def login():\n",
    "    return \"<h1>*** Welcome to Code Immersives LOG IN PAGE***</h1>\"\n",
    "\n",
    "@app.route('/signup')\n",
    "def signup():\n",
    "    return \"<h1>*** Welcome to Code Immersives SIGN UP PAGE***</h1>\"\n",
    "\n",
    "if __name__ == '__main__':\n",
    "    app.run(host='localhost',debug=True, port=8000)"
   ]
  },
  {
   "cell_type": "markdown",
   "metadata": {},
   "source": [
    "<h4>Step 2 - Create template</h4>\n",
    "Template should gather the username and password"
   ]
  },
  {
   "cell_type": "code",
   "execution_count": null,
   "metadata": {},
   "outputs": [],
   "source": []
  },
  {
   "cell_type": "markdown",
   "metadata": {},
   "source": [
    "<h4>Step 3 - Create Database using SQLAlchemy</h4>"
   ]
  },
  {
   "cell_type": "code",
   "execution_count": null,
   "metadata": {},
   "outputs": [],
   "source": []
  },
  {
   "cell_type": "markdown",
   "metadata": {},
   "source": [
    "<h4>Step 4 - Add code to handle POST and GET</h4>"
   ]
  },
  {
   "cell_type": "code",
   "execution_count": null,
   "metadata": {},
   "outputs": [],
   "source": []
  },
  {
   "cell_type": "markdown",
   "metadata": {},
   "source": [
    "<h4>Step 5 - Store the user data to the database</h4>"
   ]
  },
  {
   "cell_type": "code",
   "execution_count": null,
   "metadata": {},
   "outputs": [],
   "source": []
  },
  {
   "cell_type": "markdown",
   "metadata": {},
   "source": [
    "<h4>Step 6 - Retreive and validate user</h4>\n",
    "Send appropriate message back based on login or signup"
   ]
  },
  {
   "cell_type": "code",
   "execution_count": null,
   "metadata": {},
   "outputs": [],
   "source": []
  },
  {
   "cell_type": "markdown",
   "metadata": {},
   "source": [
    "This notebook is part of a course at www.codeimmersives.com called Rest Apis with Python. If you accessed this notebook outside the course, \n",
    "you can get more information about this course online by clicking [here](https://www.codeimmersives.com/programs/python-aws/)."
   ]
  }
 ],
 "metadata": {
  "kernelspec": {
   "name": "python3",
   "display_name": "Python 3.10.2 64-bit",
   "metadata": {
    "interpreter": {
     "hash": "98590ff4fe04c8543246b2a01debd3de3c5ca9b666f43f1fa87d5110c692004c"
    }
   }
  },
  "language_info": {
   "codemirror_mode": {
    "name": "ipython",
    "version": 3
   },
   "file_extension": ".py",
   "mimetype": "text/x-python",
   "name": "python",
   "nbconvert_exporter": "python",
   "pygments_lexer": "ipython3",
   "version": "3.10.2-final"
  }
 },
 "nbformat": 4,
 "nbformat_minor": 4
}