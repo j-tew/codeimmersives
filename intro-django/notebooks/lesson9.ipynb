{
 "cells": [
  {
   "cell_type": "markdown",
   "metadata": {},
   "source": [
    "<a href=\"https://codeimmersives.com\"><img src = \"https://www.codeimmersives.com/wp-content/uploads/2019/09/CodeImmersives_Logo_RGB_NYC_BW.png\" width = 400> </a>\n",
    "\n",
    "\n",
    "<h1 align=center><font size = 5>Agenda</font></h1>"
   ]
  },
  {
   "cell_type": "markdown",
   "metadata": {},
   "source": [
    "### \n",
    "<div class=\"alert alert-block alert-info\" style=\"margin-top: 20px\">\n",
    "\n",
    "1.  [Review -json](#0)<br>\n",
    "2.  [json normalize](#2)<br>    \n",
    "3.  [Exercise](#3)<br> \n",
    "</div>\n",
    "<hr>"
   ]
  },
  {
   "cell_type": "markdown",
   "metadata": {},
   "source": [
    "<h2>Review</h2>\n",
    "json"
   ]
  },
  {
   "cell_type": "markdown",
   "metadata": {},
   "source": [
    "A useful tool for dealing with JSON files is [here](https://www.freeformatter.com/json-escape.html#ad-output).\n",
    "<code>\n",
    "https://www.freeformatter.com/json-escape.html#ad-output\n",
    "</code>\n",
    "You can transform your json formatted files if you're having trouble parsing them."
   ]
  },
  {
   "cell_type": "markdown",
   "metadata": {},
   "source": [
    "A better tool for dealing with JSON files is [here](https://jsonformatter.org/json-pretty-print).\n",
    "<code>\n",
    "https://jsonformatter.org/json-pretty-print\n",
    "</code>\n",
    "You can transform your json formatted files if you're having trouble parsing them."
   ]
  },
  {
   "cell_type": "markdown",
   "metadata": {},
   "source": [
    "<h2>More complex json file formats</h2>\n",
    "You will have to parse more difficult json file formats when dealing<br>\n",
    "with output from a graphQL query. To tackle this issue we have to <br>\n",
    "revert to using pandas and its json_normalize method.<br>\n",
    "For example you are getting movie data from one of the movie<br>\n",
    "data apis (ie. www.imdb.com, www.tmdb.com).  The file format <br>\n",
    "might look like the following:<br>\n",
    "    <code>\n",
    "    {\n",
    "  \"data\": {\n",
    "    \"human\": {\n",
    "      \"name\": \"Luke Skywalker\",\n",
    "      \"height\": 1.72\n",
    "    }\n",
    "  }\n",
    "}\n",
    "    </code>"
   ]
  },
  {
   "cell_type": "code",
   "execution_count": 7,
   "metadata": {},
   "outputs": [
    {
     "name": "stdout",
     "output_type": "stream",
     "text": [
      "{\n",
      "  \"data\": {\n",
      "    \"human\": {\n",
      "      \"name\": \"Luke Skywalker\",\n",
      "      \"height\": 1.72\n",
      "    }\n",
      "  }\n",
      "}\n",
      "<class 'str'>\n",
      "{'data': {'human': {'name': 'Luke Skywalker', 'height': 1.72}}}\n",
      "<class 'dict'>\n",
      "***********************************\n"
     ]
    }
   ],
   "source": [
    "import json\n",
    "\n",
    "movie_info = \"\"\"{\n",
    "  \"data\": {\n",
    "    \"human\": {\n",
    "      \"name\": \"Luke Skywalker\",\n",
    "      \"height\": 1.72\n",
    "    }\n",
    "  }\n",
    "}\"\"\"\n",
    "print(movie_info)\n",
    "print(type(movie_info))\n",
    "res = json.loads(movie_info)\n",
    "print(res)\n",
    "print(type(res))   # <--- Returns a dictionary\n",
    "print('*'*35)"
   ]
  },
  {
   "cell_type": "markdown",
   "metadata": {},
   "source": [
    "<h2>Exercise</h2>\n",
    "How would we extract the name and height values from this<br>\n",
    "dictionary?<br>\n",
    "The only way is to parse into the layers of the data structure<br>"
   ]
  },
  {
   "cell_type": "code",
   "execution_count": null,
   "metadata": {},
   "outputs": [],
   "source": [
    "# Place your code here\n",
    "\n"
   ]
  },
  {
   "cell_type": "code",
   "execution_count": 15,
   "metadata": {},
   "outputs": [
    {
     "name": "stdout",
     "output_type": "stream",
     "text": [
      "data <class 'dict'>\n",
      "{'name': 'Luke Skywalker', 'height': 1.72} <class 'dict'>\n",
      "name = Luke Skywalker\n",
      "height = 1.72\n"
     ]
    }
   ],
   "source": []
  },
  {
   "cell_type": "markdown",
   "metadata": {},
   "source": [
    "<h2>pandas to the rescue!</h2>\n",
    "We can use the <b>json_normalize</b> method to flatten the json data<br>\n",
    "so that we can get to the information we want."
   ]
  },
  {
   "cell_type": "code",
   "execution_count": 11,
   "metadata": {},
   "outputs": [
    {
     "name": "stdout",
     "output_type": "stream",
     "text": [
      "  data.human.name  data.human.height\n",
      "0  Luke Skywalker               1.72\n"
     ]
    }
   ],
   "source": [
    "import pandas as pd\n",
    "\n",
    "res = json.loads(movie_info)\n",
    "df = pd.json_normalize(res)\n",
    "print(df)"
   ]
  },
  {
   "cell_type": "markdown",
   "metadata": {},
   "source": [
    "To change the column heading to an underscore instead of a period<br>\n",
    "we use the: sep = '_' optional kwarg"
   ]
  },
  {
   "cell_type": "code",
   "execution_count": 17,
   "metadata": {},
   "outputs": [
    {
     "name": "stdout",
     "output_type": "stream",
     "text": [
      "  data_human_name  data_human_height\n",
      "0  Luke Skywalker               1.72\n"
     ]
    }
   ],
   "source": [
    "import pandas as pd\n",
    "\n",
    "res = json.loads(movie_info)\n",
    "df = pd.json_normalize(res,sep=\"_\")\n",
    "print(df)"
   ]
  },
  {
   "cell_type": "markdown",
   "metadata": {},
   "source": [
    "<h2>Exercise</h2>\n",
    "Flatten the following json data and replace the periods with <br>\n",
    "underscores for the column names:<br>\n",
    "<code>\n",
    "data = [{'id': 1,\n",
    "        'name': \"Ralph Reed\",'fitness': {'height': 70, 'weight': 200}},\n",
    "        {'name': \"Ayn Rand\",'fitness': {'height': 66, 'weight': 140}},\n",
    "    {'id': 2, 'name': 'Rachel Baker','fitness': \n",
    "    {'height': 62, 'weight': 120}}]\n",
    "</code>\n",
    "\n",
    "<br>\n",
    "<br>\n",
    "<br>\n",
    "\n",
    "\n",
    "\n"
   ]
  },
  {
   "cell_type": "markdown",
   "metadata": {},
   "source": [
    "<b>The key to the solution was replacing the single quotes with double quotes!!</b>"
   ]
  },
  {
   "cell_type": "code",
   "execution_count": 20,
   "metadata": {},
   "outputs": [
    {
     "name": "stdout",
     "output_type": "stream",
     "text": [
      "    id          name  fitness_height  fitness_weight\n",
      "0  1.0    Ralph Reed              70             200\n",
      "1  NaN      Ayn Rand              66             140\n",
      "2  2.0  Rachel Baker              62             120\n"
     ]
    }
   ],
   "source": [
    "import json\n",
    "import pandas as pd\n",
    "\n",
    "data = \"\"\"[{'id': 1,\n",
    "        'name': \"Ralph Reed\",'fitness': {'height': 70, 'weight': 200}},\n",
    "        {'name': \"Ayn Rand\",'fitness': {'height': 66, 'weight': 140}},\n",
    "    {'id': 2, 'name': 'Rachel Baker','fitness': \n",
    "    {'height': 62, 'weight': 120}}]\"\"\"\n",
    "\n"
   ]
  },
  {
   "cell_type": "markdown",
   "metadata": {},
   "source": [
    "We can use the max_level kwarg to flatten the data to a <br>\n",
    "certain level.  The additional levels, if any, remain in dictionary format"
   ]
  },
  {
   "cell_type": "code",
   "execution_count": 23,
   "metadata": {},
   "outputs": [
    {
     "name": "stdout",
     "output_type": "stream",
     "text": [
      "    id          name                        fitness\n",
      "0  1.0    Ralph Reed  {'height': 70, 'weight': 200}\n",
      "1  NaN      Ayn Rand  {'height': 66, 'weight': 140}\n",
      "2  2.0  Rachel Baker  {'height': 62, 'weight': 120}\n"
     ]
    }
   ],
   "source": [
    "import json\n",
    "import pandas as pd\n",
    "\n",
    "data = \"\"\"[{'id': 1,\n",
    "        'name': \"Ralph Reed\",'fitness': {'height': 70, 'weight': 200}},\n",
    "        {'name': \"Ayn Rand\",'fitness': {'height': 66, 'weight': 140}},\n",
    "    {'id': 2, 'name': 'Rachel Baker','fitness': \n",
    "    {'height': 62, 'weight': 120}}]\"\"\"\n",
    "\n"
   ]
  },
  {
   "cell_type": "markdown",
   "metadata": {},
   "source": [
    "If the data has imbeded lists that contain other dictionaries<br>\n",
    "we have to use another approach to extract the data.<br>\n",
    "In this case the data did not change after max_level = 1"
   ]
  },
  {
   "cell_type": "code",
   "execution_count": 30,
   "metadata": {},
   "outputs": [
    {
     "name": "stdout",
     "output_type": "stream",
     "text": [
      "      state shortname                           info  \\\n",
      "0   Florida        FL     {'governor': 'Rick Scott'}   \n",
      "1      Ohio        OH    {'governor': 'John Kasich'}   \n",
      "2  New York        NY  {'governor': 'Andrew Cuuomo'}   \n",
      "\n",
      "                                            counties  \n",
      "0  [{'name': 'Dade', 'population': 12345}, {'name...  \n",
      "1  [{'name': 'Summit', 'population': 1234}, {'nam...  \n",
      "2  [{'name': 'Kings', 'population': 3200}, {'name...  \n",
      "===================================\n",
      "      state shortname                                           counties  \\\n",
      "0   Florida        FL  [{'name': 'Dade', 'population': 12345}, {'name...   \n",
      "1      Ohio        OH  [{'name': 'Summit', 'population': 1234}, {'nam...   \n",
      "2  New York        NY  [{'name': 'Kings', 'population': 3200}, {'name...   \n",
      "\n",
      "   info_governor  \n",
      "0     Rick Scott  \n",
      "1    John Kasich  \n",
      "2  Andrew Cuuomo  \n",
      "===================================\n",
      "      state shortname                                           counties  \\\n",
      "0   Florida        FL  [{'name': 'Dade', 'population': 12345}, {'name...   \n",
      "1      Ohio        OH  [{'name': 'Summit', 'population': 1234}, {'nam...   \n",
      "2  New York        NY  [{'name': 'Kings', 'population': 3200}, {'name...   \n",
      "\n",
      "   info_governor  \n",
      "0     Rick Scott  \n",
      "1    John Kasich  \n",
      "2  Andrew Cuuomo  \n"
     ]
    }
   ],
   "source": [
    "import json\n",
    "import pandas as pd\n",
    "\n",
    "data = \"\"\"[{'state': 'Florida',\n",
    "    'shortname': 'FL',\n",
    "    'info': {'governor': 'Rick Scott'},\n",
    "    'counties': [\n",
    "        {'name': 'Dade', 'population': 12345},\n",
    "        {'name': 'Broward', 'population': 40000},\n",
    "        {'name': 'Palm Beach', 'population': 60000}]},\n",
    "    {'state': 'Ohio',\n",
    "    'shortname': 'OH',\n",
    "    'info': {'governor': 'John Kasich'},\n",
    "    'counties': [\n",
    "        {'name': 'Summit', 'population': 1234},\n",
    "        {'name': 'Cuyahoga', 'population': 1337}]},\n",
    "    {'state': 'New York',\n",
    "    'shortname': 'NY',\n",
    "    'info': {'governor': 'Andrew Cuuomo'},\n",
    "    'counties': [\n",
    "        {'name': 'Kings', 'population': 3200},\n",
    "        {'name': 'New York', 'population': 2700}]}       \n",
    "       ]\"\"\"\n",
    "data = data.replace(\"'\",'\"')    # <--- Remember double quotes only\n",
    "res = json.loads(data)\n",
    "df = pd.json_normalize(res, sep = \"_\", max_level = 0)  # Flatten to level 0\n",
    "print(df)\n",
    "print('='*35)\n",
    "df = pd.json_normalize(res, sep = \"_\", max_level = 1)  # Flatten to level 1\n",
    "print(df)\n",
    "print('='*35)\n",
    "df = pd.json_normalize(res, sep = \"_\", max_level = 4)  # Flatten to level 4\n",
    "print(df)"
   ]
  },
  {
   "cell_type": "markdown",
   "metadata": {},
   "source": [
    "Let's examine the solution below<br>\n",
    "1 - The first level keys are state,shortname, counties<br>\n",
    "2 - The 2nd level has a dictionary key of 'info' and a key of 'governor'<br>\n",
    "3 - The counties have a list with embeded dictionary values<br>\n",
    "NOTE: we wrapped the column names inside a list to extract the values<br>"
   ]
  },
  {
   "cell_type": "code",
   "execution_count": 69,
   "metadata": {},
   "outputs": [
    {
     "name": "stdout",
     "output_type": "stream",
     "text": [
      "         name  population     state shortname  info.governor\n",
      "0        Dade       12345   Florida        FL     Rick Scott\n",
      "1     Broward       40000   Florida        FL     Rick Scott\n",
      "2  Palm Beach       60000   Florida        FL     Rick Scott\n",
      "3      Summit        1234      Ohio        OH    John Kasich\n",
      "4    Cuyahoga        1337      Ohio        OH    John Kasich\n",
      "5       Kings        3200  New York        NY  Andrew Cuuomo\n",
      "6    New York        2700  New York        NY  Andrew Cuuomo\n",
      "===================================\n",
      "         name  population     state shortname\n",
      "0        Dade       12345   Florida        FL\n",
      "1     Broward       40000   Florida        FL\n",
      "2  Palm Beach       60000   Florida        FL\n",
      "3      Summit        1234      Ohio        OH\n",
      "4    Cuyahoga        1337      Ohio        OH\n",
      "5       Kings        3200  New York        NY\n",
      "6    New York        2700  New York        NY\n",
      "===================================\n"
     ]
    }
   ],
   "source": [
    "import json\n",
    "import pandas as pd\n",
    "\n",
    "data = \"\"\"[\n",
    "    {'state': 'Florida',\n",
    "    'shortname': 'FL',\n",
    "        'info': {'governor': 'Rick Scott'},\n",
    "        'counties': [\n",
    "            {'name': 'Dade', 'population': 12345},\n",
    "            {'name': 'Broward', 'population': 40000},\n",
    "            {'name': 'Palm Beach', 'population': 60000}]},\n",
    "    {'state': 'Ohio',\n",
    "    'shortname': 'OH',\n",
    "        'info': {'governor': 'John Kasich'},\n",
    "        'counties': [\n",
    "            {'name': 'Summit', 'population': 1234},\n",
    "            {'name': 'Cuyahoga', 'population': 1337}]},\n",
    "    {'state': 'New York',\n",
    "    'shortname': 'NY',\n",
    "        'info': {'governor': 'Andrew Cuuomo'},\n",
    "        'counties': [\n",
    "            {'name': 'Kings', 'population': 3200},\n",
    "            {'name': 'New York', 'population': 2700}]}       \n",
    "       ]\"\"\"\n",
    "data = data.replace(\"'\",'\"')    # <--- Remember double quotes only\n",
    "res = json.loads(data)\n",
    "df = pd.json_normalize(res, 'counties',\\\n",
    "                       ['state', 'shortname',['info', 'governor']])  # Flatten to level 0\n",
    "print(df)\n",
    "print('='*35)\n",
    "\n",
    "# print(res)\n",
    "df = pd.json_normalize(res, 'counties',['state', 'shortname'])  # Flatten to level 0\n",
    "print(df)\n",
    "print('='*35)"
   ]
  },
  {
   "cell_type": "code",
   "execution_count": null,
   "metadata": {},
   "outputs": [],
   "source": []
  },
  {
   "cell_type": "code",
   "execution_count": 134,
   "metadata": {},
   "outputs": [
    {
     "name": "stdout",
     "output_type": "stream",
     "text": [
      "{'Comparison': {'name': 'Luke Skywalker', 'appearsIn': ['NEWHOPE', 'EMPIRE', 'JEDI'], 'friends': [{'name': 'Han Solo'}, {'name': 'Leia Organa'}, {'name': 'C-3PO'}, {'name': 'R2-D2'}]}, 'Comparison1': {'name': 'R2-D2', 'appearsIn': ['NEWHOPE', 'EMPIRE', 'JEDI'], 'friends': [{'name': 'Luke Skywalker'}, {'name': 'Han Solo'}, {'name': 'Leia Organa'}]}}\n",
      "  Comparison.name     Comparison.appearsIn  \\\n",
      "0  Luke Skywalker  [NEWHOPE, EMPIRE, JEDI]   \n",
      "\n",
      "                                  Comparison.friends Comparison1.name  \\\n",
      "0  [{'name': 'Han Solo'}, {'name': 'Leia Organa'}...            R2-D2   \n",
      "\n",
      "     Comparison1.appearsIn                                Comparison1.friends  \n",
      "0  [NEWHOPE, EMPIRE, JEDI]  [{'name': 'Luke Skywalker'}, {'name': 'Han Sol...  \n",
      "===================================\n",
      "  Comparison_name     Comparison_appearsIn  \\\n",
      "0  Luke Skywalker  [NEWHOPE, EMPIRE, JEDI]   \n",
      "\n",
      "                                  Comparison_friends Comparison1_name  \\\n",
      "0  [{'name': 'Han Solo'}, {'name': 'Leia Organa'}...            R2-D2   \n",
      "\n",
      "     Comparison1_appearsIn                                Comparison1_friends  \n",
      "0  [NEWHOPE, EMPIRE, JEDI]  [{'name': 'Luke Skywalker'}, {'name': 'Han Sol...  \n",
      "======================================================================\n",
      "<class 'dict_values'>\n",
      "         0            name\n",
      "0  NEWHOPE  Luke Skywalker\n",
      "1   EMPIRE  Luke Skywalker\n",
      "2     JEDI  Luke Skywalker\n",
      "======================================================================\n"
     ]
    }
   ],
   "source": [
    "import json\n",
    "import pandas as pd\n",
    "\n",
    "data = \"\"\"{\n",
    "  \"data\": {\n",
    "    \"Comparison\": {\n",
    "      \"name\": \"Luke Skywalker\",\n",
    "      \"appearsIn\": [\n",
    "        \"NEWHOPE\",\n",
    "        \"EMPIRE\",\n",
    "        \"JEDI\"\n",
    "      ],\n",
    "      \"friends\": [\n",
    "        {\n",
    "          \"name\": \"Han Solo\"\n",
    "        },\n",
    "        {\n",
    "          \"name\": \"Leia Organa\"\n",
    "        },\n",
    "        {\n",
    "          \"name\": \"C-3PO\"\n",
    "        },\n",
    "        {\n",
    "          \"name\": \"R2-D2\"\n",
    "        }\n",
    "      ]\n",
    "    },\n",
    "    \"Comparison1\": {\n",
    "      \"name\": \"R2-D2\",\n",
    "      \"appearsIn\": [\n",
    "        \"NEWHOPE\",\n",
    "        \"EMPIRE\",\n",
    "        \"JEDI\"\n",
    "      ],\n",
    "      \"friends\": [\n",
    "        {\n",
    "          \"name\": \"Luke Skywalker\"\n",
    "        },\n",
    "        {\n",
    "          \"name\": \"Han Solo\"\n",
    "        },\n",
    "        {\n",
    "          \"name\": \"Leia Organa\"\n",
    "        }\n",
    "      ]\n",
    "    }\n",
    "  }\n",
    "}\"\"\"\n",
    "\n",
    "res = json.loads(data)\n",
    "print(res['data'])\n",
    "df = pd.json_normalize(res['data'])  # Flatten to level 0\n",
    "print(df)\n",
    "print('='*35)\n",
    "df = pd.json_normalize(res['data'],max_level = 1, sep = '_')  # Flatten to level 0\n",
    "print(df)\n",
    "print('='*70)\n",
    "print(type(res['data']['Comparison'].values()))\n",
    "df = pd.json_normalize(res['data']['Comparison'],'appearsIn',['name'],sep = '_')  \n",
    "print(df)\n",
    "print('='*70)"
   ]
  },
  {
   "cell_type": "markdown",
   "metadata": {},
   "source": [
    "<h2>Exercise</h2>\n",
    "Use the file nyc_phil.txt<br>\n",
    "Create a dataframe with useful aspects of the json file<br>\n",
    "step 1 - go to https://jsonformatter.org/json-pretty-print and paste the data<br>\n",
    "click the 'make pretty' button<br>\n",
    "step 2 - Click on the 'tree view' on the right hand side of the window.<br>\n",
    "step 3 - Explore the levels<br>\n",
    "step 4 - for paramters use the kwargs - record_path = 'path'<br>\n",
    "In our case explore individually - 'works' and  'concerts'<br>\n",
    "step 5 - To include the flat data before the records use the kwargs - 'meta = [col1,col2,..]'<br>\n",
    "<code>\n",
    "meta=['id', 'orchestra','programID', 'season']\n",
    "</code>\n"
   ]
  },
  {
   "cell_type": "code",
   "execution_count": null,
   "metadata": {},
   "outputs": [],
   "source": []
  },
  {
   "cell_type": "code",
   "execution_count": 130,
   "metadata": {},
   "outputs": [
    {
     "data": {
      "text/html": [
       "<div>\n",
       "<style scoped>\n",
       "    .dataframe tbody tr th:only-of-type {\n",
       "        vertical-align: middle;\n",
       "    }\n",
       "\n",
       "    .dataframe tbody tr th {\n",
       "        vertical-align: top;\n",
       "    }\n",
       "\n",
       "    .dataframe thead th {\n",
       "        text-align: right;\n",
       "    }\n",
       "</style>\n",
       "<table border=\"1\" class=\"dataframe\">\n",
       "  <thead>\n",
       "    <tr style=\"text-align: right;\">\n",
       "      <th></th>\n",
       "      <th>workTitle</th>\n",
       "      <th>conductorName</th>\n",
       "      <th>ID</th>\n",
       "      <th>soloists</th>\n",
       "      <th>composerName</th>\n",
       "      <th>movement</th>\n",
       "      <th>interval</th>\n",
       "      <th>movement.em</th>\n",
       "      <th>movement._</th>\n",
       "      <th>id</th>\n",
       "      <th>orchestra</th>\n",
       "      <th>programID</th>\n",
       "      <th>season</th>\n",
       "    </tr>\n",
       "  </thead>\n",
       "  <tbody>\n",
       "    <tr>\n",
       "      <th>0</th>\n",
       "      <td>SYMPHONY NO. 5 IN C MINOR, OP.67</td>\n",
       "      <td>Hill, Ureli Corelli</td>\n",
       "      <td>52446*</td>\n",
       "      <td>[]</td>\n",
       "      <td>Beethoven,  Ludwig  van</td>\n",
       "      <td>NaN</td>\n",
       "      <td>NaN</td>\n",
       "      <td>NaN</td>\n",
       "      <td>NaN</td>\n",
       "      <td>38e072a7-8fc9-4f9a-8eac-3957905c0002</td>\n",
       "      <td>New York Philharmonic</td>\n",
       "      <td>3853</td>\n",
       "      <td>1842-43</td>\n",
       "    </tr>\n",
       "    <tr>\n",
       "      <th>1</th>\n",
       "      <td>OBERON</td>\n",
       "      <td>Timm, Henry C.</td>\n",
       "      <td>8834*4</td>\n",
       "      <td>[{'soloistName': 'Otto, Antoinette', 'soloistR...</td>\n",
       "      <td>Weber,  Carl  Maria Von</td>\n",
       "      <td>\"Ozean, du Ungeheuer\" (Ocean, thou mighty mons...</td>\n",
       "      <td>NaN</td>\n",
       "      <td>NaN</td>\n",
       "      <td>NaN</td>\n",
       "      <td>38e072a7-8fc9-4f9a-8eac-3957905c0002</td>\n",
       "      <td>New York Philharmonic</td>\n",
       "      <td>3853</td>\n",
       "      <td>1842-43</td>\n",
       "    </tr>\n",
       "    <tr>\n",
       "      <th>2</th>\n",
       "      <td>QUINTET, PIANO, D MINOR, OP. 74</td>\n",
       "      <td>NaN</td>\n",
       "      <td>3642*</td>\n",
       "      <td>[{'soloistName': 'Scharfenberg, William', 'sol...</td>\n",
       "      <td>Hummel,  Johann</td>\n",
       "      <td>NaN</td>\n",
       "      <td>NaN</td>\n",
       "      <td>NaN</td>\n",
       "      <td>NaN</td>\n",
       "      <td>38e072a7-8fc9-4f9a-8eac-3957905c0002</td>\n",
       "      <td>New York Philharmonic</td>\n",
       "      <td>3853</td>\n",
       "      <td>1842-43</td>\n",
       "    </tr>\n",
       "  </tbody>\n",
       "</table>\n",
       "</div>"
      ],
      "text/plain": [
       "                          workTitle        conductorName      ID  \\\n",
       "0  SYMPHONY NO. 5 IN C MINOR, OP.67  Hill, Ureli Corelli  52446*   \n",
       "1                            OBERON       Timm, Henry C.  8834*4   \n",
       "2   QUINTET, PIANO, D MINOR, OP. 74                  NaN   3642*   \n",
       "\n",
       "                                            soloists             composerName  \\\n",
       "0                                                 []  Beethoven,  Ludwig  van   \n",
       "1  [{'soloistName': 'Otto, Antoinette', 'soloistR...  Weber,  Carl  Maria Von   \n",
       "2  [{'soloistName': 'Scharfenberg, William', 'sol...          Hummel,  Johann   \n",
       "\n",
       "                                            movement interval movement.em  \\\n",
       "0                                                NaN      NaN         NaN   \n",
       "1  \"Ozean, du Ungeheuer\" (Ocean, thou mighty mons...      NaN         NaN   \n",
       "2                                                NaN      NaN         NaN   \n",
       "\n",
       "  movement._                                    id              orchestra  \\\n",
       "0        NaN  38e072a7-8fc9-4f9a-8eac-3957905c0002  New York Philharmonic   \n",
       "1        NaN  38e072a7-8fc9-4f9a-8eac-3957905c0002  New York Philharmonic   \n",
       "2        NaN  38e072a7-8fc9-4f9a-8eac-3957905c0002  New York Philharmonic   \n",
       "\n",
       "  programID   season  \n",
       "0      3853  1842-43  \n",
       "1      3853  1842-43  \n",
       "2      3853  1842-43  "
      ]
     },
     "execution_count": 130,
     "metadata": {},
     "output_type": "execute_result"
    }
   ],
   "source": [
    "import json \n",
    "import pandas as pd \n",
    "\n",
    "\n"
   ]
  },
  {
   "cell_type": "code",
   "execution_count": 131,
   "metadata": {},
   "outputs": [
    {
     "data": {
      "text/html": [
       "<div>\n",
       "<style scoped>\n",
       "    .dataframe tbody tr th:only-of-type {\n",
       "        vertical-align: middle;\n",
       "    }\n",
       "\n",
       "    .dataframe tbody tr th {\n",
       "        vertical-align: top;\n",
       "    }\n",
       "\n",
       "    .dataframe thead th {\n",
       "        text-align: right;\n",
       "    }\n",
       "</style>\n",
       "<table border=\"1\" class=\"dataframe\">\n",
       "  <thead>\n",
       "    <tr style=\"text-align: right;\">\n",
       "      <th></th>\n",
       "      <th>soloistName</th>\n",
       "      <th>soloistRoles</th>\n",
       "      <th>soloistInstrument</th>\n",
       "      <th>id</th>\n",
       "    </tr>\n",
       "  </thead>\n",
       "  <tbody>\n",
       "    <tr>\n",
       "      <th>0</th>\n",
       "      <td>Otto, Antoinette</td>\n",
       "      <td>S</td>\n",
       "      <td>Soprano</td>\n",
       "      <td>38e072a7-8fc9-4f9a-8eac-3957905c0002</td>\n",
       "    </tr>\n",
       "    <tr>\n",
       "      <th>1</th>\n",
       "      <td>Scharfenberg, William</td>\n",
       "      <td>A</td>\n",
       "      <td>Piano</td>\n",
       "      <td>38e072a7-8fc9-4f9a-8eac-3957905c0002</td>\n",
       "    </tr>\n",
       "    <tr>\n",
       "      <th>2</th>\n",
       "      <td>Hill, Ureli Corelli</td>\n",
       "      <td>A</td>\n",
       "      <td>Violin</td>\n",
       "      <td>38e072a7-8fc9-4f9a-8eac-3957905c0002</td>\n",
       "    </tr>\n",
       "  </tbody>\n",
       "</table>\n",
       "</div>"
      ],
      "text/plain": [
       "             soloistName soloistRoles soloistInstrument  \\\n",
       "0       Otto, Antoinette            S           Soprano   \n",
       "1  Scharfenberg, William            A             Piano   \n",
       "2    Hill, Ureli Corelli            A            Violin   \n",
       "\n",
       "                                     id  \n",
       "0  38e072a7-8fc9-4f9a-8eac-3957905c0002  \n",
       "1  38e072a7-8fc9-4f9a-8eac-3957905c0002  \n",
       "2  38e072a7-8fc9-4f9a-8eac-3957905c0002  "
      ]
     },
     "execution_count": 131,
     "metadata": {},
     "output_type": "execute_result"
    }
   ],
   "source": [
    "soloist_data = pd.json_normalize(data=d['programs'], record_path=['works', 'soloists'], \n",
    "                              meta=['id'])\n",
    "soloist_data.head(3)"
   ]
  },
  {
   "cell_type": "code",
   "execution_count": 133,
   "metadata": {},
   "outputs": [
    {
     "data": {
      "text/html": [
       "<div>\n",
       "<style scoped>\n",
       "    .dataframe tbody tr th:only-of-type {\n",
       "        vertical-align: middle;\n",
       "    }\n",
       "\n",
       "    .dataframe tbody tr th {\n",
       "        vertical-align: top;\n",
       "    }\n",
       "\n",
       "    .dataframe thead th {\n",
       "        text-align: right;\n",
       "    }\n",
       "</style>\n",
       "<table border=\"1\" class=\"dataframe\">\n",
       "  <thead>\n",
       "    <tr style=\"text-align: right;\">\n",
       "      <th></th>\n",
       "      <th>Date</th>\n",
       "      <th>eventType</th>\n",
       "      <th>Venue</th>\n",
       "      <th>Location</th>\n",
       "      <th>Time</th>\n",
       "      <th>id</th>\n",
       "    </tr>\n",
       "  </thead>\n",
       "  <tbody>\n",
       "    <tr>\n",
       "      <th>0</th>\n",
       "      <td>1842-12-07T05:00:00Z</td>\n",
       "      <td>Subscription Season</td>\n",
       "      <td>Apollo Rooms</td>\n",
       "      <td>Manhattan, NY</td>\n",
       "      <td>8:00PM</td>\n",
       "      <td>38e072a7-8fc9-4f9a-8eac-3957905c0002</td>\n",
       "    </tr>\n",
       "    <tr>\n",
       "      <th>1</th>\n",
       "      <td>1843-02-18T05:00:00Z</td>\n",
       "      <td>Subscription Season</td>\n",
       "      <td>Apollo Rooms</td>\n",
       "      <td>Manhattan, NY</td>\n",
       "      <td>8:00PM</td>\n",
       "      <td>c7b2b95c-5e0b-431c-a340-5b37fc860b34</td>\n",
       "    </tr>\n",
       "    <tr>\n",
       "      <th>2</th>\n",
       "      <td>1843-04-07T05:00:00Z</td>\n",
       "      <td>Special</td>\n",
       "      <td>Apollo Rooms</td>\n",
       "      <td>Manhattan, NY</td>\n",
       "      <td>8:00PM</td>\n",
       "      <td>894e1a52-1ae5-4fa7-aec0-b99997555a37</td>\n",
       "    </tr>\n",
       "  </tbody>\n",
       "</table>\n",
       "</div>"
      ],
      "text/plain": [
       "                   Date            eventType         Venue       Location  \\\n",
       "0  1842-12-07T05:00:00Z  Subscription Season  Apollo Rooms  Manhattan, NY   \n",
       "1  1843-02-18T05:00:00Z  Subscription Season  Apollo Rooms  Manhattan, NY   \n",
       "2  1843-04-07T05:00:00Z              Special  Apollo Rooms  Manhattan, NY   \n",
       "\n",
       "     Time                                    id  \n",
       "0  8:00PM  38e072a7-8fc9-4f9a-8eac-3957905c0002  \n",
       "1  8:00PM  c7b2b95c-5e0b-431c-a340-5b37fc860b34  \n",
       "2  8:00PM  894e1a52-1ae5-4fa7-aec0-b99997555a37  "
      ]
     },
     "execution_count": 133,
     "metadata": {},
     "output_type": "execute_result"
    }
   ],
   "source": []
  },
  {
   "cell_type": "markdown",
   "metadata": {},
   "source": [
    "The code block labelled 'concert level data' is done a different way below"
   ]
  },
  {
   "cell_type": "code",
   "execution_count": 139,
   "metadata": {},
   "outputs": [
    {
     "name": "stdout",
     "output_type": "stream",
     "text": [
      "                     Date            eventType             Venue  \\\n",
      "0    1842-12-07T05:00:00Z  Subscription Season      Apollo Rooms   \n",
      "1    1843-02-18T05:00:00Z  Subscription Season      Apollo Rooms   \n",
      "2    1843-04-07T05:00:00Z              Special      Apollo Rooms   \n",
      "3    1843-04-22T05:00:00Z  Subscription Season      Apollo Rooms   \n",
      "4    1843-11-18T05:00:00Z  Subscription Season      Apollo Rooms   \n",
      "..                    ...                  ...               ...   \n",
      "116  1867-12-21T05:00:00Z  Subscription Season  Academy of Music   \n",
      "117  1868-02-01T05:00:00Z  Subscription Season  Academy of Music   \n",
      "118  1868-03-07T05:00:00Z  Subscription Season  Academy of Music   \n",
      "119  1868-04-18T05:00:00Z  Subscription Season  Academy of Music   \n",
      "120  1868-11-28T05:00:00Z  Subscription Season  Academy of Music   \n",
      "\n",
      "          Location    Time  \n",
      "0    Manhattan, NY  8:00PM  \n",
      "1    Manhattan, NY  8:00PM  \n",
      "2    Manhattan, NY  8:00PM  \n",
      "3    Manhattan, NY  8:00PM  \n",
      "4    Manhattan, NY    None  \n",
      "..             ...     ...  \n",
      "116  Manhattan, NY  8:00PM  \n",
      "117  Manhattan, NY  8:00PM  \n",
      "118  Manhattan, NY  8:00PM  \n",
      "119  Manhattan, NY  8:00PM  \n",
      "120  Manhattan, NY  8:00PM  \n",
      "\n",
      "[121 rows x 5 columns]\n"
     ]
    }
   ],
   "source": []
  },
  {
   "cell_type": "code",
   "execution_count": null,
   "metadata": {},
   "outputs": [],
   "source": []
  },
  {
   "cell_type": "markdown",
   "metadata": {},
   "source": [
    "This notebook is part of a course at www.codeimmersives.com called **Python Flask and Django**. If you accessed this notebook outside the course, \n",
    "you can get more information about this course online by clicking [here](https://www.codeimmersives.com/programs/python-aws/)."
   ]
  },
  {
   "cell_type": "markdown",
   "metadata": {},
   "source": [
    "<hr>\n",
    "\n",
    "Copyright &copy; 2021"
   ]
  }
 ],
 "metadata": {
  "kernelspec": {
   "display_name": "Python 3",
   "language": "python",
   "name": "python3"
  },
  "language_info": {
   "codemirror_mode": {
    "name": "ipython",
    "version": 3
   },
   "file_extension": ".py",
   "mimetype": "text/x-python",
   "name": "python",
   "nbconvert_exporter": "python",
   "pygments_lexer": "ipython3",
   "version": "3.7.4"
  }
 },
 "nbformat": 4,
 "nbformat_minor": 4
}