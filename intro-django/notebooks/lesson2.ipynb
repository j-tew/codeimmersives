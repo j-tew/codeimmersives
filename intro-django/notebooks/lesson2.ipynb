{
 "cells": [
  {
   "cell_type": "markdown",
   "metadata": {},
   "source": [
    "<h4>Using object oriented design principles design a parking lot class which has 5 spaces<br>\n",
    "How would use design your class methods and attributes?<br>\n",
    "Include:<br>\n",
    "number of spaces<br>\n",
    "vehicle size (sedan, XL, SUV, truck)<br>\n",
    "license number<br>\n",
    "Cost per time period to park<br>\n",
    "Clock in time<br>\n",
    "Clock out time<br>\n",
    "Rules like you can't park in  a space if someone is there already<br>\n",
    "Total revenue earned<br>\n",
    "Full lot indicator<br>\n",
    "</h4>"
   ]
  },
  {
   "cell_type": "code",
   "execution_count": 17,
   "metadata": {},
   "outputs": [
    {
     "name": "stdout",
     "output_type": "stream",
     "text": [
      "Sorry, we're full!\n",
      "{1: ('Hawg', '0XO48R'), 2: ('Truck', 'LV4M3C'), 3: ('SUV', 'QSEEUM'), 4: ('Donk', 'S0OIU2'), 5: ('Truck', '1F3V79')} 0.0\n"
     ]
    }
   ],
   "source": [
    "from string import ascii_uppercase, digits\n",
    "from random import shuffle, choice, choices\n",
    "\n",
    "class ParkingLot:\n",
    "    def __init__(self, spaces, cost):\n",
    "        self.spaces = {i: '' for i in range(1, (spaces+1))}\n",
    "        self.cost = cost\n",
    "        self.full = False\n",
    "        self.waiting = []\n",
    "        self.revenue = 0.0\n",
    "\n",
    "    def entry(self, car, time):\n",
    "        if self.full == False:\n",
    "            for k,v in self.spaces.items():\n",
    "                if v == '':\n",
    "                    self.spaces[k] = (car.size, car.license)\n",
    "                    car.space = k\n",
    "                    car.time = time\n",
    "                    break\n",
    "        else:\n",
    "            print(\"Sorry, we're full!\")\n",
    "            self.waiting.append((car.size, car.license))\n",
    "        if '' not in self.spaces.values():\n",
    "            self.full = True\n",
    "\n",
    "    def exit(self, car):\n",
    "        self.spaces[car.space] = ''\n",
    "        self.revenue += self.cost * car.time\n",
    "    \n",
    "\n",
    "class Vehicle:\n",
    "    def __init__(self, size):\n",
    "        self.size = size\n",
    "        self.license = ''.join(choices(ascii_uppercase + digits, k=6))\n",
    "\n",
    "truck = Vehicle('Truck')\n",
    "car1 = Vehicle('Sedan')\n",
    "car2 = Vehicle('Donk')\n",
    "truck2 = Vehicle('Truck')\n",
    "suv = Vehicle('SUV')\n",
    "bike = Vehicle('Hawg')\n",
    "\n",
    "line_of_cars = [car1, car2, truck2, suv, bike, truck]\n",
    "shuffle(line_of_cars)\n",
    "\n",
    "car_park = ParkingLot(5, 4.20)\n",
    "\n",
    "for car in line_of_cars:\n",
    "    car_park.entry(car, choice(range(1, 8)))\n",
    "\n",
    "\n",
    "print(car_park.spaces, car_park.revenue)\n"
   ]
  },
  {
   "cell_type": "markdown",
   "metadata": {},
   "source": [
    "<h4>Create a function in the NumberTheory class to calculate the factorial of a number <br> \n",
    "E.g 5! is 5 * 4 * 3 * 2 * 1</h4> "
   ]
  },
  {
   "cell_type": "code",
   "execution_count": null,
   "metadata": {},
   "outputs": [],
   "source": []
  },
  {
   "cell_type": "markdown",
   "metadata": {},
   "source": [
    "<h4>Like all things Python, there's usually built in function. Factorial as a function in the math library</h4>"
   ]
  },
  {
   "cell_type": "code",
   "execution_count": null,
   "metadata": {},
   "outputs": [],
   "source": [
    "import math\n",
    "print(math.factorial(6))"
   ]
  },
  {
   "cell_type": "markdown",
   "metadata": {},
   "source": [
    "<h3> Doc Strings </h3>"
   ]
  },
  {
   "cell_type": "markdown",
   "metadata": {},
   "source": [
    "<h4>We add docstrings to our code to document the code for users of our code.<br>\n",
    "This becomes extremely import in api development.  We need to be explicit when<br>\n",
    "publishing out api's for others to use.  From this point forward we must include docstrings!<br>\n",
    "\n",
    "An example for our isPrimeLC function that is part of our numberTheory class is listed below:<br>\n",
    "<br>\n",
    "<code>\n",
    "import math\n",
    "class NumberTheory:\n",
    "    \n",
    "    def __init__(self,num):  # The double underscores disappear in HTML code but are there\n",
    "        self.num = num\n",
    "        \n",
    "    def isPrimeLC(num):\n",
    "        \"\"\"\n",
    "        Determine if a number is Prime or Composite\n",
    "        \n",
    "        :param num: The number being examined\n",
    "        \n",
    "        :return: True or False\n",
    "        \"\"\"\n",
    "        return False if self.num < 2 or [False for x in range(2,int(math.sqrt(self.num))+1) if self.num % x == 0  ] else True        \n",
    "    \n",
    "</code>\n",
    "</h4>"
   ]
  },
  {
   "cell_type": "markdown",
   "metadata": {},
   "source": [
    "<h4>Add all docstrings to your NumberTheory class<br>\n",
    "    We use print(help(function name)) to print out the docstring</h4>"
   ]
  },
  {
   "cell_type": "code",
   "execution_count": null,
   "metadata": {},
   "outputs": [],
   "source": []
  },
  {
   "cell_type": "markdown",
   "metadata": {},
   "source": [
    "<h4>Static Methods<br>\n",
    "\n",
    "When you need a utility function that doesn't access any properties of a class<br>\n",
    "but makes sense that it belongs to the class, we use static method functions\n",
    "</h4>"
   ]
  },
  {
   "cell_type": "markdown",
   "metadata": {},
   "source": [
    "<h4>Class Methods <br>\n",
    "\n",
    "The classmethod decorator is a built-in function decorator that is an expression. <br>\n",
    "In which, gets evaluated after your function has been defined. The result of that evaluation shadows your function definition. <br>\n",
    "\n",
    "A class method receives the class as an implicit first argument, just like an instance method receives the instance <br>\n",
    "\n",
    "Instead of taking the SELF parameter, it uses CLS as a parameter</h4>"
   ]
  },
  {
   "cell_type": "code",
   "execution_count": 21,
   "metadata": {},
   "outputs": [
    {
     "name": "stdout",
     "output_type": "stream",
     "text": [
      "('instance method called', <__main__.MyClass object at 0x10bea53f0>)\n",
      "('class method called', <class '__main__.MyClass'>)\n",
      "static method called\n"
     ]
    }
   ],
   "source": [
    "class MyClass:\n",
    "    def method(self):\n",
    "        return 'instance method called', self\n",
    "\n",
    "    @classmethod\n",
    "    def class_method(cls):\n",
    "        return 'class method called', cls\n",
    "\n",
    "    @staticmethod\n",
    "    def static_method():\n",
    "        return 'static method called'\n",
    "\n",
    "classy = MyClass()\n",
    "print(classy.method())\n",
    "print(classy.class_method())\n",
    "print(classy.static_method())"
   ]
  },
  {
   "cell_type": "code",
   "execution_count": 20,
   "metadata": {},
   "outputs": [
    {
     "name": "stdout",
     "output_type": "stream",
     "text": [
      "instance method called\n",
      "('class method called',)\n",
      "static method called\n"
     ]
    }
   ],
   "source": []
  },
  {
   "cell_type": "code",
   "execution_count": null,
   "metadata": {},
   "outputs": [],
   "source": [
    "from datetime import date\n",
    "   \n",
    "class Person:\n",
    "    def __init__(self, name, age):\n",
    "        self.name = name\n",
    "        self.age = age\n",
    "       \n",
    "    # a class method to create a Person object by birth year.\n",
    "    @classmethod\n",
    "    def fromBirthYear(cls, name, year):\n",
    "        return cls(name, date.today().year - year)  # <--- Passed to the class constructor\n",
    "       \n",
    "    # a static method to check if a Person is adult or not.\n",
    "    @staticmethod\n",
    "    def isAdult(age):   # <--- general purpose can be used outside of the class\n",
    "        return age > 18\n",
    "   \n",
    "person1 = Person('John', 21)\n",
    "person2 = Person.fromBirthYear('Jill', 1996)\n",
    "   \n",
    "print (person1.age)\n",
    "print (person2.age)\n",
    "   \n",
    "# print the result\n",
    "print (Person.isAdult(22))"
   ]
  },
  {
   "cell_type": "markdown",
   "metadata": {},
   "source": [
    "<h3>Recursion"
   ]
  },
  {
   "cell_type": "markdown",
   "metadata": {},
   "source": [
    "<h4> For example: Lets say we wanted to create a function that counts down an integer until it was 0"
   ]
  },
  {
   "cell_type": "code",
   "execution_count": 17,
   "metadata": {},
   "outputs": [
    {
     "data": {
      "text/plain": [
       "4"
      ]
     },
     "execution_count": 17,
     "metadata": {},
     "output_type": "execute_result"
    }
   ],
   "source": []
  },
  {
   "cell_type": "markdown",
   "metadata": {},
   "source": [
    "<h4> A recursive function is a function that calls on itself"
   ]
  },
  {
   "cell_type": "code",
   "execution_count": 20,
   "metadata": {},
   "outputs": [
    {
     "name": "stdout",
     "output_type": "stream",
     "text": [
      "6\n",
      "5\n",
      "4\n",
      "3\n",
      "2\n",
      "1\n",
      "0\n",
      "None\n"
     ]
    }
   ],
   "source": [
    "def my_rec(i):\n",
    "    print(i)\n",
    "    if i > 0:\n",
    "        my_rec(i-1)\n",
    "\n",
    "print(my_rec(6))"
   ]
  },
  {
   "cell_type": "markdown",
   "metadata": {},
   "source": [
    "<h3>Exercise"
   ]
  },
  {
   "cell_type": "markdown",
   "metadata": {},
   "source": [
    "<h4> Refactor your factorial function to be recursive"
   ]
  },
  {
   "cell_type": "code",
   "execution_count": null,
   "metadata": {},
   "outputs": [],
   "source": []
  },
  {
   "cell_type": "markdown",
   "metadata": {},
   "source": [
    "<h4> Calculate the sum of a list using recursion "
   ]
  },
  {
   "cell_type": "code",
   "execution_count": null,
   "metadata": {},
   "outputs": [],
   "source": []
  },
  {
   "cell_type": "markdown",
   "metadata": {},
   "source": [
    "<h3> Decorators"
   ]
  },
  {
   "cell_type": "markdown",
   "metadata": {},
   "source": [
    "<h4> Decorators allow you to apply functionality of one function onto another."
   ]
  },
  {
   "cell_type": "code",
   "execution_count": 7,
   "metadata": {},
   "outputs": [
    {
     "name": "stdout",
     "output_type": "stream",
     "text": [
      "I am ordinary\n",
      "I got decorated\n",
      "I am ordinary\n"
     ]
    }
   ],
   "source": [
    "# Basically, a decorator takes in a function, adds some functionality and returns it.\n",
    "def make_pretty(func):   # <---- THE DECORATOR\n",
    "    def inner():\n",
    "        print(\"I got decorated\")\n",
    "        func()\n",
    "    return inner\n",
    "\n",
    "\n",
    "def ordinary():\n",
    "    print(\"I am ordinary\")\n",
    "    \n",
    "ordinary()\n",
    "pretty = make_pretty(ordinary) #We are passing inside our ordinaty function\n",
    "pretty() #Calling out pretty variable"
   ]
  },
  {
   "cell_type": "code",
   "execution_count": 5,
   "metadata": {},
   "outputs": [
    {
     "name": "stdout",
     "output_type": "stream",
     "text": [
      "I got decorated\n",
      "I am ordinary\n"
     ]
    }
   ],
   "source": [
    "@make_pretty\n",
    "def ordinary():\n",
    "    print(\"I am ordinary\")\n",
    "\n",
    "ordinary()"
   ]
  },
  {
   "cell_type": "markdown",
   "metadata": {},
   "source": [
    "<h4>Create a class called NLP (For Natural Language Processing)<br>\n",
    "1. In this class create a method called reverse that is a decorator that will<br>\n",
    "reverse a string.<br>\n",
    "2. Create a decorator called doubler that will print the output twice</h4>"
   ]
  },
  {
   "cell_type": "code",
   "execution_count": null,
   "metadata": {},
   "outputs": [],
   "source": []
  },
  {
   "cell_type": "markdown",
   "metadata": {},
   "source": [
    "<h4> Data Structure Values"
   ]
  },
  {
   "cell_type": "code",
   "execution_count": null,
   "metadata": {},
   "outputs": [],
   "source": [
    "x = [0]   # The data structure is not empty!!!!!\n",
    "if x:\n",
    "    print(f'{x} evaluates to True')\n",
    "else:\n",
    "    print(f'{x} evaluates to False')\n",
    "    \n",
    "# HOWEVER\n",
    "print('*'*35)\n",
    "if x[0]:   # THIS EVALUATES TO FALSE BECAUSE THE VALUE IS 0\n",
    "    print(f'{x[0]} evaluates to True')\n",
    "else:\n",
    "    print(f'{x[0]} evaluates to False')\n",
    "  "
   ]
  },
  {
   "cell_type": "code",
   "execution_count": null,
   "metadata": {},
   "outputs": [],
   "source": [
    "x = [1]   # BOTH CASES EVALUATE TO TRUE!!\n",
    "if x:\n",
    "    print(f'{x[0]} evaluates to True')\n",
    "else:\n",
    "    print(f'{x[0]} evaluates to False')  \n",
    "# HOWEVER\n",
    "print('*'*35)\n",
    "if x[0]:\n",
    "    print(f'{x[0]} evaluates to True')\n",
    "else:\n",
    "    print(f'{x[0]} evaluates to False')  "
   ]
  },
  {
   "cell_type": "code",
   "execution_count": null,
   "metadata": {},
   "outputs": [],
   "source": [
    "x = [False]   # FIRST CASE EVALUATE TO TRUE!! THE LIST HAS DATA!!\n",
    "if x:\n",
    "    print(f'{x[0]} evaluates to True')\n",
    "else:\n",
    "    print(f'{x[0]} evaluates to False')  \n",
    "# HOWEVER\n",
    "print('*'*35)\n",
    "if x[0]:   # 2nd CASE EVALUATE TO FALSE!!\n",
    "    print(f'{x[0]} evaluates to True')\n",
    "else:\n",
    "    print(f'{x[0]} evaluates to False')  "
   ]
  },
  {
   "cell_type": "markdown",
   "metadata": {},
   "source": [
    "<h4>The dictionary data structure was created but empty therefore evaluates to False</h4>"
   ]
  },
  {
   "cell_type": "code",
   "execution_count": null,
   "metadata": {},
   "outputs": [],
   "source": [
    "x = {}\n",
    "if x:\n",
    "    print('Dictionary')\n",
    "else:\n",
    "    print('Empty Dictionary')"
   ]
  },
  {
   "cell_type": "markdown",
   "metadata": {},
   "source": [
    "<h4>The dictionary data structure was created but holds a zero which evaluates to False</h4>"
   ]
  },
  {
   "cell_type": "code",
   "execution_count": null,
   "metadata": {},
   "outputs": [],
   "source": [
    "x = 0\n",
    "if x:\n",
    "    print(f'{x} is a number and evaluates to True')\n",
    "else:\n",
    "    print('Zero or False')"
   ]
  },
  {
   "cell_type": "markdown",
   "metadata": {},
   "source": [
    "<h4>Whereas any value that is non zero evaluates to True</h4>"
   ]
  },
  {
   "cell_type": "code",
   "execution_count": null,
   "metadata": {},
   "outputs": [],
   "source": [
    "x = 0.0000001\n",
    "if x:\n",
    "    print(f'{x} is a number and evaluates to True')\n",
    "else:\n",
    "    print('Zero or False')"
   ]
  },
  {
   "cell_type": "markdown",
   "metadata": {},
   "source": [
    "<h4>An empty string evaluates to False and anything in a string evaluates to True</h4>"
   ]
  },
  {
   "cell_type": "code",
   "execution_count": null,
   "metadata": {},
   "outputs": [],
   "source": [
    "x = ''\n",
    "if x:\n",
    "    print('A number')\n",
    "else:\n",
    "    print('Empty')\n",
    "print('*'*35)\n",
    "x = 'False'\n",
    "if x:\n",
    "    print(f'The string \"{x}\" is not an empty object')\n",
    "else:\n",
    "    print('Empty')"
   ]
  },
  {
   "cell_type": "code",
   "execution_count": null,
   "metadata": {},
   "outputs": [],
   "source": [
    "<h4>Lastly, None evaluates to False!</h4>"
   ]
  },
  {
   "cell_type": "code",
   "execution_count": null,
   "metadata": {},
   "outputs": [],
   "source": [
    "x = None\n",
    "if x:\n",
    "    print('NOT empty')\n",
    "else:\n",
    "    print('Empty')"
   ]
  },
  {
   "cell_type": "markdown",
   "metadata": {},
   "source": [
    "<h3>Dunder methods"
   ]
  },
  {
   "cell_type": "markdown",
   "metadata": {},
   "source": [
    "<h4>We can use the class method decorator to collect the class names<br>\n",
    "Use del to remove instances of a class</h4>"
   ]
  },
  {
   "cell_type": "code",
   "execution_count": null,
   "metadata": {},
   "outputs": [],
   "source": [
    "import weakref\n",
    "\n",
    "class MyClass:\n",
    "\n",
    "    _instances = set()  # <--- COLLECT THE OBJECT INSTANCES\n",
    "\n",
    "    def __init__(self, name):\n",
    "        self.name = name\n",
    "        self._instances.add(weakref.ref(self))  # <--- COLLECT NAMES\n",
    "\n",
    "    @classmethod\n",
    "    def getinstances(cls):\n",
    "        dead = set()\n",
    "        for ref in cls._instances:  # <-- Remove dead references from our list\n",
    "            obj = ref()\n",
    "            if obj is not None:\n",
    "                yield obj\n",
    "            else:\n",
    "                dead.add(ref)\n",
    "        cls._instances -= dead\n",
    "\n",
    "a = MyClass(\"a\")\n",
    "b = MyClass(\"b\")\n",
    "c = MyClass(\"c\")\n",
    "\n",
    "del b   # <--- Remove an instance\n",
    "\n",
    "for obj in MyClass.getinstances():\n",
    "    print(obj.name) # prints 'a' and 'c'"
   ]
  },
  {
   "cell_type": "markdown",
   "metadata": {},
   "source": [
    "<h4>The __getattr__ method will catch all attribute errors<br>\n",
    "You haven't named an attribute<br>\n",
    "We also overwrote the __sizeof__ method to return the length of the name</h4>"
   ]
  },
  {
   "cell_type": "code",
   "execution_count": null,
   "metadata": {},
   "outputs": [],
   "source": [
    "class Employees(object):\n",
    "\n",
    "    def __init__(self, full_name, acct_num):\n",
    "        self.full_name = full_name\n",
    "        self.acct_num = acct_num\n",
    "\n",
    "    def __getattr__(self, attr):\n",
    "        fi, li = self.full_name.split()\n",
    "        return f'{fi[0]}{li[0]}'\n",
    "    \n",
    "    def __sizeof__(self):\n",
    "        return len(self.full_name)\n",
    "    \n",
    "ob = Employees('John Smith','111')\n",
    "v = ob.initials   # <---- THIS WASN'T DECLARED\n",
    "print(v)\n",
    "print(ob.__class__)\n",
    "print((ob.__sizeof__()))"
   ]
  },
  {
   "cell_type": "markdown",
   "metadata": {},
   "source": [
    "<h4>Use the > operator and __gt__ to compare 2 objects.  Notice the 'other' used as a reference to object 2</h4> "
   ]
  },
  {
   "cell_type": "code",
   "execution_count": null,
   "metadata": {},
   "outputs": [],
   "source": [
    "import datetime\n",
    "\n",
    "class HedgeFund:\n",
    "    titles = ['Intern','Associate','Assistant Vice President','Vice President',\n",
    "              'Director','Managing Director','Partner']\n",
    "    \n",
    "    def __init__(self, name):\n",
    "        self.name = name\n",
    "        \n",
    "    def hired(self,salary = 1,hire_date = datetime.datetime.now().date(), title = 'Associate'):\n",
    "        self.hire_date = hire_date\n",
    "        if title in self.titles:\n",
    "            self.title = title\n",
    "        else:\n",
    "            self.title = 'Associate'\n",
    "        \n",
    "    def __gt__(self,other):  # compare the titles - NOTICE 'other'\n",
    "        if self.title in HedgeFund.titles:\n",
    "            pos1 = HedgeFund.titles.index(self.title)\n",
    "        if other.title in HedgeFund.titles:\n",
    "            pos2 = HedgeFund.titles.index(other.title)        \n",
    "        return pos1 > pos2 if pos1 and pos2 else False\n",
    "\n",
    "emp1 = HedgeFund('Shirley')\n",
    "print(emp1.name)\n",
    "emp1.hired(100000,'2019-06-01','Vice President')\n",
    "print(emp1.hire_date)\n",
    "print(emp1.title)\n",
    "# ------------------------\n",
    "emp2 = HedgeFund('Jean')\n",
    "print(emp2.name)\n",
    "emp2.hired(50000,'2020-01-02','Associate')\n",
    "print(emp2.hire_date)\n",
    "print(emp2.title)\n",
    "# --------------------------\n",
    "emp3 = HedgeFund('Luke')\n",
    "print(emp3.name)\n",
    "emp3.hired(20000,'2018-10-22','Intern')\n",
    "print(emp3.hire_date)\n",
    "print(emp3.title)\n",
    "print(emp3 > emp2)\n",
    "        \n"
   ]
  },
  {
   "cell_type": "markdown",
   "metadata": {},
   "source": [
    "<h4>Below we will use getattr to create an attribute then use the attribute name<br>\n",
    "To look up the key in a dictionary</h4>"
   ]
  },
  {
   "cell_type": "code",
   "execution_count": null,
   "metadata": {},
   "outputs": [],
   "source": [
    "class MyClass(object):\n",
    "\n",
    "    def __init__(self):\n",
    "        self.data = {'a': 'v1', 'b': 'v2'}\n",
    "\n",
    "    def __getattr__(self, attr):\n",
    "        return self.data[attr]\n",
    "obj = MyClass()\n",
    "print(obj.a)"
   ]
  },
  {
   "cell_type": "markdown",
   "metadata": {},
   "source": [
    "<h4>the __sizeof__() method returns 40 bytes for an empty list and then<br>\n",
    "8 bytes for every additional element.</h4>"
   ]
  },
  {
   "cell_type": "code",
   "execution_count": null,
   "metadata": {},
   "outputs": [],
   "source": [
    "v = []\n",
    "w =[1, 2]\n",
    "x =[4, 5, 7, 9]\n",
    "y =[2, 8, 6, 56, 45, 89, 88]\n",
    "z =[54, 45, 12, 23, 24, 90, 20, 40]\n",
    "print(v.__sizeof__())\n",
    "print(w.__sizeof__())\n",
    "print(x.__sizeof__())\n",
    "print(y.__sizeof__())\n",
    "print(z.__sizeof__())"
   ]
  },
  {
   "cell_type": "code",
   "execution_count": null,
   "metadata": {},
   "outputs": [],
   "source": [
    "v = {}\n",
    "w = {'Blue': 5}\n",
    "x = {'A':1,'B':2 }\n",
    "y = {'John': 100000,\n",
    "     'Jill': 120000}\n",
    "z = {'John': [100000,10,'HR'],\n",
    "     'Jill': [120000,12,'IT'],\n",
    "    'Jacob': [45000,3,'Finance']}\n",
    "print(v.__sizeof__())\n",
    "print(w.__sizeof__())\n",
    "print(x.__sizeof__())\n",
    "print(y.__sizeof__())\n",
    "print(z.__sizeof__())"
   ]
  },
  {
   "cell_type": "code",
   "execution_count": null,
   "metadata": {},
   "outputs": [],
   "source": []
  }
 ],
 "metadata": {
  "kernelspec": {
   "display_name": "Python 3.10.2 64-bit",
   "metadata": {
    "interpreter": {
     "hash": "aee8b7b246df8f9039afb4144a1f6fd8d2ca17a180786b69acc140d282b71a49"
    }
   },
   "name": "python3"
  },
  "language_info": {
   "codemirror_mode": {
    "name": "ipython",
    "version": 3
   },
   "file_extension": ".py",
   "mimetype": "text/x-python",
   "name": "python",
   "nbconvert_exporter": "python",
   "pygments_lexer": "ipython3",
   "version": "3.10.2"
  },
  "orig_nbformat": 2
 },
 "nbformat": 4,
 "nbformat_minor": 2
}
