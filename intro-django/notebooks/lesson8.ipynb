{
 "cells": [
  {
   "cell_type": "markdown",
   "metadata": {},
   "source": [
    "<a href=\"https://codeimmersives.com\"><img src = \"https://www.codeimmersives.com/wp-content/uploads/2019/09/CodeImmersives_Logo_RGB_NYC_BW.png\" width = 400> </a>\n",
    "\n",
    "\n",
    "<h1 align=center><font size = 5>Agenda</font></h1>"
   ]
  },
  {
   "cell_type": "markdown",
   "metadata": {},
   "source": [
    "### \n",
    "<div class=\"alert alert-block alert-info\" style=\"margin-top: 20px\">\n",
    "\n",
    "1.  [Review](#0)<br>\n",
    "2.  [JSON](#2)<br>     \n",
    "3.  [Exercises](#3)<br> \n",
    "</div>\n",
    "<hr>"
   ]
  },
  {
   "cell_type": "code",
   "execution_count": null,
   "metadata": {},
   "outputs": [],
   "source": []
  },
  {
   "cell_type": "code",
   "execution_count": null,
   "metadata": {},
   "outputs": [],
   "source": []
  },
  {
   "cell_type": "markdown",
   "metadata": {},
   "source": [
    "<h2>JSON</h2>\n",
    "JSON is an acronym for <b>J</b>ava<b>S</b>cript<b>O</b>bject<b>N</b>otation<br>\n",
    "It is a popular data format used to represent structured data.  It is common to send<br>\n",
    "and receive data between a web server and web client side application is JSON format.<br>\n",
    "In Python, JSON is represented in a string format.<br>\n",
    "<code>\n",
    "    import json\n",
    "\n",
    "    courses ='{\"module1\": \"Introduction to Python\", \\\n",
    "            \"module2\": \"Introduction to Javascript\", \\\n",
    "            \"module3\": \"SQLite, MySQL and MongoDB\"}'\n",
    "    \n",
    "    # convert to JSON\n",
    "    courses_json = json.loads(courses)\n",
    "</code>\n",
    "<br>\n",
    "NOTE: Double quotes must surround the keys and values in the string<br>\n",
    "<br>\n",
    "-- AN ERROR IS PRODUCED BELOW --<br>\n",
    "<code>\n",
    "courses = \"{'module1': 'Introduction to Python' \"\n",
    "courses_json = json.loads(courses)\n",
    "print(courses_json)\n",
    "</code>\n",
    "<br>\n",
    "Copy and paste to see for yourself!!!"
   ]
  },
  {
   "cell_type": "markdown",
   "metadata": {},
   "source": [
    "<h2>Decoding json</h2>\n",
    "<h4>json.loads(string)</h4>\n",
    "takes a file object and returns the json object. It is used to read JSON<br>\n",
    "encoded data from a file or string and convert it into a Python dictionary "
   ]
  },
  {
   "cell_type": "code",
   "execution_count": null,
   "metadata": {},
   "outputs": [],
   "source": [
    "import json\n",
    "\n",
    "courses = '{\"module1\": \"Introduction to Python\", \\\n",
    "            \"module2\": \"Introduction to Javascript\", \\\n",
    "            \"module3\": \"SQLite, MySQL and MongoDB\"}'\n",
    "\n",
    "# convert to JSON\n",
    "courses_json = json.loads(courses)\n",
    "print(courses_json)"
   ]
  },
  {
   "cell_type": "markdown",
   "metadata": {},
   "source": [
    "Lets look at the methods available in the json import library.<br>\n",
    "<code>\n",
    "print(dir(json))\n",
    "</code>\n"
   ]
  },
  {
   "cell_type": "code",
   "execution_count": null,
   "metadata": {},
   "outputs": [],
   "source": [
    "# Your code here\n",
    "print([x for x in dir(json) if not x.startswith('_')])"
   ]
  },
  {
   "cell_type": "markdown",
   "metadata": {},
   "source": [
    "We would use the keys to get the values like any dictionary<br>\n",
    "<code>\n",
    "print(courses_json['module1'])\n",
    "\n",
    "#--- or\n",
    "\n",
    "print(courses_json.get('module1'))\n",
    "</code>"
   ]
  },
  {
   "cell_type": "code",
   "execution_count": null,
   "metadata": {},
   "outputs": [],
   "source": [
    "print(courses_json['module1'])\n",
    "\n",
    "# or\n",
    "\n",
    "print(courses_json.get('module2'))"
   ]
  },
  {
   "cell_type": "markdown",
   "metadata": {},
   "source": [
    "Let's look at a more complex string with embeded data structures<br>\n",
    "<br>\n",
    "<code>\n",
    "courses = \"\"\"{\"module1\": [\"Introduction to Python\", \n",
    "                {\"topics\": [\"list\",\"tuples\",\"dictionaries\",\"sets\"]}], \n",
    "            \"module2\": [\"Introduction to Javascript\"], \n",
    "            \"module3\": [\"SQLite, MySQL and MongoDB\", \n",
    "                {\"topics\": [\"CRUD\",\"Joins\",\"DDL\"]}] \n",
    "            }\"\"\"\n",
    "</code>"
   ]
  },
  {
   "cell_type": "code",
   "execution_count": null,
   "metadata": {},
   "outputs": [],
   "source": [
    "courses = \"\"\"{\"module1\": [\"Introduction to Python\", \n",
    "                {\"topics\": [\"list\",\"tuples\",\"dictionaries\",\"sets\"]}], \n",
    "            \"module2\": [\"Introduction to Javascript\"], \n",
    "            \"module3\": [\"SQLite, MySQL and MongoDB\", \n",
    "                {\"topics\": [\"CRUD\",\"Joins\",\"DDL\"]}] \n",
    "            }\"\"\"\n",
    "res = json.loads(courses)\n",
    "print(res)\n",
    "print('*'*35)\n",
    "print(res.keys())  # <---- All keys\n",
    "print('*'*35)\n",
    "print(res['module1'])         # <--- Value for the first key\n",
    "print('*'*35)\n",
    "print((res['module1'][1])['topics'])         # <--- Values for the topics key\n",
    "print('*'*35)"
   ]
  },
  {
   "cell_type": "markdown",
   "metadata": {},
   "source": [
    "<h2>Encoding json</h2>\n",
    "<h4>json.dump(string)</h4>\n",
    "takes a string or file object and returns the json object. It is used to write JSON<br>\n",
    "encoded data from a file or string and convert it into a json format "
   ]
  },
  {
   "cell_type": "code",
   "execution_count": null,
   "metadata": {},
   "outputs": [],
   "source": [
    "courses = \"\"\"{\"module1\": [\"Introduction to Python\",{\"topics\": [\"list\",\"tuples\",\"dictionaries\",\"sets\"]}], \n",
    "            \"module2\": [\"Introduction to Javascript\"], \n",
    "            \"module3\": [\"SQLite, MySQL and MongoDB\",{\"topics\": [\"CRUD\",\"Joins\",\"DDL\"]}] \n",
    "            }\"\"\"\n",
    "with open(r'c:\\projects\\code immersives\\CI_course_catalog.txt','w') as fh:\n",
    "    json.dump(courses,fh)"
   ]
  },
  {
   "cell_type": "markdown",
   "metadata": {},
   "source": [
    "Open the file we created at the last step and examine the contents.<br>\n",
    "Notice the line feed characters and the large spaces<br>\n",
    "<br>\n",
    "We can now read in our json formated file using json.load\n",
    "<br>\n",
    "<code>\n",
    "with open('c:\\projects\\code immersives\\CI_course_catalog.txt') as json_file:\n",
    "    data = json.load(json_file)  # <--- READS IN A STRING<br>\n",
    "    res = json.loads(data)       # <--- Convert it to a dictionary\n",
    "</code>"
   ]
  },
  {
   "cell_type": "code",
   "execution_count": null,
   "metadata": {},
   "outputs": [],
   "source": [
    "with open('c:\\projects\\code immersives\\CI_course_catalog.txt') as json_file:\n",
    "    data = json.load(json_file)  # <--- READS IN A STRING\n",
    "    res = json.loads(data)       # <--- Convert it to a dictionary\n",
    "    print(res,type(res))\n",
    "    print('*'*35)\n",
    "    print(res.keys())  # <---- All keys\n",
    "    print('*'*35)"
   ]
  },
  {
   "cell_type": "markdown",
   "metadata": {},
   "source": [
    "** NOTE **<br>\n",
    "When you're calling a REST GET endpoint that returns JSON. This data comes to you as a string,<br>\n",
    "which you can then pass to json.loads directly <br>"
   ]
  },
  {
   "cell_type": "markdown",
   "metadata": {},
   "source": [
    "A slight variation on the json.dump method that's worth mentioning is<br> \n",
    "json.dumps, which returns the actual JSON string instead of sending it<br>\n",
    "directly to a writable object. This can give you some more control if you<br>\n",
    "need to make some changes to the JSON string (like encrypting it, for example)."
   ]
  },
  {
   "cell_type": "markdown",
   "metadata": {},
   "source": [
    "We can use the optional parameters with json.dumps() to <br>\n",
    "perform a version of pretty printing<br>"
   ]
  },
  {
   "cell_type": "code",
   "execution_count": null,
   "metadata": {},
   "outputs": [],
   "source": [
    "import json\n",
    "\n",
    "data = {'instructor':[{'name': 'Sven', 'courses': ['Python','Javascript','Flask'], 'location': 'zoom'}]}\n",
    "print(json.dumps(data, indent=4))   # <-- optional kwarg of indent"
   ]
  },
  {
   "cell_type": "markdown",
   "metadata": {},
   "source": [
    "<h2>JSON - sorting</h2>\n",
    "By default the json is an unorder set of key value pairs.<br>\n",
    "However, we can optionally sort them like a python dictionary.<br>"
   ]
  },
  {
   "cell_type": "code",
   "execution_count": null,
   "metadata": {},
   "outputs": [],
   "source": [
    "import json\n",
    "\n",
    "data = {'instructor':[{'name': 'Sven', 'courses': ['Python','Javascript','Flask'], 'location': 'zoom'}]}\n",
    "print(json.dumps(data,sort_keys=True, indent=4))   # <-- optional kwarg of indent\n",
    "# Notice how the location key is now above the name key"
   ]
  },
  {
   "cell_type": "markdown",
   "metadata": {},
   "source": [
    "<h2>Exercise</h2>\n",
    "Sort the following dictionary<br>\n",
    "courses = {'Python Fundamentals': ['list','strings','float'],<br>\n",
    "            'Javascript for Python': ['DOM','Web scraping'],<br>\n",
    "            'Algorithms and Machine Learning': ['K Nearest Neighbor','Support Vectors','Principal Components']}\n",
    "<br>\n",
    "the following ways:<br>\n",
    "A - By key ascending<br>\n",
    "B - By key descending<br>\n",
    "C - By value ascending<br>\n",
    "D - By value descending<br>"
   ]
  },
  {
   "cell_type": "code",
   "execution_count": null,
   "metadata": {},
   "outputs": [],
   "source": [
    "\n",
    "courses = {'Python Fundamentals': ['list','strings','float'],\n",
    "            'Javascript for Python': ['DOM','Web scraping'],\n",
    "            'Algorithms and Machine Learning': ['K Nearest Neighbor','Support Vectors','Principal Components']}\n"
   ]
  },
  {
   "cell_type": "code",
   "execution_count": null,
   "metadata": {},
   "outputs": [],
   "source": [
    "<h2>JSON - ASCII</h2>\n",
    "By default json.dump will ensure that all characters are ascii encoded.<br>\n",
    "When non-ascii characters are present they are automatically escaped<br>\n",
    "See below."
   ]
  },
  {
   "cell_type": "code",
   "execution_count": null,
   "metadata": {},
   "outputs": [],
   "source": [
    "import json\n",
    "data = {'item': 'Ferris Wheel Ticket', 'cost':'£4.00'}\n",
    "jstr = json.dumps(data, indent=4)\n",
    "print(jstr)"
   ]
  },
  {
   "cell_type": "markdown",
   "metadata": {},
   "source": [
    "<h2>JSON - encoding</h2>\n",
    "This method will eliminate the white space<br>\n",
    "<code>\n",
    "import json\n",
    "json.dumps([1, 2, 3, {'4': 5, '6': 7}], separators=(',', ':'))\n",
    "</code>"
   ]
  },
  {
   "cell_type": "code",
   "execution_count": null,
   "metadata": {},
   "outputs": [],
   "source": [
    "import json\n",
    "json.dumps([1, 2, 3, {'4': 5, '6': 7}], separators=(',', ':'))"
   ]
  },
  {
   "cell_type": "code",
   "execution_count": null,
   "metadata": {},
   "outputs": [],
   "source": [
    "import json\n",
    "courses = {'Python Fundamentals': ['list','strings','float'],\n",
    "            'Javascript for Python': ['DOM','Web scraping'],\n",
    "            'Algorithms and Machine Learning': ['K Nearest Neighbor','Support Vectors','Principal Components']}\n",
    "json.dumps(courses, separators=(',', ':'))"
   ]
  },
  {
   "cell_type": "markdown",
   "metadata": {},
   "source": [
    "<h2>JSON - Encoding and Decoding issues</h2>\n",
    "Sometimes encoding and decoding aren't perfect<br>\n",
    "The encoding and decoding does not always give us the <br>\n",
    "original data type.  You might have to cast the values<br>\n",
    "back to the original type."
   ]
  },
  {
   "cell_type": "code",
   "execution_count": null,
   "metadata": {},
   "outputs": [],
   "source": [
    "card = (9,\"Hearts\")\n",
    "print(type(card))\n",
    "encoded_hand = json.dumps(card)\n",
    "print(f'Encoded = {encoded_hand}')\n",
    "decoded_hand = json.loads(encode_hand)\n",
    "print(f'Decoded = {decoded_hand}')\n",
    "\n",
    "# Are they equal\n",
    "if encoded_hand == decoded_hand:\n",
    "    print('EQUAL')\n",
    "else:\n",
    "    print('NOT EQUAL')\n",
    "print('='*35)\n",
    "# Which data types are returned?\n",
    "print(f'Encoded type = {type(encoded_hand)}')  # <-- Returned a string\n",
    "print(f'Decoded type = {type(decoded_hand)}')  # <---- Returned a list\n",
    "\n",
    "# The true test is if the original card is equal to the decoded hand\n",
    "# Are they equal\n",
    "print('='*35)\n",
    "if card == decoded_hand:\n",
    "    print('EQUAL')\n",
    "else:\n",
    "    print('NOT EQUAL')\n",
    "\n",
    "# We can force the decoded data type back to the original by casting its values\n",
    "print('='*35)\n",
    "decoded_hand = tuple(decoded_hand)\n",
    "if card == decoded_hand:\n",
    "    print('EQUAL')\n",
    "else:\n",
    "    print('NOT EQUAL')\n"
   ]
  },
  {
   "cell_type": "markdown",
   "metadata": {},
   "source": [
    "<h2>Exercise</h2>\n",
    "Create code that will take the file SUN.csv<br>\n",
    "1 - Create SQLite database named CI_trades<br>\n",
    "2 - Create a table called security_master<br>\n",
    "table structure:<br>\n",
    "id<br>\n",
    "symbol<br>\n",
    "trade_date<br>\n",
    "close_price<br>\n",
    "volume<br>\n",
    "\n",
    "3 - Read the data in from the text file and using SQLAlchemy store the data<br>\n",
    "4 - Create a function called get_price which uses the symbol to<br>\n",
    "retreive the symbol, date, closing price and volume using SQLAlchemy <br>\n",
    "returned in json format<br>\n",
    "<code>\n",
    "Date,Open,High,Low,Close,Adj Close,Volume\n",
    "2019-03-25,30.639999,30.969999,30.370001,30.680000,24.523441,233500\n",
    "2019-03-26,30.690001,31.080000,30.690001,30.850000,24.659325,174200\n",
    "2019-03-27,30.850000,31.150000,30.770000,30.840000,24.651331,213700\n",
    "2019-03-28,30.879999,31.120001,30.780001,31.100000,24.859158,114700\n",
    "2019-03-29,31.150000,31.200001,31.000000,31.160000,24.907114,236900\n",
    "2019-04-01,31.200001,31.469999,30.980000,31.459999,25.146914,201800\n",
    "2019-04-02,31.500000,31.879999,31.350000,31.660000,25.306780,242100\n",
    "</code>"
   ]
  },
  {
   "cell_type": "code",
   "execution_count": null,
   "metadata": {},
   "outputs": [],
   "source": []
  },
  {
   "cell_type": "markdown",
   "metadata": {},
   "source": [
    "This notebook is part of a course at www.codeimmersives.com called **Python Flask and Django**. If you accessed this notebook outside the course, \n",
    "you can get more information about this course online by clicking [here](https://www.codeimmersives.com/programs/python-aws/)."
   ]
  },
  {
   "cell_type": "markdown",
   "metadata": {},
   "source": [
    "<hr>\n",
    "\n",
    "Copyright &copy; 2021"
   ]
  }
 ],
 "metadata": {
  "kernelspec": {
   "display_name": "Python 3",
   "language": "python",
   "name": "python3"
  },
  "language_info": {
   "codemirror_mode": {
    "name": "ipython",
    "version": 3
   },
   "file_extension": ".py",
   "mimetype": "text/x-python",
   "name": "python",
   "nbconvert_exporter": "python",
   "pygments_lexer": "ipython3",
   "version": "3.7.4"
  }
 },
 "nbformat": 4,
 "nbformat_minor": 4
}