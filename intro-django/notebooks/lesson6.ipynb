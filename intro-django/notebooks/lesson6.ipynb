{
 "cells": [
  {
   "cell_type": "markdown",
   "metadata": {},
   "source": [
    "\n",
    "### Agenda\n",
    "<div class=\"alert alert-block alert-info\" style=\"margin-top: 20px\">\n",
    "\n",
    "1.  [Review](#0)<br>\n",
    "2.  [jinja](#2)<br> \n",
    "3.  [POST and GET requests](#4)<br>     \n",
    "4.  [SQlAlchemy](#3)<br> \n",
    "</div>\n",
    "<hr>"
   ]
  },
  {
   "cell_type": "markdown",
   "metadata": {},
   "source": [
    "<h2>Review</h2>"
   ]
  },
  {
   "cell_type": "markdown",
   "metadata": {},
   "source": [
    "You can use jinja to call a function in several ways<br>\n",
    "1 - A function without arguments<br>"
   ]
  },
  {
   "cell_type": "code",
   "execution_count": 3,
   "metadata": {},
   "outputs": [
    {
     "data": {
      "text/plain": [
       "'10'"
      ]
     },
     "execution_count": 3,
     "metadata": {},
     "output_type": "execute_result"
    }
   ],
   "source": [
    "from jinja2 import Template\n",
    "\n",
    "template = Template(\"{{ fnc() }}\")\n",
    "template.render(fnc=lambda: 10)"
   ]
  },
  {
   "cell_type": "markdown",
   "metadata": {},
   "source": [
    "<h2>Exercise</h2>\n",
    "Create an flask app that gets your username from the computer environment<br>\n",
    "The endpoint is:<br>\n",
    "/<br>\n",
    "<code>\n",
    "import getpass\n",
    "getpass.getuser()\n",
    "</code>\n",
    "<br>\n",
    "will get your username<br>\n",
    "The function passed to the jinja template should be 'get_user_name()''"
   ]
  },
  {
   "cell_type": "code",
   "execution_count": null,
   "metadata": {},
   "outputs": [],
   "source": []
  },
  {
   "cell_type": "markdown",
   "metadata": {},
   "source": [
    "The 2nd way to call a function in a template<br>\n",
    "2 - A function with arguments<br>"
   ]
  },
  {
   "cell_type": "code",
   "execution_count": 5,
   "metadata": {},
   "outputs": [
    {
     "data": {
      "text/plain": [
       "'20'"
      ]
     },
     "execution_count": 5,
     "metadata": {},
     "output_type": "execute_result"
    }
   ],
   "source": [
    "from jinja2 import Template\n",
    "\n",
    "# evaluating a function with argument\n",
    "template = Template(\"{{ fnc(x) }}\")\n",
    "template.render(fnc=lambda v: v, x='20')"
   ]
  },
  {
   "cell_type": "markdown",
   "metadata": {},
   "source": [
    "Examine the code below which randomly choose an item from a list of<br>\n",
    "items to purchase and then uses a dictionary to look up the cost.<br>\n",
    "If the item is not found.  It asks for a price check.  Run the code<br>\n",
    "several times to get the random price check."
   ]
  },
  {
   "cell_type": "code",
   "execution_count": null,
   "metadata": {},
   "outputs": [],
   "source": [
    "from flask import Flask\n",
    "from jinja2 import Template\n",
    "import random\n",
    "import os\n",
    "os.chdir('C:\\\\Projects\\\\Code immersives\\\\')\n",
    "\n",
    "app = Flask(__name__) \n",
    "\n",
    "@app.route('/cost')\n",
    "def greeting():\n",
    "    store_purchase = random.choice(['Soda','Bread','Water','Kombucha','Fiji Water'])\n",
    "    x = \"\"\"\n",
    "<p>{{func(item)}}</b></p>\n",
    "\"\"\"\n",
    "    template = Template(x)\n",
    "    return template.render(func=get_item_cost, item =store_purchase )\n",
    "\n",
    "def get_item_cost(i):\n",
    "    item_cost = {'Soda':1.99,\n",
    "                'Bread': 4.99,\n",
    "                'Water': 1.00,\n",
    "                'Kombucha': 3.99}\n",
    "    return f'{i} cost = ${item_cost.get(i)}' if item_cost.get(i) else f'Price Check for {i} !!!'\n",
    "    \n",
    "if __name__ == '__main__':\n",
    "    app.run(host='localhost',debug=True, port=8000)"
   ]
  },
  {
   "cell_type": "markdown",
   "metadata": {},
   "source": [
    "jinja function<br>\n",
    "3 - A function with key word arguments (kwargs)<br>"
   ]
  },
  {
   "cell_type": "code",
   "execution_count": 6,
   "metadata": {},
   "outputs": [
    {
     "data": {
      "text/plain": [
       "'30'"
      ]
     },
     "execution_count": 6,
     "metadata": {},
     "output_type": "execute_result"
    }
   ],
   "source": [
    "from jinja2 import Template\n",
    "\n",
    "template = Template(\"{{ fnc(v=30) }}\")\n",
    "template.render(fnc=lambda v: v)"
   ]
  },
  {
   "cell_type": "markdown",
   "metadata": {},
   "source": [
    "Below is an example of calling a template with a kwarg"
   ]
  },
  {
   "cell_type": "code",
   "execution_count": null,
   "metadata": {},
   "outputs": [],
   "source": [
    "from flask import Flask\n",
    "from jinja2 import Template\n",
    "import random\n",
    "import os\n",
    "os.chdir('C:\\\\Projects\\\\Code immersives\\\\')\n",
    "\n",
    "app = Flask(__name__) \n",
    "\n",
    "@app.route('/cost')\n",
    "def greeting():\n",
    "    x = \"\"\"\n",
    "<p>{{func(tax=8.78)}}</b></p>\n",
    "\"\"\"\n",
    "    template = Template(x)\n",
    "    return template.render(func=get_item_cost)\n",
    "\n",
    "def get_item_cost(**kwargs):\n",
    "    print(kwargs)\n",
    "    i = random.choice(['Soda','Bread','Water','Kombucha','Fiji Water'])\n",
    "    tax = kwargs['tax']\n",
    "    item_cost = {'Soda':1.99,\n",
    "                'Bread': 4.99,\n",
    "                'Water': 1.00,\n",
    "                'Kombucha': 3.99}\n",
    "    return f'{i} cost = ${item_cost.get(i)*float(1 + (tax/100))}' if item_cost.get(i) else f'Price Check for {i} !!!'\n",
    "    \n",
    "if __name__ == '__main__':\n",
    "    app.run(host='localhost',debug=True, port=8000)"
   ]
  },
  {
   "cell_type": "markdown",
   "metadata": {},
   "source": [
    "<h2>jinja template code</h2>\n",
    "We can use the code below as a template to parse a list or dictionary<br>\n",
    "```<br>\n",
    "{% for item in my_list %}<br>\n",
    "{{ item }}{# print evaluate item #}<br>\n",
    "{% endfor %}<br>\n",
    "{# or #}<br>\n",
    "{% for key, value in my_dictionary.items() %}<br>\n",
    "{{ key }}: {{ value }}<br>\n",
    "{% endfor %}<br>\n",
    "```\n",
    "<br>"
   ]
  },
  {
   "cell_type": "markdown",
   "metadata": {},
   "source": [
    "<h2>Exercise</h2>\n",
    "Write an app that convert temperature from one scale to another<br>\n",
    "The routes are as follows:<br>\n",
    "/FtoC<br>\n",
    "/CtoF<br>\n",
    "<br>\n",
    "Which represents - \n",
    "Fahrenheit to Celcius<br>\n",
    "Celcius to Fahrenheit<br>"
   ]
  },
  {
   "cell_type": "code",
   "execution_count": null,
   "metadata": {},
   "outputs": [],
   "source": []
  },
  {
   "cell_type": "markdown",
   "metadata": {},
   "source": [
    "<h2>Exercise</h2>\n",
    "How would you change your code and take in a string of temperatures<br>\n",
    "at each route?<br>\n",
    "Write your code<br>"
   ]
  },
  {
   "cell_type": "code",
   "execution_count": null,
   "metadata": {},
   "outputs": [],
   "source": []
  },
  {
   "cell_type": "markdown",
   "metadata": {},
   "source": [
    "<h2>jinja template code for alternating colored lines</h2>\n",
    "This template can be used to create a table of data \n",
    "<br>\n",
    "```<br>\n",
    "{% for i in ['a', 'b', 'c', 'd'] %}<br>\n",
    "{% if loop.first %}This is the first iteration{% endif %}<br>\n",
    "{% if loop.last %}This is the last iteration{% endif %}<br>\n",
    "{{ loop.cycle('red', 'blue') }}{# print red or blue alternating #}<br>\n",
    "{{ loop.index }} - {{ loop.index0 }} {# 1 indexed index – 0 indexed index #}<br>\n",
    "```"
   ]
  },
  {
   "cell_type": "code",
   "execution_count": null,
   "metadata": {},
   "outputs": [],
   "source": []
  },
  {
   "cell_type": "markdown",
   "metadata": {},
   "source": [
    "Flask has different decorators to handle http requests. <br>\n",
    "Http protocol is the basis for data communication in the World Wide Web. <br>\n",
    "The decorators use different Request types:<br>\n",
    " GET \tThe most common method. A GET message is send, and the server returns data<br>\n",
    " POST \tUsed to send HTML form data to the server. The data received by the POST method is not cached by the server.<br>\n",
    " HEAD \tSame as GET method, but no response body.<br>\n",
    " PUT \tReplace all current representations of the target resource with uploaded content.<br>\n",
    " DELETE \tDeletes all current representations of the target resource given by the URL.<br>\n",
    " <br>\n",
    " Create a file called 'form.html' and place it in your templates directory<br>\n",
    " Use the code below<br>\n",
    "```\n",
    " <!-- example 1 -->\n",
    "<form method='post' action='.'>\n",
    "<input type='text' name='username' />\n",
    "<input type='password' name='passwd' />\n",
    "<input type='submit' />\n",
    "</form>\n",
    "```\n",
    "<br>\n",
    "This is a simple request form with 2 fields and a button<br>\n",
    "Afterwards run the code below which will use the form<br>\n",
    "NOTE: We can then use the form to retreive data from a database"
   ]
  },
  {
   "cell_type": "code",
   "execution_count": null,
   "metadata": {},
   "outputs": [],
   "source": [
    "# \n",
    "from flask import Flask, render_template, request\n",
    "import os\n",
    "os.chdir('C:\\\\Projects\\\\Code immersives\\\\')\n",
    "# from jinja2 import Template\n",
    "app = Flask(__name__)\n",
    "\n",
    "@app.route('/', methods=['get', 'post'])\n",
    "def login_view():\n",
    "    print('*********',os.getcwd())\n",
    "    # the methods that handle requests are called views, in flask\n",
    "    msg = ''\n",
    "    # form is a dictionary like attribute that holds the form data\n",
    "    if request.method == 'POST':\n",
    "        print('POST method')\n",
    "        username = request.form[\"username\"]\n",
    "        passwd = request.form[\"passwd\"]\n",
    "\n",
    "        # static useless validation\n",
    "        if username == 'you' and passwd == 'flask':\n",
    "            msg = 'Username and password are correct'\n",
    "        else:\n",
    "            msg = 'Username or password are incorrect'\n",
    "        return f\"<h1>*** {msg} ***</h1>\"\n",
    "    else:\n",
    "        print('***** GET method *****')\n",
    "        return render_template('form.html', message=msg)\n",
    "\n",
    "if __name__ == '__main__':\n",
    "    app.run(host='localhost',debug=True, port=8000)"
   ]
  },
  {
   "cell_type": "markdown",
   "metadata": {},
   "source": [
    "<h2>Examine the code</h2>\n",
    "As the code above was ran we included a couple of print statements to examine<br>\n",
    "the code flow.  The first time you hit the route the get request method was run.<br>\n",
    "Look at the HTML code in the form you will see a POST method.  <br>\n",
    "When the submit button was hit the route request.method now is a 'POST'<br>"
   ]
  },
  {
   "cell_type": "code",
   "execution_count": null,
   "metadata": {},
   "outputs": [],
   "source": []
  },
  {
   "cell_type": "markdown",
   "metadata": {},
   "source": [
    "<h2>SQLAlchemy</h2>\n",
    "What is ORM?\n",
    "\n",
    "ORM (Object Relational Mapping) is a programming technique for converting data between <br>\n",
    "incompatible type systems in object-oriented programming languages. Usually, the type system<br>\n",
    "used in an Object Oriented (OO) language like Python contains non-scalar types. These cannot be<br> \n",
    "expressed as primitive types such as integers and strings. Hence, the OO programmer has to convert<br> \n",
    "objects in scalar data to interact with backend database. However, data types in most of the database<br> \n",
    "products such as Oracle, MySQL, etc., are primary.\n",
    "\n",
    "In an ORM system, each class maps to a table in the underlying database. Instead of writing tedious<br> \n",
    "database interfacing code yourself, an ORM takes care of these issues for you while you can focus on<br> \n",
    "programming the logics of the system.<br>\n",
    "<br>\n",
    "It works with to name a few:<br>\n",
    "SQLite<br>\n",
    "MySQL<br>\n",
    "PostgreSQL<br>\n",
    "<br>\n",
    "To install type:<br>\n",
    "pip install sqlalchemy"
   ]
  },
  {
   "cell_type": "markdown",
   "metadata": {},
   "source": [
    "Expression Language is one of the core components of SQLAlchemy. It allows the programmer to specify SQL statements in Python code and use it directly in more complex queries. Expression language is independent of backend and comprehensively covers every aspect of raw SQL. It is closer to raw SQL than any other component in SQLAlchemy.\n",
    "\n",
    "Expression Language represents the primitive constructs of the relational database directly. Because the ORM is based on top of Expression language, a typical Python database application may have overlapped use of both. The application may use expression language alone, though it has to define its own system of translating application concepts into individual database queries.\n",
    "\n",
    "Statements of Expression language will be translated into corresponding raw SQL queries by SQLAlchemy engine. "
   ]
  },
  {
   "cell_type": "markdown",
   "metadata": {},
   "source": [
    "<code>\n",
    "import os\n",
    "from sqlalchemy import create_engine\n",
    "\n",
    "os.chdir('C:\\\\Projects\\\\Code_immersives\\\\')\n",
    "engine = create_engine('sqlite:///college.db', echo = True)\n",
    "</code>"
   ]
  },
  {
   "cell_type": "code",
   "execution_count": 3,
   "metadata": {},
   "outputs": [],
   "source": [
    "import os\n",
    "from sqlalchemy import create_engine\n",
    "\n",
    "os.chdir('C:\\\\Projects\\\\Code_immersives\\\\')\n",
    "\n",
    "engine = create_engine('sqlite:///college.db', echo = True)"
   ]
  },
  {
   "cell_type": "markdown",
   "metadata": {},
   "source": [
    "<h4>Creating a table</h4>\n",
    "In the code below we demonstate creating a database and creating a table<br>\n",
    "We are not fully utilizing the flexibility of the ORM until we<br>\n",
    "create class objects for each table"
   ]
  },
  {
   "cell_type": "code",
   "execution_count": 4,
   "metadata": {},
   "outputs": [
    {
     "name": "stdout",
     "output_type": "stream",
     "text": [
      "2021-08-10 18:46:53,702 INFO sqlalchemy.engine.Engine BEGIN (implicit)\n",
      "2021-08-10 18:46:53,720 INFO sqlalchemy.engine.Engine PRAGMA main.table_info(\"students\")\n",
      "2021-08-10 18:46:53,723 INFO sqlalchemy.engine.Engine [raw sql] ()\n",
      "2021-08-10 18:46:53,728 INFO sqlalchemy.engine.Engine PRAGMA temp.table_info(\"students\")\n",
      "2021-08-10 18:46:53,731 INFO sqlalchemy.engine.Engine [raw sql] ()\n",
      "2021-08-10 18:46:53,734 INFO sqlalchemy.engine.Engine \n",
      "CREATE TABLE students (\n",
      "\tid INTEGER NOT NULL, \n",
      "\tname VARCHAR, \n",
      "\tlastname VARCHAR, \n",
      "\tPRIMARY KEY (id)\n",
      ")\n",
      "\n",
      "\n",
      "2021-08-10 18:46:53,736 INFO sqlalchemy.engine.Engine [no key 0.00161s] ()\n",
      "2021-08-10 18:46:53,766 INFO sqlalchemy.engine.Engine COMMIT\n"
     ]
    }
   ],
   "source": [
    "# ---- WORKS\n",
    "import os\n",
    "from sqlalchemy import create_engine, MetaData, Table, Column, Integer, String\n",
    "\n",
    "\n",
    "engine = create_engine('sqlite:///college.db', echo = True)\n",
    "meta = MetaData()\n",
    "\n",
    "students = Table(\n",
    "   'students', meta, \n",
    "   Column('id', Integer, primary_key = True), \n",
    "   Column('name', String), \n",
    "   Column('lastname', String),\n",
    ")\n",
    "meta.create_all(engine)"
   ]
  },
  {
   "cell_type": "markdown",
   "metadata": {},
   "source": [
    "<h2>SQLAlchemy example</h2><br>\n",
    "Create the following 2 programs.  Each program name is listed as a comment<br>\n",
    "on the first fine.  <br>\n",
    "Read all of the comments in the code to understand each element<br>\n",
    "At the command line run: python sqlalchemy_insert.py<br>\n",
    "View the new record in a SQLite management app"
   ]
  },
  {
   "cell_type": "code",
   "execution_count": null,
   "metadata": {},
   "outputs": [],
   "source": [
    "# sqlalchemy_declaritive.py\n",
    "import os\n",
    "import sys\n",
    "from sqlalchemy import Column, ForeignKey, Integer, String\n",
    "from sqlalchemy.ext.declarative import declarative_base\n",
    "from sqlalchemy.orm import relationship\n",
    "from sqlalchemy import create_engine\n",
    " \n",
    "Base = declarative_base()   # All clases inherit from here\n",
    " \n",
    "class Person(Base):\n",
    "    __tablename__ = 'person'\n",
    "    # Here we define columns for the table person\n",
    "    # Notice that each column is also a normal Python instance attribute.\n",
    "    id = Column(Integer, primary_key=True)\n",
    "    first_name = Column(String(250), nullable=False)\n",
    "    last_name = Column(String(250), nullable=False)\n",
    " \n",
    "class Address(Base):\n",
    "    __tablename__ = 'address'\n",
    "    # Here we define columns for the table address.\n",
    "    # Notice that each column is also a normal Python instance attribute.\n",
    "    id = Column(Integer, primary_key=True)\n",
    "    street_name = Column(String(250))\n",
    "    street_number = Column(String(250))\n",
    "    post_code = Column(String(250), nullable=False)\n",
    "    person_id = Column(Integer, ForeignKey('person.id'))\n",
    "    person = relationship(Person)     # Related to this table by the foreign key\n",
    " \n",
    "# Create an engine that stores data in the local directory's\n",
    "# sqlalchemy_example.db file.\n",
    "engine = create_engine('sqlite:///sqlalchemy_CI.db')\n",
    " \n",
    "# Create all tables in the engine. This is equivalent to \"Create Table\"\n",
    "# statements in raw SQL.\n",
    "Base.metadata.create_all(engine)"
   ]
  },
  {
   "cell_type": "code",
   "execution_count": null,
   "metadata": {},
   "outputs": [],
   "source": [
    "# sqlalchemy_insert.py\n",
    "from sqlalchemy import create_engine\n",
    "from sqlalchemy.orm import sessionmaker\n",
    " \n",
    "from sqlalchemy_declarative import Address, Base, Person  # The classes imported\n",
    " \n",
    "engine = create_engine('sqlite:///sqlalchemy_CI.db')\n",
    "# Bind the engine to the metadata of the Base class so that the\n",
    "# declaratives can be accessed through a DBSession instance\n",
    "# \n",
    "Base.metadata.bind = engine\n",
    " \n",
    "DBSession = sessionmaker(bind=engine)\n",
    "# A DBSession() instance establishes all conversations with the database\n",
    "# and represents a \"staging zone\" for all the objects loaded into the\n",
    "# database session object. Any change made against the objects in the\n",
    "# session won't be persisted into the database until you call\n",
    "# session.commit(). If you're not happy about the changes, you can\n",
    "# revert all of them back to the last commit by calling\n",
    "# session.rollback()\n",
    "session = DBSession()\n",
    " \n",
    "# Insert a Person in the person table\n",
    "new_person = Person(first_name='Jane', last_name = 'Reiss')\n",
    "session.add(new_person)\n",
    "session.commit()\n",
    "\n",
    " \n",
    "# Insert an Address in the address table\n",
    "new_address = Address(street_number= '11',\n",
    "                    street_name='Washington ave',\n",
    "                    post_code='99001', \n",
    "                    person=new_person)\n",
    "session.add(new_address)\n",
    "session.commit()"
   ]
  },
  {
   "cell_type": "markdown",
   "metadata": {},
   "source": [
    "This notebook is part of a course at www.codeimmersives.com called Rest Apis with Python. If you accessed this notebook outside the course, \n",
    "you can get more information about this course online by clicking [here](https://www.codeimmersives.com/programs/python-aws/)."
   ]
  }
 ],
 "metadata": {
  "kernelspec": {
   "display_name": "Python 3",
   "language": "python",
   "name": "python3"
  },
  "language_info": {
   "codemirror_mode": {
    "name": "ipython",
    "version": 3
   },
   "file_extension": ".py",
   "mimetype": "text/x-python",
   "name": "python",
   "nbconvert_exporter": "python",
   "pygments_lexer": "ipython3",
   "version": "3.7.4"
  }
 },
 "nbformat": 4,
 "nbformat_minor": 4
}