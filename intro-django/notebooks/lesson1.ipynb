{
 "cells": [
  {
   "cell_type": "markdown",
   "metadata": {},
   "source": [
    "### Agenda\n",
    "<div class=\"alert alert-block alert-info\" style=\"margin-top: 20px\">\n",
    "\n",
    "1.  [Review](#0)<br>\n",
    "2.  [OO Programming](#2)<br>\n",
    "3.  [Exercise 1](#4) <br>    \n",
    "4.  [Exercise 2](#6) <br>   \n",
    "</div>\n",
    "<hr>"
   ]
  },
  {
   "cell_type": "markdown",
   "metadata": {},
   "source": [
    "<h3>Review Base Python</h3>"
   ]
  },
  {
   "cell_type": "markdown",
   "metadata": {},
   "source": [
    "<h4>Write a function that takes any word and capitalizes the last letter"
   ]
  },
  {
   "cell_type": "code",
   "execution_count": 23,
   "metadata": {},
   "outputs": [
    {
     "name": "stdout",
     "output_type": "stream",
     "text": [
      "worD\n"
     ]
    }
   ],
   "source": [
    "def capitalize_last(word: str) -> str:\n",
    "    '''Capitalize the last letter of the given word'''\n",
    "    return word[:-1] + word[-1].upper()\n",
    "\n",
    "print(capitalize_last('word'))"
   ]
  },
  {
   "cell_type": "markdown",
   "metadata": {},
   "source": [
    "<h4> Given a dictionary; if the data type of the value is an INT, times by a random int (0-10). If the data type is a TUPLE, remove the second half of it. If it is a STRING, capitalize everything but the first and last letter ('rASHAAn') Lastly, if its a LIST, add 'updated' to the 2nd index"
   ]
  },
  {
   "cell_type": "code",
   "execution_count": 22,
   "metadata": {},
   "outputs": [
    {
     "name": "stdout",
     "output_type": "stream",
     "text": [
      "True\n"
     ]
    }
   ],
   "source": [
    "\n"
   ]
  },
  {
   "cell_type": "markdown",
   "metadata": {},
   "source": [
    "<h4>Create a loan calculator.<br> \n",
    "\n",
    "<h4>Your cousin wants to buy a car. The car is 25,000. The APR is 6%. The term is 5 years<br> What woulbe be there montly payment.<br> Calcute the price difference if their interest rate went down to 2.75% <br>"
   ]
  },
  {
   "cell_type": "code",
   "execution_count": null,
   "metadata": {},
   "outputs": [],
   "source": [
    "def car_loan(price: float, apr: float, term: int) -> float:\n",
    "    '''Calculate monthly payment of a car loan'''\n",
    "    monthly_interest = apr / 12 * price\n",
    "    "
   ]
  },
  {
   "cell_type": "markdown",
   "metadata": {},
   "source": [
    "<h4>Write a the prime number funciton as a list comp<br></h4>"
   ]
  },
  {
   "cell_type": "code",
   "execution_count": null,
   "metadata": {},
   "outputs": [],
   "source": []
  },
  {
   "cell_type": "markdown",
   "metadata": {},
   "source": [
    "<h3> Try and Except"
   ]
  },
  {
   "cell_type": "markdown",
   "metadata": {},
   "source": [
    "<h4>Try and except statemens are great if you want to run code and not have it stopped because of a syntax error<br> There are 4 commands when using these<br>\n",
    "\n",
    "The <b>TRY</b> block lets you test a block of code for errors.<br>\n",
    "\n",
    "The <b>EXCEPT</b> block lets you handle the error.<br>\n",
    "\n",
    "The <b>ELSE</b> block lets you execute code when there is no error.<br>\n",
    "\n",
    "The <b>FINALLY</b> block lets you execute code, regardless of the result of the try- and except blocks.<br>"
   ]
  },
  {
   "cell_type": "markdown",
   "metadata": {},
   "source": [
    "<h4> TRY and EXCEPT Example"
   ]
  },
  {
   "cell_type": "code",
   "execution_count": null,
   "metadata": {},
   "outputs": [],
   "source": [
    "for i in range(10):\n",
    "    print(x)"
   ]
  },
  {
   "cell_type": "code",
   "execution_count": null,
   "metadata": {},
   "outputs": [],
   "source": [
    "try:\n",
    "    for i in range(10):\n",
    "        print(x)\n",
    "except:\n",
    "    print('An error has occured')"
   ]
  },
  {
   "cell_type": "markdown",
   "metadata": {},
   "source": [
    "<h4> Multiple Exceptions"
   ]
  },
  {
   "cell_type": "markdown",
   "metadata": {},
   "source": [
    "<h4> You can define as many exception blocks as you want, e.g. if you want to execute a special block of code for a special kind of error:"
   ]
  },
  {
   "cell_type": "code",
   "execution_count": null,
   "metadata": {},
   "outputs": [],
   "source": [
    "try:\n",
    "    for i in range(10):\n",
    "        print(x)\n",
    "        \n",
    "except NameError:\n",
    "    print('x has not been defined')\n",
    "\n",
    "except:\n",
    "    print('Something else went wrong')"
   ]
  },
  {
   "cell_type": "code",
   "execution_count": null,
   "metadata": {},
   "outputs": [],
   "source": [
    "try:\n",
    "    for i in range(10):\n",
    "        i + ('rashaan')\n",
    "        \n",
    "except NameError:\n",
    "    print('x has not been defined')\n",
    "\n",
    "except:\n",
    "    print('Something else went wrong')"
   ]
  },
  {
   "cell_type": "markdown",
   "metadata": {},
   "source": [
    "<h4> ELSE Example"
   ]
  },
  {
   "cell_type": "code",
   "execution_count": null,
   "metadata": {},
   "outputs": [],
   "source": [
    "try:\n",
    "    for i in range(10):\n",
    "        print(i)\n",
    "except:\n",
    "    print('An error has happened')\n",
    "else:\n",
    "    print('Your code is working')"
   ]
  },
  {
   "cell_type": "markdown",
   "metadata": {},
   "source": [
    "<h4> FINALLY EXAMPLE"
   ]
  },
  {
   "cell_type": "code",
   "execution_count": null,
   "metadata": {},
   "outputs": [],
   "source": [
    "try:\n",
    "    for i in range(10):\n",
    "        i + ('rashaan')\n",
    "        \n",
    "except NameError:\n",
    "    print('x has not been defined')\n",
    "\n",
    "except:\n",
    "    print('Something else went wrong')\n",
    "\n",
    "finally:\n",
    "    print('We executed all of the code')"
   ]
  },
  {
   "cell_type": "markdown",
   "metadata": {},
   "source": [
    "<h3> REGEX"
   ]
  },
  {
   "cell_type": "markdown",
   "metadata": {},
   "source": [
    "<h3>A RegEx, or Regular Expression, is a sequence of characters that forms a search pattern.<br>\n",
    "RegEx can be used to check if a string contains the specified search pattern."
   ]
  },
  {
   "cell_type": "markdown",
   "metadata": {},
   "source": [
    "<h3> Metacharacters and Operations<br>\n",
    "\n"
   ]
  },
  {
   "cell_type": "code",
   "execution_count": 29,
   "metadata": {},
   "outputs": [],
   "source": [
    "import re\n",
    "\n",
    "words = 'Who doesnt love Python'\n"
   ]
  },
  {
   "cell_type": "markdown",
   "metadata": {},
   "source": [
    "<h4>Starts with"
   ]
  },
  {
   "cell_type": "code",
   "execution_count": 32,
   "metadata": {},
   "outputs": [
    {
     "name": "stdout",
     "output_type": "stream",
     "text": [
      "<re.Match object; span=(0, 3), match='Who'>\n"
     ]
    }
   ],
   "source": [
    "print(re.search(\"^Who\",words))"
   ]
  },
  {
   "cell_type": "markdown",
   "metadata": {},
   "source": [
    "<h4> To Split at spaces "
   ]
  },
  {
   "cell_type": "code",
   "execution_count": 14,
   "metadata": {},
   "outputs": [
    {
     "name": "stdout",
     "output_type": "stream",
     "text": [
      "['Who', 'doesnt', 'love', 'Python']\n"
     ]
    }
   ],
   "source": [
    "import re\n",
    "\n",
    "words = 'Who doesnt love Python'\n",
    "x = re.split(\"\\s\", words)\n",
    "print(x)"
   ]
  },
  {
   "cell_type": "markdown",
   "metadata": {},
   "source": [
    "<h4> Replace spaces with \"_\""
   ]
  },
  {
   "cell_type": "code",
   "execution_count": 45,
   "metadata": {},
   "outputs": [
    {
     "data": {
      "text/plain": [
       "'Who_doesnt_love_Python'"
      ]
     },
     "execution_count": 45,
     "metadata": {},
     "output_type": "execute_result"
    }
   ],
   "source": [
    "import re\n",
    "\n",
    "words = 'Who doesnt love Python'\n",
    "re.sub('\\s','_',words)"
   ]
  },
  {
   "cell_type": "code",
   "execution_count": null,
   "metadata": {},
   "outputs": [],
   "source": []
  },
  {
   "cell_type": "markdown",
   "metadata": {},
   "source": [
    "<h2>OO programming</h2>"
   ]
  },
  {
   "cell_type": "markdown",
   "metadata": {},
   "source": [
    "<h4>Base class<br>\n",
    "1. Classes start with a capital letter<br>\n",
    "2. Classes can contain methods and attributes</h4>"
   ]
  },
  {
   "cell_type": "code",
   "execution_count": null,
   "metadata": {},
   "outputs": [],
   "source": []
  },
  {
   "cell_type": "markdown",
   "metadata": {},
   "source": [
    "<h4>You can assign attributes on the fly using a dot operator</h4>"
   ]
  },
  {
   "cell_type": "code",
   "execution_count": null,
   "metadata": {},
   "outputs": [],
   "source": [
    "class NumberTheory:\n",
    "    pass\n",
    "num = NumberTheory()\n",
    "num.positive = True\n",
    "print(num.positive)\n",
    "num1 = NumberTheory()\n",
    "num1.positive = False\n",
    "print(num.positive,num1.positive)"
   ]
  },
  {
   "cell_type": "markdown",
   "metadata": {},
   "source": [
    "<h4>We can assign a constructor that initializes attributes using the __init__ method</h4>"
   ]
  },
  {
   "cell_type": "code",
   "execution_count": null,
   "metadata": {},
   "outputs": [],
   "source": [
    "class NumberTheory:\n",
    "    \n",
    "    def __init__(self,num):\n",
    "        self.num = num\n",
    "\n",
    "# We have to assign a number or it will produce an error\n",
    "# num1 = NumberTheory()  # <-------------- TRY THIS\n",
    "num1 = NumberTheory(2)\n",
    "print(num1)\n",
    "\n",
    "# TO GET THE ATTRIBUTE VALUE USE num1.num\n",
    "print(num1.num)\n",
    "\n",
    "num2 = NumberTheory(4)\n",
    "print(num2.num)"
   ]
  },
  {
   "cell_type": "markdown",
   "metadata": {},
   "source": [
    "<h4>Let's use one of the dunder methods to print out something about our number</h4>"
   ]
  },
  {
   "cell_type": "code",
   "execution_count": null,
   "metadata": {},
   "outputs": [],
   "source": [
    "class NumberTheory:\n",
    "    \n",
    "    def __init__(self,num):\n",
    "        self.num = num\n",
    "        \n",
    "    def __str__(self):\n",
    "        return f'The number is {self.num}'\n",
    "\n",
    "num1 = NumberTheory(11)\n",
    "num2 = NumberTheory(55)\n",
    "print(num1)\n",
    "print(num2)\n",
    "\n",
    "    "
   ]
  },
  {
   "cell_type": "markdown",
   "metadata": {},
   "source": [
    "<h4>Let's create some custom methods for our class<br>\n",
    "Let's add the isPrime function to our class</h4>"
   ]
  },
  {
   "cell_type": "code",
   "execution_count": null,
   "metadata": {},
   "outputs": [],
   "source": []
  },
  {
   "cell_type": "markdown",
   "metadata": {},
   "source": [
    "<h4>Let's amend our class to determine if our number is prime or composite</h4>"
   ]
  },
  {
   "cell_type": "code",
   "execution_count": null,
   "metadata": {},
   "outputs": [],
   "source": []
  },
  {
   "cell_type": "markdown",
   "metadata": {},
   "source": [
    "<h4>Exercise 1 for in class or Homework</h4>\n",
    "Add the following methods to your NumberTheory class<br>\n",
    "factors<br>\n",
    "prime factors<br>\n",
    "perfect numbers<br>\n",
    "isFibonacci<br>\n",
    "isSquare<br></h4>"
   ]
  },
  {
   "cell_type": "code",
   "execution_count": null,
   "metadata": {},
   "outputs": [],
   "source": []
  },
  {
   "cell_type": "code",
   "execution_count": null,
   "metadata": {},
   "outputs": [],
   "source": []
  },
  {
   "cell_type": "markdown",
   "metadata": {},
   "source": [
    "<h4>Exercise 2 for in class or Homework</h4>"
   ]
  },
  {
   "cell_type": "markdown",
   "metadata": {},
   "source": [
    "<h4>Using object oriented design principles design a parking lot class which has 5 spaces<br>\n",
    "How would use design your class methods and attributes?<br>\n",
    "Include:<br>\n",
    "number of spaces<br>\n",
    "vehicle size (sedan, XL, SUV, truck)<br>\n",
    "license number<br>\n",
    "Cost per time period to park<br>\n",
    "Clock in time<br>\n",
    "Clock out time<br>\n",
    "Rules like you can't park in  a space if someone is there already<br>\n",
    "Total revenue earned<br>\n",
    "Full lot indicator<br>\n",
    "</h4>"
   ]
  },
  {
   "cell_type": "code",
   "execution_count": null,
   "metadata": {},
   "outputs": [],
   "source": []
  },
  {
   "cell_type": "code",
   "execution_count": null,
   "metadata": {},
   "outputs": [],
   "source": []
  }
 ],
 "metadata": {
  "kernelspec": {
   "display_name": "Python 3.10.2 64-bit",
   "metadata": {
    "interpreter": {
     "hash": "aee8b7b246df8f9039afb4144a1f6fd8d2ca17a180786b69acc140d282b71a49"
    }
   },
   "name": "python3"
  },
  "language_info": {
   "codemirror_mode": {
    "name": "ipython",
    "version": 3
   },
   "file_extension": ".py",
   "mimetype": "text/x-python",
   "name": "python",
   "nbconvert_exporter": "python",
   "pygments_lexer": "ipython3",
   "version": "3.10.2"
  }
 },
 "nbformat": 4,
 "nbformat_minor": 4
}
