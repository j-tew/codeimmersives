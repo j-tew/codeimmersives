{
 "cells": [
  {
   "cell_type": "markdown",
   "metadata": {},
   "source": [
    "### Agenda\n",
    "<div class=\"alert alert-block alert-info\" style=\"margin-top: 20px\">\n",
    "\n",
    "1.  [Review](#0)<br>\n",
    "2.  [Decorators](#2)<br> \n",
    "3.  [Flask](#3)<br> \n",
    "4.  [Exercise 1](#8) <br>    \n",
    "5.  [Exercise 2](#10) <br>   \n",
    "</div>\n",
    "<hr>"
   ]
  },
  {
   "cell_type": "markdown",
   "metadata": {},
   "source": [
    "<h2>Review</h2>"
   ]
  },
  {
   "cell_type": "markdown",
   "metadata": {},
   "source": [
    "<h2>Exercise</h2>\n",
    "Write have a program that prints:<br>\n",
    "<code>\n",
    "Welcome to Code Immersives<br>\n",
    "</code>\n",
    "As a function called school_welcome<br>\n",
    "<code>\n",
    "    def school_welcome():\n",
    "        # Code here\n",
    "    \n",
    "    # Call the function here\n",
    "</code>"
   ]
  },
  {
   "cell_type": "code",
   "execution_count": 27,
   "metadata": {},
   "outputs": [],
   "source": [
    "@stars\n",
    "@big_letters\n",
    "def school_welcome() -> str:\n",
    "    '''A welcome message'''\n",
    "    return 'Welcome to Code Immersives'"
   ]
  },
  {
   "cell_type": "markdown",
   "metadata": {},
   "source": [
    "<h2>Exercise</h2>\n",
    "<h4>Single Decorator</h4>\n",
    "Augment your code above using a decorator to print the following message instead:<br>\n",
    "<br>\n",
    "*** Welcome to Code Immersives ***<br>"
   ]
  },
  {
   "cell_type": "code",
   "execution_count": 25,
   "metadata": {},
   "outputs": [
    {
     "name": "stdout",
     "output_type": "stream",
     "text": [
      "==================================\n",
      "*** Welcome to Code Immersives ***\n",
      "==================================\n"
     ]
    }
   ],
   "source": [
    "def stars(func) -> str:\n",
    "    '''Decorate that boring a** text'''\n",
    "    def inner():\n",
    "        og_str = func()\n",
    "        return f'{\"=\"*(len(og_str)+8)}\\n*** {og_str} ***\\n{\"=\"*(len(og_str)+8)}'\n",
    "    return inner\n",
    "\n",
    "print(school_welcome())"
   ]
  },
  {
   "cell_type": "markdown",
   "metadata": {},
   "source": [
    "<h2>Exercise</h2>\n",
    "<h4>Decorator enhancements</h4>\n",
    "Change your decorator to add a double line above and below<br>\n",
    "your welcome line.<br>\n",
    "<code>\n",
    "==================================\n",
    "*** Welcome to Code Immersives ***\n",
    "==================================\n",
    "</code>\n",
    "NOTE: The length of all lines should be the same"
   ]
  },
  {
   "cell_type": "code",
   "execution_count": null,
   "metadata": {},
   "outputs": [],
   "source": []
  },
  {
   "cell_type": "markdown",
   "metadata": {},
   "source": [
    "<h2>Exercise</h2>\n",
    "<h4>Multiple Decorators </h4>\n",
    "Add a new decorator called upper case which will change your message<br>\n",
    "To all upper case"
   ]
  },
  {
   "cell_type": "code",
   "execution_count": 28,
   "metadata": {},
   "outputs": [
    {
     "name": "stdout",
     "output_type": "stream",
     "text": [
      "==================================\n",
      "*** WELCOME TO CODE IMMERSIVES ***\n",
      "==================================\n"
     ]
    }
   ],
   "source": [
    "def big_letters(func) -> str:\n",
    "    '''Letter steroids'''\n",
    "    def inner():\n",
    "        return func().upper()\n",
    "    return inner\n",
    "\n",
    "print(school_welcome())"
   ]
  },
  {
   "cell_type": "markdown",
   "metadata": {},
   "source": [
    "<h4>Which decorator executes first?</h4>\n",
    "Add a new decorator called lower_case to see which decorator is executed last<br>\n",
    "<code>\n",
    "@upper_case\n",
    "@enhance_welcome\n",
    "@lower_case\n",
    "</code>"
   ]
  },
  {
   "cell_type": "code",
   "execution_count": null,
   "metadata": {},
   "outputs": [],
   "source": []
  },
  {
   "cell_type": "markdown",
   "metadata": {},
   "source": [
    "From our experiment we can conclude that the decorator executes<br>\n",
    "in the following order<br>\n",
    "<br>\n",
    "<code>\n",
    "@decorator_executed_3rd\n",
    "@decorator_executed_2nd\n",
    "@decorator_executed_1st\n",
    "def some_function():\n",
    "    return results\n",
    "</code>"
   ]
  },
  {
   "cell_type": "markdown",
   "metadata": {},
   "source": [
    "<h2>Exercise</h2>"
   ]
  },
  {
   "cell_type": "markdown",
   "metadata": {},
   "source": [
    "We have a dictionary that has names as the key and employee ids as the values<br>\n",
    "We have made the assumption that all employee names are unique.<br>\n",
    "<br>\n",
    "The first letter of the employee id is coded to indicate that the gender of employee<br>\n",
    "is coded as follows:<br>\n",
    "    0 - Male<br>\n",
    "    1 - Female<br>\n",
    "<code>\n",
    "employees = {'John Carey': '023788',\n",
    "            'Florence Wright': '134599',\n",
    "            'Abraham Torah': '044412',\n",
    "            'Rose Deedham': '199343'}<br>\n",
    "</code>\n",
    "Output the following: Title + last name<br>\n",
    "<code>\n",
    "Mr. Carey\n",
    "Ms. Wright\n",
    "Mr. Torah\n",
    "Ms. Deedham\n",
    "</code>"
   ]
  },
  {
   "cell_type": "code",
   "execution_count": 48,
   "metadata": {},
   "outputs": [
    {
     "name": "stdout",
     "output_type": "stream",
     "text": [
      "Mr. Carey Ms. Wright Mr. Torah Ms. Deedham\n"
     ]
    }
   ],
   "source": [
    "employees = {'John Carey': '023788',\n",
    "            'Florence Wright': '134599',\n",
    "            'Abraham Torah': '044412',\n",
    "            'Rose Deedham': '199343'}\n",
    "\n",
    "print(*[f'Mr. {name.split()[1]}' if employee_id[0] == '0' else f'Ms. {name.split()[1]}' for name, employee_id in employees.items()])"
   ]
  },
  {
   "cell_type": "markdown",
   "metadata": {},
   "source": [
    "<h4>Decorator with parameters</h4>\n",
    "We can use decorators with parameters<br>\n",
    "The code below will print a string 2 times on separate lines\n"
   ]
  },
  {
   "cell_type": "code",
   "execution_count": 82,
   "metadata": {},
   "outputs": [
    {
     "ename": "TypeError",
     "evalue": "can only concatenate str (not \"list\") to str",
     "output_type": "error",
     "traceback": [
      "\u001b[0;31m---------------------------------------------------------------------------\u001b[0m",
      "\u001b[0;31mTypeError\u001b[0m                                 Traceback (most recent call last)",
      "\u001b[1;32m/home/outlaw/codeimmersives/intro-django/lesson3.ipynb Cell 18'\u001b[0m in \u001b[0;36m<module>\u001b[0;34m\u001b[0m\n\u001b[1;32m      <a href='vscode-notebook-cell:/home/outlaw/codeimmersives/intro-django/lesson3.ipynb#ch0000017?line=7'>8</a>\u001b[0m \u001b[39m@print_2x\u001b[39m    \u001b[39m# <==== Comment out this line and the phrase only prints once\u001b[39;00m\n\u001b[1;32m      <a href='vscode-notebook-cell:/home/outlaw/codeimmersives/intro-django/lesson3.ipynb#ch0000017?line=8'>9</a>\u001b[0m \u001b[39mdef\u001b[39;00m \u001b[39mprint_phrase\u001b[39m(\u001b[39m*\u001b[39mphrases):\n\u001b[1;32m     <a href='vscode-notebook-cell:/home/outlaw/codeimmersives/intro-django/lesson3.ipynb#ch0000017?line=9'>10</a>\u001b[0m     \u001b[39mreturn\u001b[39;00m \u001b[39mlist\u001b[39m(phrases)\n\u001b[0;32m---> <a href='vscode-notebook-cell:/home/outlaw/codeimmersives/intro-django/lesson3.ipynb#ch0000017?line=11'>12</a>\u001b[0m \u001b[39mprint\u001b[39m(print_phrase(\u001b[39m*\u001b[39;49m[\u001b[39m'\u001b[39;49m\u001b[39mI Love Python\u001b[39;49m\u001b[39m'\u001b[39;49m, \u001b[39m'\u001b[39;49m\u001b[39mPython Loves Me\u001b[39;49m\u001b[39m'\u001b[39;49m]))\n",
      "\u001b[1;32m/home/outlaw/codeimmersives/intro-django/lesson3.ipynb Cell 18'\u001b[0m in \u001b[0;36mprint_2x.<locals>.wrapper\u001b[0;34m(*args)\u001b[0m\n\u001b[1;32m      <a href='vscode-notebook-cell:/home/outlaw/codeimmersives/intro-django/lesson3.ipynb#ch0000017?line=1'>2</a>\u001b[0m \u001b[39mdef\u001b[39;00m \u001b[39mwrapper\u001b[39m(\u001b[39m*\u001b[39margs):\n\u001b[1;32m      <a href='vscode-notebook-cell:/home/outlaw/codeimmersives/intro-django/lesson3.ipynb#ch0000017?line=2'>3</a>\u001b[0m     results \u001b[39m=\u001b[39m \u001b[39m'\u001b[39m\u001b[39m'\u001b[39m\n\u001b[0;32m----> <a href='vscode-notebook-cell:/home/outlaw/codeimmersives/intro-django/lesson3.ipynb#ch0000017?line=3'>4</a>\u001b[0m     results \u001b[39m+\u001b[39m\u001b[39m=\u001b[39m func(\u001b[39m*\u001b[39margs)\n\u001b[1;32m      <a href='vscode-notebook-cell:/home/outlaw/codeimmersives/intro-django/lesson3.ipynb#ch0000017?line=4'>5</a>\u001b[0m     \u001b[39mreturn\u001b[39;00m results\n",
      "\u001b[0;31mTypeError\u001b[0m: can only concatenate str (not \"list\") to str"
     ]
    }
   ],
   "source": [
    "def print_2x(func):\n",
    "    def wrapper(*args):\n",
    "        results = ''\n",
    "        results += func(*args)\n",
    "        return results\n",
    "    return wrapper\n",
    "\n",
    "@print_2x    # <==== Comment out this line and the phrase only prints once\n",
    "def print_phrase(*phrases):\n",
    "    return list(phrases)\n",
    "\n",
    "print(print_phrase(*['I Love Python', 'Python Loves Me']))"
   ]
  },
  {
   "cell_type": "markdown",
   "metadata": {},
   "source": [
    "<h2>Exercise</h2>\n",
    "Change the code above and make the number of lines printed<br>\n",
    "by the decorator a parameter passed."
   ]
  },
  {
   "cell_type": "code",
   "execution_count": 70,
   "metadata": {},
   "outputs": [
    {
     "name": "stdout",
     "output_type": "stream",
     "text": [
      "1 2 3 4 5\n",
      "1 2 3\n"
     ]
    }
   ],
   "source": [
    "d = {'1': 'I', '2': 'Love', '3': 'Python'}\n",
    "\n",
    "print(*[1, 2, 3, 4, 5])\n",
    "print(*d)"
   ]
  },
  {
   "cell_type": "markdown",
   "metadata": {},
   "source": [
    "<h4>Decorator functions with decorator arguments</h4>\n",
    "We can pass arguments in a decorator"
   ]
  },
  {
   "cell_type": "code",
   "execution_count": null,
   "metadata": {},
   "outputs": [],
   "source": [
    "def decorate_number(arg1,arg2,arg3):  # Passes in 5,10,15\n",
    "    def wrapper(func):\n",
    "        def inside_wrapper(*args):    # Passes in 3\n",
    "            result = func(*args)      # returns 3 * 2 = 6\n",
    "            return result * arg1 + arg2 + arg3  # returns 6 * 5 + 10 + 15\n",
    "        return inside_wrapper \n",
    "    return wrapper\n",
    "\n",
    "@decorate_number(5,10,15)             # decorator arguments\n",
    "def get_math(num):\n",
    "    return num * 2\n",
    "\n",
    "print(get_math(3))\n",
    "\n",
    "for i in range(5,11):\n",
    "    print(get_math(i))"
   ]
  },
  {
   "cell_type": "markdown",
   "metadata": {},
   "source": [
    "<h2>Exercise</h2>"
   ]
  },
  {
   "cell_type": "markdown",
   "metadata": {},
   "source": [
    "We have an established system and throughout the code base we use a function<br>\n",
    "called format_employee_id.  After acquiring a new human resources system we are required<br>\n",
    "to change the employee id only for certain modules that interface with the H.R. system.<br>\n",
    "The change is to add a dash and a checksum at the end of each employee id.<br><br>\n",
    "The specification for the checksum is:<br>\n",
    "\n",
    "Add all of the digits up except the first digit and divide by 9 the output should<br>\n",
    "be the a dash and the remainder of the division<br>\n",
    "```\n",
    "def format_employee_id(emp_id):   # Existing employee id formatter.  Do not change the original\n",
    "    return f'{emp_id[0]}-{emp_id[1:]}'\n",
    "\n",
    "employees = {'John Carey': '023788',\n",
    "            'Florence Wright': '134599',\n",
    "            'Abraham Torah': '044412',\n",
    "            'Rose Deedham': '199343'}\n",
    "\"\"\" \n",
    "Results:\n",
    "Carey, John, 0-23788-1\n",
    "Wright, Florence, 1-34599-3\n",
    "Torah, Abraham, 0-44412-6\n",
    "Deedham, Rose, 1-99343-1\n",
    "\"\"\"\n",
    "```\n",
    "<br>\n",
    "For John Carey if we take the digits except the first we get 23788. Adding the digits gives us 28<br>\n",
    "If we divide by 9 the remainder is 1.  The id is now:<br>\n",
    "John,Carey, 0-23788-1"
   ]
  },
  {
   "cell_type": "code",
   "execution_count": null,
   "metadata": {},
   "outputs": [],
   "source": []
  },
  {
   "cell_type": "markdown",
   "metadata": {},
   "source": [
    "<h2>Flask</h2>"
   ]
  },
  {
   "cell_type": "markdown",
   "metadata": {},
   "source": [
    "Is a microframework used to delivery data using a protocol called<br>\n",
    "Web Server Gateway Interface (WSGI). You would typically use flask to allow<br>\n",
    "the delivery of data through the URL browser by establishing an endpoint.<br>\n",
    "```\n",
    "from flask import Flask\n",
    "app = Flask(__name__)\n",
    "```"
   ]
  },
  {
   "cell_type": "markdown",
   "metadata": {},
   "source": [
    "Clients such as web browsers send requests to the web server, which in turn sends them<br>\n",
    "to the Flask application instance. The application instance needs to know what code<br>\n",
    "needs to run for each URL requested, so it keeps a mapping of URLs to Python functions.<br>\n",
    "The association between a URL and the function that handles it is called a route.<br>\n",
    "We define a route in a Flask application through the app.route decorator exposed by the<br> \n",
    "application instance, which registers the decorated function as a route. The following example<br>\n",
    "shows how a route is declared using this decorator:<br>\n",
    "```\n",
    "@app.route('/')\n",
    "def index():\n",
    "    return '<h1>Hello World!</h1>'\n",
    "```"
   ]
  },
  {
   "cell_type": "code",
   "execution_count": null,
   "metadata": {},
   "outputs": [],
   "source": [
    "from flask import Flask\n",
    "\n",
    "app = Flask(__name__)\n",
    "\n",
    "@app.route('/')\n",
    "def index():\n",
    "    return '<h1>Hello World!</h1>'"
   ]
  },
  {
   "cell_type": "markdown",
   "metadata": {},
   "source": [
    "When you run the above code nothing happens.  To see the result of the code<br>\n",
    "Go to a blank browser window and type in the following or click on the link:<br>\n",
    "    http://127.0.0.1:5000/"
   ]
  },
  {
   "cell_type": "code",
   "execution_count": null,
   "metadata": {},
   "outputs": [],
   "source": [
    "from flask import Flask\n",
    "app = Flask(__name__)\n",
    "\n",
    "@app.route('/')\n",
    "def hello():\n",
    "    return \"Hello World!\"\n",
    "\n",
    "\n",
    "@app.route('/<name>')    # The new endpoint\n",
    "def hello_name(name):\n",
    "    return f\"<h1>Hello {name}!</h1>\"\n",
    "\n",
    "if __name__ == '__main__':\n",
    "    app.run()\n"
   ]
  },
  {
   "cell_type": "markdown",
   "metadata": {},
   "source": [
    "When you run the above code nothing happens. To see the result of the code<br>\n",
    "Go to a blank browser window and type in the following or click on the link:<br>\n",
    "http://127.0.0.1:5000/Stella"
   ]
  },
  {
   "cell_type": "markdown",
   "metadata": {},
   "source": [
    "<H2>Exercise</H2>\n",
    "You are working in the H.R. department and you have to mask the<br>\n",
    "sensitive employee salary data based on an employee's security clearance<br>\n",
    "<br>\n",
    "Create the following:<br>\n",
    "1 - A class called 'SecurityClearance' which accepts the emp name and their clearance level<br>\n",
    "2 - The levels = 0 to 4<br>\n",
    "3 - By default  if you create an instance and do not include the clearance it defaults to 0<br>\n",
    "4 - When you print the instance it prints: 'Name' your clearance is '3'<br>\n",
    "5 - You have a private class variable: \n",
    "    <code>\n",
    "    _clearance = { 0:'0', 1:'1' , 2:'2' , 3:'3', 4:'All'}\n",
    "    </code>\n",
    "   <br>\n",
    "6 - Create a private method called _showLevel which will give the value of the dictionary<br>\n",
    "7 - Create a new class called CleanDocument<br>\n",
    "8 - It contains the static method called getSalary which has parameter field and sec_level<br>\n",
    "9 - The salary is masked as follows<br>\n",
    "<code>\n",
    "Level - Salary<br>\n",
    "All- 22500 ---> 22500 - No masking<br>\n",
    "3 - 22500 --> $X2500<br>\n",
    "2 - 22500 --> $XX500<br>\n",
    "1 - 22500 --> $XXX00<br>\n",
    "0 - 22500 --> $XXXXX<br>\n",
    "</code>\n",
    "Create an employee for each level and print the following salaries for each level<br>\n",
    "salaries = [20000,150000,359822]"
   ]
  },
  {
   "cell_type": "code",
   "execution_count": null,
   "metadata": {},
   "outputs": [],
   "source": []
  },
  {
   "cell_type": "markdown",
   "metadata": {},
   "source": [
    "<h2>Exercise</h2>\n",
    "The dictionary below represents the sales for a region<br>\n",
    "<code>\n",
    "balances = {'NE': [95,103,67,70], 'SE': [45,35,98, 120, 103]}\n",
    "</code>\n",
    "<br>\n",
    "The keys are the regions SE - South East, NE - North East<br>\n",
    "Write the code to extract the region and all sales greater than or equal <br>\n",
    "to 100 as a tuple"
   ]
  },
  {
   "cell_type": "code",
   "execution_count": null,
   "metadata": {},
   "outputs": [],
   "source": [
    "# write your solution here"
   ]
  },
  {
   "cell_type": "markdown",
   "metadata": {},
   "source": [
    "Double-click __here__ for the solution.\n",
    "<!-- The correct answer is:\n",
    "\n",
    "balances = {'NE': [95,103,67,70], 'SE': [45,35,98, 120, 103]}\n",
    "for key,value in balances.items():\n",
    "    for v in value:\n",
    "        if v > 100:\n",
    "            print((key,v))\n",
    "# \n",
    "ans = [val for i,val in enumerate(balances.values()) ] # if val[i] > 100 ]\n",
    "print(ans)\n",
    "\n",
    "-->"
   ]
  },
  {
   "cell_type": "markdown",
   "metadata": {},
   "source": [
    "This notebook is part of a course at www.codeimmersives.com called Rest Apis with Python. If you accessed this notebook outside the course, \n",
    "you can get more information about this course online by clicking [here](https://www.codeimmersives.com/programs/python-aws/).\n"
   ]
  }
 ],
 "metadata": {
  "kernelspec": {
   "display_name": "Python 3.10.2 64-bit",
   "metadata": {
    "interpreter": {
     "hash": "aee8b7b246df8f9039afb4144a1f6fd8d2ca17a180786b69acc140d282b71a49"
    }
   },
   "name": "python3"
  },
  "language_info": {
   "codemirror_mode": {
    "name": "ipython",
    "version": 3
   },
   "file_extension": ".py",
   "mimetype": "text/x-python",
   "name": "python",
   "nbconvert_exporter": "python",
   "pygments_lexer": "ipython3",
   "version": "3.10.2"
  }
 },
 "nbformat": 4,
 "nbformat_minor": 4
}
