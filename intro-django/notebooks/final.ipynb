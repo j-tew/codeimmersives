{
 "cells": [
  {
   "cell_type": "markdown",
   "metadata": {},
   "source": [
    "<a href=\"https://codeimmersives.com\"><img src = \"https://www.codeimmersives.com/wp-content/uploads/2019/09/CodeImmersives_Logo_RGB_NYC_BW.png\" width = 400> </a>\n",
    "\n",
    "\n",
    "<h1 align=center><font size = 5>Final Project</font></h1>"
   ]
  },
  {
   "cell_type": "markdown",
   "metadata": {},
   "source": [
    "You are a health care analyst helping to build out your companies health care<br>\n",
    "portal.  In doing this you have to abide by many federal rules about data <br>\n",
    "privacy.  This exercise will test your knowledge of flask, jinja, SQL Alchemy,<br>\n",
    "data mungling, data cleaning, File IO, SQL skills and data analysis<br>\n",
    "<code>\n",
    "The HIPAA Privacy Rule establishes national standards to protect individuals' \n",
    "medical records and other personal health information and applies to health plans, \n",
    "health care clearinghouses, and those health care providers that conduct certain \n",
    "health care transactions electronically.\n",
    "</code>"
   ]
  },
  {
   "cell_type": "markdown",
   "metadata": {},
   "source": [
    "<h2>Import the following files</h2>\n",
    "Import and clean the following files and using SQL Alchemy load<br>\n",
    "them to a SQLite database called CI_FLASK_DJANGO_your_lastname:<br>\n",
    "1 - 2021_medical_codes.xlsx<br>\n",
    "2 - patient_accounts.csv<br>\n",
    "3 - patient_transactions.csv<br>\n",
    "<br>\n",
    "Provide an employee portal using jinja templates and Flask<br>"
   ]
  },
  {
   "cell_type": "markdown",
   "metadata": {},
   "source": [
    "<h2>Project Directory - 5 points</h2>\n",
    "Name a variable proj_dir<br>\n",
    "<code>\n",
    "proj_dir = 'users\\\\my_name\\\\my_directory\\\\'\n",
    "</code>"
   ]
  },
  {
   "cell_type": "code",
   "execution_count": null,
   "metadata": {},
   "outputs": [],
   "source": [
    "# Your answer here\n",
    "proj_dir = 'YOUR DIRECTORY'"
   ]
  },
  {
   "cell_type": "markdown",
   "metadata": {},
   "source": [
    "<h2>Name the SQLite database - 5 points</h2>\n",
    "The name should follow this convention:<br>\n",
    "CI_FLASK_DJANGO_your_lastname<br>"
   ]
  },
  {
   "cell_type": "code",
   "execution_count": null,
   "metadata": {},
   "outputs": [],
   "source": [
    "# Your answer here\n",
    "import os\n",
    "import sys\n",
    "from sqlalchemy import Column, ForeignKey, Integer, String\n",
    "from sqlalchemy.ext.declarative import declarative_base\n",
    "from sqlalchemy.orm import relationship, sessionmaker\n",
    "from sqlalchemy import create_engine\n",
    "# ---------------------------------------------\n"
   ]
  },
  {
   "cell_type": "markdown",
   "metadata": {},
   "source": [
    "<h2>Process the file '2021_medical_codes.xlsx' - 10 points</h2>\n",
    "Load the file into a table called medical_codes<br>\n",
    "1 - You must use either openpyxl or pandas<br>\n",
    "2 - You must use SQL Alchemy<br>\n",
    "3 - Clean the file<br>\n",
    "4 - Display the first 50 records of the medical codes:<br>\n",
    "code, description, category in description order<br>\n",
    "5 - Create a route called /med_codes .  If the user enters a code<br>\n",
    "it pulls up the code, description and category<br>\n",
    "6 - Create another route called /med_descript .  If you enter a <br>\n",
    "word it will display all values that contain that word in the description<br>\n",
    "You must enter at least 2 characters otherwise display an error page<br>\n",
    "The results are in a table format: code, description, category"
   ]
  },
  {
   "cell_type": "code",
   "execution_count": null,
   "metadata": {},
   "outputs": [],
   "source": [
    "# Your code here\n",
    "# CODE(5)\tDESCRIPTION(50)\tCATEGORY(30)\n",
    "import pandas as pd\n"
   ]
  },
  {
   "cell_type": "code",
   "execution_count": null,
   "metadata": {},
   "outputs": [],
   "source": [
    "import os\n",
    "import sys\n",
    "from sqlalchemy import create_engine, MetaData, BigInteger, CHAR, Column, DateTime, Float, Integer, SmallInteger, String, Table, Unicode, text\n",
    "from sqlalchemy.ext.declarative import declarative_base\n",
    "from sqlalchemy.orm import relationship, sessionmaker\n",
    "from sqlalchemy import create_engine\n"
   ]
  },
  {
   "cell_type": "code",
   "execution_count": null,
   "metadata": {},
   "outputs": [],
   "source": [
    "# test_function_get.py\n",
    "# coding:utf-8\n",
    "from flask import Flask\n",
    "from jinja2 import Template\n",
    "import random\n",
    "import os\n",
    "from flask import Flask, render_template, request\n",
    "import sys\n",
    "from sqlalchemy import create_engine, MetaData, BigInteger, CHAR, Column, DateTime, Float, Integer, SmallInteger, String, Table, Unicode, text\n",
    "from sqlalchemy.ext.declarative import declarative_base\n",
    "from sqlalchemy.orm import relationship, sessionmaker\n",
    "from sqlalchemy import create_engine\n",
    "\n"
   ]
  },
  {
   "cell_type": "code",
   "execution_count": null,
   "metadata": {},
   "outputs": [],
   "source": [
    "# show_med_code.html\n"
   ]
  },
  {
   "cell_type": "code",
   "execution_count": null,
   "metadata": {},
   "outputs": [],
   "source": []
  },
  {
   "cell_type": "code",
   "execution_count": null,
   "metadata": {},
   "outputs": [],
   "source": []
  },
  {
   "cell_type": "markdown",
   "metadata": {},
   "source": [
    "<h2>Process the file patient_accounts.txt - 10 points</h2>\n",
    "1 - Clean the file<br>\n",
    "2 - You must use SQL Alchemy to store the data in a table called 'patient_accounts'<br>\n",
    "The columns are emp_id,title,gender,last name, first name,salary,state,city <br>\n",
    "The salary should be a numeric type with no decimals<br>\n",
    "3 - Create a route called /emp_id .  If the emp_id is entered the individual<br>\n",
    "employee record is displayed - all of the data<br>\n",
    "4 - Create a route called /emp_search/last . The user will enter in a full or partial<br>\n",
    "last name.  At least 2 characters are required.  When the data is displayed we need<br>\n",
    "to mask the last 3 character of the first name and the last 3 characters of the first name.<br>\n",
    "In the case the name is only 3 characters or less display only the first character<br>\n",
    "The mask will work like the following:<br>\n",
    "Frances King ----> Franxxx Kxxx<br>\n",
    "Janet Wu ----> Jaxxx W<br>\n",
    "<br>\n",
    "Cap the output to the first 50 records"
   ]
  },
  {
   "cell_type": "code",
   "execution_count": null,
   "metadata": {},
   "outputs": [],
   "source": [
    "# Your code here\n",
    "import pandas as pd\n",
    "\n"
   ]
  },
  {
   "cell_type": "code",
   "execution_count": null,
   "metadata": {},
   "outputs": [],
   "source": [
    "# To delete a table\n",
    "import os\n",
    "import sys\n",
    "from sqlalchemy import create_engine, MetaData, BigInteger, CHAR, Column, DateTime, Float, Integer, SmallInteger, String, Table, Unicode, text\n",
    "from sqlalchemy.ext.declarative import declarative_base\n",
    "from sqlalchemy.orm import relationship, sessionmaker\n",
    "from sqlalchemy import create_engine\n",
    "\n",
    "\n"
   ]
  },
  {
   "cell_type": "code",
   "execution_count": null,
   "metadata": {},
   "outputs": [],
   "source": [
    "import os\n",
    "import sys\n",
    "from sqlalchemy import create_engine, MetaData, BigInteger, CHAR, Column, DateTime, Float, Integer, SmallInteger, String, Table, Unicode, text\n",
    "from sqlalchemy.ext.declarative import declarative_base\n",
    "from sqlalchemy.orm import relationship, sessionmaker\n",
    "from sqlalchemy import create_engine\n",
    "\n"
   ]
  },
  {
   "cell_type": "code",
   "execution_count": null,
   "metadata": {},
   "outputs": [],
   "source": [
    "# Final code for previous question\n",
    "# coding:utf-8\n",
    "from flask import Flask\n",
    "from jinja2 import Template\n",
    "import random\n",
    "import os\n",
    "from flask import Flask, render_template, request\n",
    "import sys\n",
    "from sqlalchemy import create_engine, MetaData, BigInteger, CHAR, Column, DateTime, Float, \\\n",
    " Integer, SmallInteger, String, Table, Unicode, text, and_ , or_ \n",
    "from sqlalchemy.ext.declarative import declarative_base\n",
    "from sqlalchemy.orm import relationship, sessionmaker\n",
    "\n",
    "\n"
   ]
  },
  {
   "cell_type": "markdown",
   "metadata": {},
   "source": [
    "<h2>Special Route - 5 points</h2>\n",
    "Create a route called /salary .  The user will enter a range:<br>\n",
    "/salary/50-75<br>\n",
    "or<br>\n",
    "/salary/50_75<br>\n",
    "The numbers are in the thousands and will return all the employees<br>\n",
    "who match that criteria in Descending order<br>\n",
    "emp_id,title,gender,last name, first name,salary,state,city <br>\n",
    "In table format with the criteris chosen on the page"
   ]
  },
  {
   "cell_type": "code",
   "execution_count": null,
   "metadata": {},
   "outputs": [],
   "source": [
    "# coding:utf-8\n",
    "from flask import Flask\n",
    "from jinja2 import Template\n",
    "import random\n",
    "import os\n",
    "from flask import Flask, render_template, request\n",
    "import sys\n",
    "from sqlalchemy import create_engine, MetaData, BigInteger, CHAR, Column, DateTime, Float, \\\n",
    " Integer, SmallInteger, String, Table, Unicode, text, and_ , or_ \n",
    "from sqlalchemy.ext.declarative import declarative_base\n",
    "from sqlalchemy.orm import relationship, sessionmaker\n",
    "\n",
    "\n"
   ]
  },
  {
   "cell_type": "markdown",
   "metadata": {},
   "source": [
    "<h2>Process the file patient_transactions.csv - 5 points</h2>\n",
    "1 - You must use SQL Alchemy to store the data in a table called 'patient_transactions'<br>\n",
    "2 - Clean the file<br>\n",
    "3 - The data fields are:<br>\n",
    "emp_id,trans_id,procedure_date,medical_code,procedure_price"
   ]
  },
  {
   "cell_type": "code",
   "execution_count": null,
   "metadata": {},
   "outputs": [],
   "source": [
    "# Your code here\n",
    "import pandas as pd\n"
   ]
  },
  {
   "cell_type": "code",
   "execution_count": null,
   "metadata": {},
   "outputs": [],
   "source": [
    "import datetime\n",
    "import os\n",
    "import sys\n",
    "from sqlalchemy import create_engine, MetaData, BigInteger, CHAR, Column, DateTime, Float, Integer, SmallInteger, String, Table, Unicode, text\n",
    "from sqlalchemy.ext.declarative import declarative_base\n",
    "from sqlalchemy.orm import relationship, sessionmaker\n",
    "from sqlalchemy import create_engine\n"
   ]
  },
  {
   "cell_type": "markdown",
   "metadata": {},
   "source": [
    "<h2>Create a employee health care portal - 10 points</h2>\n",
    "1 - The routes are /employee/portal <br>\n",
    "You enter in the complete employee id and 2 tables appear on the screen.<br>\n",
    "A single line table with: emp_id,title,gender,last name, first name,salary,state,city <br>\n",
    "Another table with the following data:<br>\n",
    "emp_id,trans_id,procedure_date,medical_code,procedure_price<br>\n",
    "The data should be in ascending procedure date order <br>\n",
    "If no data exists do not print a table<br>\n",
    "print a summary under the transactions table that print:<br>\n",
    "Total procedures X total cost $99,999"
   ]
  },
  {
   "cell_type": "code",
   "execution_count": null,
   "metadata": {},
   "outputs": [],
   "source": [
    "# coding:utf-8\n",
    "from flask import Flask\n",
    "from jinja2 import Template\n",
    "import random\n",
    "import os\n",
    "from flask import Flask, render_template, request\n",
    "import sys\n",
    "from sqlalchemy import create_engine, MetaData, BigInteger, CHAR, Column, DateTime, Float, \\\n",
    " Integer, SmallInteger, String, Table, Unicode, text, and_ , or_ \n",
    "from sqlalchemy.ext.declarative import declarative_base\n",
    "from sqlalchemy.orm import relationship, sessionmaker\n",
    "\n",
    "\n"
   ]
  },
  {
   "cell_type": "code",
   "execution_count": null,
   "metadata": {},
   "outputs": [],
   "source": [
    "# show_emp_transactions.html\n"
   ]
  },
  {
   "cell_type": "markdown",
   "metadata": {},
   "source": [
    "<h2>Create a Human Resources health care portal - 10 points</h2>\n",
    "<h4>Part 1</h4>\n",
    "NOTE: mask all employee last and first names here<br>\n",
    "1 - The routes are /HR/portal <br>\n",
    "like -- > /HR/portal/EE-0010006\n",
    "You enter in the employee id<br>\n",
    "A single line table with: emp_id,title,gender,last name, first name,salary,state,city <br>\n",
    "Another table with the transaction data <br>\n",
    "This is the same as the employee portal but a different route<br>\n",
    "<br>\n",
    "2 - Using the same route if a procedure code is entered instead the following table is displayed<br>\n",
    "Page header H2 - All employees who used medical code name and description<br>\n",
    "emp_id,employee name,gender,trans_id,procedure_date,procedure_price<br>\n",
    "Summary the average cost per male patient: 99,999 average cost per female patient: 99,999"
   ]
  },
  {
   "cell_type": "code",
   "execution_count": null,
   "metadata": {},
   "outputs": [],
   "source": [
    "# Your code here - NOT COMPLETE\n",
    "# coding:utf-8\n",
    "from flask import Flask\n",
    "from jinja2 import Template\n",
    "import random\n",
    "import os\n",
    "from flask import Flask, render_template, request\n",
    "import sys\n",
    "from sqlalchemy import create_engine, MetaData, BigInteger, CHAR, Column, DateTime, Float, \\\n",
    " Integer, SmallInteger, String, Table, Unicode, text, and_ , or_ \n",
    "from sqlalchemy.ext.declarative import declarative_base\n",
    "from sqlalchemy.orm import relationship, sessionmaker\n",
    "\n",
    "\n"
   ]
  },
  {
   "cell_type": "markdown",
   "metadata": {},
   "source": [
    "<h2>Create a Human Resources health care portal - 20 points</h2>\n",
    "<h4>Part 2</h4>\n",
    "1 - Create a route called /HR/summary <br>\n",
    "create a table with the following:<br>\n",
    "year, number of employees, number of procedures, total cost, mean cost, median, mode , standard deviation<br>\n",
    "<br>\n",
    "2 - Create a route called /HR/benefit_cost <br>\n",
    "create a table with the following:<br>\n",
    "title, year, number of employees, number of procedures, total cost, mean cost, median, mode , standard deviation"
   ]
  },
  {
   "cell_type": "code",
   "execution_count": null,
   "metadata": {},
   "outputs": [],
   "source": [
    "# Your code here"
   ]
  },
  {
   "cell_type": "markdown",
   "metadata": {},
   "source": [
    "<h2>EVERYTHING BELOW ARE BONUS QUESTIONS</h2>"
   ]
  },
  {
   "cell_type": "markdown",
   "metadata": {},
   "source": [
    "<h2>Data analysis - 15 points</h2>\n",
    "<h4>Part 1</h4>\n",
    "The EEOC received a complaint under the whistle blower act that the cost<br>\n",
    "of medical care for women were charged at a premium,  Your job as the health<br>\n",
    "care analyst is to investigate this claim before it reaches the press.<br>\n",
    "1 - Using Pandas pull all data where there are procedures for both men and women<br>\n",
    "2 - Calculate the mean cost and standard deviation for these procedures<br>\n",
    "3 - If there is a difference? Report what the difference is.  Draw a conclusion"
   ]
  },
  {
   "cell_type": "code",
   "execution_count": null,
   "metadata": {},
   "outputs": [],
   "source": [
    "# Your code here"
   ]
  },
  {
   "cell_type": "markdown",
   "metadata": {},
   "source": [
    "<h2>Data analysis - 5 points</h2>\n",
    "<h4>Part 2</h4>\n",
    "1 - Create a horizontal bar chart of the total cost of procedures by title<br>\n",
    "2 - Create a bar chart of the total cost of procedures by year<br>\n",
    "3 - Create pie charts of the total cost of medical care split between men and women for each year<br>\n",
    "4 - Create a route /HR/Charts/Cost and display all of the charts mentioned above"
   ]
  },
  {
   "cell_type": "code",
   "execution_count": null,
   "metadata": {},
   "outputs": [],
   "source": [
    "# Your code here"
   ]
  },
  {
   "cell_type": "markdown",
   "metadata": {},
   "source": [
    "<h2>Bonus Questions</h2><br>\n",
    "Each question is worth 5 points<br>\n",
    "1 - Create a frequency distribution chart of all salaries.  Is this a normal distribution?<br>\n",
    "2 - Create a cumulative frequency distribution chart of all salaries<br>\n",
    "3 - Calculate the mean, median, mode, standard deviation of all salaries<br>\n",
    "4 - Calculate the mean, median, mode, standard deviation of all salaries for men and women separately<br>\n",
    "5 - Calculate the mean, median, mode, standard deviation of all salaries \n",
    "for men and women separately by title<br>"
   ]
  },
  {
   "cell_type": "code",
   "execution_count": null,
   "metadata": {},
   "outputs": [],
   "source": [
    "# Your code here"
   ]
  },
  {
   "cell_type": "markdown",
   "metadata": {},
   "source": [
    "<h2>Bonus Questions</h2><br>\n",
    "Using SQLite<br>\n",
    "Each question is worth 5 points<br>\n",
    "1 - Display the top 10 procedures done in descending order<br>\n",
    "2 - Display the top 10 procedures by cost<br>\n",
    "3 - Display the top 10 procedure costs by employee name (include gender)<br>"
   ]
  },
  {
   "cell_type": "code",
   "execution_count": null,
   "metadata": {},
   "outputs": [],
   "source": [
    "# Your code here"
   ]
  },
  {
   "cell_type": "code",
   "execution_count": null,
   "metadata": {},
   "outputs": [],
   "source": []
  },
  {
   "cell_type": "markdown",
   "metadata": {},
   "source": [
    "This notebook is part of a course at www.codeimmersives.com called **Python Flask and Django**. If you accessed this notebook outside the course, \n",
    "you can get more information about this course online by clicking [here](https://www.codeimmersives.com/programs/python-aws/)."
   ]
  },
  {
   "cell_type": "markdown",
   "metadata": {},
   "source": [
    "<hr>\n",
    "\n",
    "Copyright &copy; 2021  Code Immersives"
   ]
  }
 ],
 "metadata": {
  "kernelspec": {
   "display_name": "Python 3",
   "language": "python",
   "name": "python3"
  },
  "language_info": {
   "codemirror_mode": {
    "name": "ipython",
    "version": 3
   },
   "file_extension": ".py",
   "mimetype": "text/x-python",
   "name": "python",
   "nbconvert_exporter": "python",
   "pygments_lexer": "ipython3",
   "version": "3.7.4"
  }
 },
 "nbformat": 4,
 "nbformat_minor": 4
}