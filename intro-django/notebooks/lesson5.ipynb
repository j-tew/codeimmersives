{
 "cells": [
  {
   "cell_type": "markdown",
   "metadata": {},
   "source": [
    "### Agenda\n",
    "<div class=\"alert alert-block alert-info\" style=\"margin-top: 20px\">\n",
    "\n",
    "1.  [Review](#0)<br>\n",
    "2.  [jinja templates](#2)<br> \n",
    "3.  [SQLite](#3)<br> \n",
    "4.  [Exercise 1](#8) <br>    \n",
    "5.  [Exercise 2](#10) <br>  \n",
    "6.  [Exercise 3](#12) <br>     \n",
    "</div>\n",
    "<hr>"
   ]
  },
  {
   "cell_type": "code",
   "execution_count": null,
   "metadata": {},
   "outputs": [],
   "source": [
    "sqlite_directory = 'c:\\\\Projects\\\\code Immersives\\\\SQlite'"
   ]
  },
  {
   "cell_type": "markdown",
   "metadata": {},
   "source": [
    "<h2>Review of HTML</h2>\n",
    "    Review the different elements of HTML in teh code blocks below<br>\n",
    "    Add some of them to your default Hello code to see how they are rendered."
   ]
  },
  {
   "cell_type": "code",
   "execution_count": null,
   "metadata": {},
   "outputs": [],
   "source": [
    "\"\"\"\n",
    "<!DOCTYPE html>\n",
    "<html>\n",
    "<head>\n",
    "<title>Title of the document</title>\n",
    "</head>\n",
    "\n",
    "<body>\n",
    "The content of the document......\n",
    "</body>\n",
    "\n",
    "</html> \n",
    "\n",
    "\"\"\""
   ]
  },
  {
   "cell_type": "code",
   "execution_count": null,
   "metadata": {},
   "outputs": [],
   "source": [
    "\n",
    "\"\"\"\n",
    "<!DOCTYPE html>\n",
    "<html>\n",
    "<head>\n",
    "<style>\n",
    "samp { \n",
    "  font-family: monospace;\n",
    "}\n",
    "</style>\n",
    "</head>\n",
    "<body>\n",
    "\n",
    "<p>A samp element is displayed like this:</p>\n",
    "\n",
    "<samp>Sample output from a computer program</samp>\n",
    "\n",
    "<p>Change the default CSS settings to see the effect.</p>\n",
    "\n",
    "</body>\n",
    "</html>\n",
    "\"\"\""
   ]
  },
  {
   "cell_type": "code",
   "execution_count": null,
   "metadata": {},
   "outputs": [],
   "source": [
    "# Render a table\n",
    "\"\"\"\n",
    " <table>\n",
    "  <tr>\n",
    "    <th>Month</th>\n",
    "    <th>Savings</th>\n",
    "  </tr>\n",
    "  <tr>\n",
    "    <td>January</td>\n",
    "    <td>$100</td>\n",
    "  </tr>\n",
    "</table> \n",
    "\"\"\""
   ]
  },
  {
   "cell_type": "code",
   "execution_count": null,
   "metadata": {},
   "outputs": [],
   "source": [
    "# Render a bordered table\n",
    "\"\"\"\n",
    "<!DOCTYPE html>\n",
    "<html>\n",
    "<head>\n",
    "</head>\n",
    "<body>\n",
    "\n",
    "<h1>The table element</h1>\n",
    "\n",
    "<table>\n",
    "  <tr>\n",
    "    <th>Month</th>\n",
    "    <th>Savings</th>\n",
    "  </tr>\n",
    "  <tr>\n",
    "    <td>January</td>\n",
    "    <td>$100</td>\n",
    "  </tr>\n",
    "  <tr>\n",
    "    <td>February</td>\n",
    "    <td>$80</td>\n",
    "  </tr>\n",
    "</table>\n",
    "\n",
    "</body>\n",
    "</html>\n",
    "\"\"\""
   ]
  },
  {
   "cell_type": "code",
   "execution_count": null,
   "metadata": {},
   "outputs": [],
   "source": [
    "# multi column table\n",
    "\"\"\"\n",
    "<!DOCTYPE html>\n",
    "<html>\n",
    "<head>\n",
    "\n",
    "</head>\n",
    "<body>\n",
    "\n",
    "<h1>The table element</h1>\n",
    "\n",
    "<table>\n",
    "  <tr>\n",
    "    <th>Category</th>\n",
    "    <th>Savings</th>\n",
    "    <th>Jan</th>\n",
    "    <th>Feb</th>\n",
    "    <th>Mar</th>\n",
    "  </tr>\n",
    "  <tr>\n",
    "    <td>Sales</td>\n",
    "    <td>$100</td>\n",
    "    <td>$100</td>\n",
    "    <td>$100</td>\n",
    "    <td>$100</td>\n",
    "  </tr>\n",
    "  <tr>\n",
    "    <td>Commission</td>\n",
    "    <td>$80</td>\n",
    "    <td>$180</td>\n",
    "    <td>$340</td>\n",
    "    <td>$800</td>\n",
    "  </tr>\n",
    "</table>\n",
    "\n",
    "</body>\n",
    "</html>\n",
    "\"\"\""
   ]
  },
  {
   "cell_type": "code",
   "execution_count": null,
   "metadata": {},
   "outputs": [],
   "source": [
    "# green color background\n",
    "\"\"\"\n",
    " <table style=\"background-color:#00FF00\">\n",
    "  <tr>\n",
    "    <th>Month</th>\n",
    "    <th>Savings</th>\n",
    "  </tr>\n",
    "  <tr>\n",
    "    <td>January</td>\n",
    "    <td>$100</td>\n",
    "  </tr>\n",
    "  <tr>\n",
    "    <td>February</td>\n",
    "    <td>$80</td>\n",
    "  </tr>\n",
    "</table> \n",
    "\"\"\""
   ]
  },
  {
   "cell_type": "code",
   "execution_count": null,
   "metadata": {},
   "outputs": [],
   "source": [
    "# table width\n",
    "\"\"\"\n",
    " <table style=\"width:400px\">\n",
    "  <tr>\n",
    "    <th>Month</th>\n",
    "    <th>Savings</th>\n",
    "  </tr>\n",
    "  <tr>\n",
    "    <td>January</td>\n",
    "    <td>$100</td>\n",
    "  </tr>\n",
    "  <tr>\n",
    "    <td>February</td>\n",
    "    <td>$80</td>\n",
    "  </tr>\n",
    "</table> \n",
    "\"\"\""
   ]
  },
  {
   "cell_type": "code",
   "execution_count": null,
   "metadata": {},
   "outputs": [],
   "source": [
    "# column headers\n",
    "\"\"\"\n",
    " <table>\n",
    "  <tr>\n",
    "    <th>Name</th>\n",
    "    <th>Email</th>\n",
    "    <th>Phone</th>\n",
    "  </tr>\n",
    "  <tr>\n",
    "    <td>John Doe</td>\n",
    "    <td>john.doe@example.com</td>\n",
    "    <td>123-45-678</td>\n",
    "  </tr>\n",
    "</table> \n",
    "\"\"\""
   ]
  },
  {
   "cell_type": "code",
   "execution_count": null,
   "metadata": {},
   "outputs": [],
   "source": [
    "# span 2 columns XXXXX\n",
    "\"\"\"\n",
    " <table style=\"width:300px>\n",
    "  <tr>\n",
    "    <th>Name</th>\n",
    "    <th>Email</th>\n",
    "    <th colspan=\"2\">Phone</th>\n",
    "  </tr>\n",
    "  <tr>\n",
    "    <td>John Doe</td>\n",
    "    <td>john.doe@example.com</td>\n",
    "    <td>123-45-678</td>\n",
    "    <td>212-00-546</td>\n",
    "  </tr>\n",
    "</table> \n",
    "\"\"\"\"\"\""
   ]
  },
  {
   "cell_type": "code",
   "execution_count": null,
   "metadata": {},
   "outputs": [],
   "source": [
    "# Un order list different bullet marks\n",
    "\"\"\"\n",
    " <ul style=\"list-style-type:circle\">\n",
    "  <li>Coffee</li>\n",
    "  <li>Tea</li>\n",
    "  <li>Milk</li>\n",
    "</ul>\n",
    "\n",
    "<ul style=\"list-style-type:disc\">\n",
    "  <li>Coffee</li>\n",
    "  <li>Tea</li>\n",
    "  <li>Milk</li>\n",
    "</ul>\n",
    "\n",
    "<ul style=\"list-style-type:square\">\n",
    "  <li>Coffee</li>\n",
    "  <li>Tea</li>\n",
    "  <li>Milk</li>\n",
    "</ul> \n",
    "\"\"\""
   ]
  },
  {
   "cell_type": "code",
   "execution_count": null,
   "metadata": {},
   "outputs": [],
   "source": [
    "# Single space and double space lists\n",
    "\"\"\"\n",
    " <ol style=\"line-height:80%\">\n",
    "  <li>Coffee</li>\n",
    "  <li>Tea</li>\n",
    "  <li>Milk</li>\n",
    "</ol>\n",
    "\n",
    "<ol style=\"line-height:180%\">\n",
    "  <li>Coffee</li>\n",
    "  <li>Tea</li>\n",
    "  <li>Milk</li>\n",
    "</ol> \n",
    "\"\"\""
   ]
  },
  {
   "cell_type": "markdown",
   "metadata": {},
   "source": [
    "<h2>Custom error pages</h2>\n",
    "We can create our own custom error pages to respond to an error<br>\n",
    "Create the file \\templates\\404.html in your templates directory.<br>\n",
    "The directory should be under your project directory.\n",
    "Add the following code to your last program<br>\n",
    "<br>\n",
    "<code>\n",
    "<h1>PAGE NOT FOUND. TRY AGAIN!!!</h1>\n",
    "</code>\n",
    "type in the following in a browser to render the error page<br>\n",
    "<br>\n",
    "http://localhost:8000/indexs<br>\n",
    "NOTICE the misspelling of the endpoint"
   ]
  },
  {
   "cell_type": "code",
   "execution_count": null,
   "metadata": {},
   "outputs": [],
   "source": [
    "from flask import Flask, render_template\n",
    "import os\n",
    "os.chdir('C:\\\\Projects\\\\Code immersives\\\\')\n",
    "\n",
    "app = Flask(__name__) \n",
    "\n",
    "@app.route('/index')\n",
    "def index():\n",
    "    return render_template('index.html')\n",
    "\n",
    "@app.route('/user/<name>')\n",
    "def user(name):\n",
    "    return render_template('user.html, name=name')\n",
    "\n",
    "@app.errorhandler(404)\n",
    "def page_not_found(e):\n",
    "    return render_template('404.html'), 404\n",
    "\n",
    "@app.errorhandler(500)\n",
    "def internal_server_error(e):\n",
    "    return render_template('500.html'), 500\n",
    "\n",
    "if __name__ == '__main__':\n",
    "    app.run(host='localhost',debug=True, port=8000)\n"
   ]
  },
  {
   "cell_type": "markdown",
   "metadata": {},
   "source": [
    "<h2>Multiple route maps</h2>\n",
    "Multiple routes can be mapped to the same function.  <br>\n",
    "<code>\n",
    "@app.route(\"/\")\n",
    "@app.route(\"/index\")\n",
    "@app.route(\"/Index\")\n",
    "def hello():\n",
    "    return \"Hello World!\"\n",
    "</code>\n",
    "<br>\n",
    "<br>\n",
    "NOTE: Case matters !!!!!"
   ]
  },
  {
   "cell_type": "markdown",
   "metadata": {},
   "source": [
    "<h2>Exercise</h2>\n",
    "Create code to map the following code to the same route:<br>\n",
    "/Greetings<br>\n",
    "/Welcome<br>\n",
    "/<br>"
   ]
  },
  {
   "cell_type": "code",
   "execution_count": null,
   "metadata": {},
   "outputs": [],
   "source": []
  },
  {
   "cell_type": "markdown",
   "metadata": {},
   "source": [
    "<h4>Creating Templates</h4>\n",
    "A template is a file that contains the text of a response, with placeholder variables for<br>\n",
    "the dynamic parts that will be known only in the context of a request. The process that<br>\n",
    "replaces the variables with actual values and returns a final response string is called<br>\n",
    "rendering. For the task of rendering templates, Flask uses a powerful template engine<br>\n",
    "called Jinja2.<br><br>\n",
    "We can create templates dynamically using jinja2<br>\n",
    "We use standard html with the jinja control structures<br>\n",
    "Run the code below to create the template.<br>\n",
    "To use it in code create a program called 'test_jinja.py'<br>\n",
    "using the second code block below.<br>\n",
    "<br>"
   ]
  },
  {
   "cell_type": "code",
   "execution_count": null,
   "metadata": {},
   "outputs": [],
   "source": [
    "from jinja2 import Template\n",
    "x = \"\"\"\n",
    "<p>Uncle Scrooge nephews</p>\n",
    "<ul>\n",
    "{% for i in my_list %}\n",
    "<li>{{ i }}</li>\n",
    "{% endfor %}\n",
    "</ul>\n",
    "\"\"\"\n",
    "template = Template(x)\n",
    "# output is an unicode string\n",
    "print (template.render(my_list=['Huey', 'Dewey', 'Louie']))"
   ]
  },
  {
   "cell_type": "code",
   "execution_count": null,
   "metadata": {},
   "outputs": [],
   "source": [
    "# Test_jinja.py\n",
    "from flask import Flask\n",
    "from jinja2 import Template\n",
    "import os\n",
    "os.chdir('C:\\\\Projects\\\\Code immersives\\\\')\n",
    "\n",
    "app = Flask(__name__) \n",
    "\n",
    "@app.route('/Scrooge')\n",
    "def christmas_carol():\n",
    "    x = \"\"\"\n",
    "<p>Uncle Scrooge nephews</p>\n",
    "<ul>\n",
    "{% for i in my_list %}\n",
    "<li>{{ i }}</li>\n",
    "{% endfor %}\n",
    "</ul>\n",
    "\"\"\"\n",
    "    template = Template(x)\n",
    "    return template.render(my_list=['Huey', 'Dewey', 'Louie'])\n",
    "\n",
    "if __name__ == '__main__':\n",
    "    app.run(host='localhost',debug=True, port=8000)"
   ]
  },
  {
   "cell_type": "markdown",
   "metadata": {},
   "source": [
    "<h2>Exercise</h2>\n",
    "Create a program the will output your lucky 6 numbers for the lottery (1-60)<br>\n",
    "Use a jinja list<br>"
   ]
  },
  {
   "cell_type": "code",
   "execution_count": null,
   "metadata": {},
   "outputs": [],
   "source": []
  },
  {
   "cell_type": "markdown",
   "metadata": {},
   "source": [
    "<h2>Exercise</h2>\n",
    "We have a file called Nato.txt please process this file on the fly<br>\n",
    "and return the list of nato countries"
   ]
  },
  {
   "cell_type": "code",
   "execution_count": null,
   "metadata": {},
   "outputs": [],
   "source": []
  },
  {
   "cell_type": "markdown",
   "metadata": {},
   "source": [
    "<h2>SQLite3</h2>"
   ]
  },
  {
   "cell_type": "code",
   "execution_count": null,
   "metadata": {},
   "outputs": [],
   "source": [
    "import sqlite3\n",
    "import os\n",
    "os.chdir(sqlite_directory)"
   ]
  },
  {
   "cell_type": "code",
   "execution_count": null,
   "metadata": {},
   "outputs": [],
   "source": [
    "conn = sqlite3.connect('countries.db')  # Create a database\n",
    "# If we attempt to connect to a database that does not exist.  It creates it."
   ]
  },
  {
   "cell_type": "code",
   "execution_count": null,
   "metadata": {},
   "outputs": [],
   "source": [
    "# Create a cursor to access the database\n",
    "curr = conn.cursor()\n",
    "# This is equivalent to creating a filehandle when using the 'open' function"
   ]
  },
  {
   "cell_type": "markdown",
   "metadata": {},
   "source": [
    "#### Let's examine the methods available for the object we just created - conn\n",
    "```\n",
    "[x for x in dir(conn) if not x.startswith('_')]\n",
    "```"
   ]
  },
  {
   "cell_type": "code",
   "execution_count": null,
   "metadata": {},
   "outputs": [],
   "source": [
    "print([x for x in dir(conn) if not x.startswith('_')])"
   ]
  },
  {
   "cell_type": "markdown",
   "metadata": {},
   "source": [
    "<h2>Exercise</h2>\n",
    "Open the file countries.txt and examine the file format<br>\n",
    "Task list<br>\n",
    "Open the file. <br>\n",
    "Create a database.  <br>\n",
    "Create a table called country_info<br>\n",
    "load the data<br>\n",
    "create an endpoint called '/getData/Currency' <br>\n",
    "- print \"The currency of XX is YYYY\"<br>\n",
    "- print \"The country XX was not not found\"<br>\n",
    "create an endpoint called '/getData/Capitals'<br>\n",
    "- print \"The capital of XX is YY\"<br>\n",
    "- print \"The capital for XX was not found\"<br>"
   ]
  },
  {
   "cell_type": "code",
   "execution_count": null,
   "metadata": {},
   "outputs": [],
   "source": []
  },
  {
   "cell_type": "code",
   "execution_count": null,
   "metadata": {},
   "outputs": [],
   "source": []
  },
  {
   "cell_type": "markdown",
   "metadata": {},
   "source": [
    "<h2>Answer<h2>"
   ]
  },
  {
   "cell_type": "code",
   "execution_count": null,
   "metadata": {},
   "outputs": [],
   "source": []
  },
  {
   "cell_type": "markdown",
   "metadata": {},
   "source": [
    "This notebook is part of a course at www.codeimmersives.com called Rest Apis with Python. If you accessed this notebook outside the course, \n",
    "you can get more information about this course online by clicking [here](https://www.codeimmersives.com/programs/python-aws/)."
   ]
  }
 ],
 "metadata": {
  "kernelspec": {
   "display_name": "Python 3",
   "language": "python",
   "name": "python3"
  },
  "language_info": {
   "codemirror_mode": {
    "name": "ipython",
    "version": 3
   },
   "file_extension": ".py",
   "mimetype": "text/x-python",
   "name": "python",
   "nbconvert_exporter": "python",
   "pygments_lexer": "ipython3",
   "version": "3.7.4"
  }
 },
 "nbformat": 4,
 "nbformat_minor": 4
}
