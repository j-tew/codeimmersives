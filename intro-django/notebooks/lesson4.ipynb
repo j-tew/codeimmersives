{
 "cells": [
  {
   "cell_type": "markdown",
   "metadata": {},
   "source": [
    "### Agenda\n",
    "<div class=\"alert alert-block alert-info\" style=\"margin-top: 20px\">\n",
    "\n",
    "1.  [Review](#0)<br>\n",
    "2.  [Decorators](#2)<br> \n",
    "3.  [Flask](#3)<br> \n",
    "4.  [Exercise 1](#8) <br>    \n",
    "5.  [Exercise 2](#10) <br>   \n",
    "</div>\n",
    "<hr>"
   ]
  },
  {
   "cell_type": "markdown",
   "metadata": {},
   "source": [
    "<h2>Review</h2>"
   ]
  },
  {
   "source": [
    "<H2>Exercise</H2>\n",
    "You are working in the H.R. department and you have to mask the<br>\n",
    "sensitive employee salary data based on an employee's security clearance<br>\n",
    "<br>\n",
    "Create the following:<br>\n",
    "1 - A class called 'SecurityClearance' which accepts the emp name and their clearance level<br>\n",
    "2 - The levels = 0 to 4<br>\n",
    "3 - By default  if you create an instance and do not include the clearance it defaults to 0<br>\n",
    "4 - When you print the instance it prints: 'Name' your clearance is '3'<br>\n",
    "5 - You have a private class variable: \n",
    "    <code>\n",
    "    _clearance = { 0:'0', 1:'1' , 2:'2' , 3:'3', 4:'All'}\n",
    "    </code>\n",
    "   <br>\n",
    "6 - Create a private method called _showLevel which will give the value of the dictionary<br>\n",
    "7 - Create a new class called CleanDocument<br>\n",
    "8 - It contains the static method called getSalary which has parameter field and sec_level<br>\n",
    "9 - The salary is masked as follows<br>\n",
    "<code>\n",
    "Level - Salary<br>\n",
    "All- 22500 ---> 22500 - No masking<br>\n",
    "3 - 22500 --> $X2500<br>\n",
    "2 - 22500 --> $XX500<br>\n",
    "1 - 22500 --> $XXX00<br>\n",
    "0 - 22500 --> $XXXXX<br>\n",
    "</code>\n",
    "Create an employee for each level and print the following salaries for each level<br>\n",
    "salaries = [20000,150000,359822]"
   ],
   "cell_type": "markdown",
   "metadata": {}
  },
  {
   "cell_type": "code",
   "execution_count": null,
   "metadata": {},
   "outputs": [],
   "source": []
  },
  {
   "cell_type": "markdown",
   "metadata": {},
   "source": [
    "<h4>Passing arguments to a function and unpacking them</h4>\n",
    "Packing and unpacking *args"
   ]
  },
  {
   "cell_type": "code",
   "execution_count": null,
   "metadata": {},
   "outputs": [],
   "source": [
    "def numbers(*args):  #  There were 4 arguments sent to the function\n",
    "    print(args)      # all of the args are printed here.  The '*' packs all of them in 1 tuple named args\n",
    "    print(f'- first args[0]={args[0]}\\n- 2nd args[1]={args[1]}\\n- 3rd args[2]={args[2]}\\n- 4th args[3]={args[3]}')\n",
    "    res = 1\n",
    "    for arg in args:\n",
    "        res *= arg   # Multiply all of the functions \n",
    "    return res\n",
    "\n",
    "#\n",
    "print(numbers(2,3,4,5))"
   ]
  },
  {
   "cell_type": "markdown",
   "metadata": {},
   "source": [
    "<h2>Exercise</h2>"
   ]
  },
  {
   "cell_type": "markdown",
   "metadata": {},
   "source": [
    "Write a function that will alternate between adding and subtracting all of the numbers<br>\n",
    "sent as arguments to a function called alt_calc.<br>\n",
    "Send the following arguments to the function:<br>\n",
    "Example 1 - print(alt_calc(10,3,4))<br>\n",
    "Example 2 - print(alt_calc(20,16,6,8,14,3))"
   ]
  },
  {
   "cell_type": "code",
   "execution_count": null,
   "metadata": {},
   "outputs": [],
   "source": []
  },
  {
   "cell_type": "markdown",
   "metadata": {},
   "source": [
    "<h4>using **kwargs</h4>\n",
    "This time use keywords passed in, in any order"
   ]
  },
  {
   "cell_type": "code",
   "execution_count": null,
   "metadata": {},
   "outputs": [],
   "source": [
    "def arrange_notes(**kwargs):\n",
    "    print(f'kwargs = {kwargs}')   # kwargs are passed as a dictionary\n",
    "    ret = 'sing '\n",
    "    for key,value in kwargs.items():\n",
    "        print(f'{key} - {value}')\n",
    "        ret += value + ',' \n",
    "    return ret\n",
    "\n",
    "print(arrange_notes(note1 = 'do', note2 = 're', note3 = 'mi', note4 = 'fa'))  # Passed to function using key word arguments"
   ]
  },
  {
   "cell_type": "markdown",
   "metadata": {},
   "source": [
    "<h2>Exercise</h2>"
   ]
  },
  {
   "cell_type": "markdown",
   "metadata": {},
   "source": [
    "Pass the following dictionary as a key word argument called pemdas and print<br>\n",
    "out all of its keys and values<br>\n",
    "<code>\n",
    "order_of_operations = {'P': 'Parenthesis',\n",
    "                      'E': 'Exponents',\n",
    "                      'M': 'Multiplication',\n",
    "                      'D': 'Division',\n",
    "                      'A': 'Addition',\n",
    "                      'S': 'Subtraction'}\n",
    "</code>\n"
   ]
  },
  {
   "cell_type": "code",
   "execution_count": null,
   "metadata": {},
   "outputs": [],
   "source": []
  },
  {
   "cell_type": "markdown",
   "metadata": {},
   "source": [
    "<h2>Exercise</h2>"
   ]
  },
  {
   "cell_type": "markdown",
   "metadata": {},
   "source": [
    "You are working for a website that collects customer data.<br>\n",
    "Some of the phone number data is not formated corectly.<br>\n",
    "<br>\n",
    "Your job is to create a decorator that does the following:<br>\n",
    "1 - If there are 10 digits, format the number as (999)999-9999<br>\n",
    "2 - If there are 7 digits, format the number as 999-9999 but right justified<br>\n",
    "3 - If you detect that the phone number is all of the same number discard it ie. (111)111-1111 or 111-1111<br>\n",
    "4 - If there are mistakes in the phone number discard it ie. Less than 10 chars or 7, non numerics<br>\n",
    "<br>\n",
    "<code>\n",
    "customers = {'1-1234':['Fred Williams','(212)234-7222'],\n",
    "             '1-9934':['Eric Wade','(21)234-4567'],\n",
    "             '1-1774':['Gilda Ericson','(222)222-2222'],\n",
    "             '1-1664':['Whilma Rotgen','(212)234-7222'],\n",
    "             '1-3334':['Doris French','()334-7992'],\n",
    "             '1-7734':['James Alms',''],\n",
    "             '1-8239':['Henry Janus','(999)999-9999'],\n",
    "             '1-6254':['David Davis','4342667255'],\n",
    "            }\n",
    "</code>"
   ]
  },
  {
   "cell_type": "code",
   "execution_count": null,
   "metadata": {},
   "outputs": [],
   "source": []
  },
  {
   "cell_type": "code",
   "execution_count": null,
   "metadata": {},
   "outputs": [],
   "source": []
  },
  {
   "cell_type": "code",
   "execution_count": null,
   "metadata": {},
   "outputs": [],
   "source": []
  },
  {
   "cell_type": "markdown",
   "metadata": {},
   "source": [
    "<h2>Exercise</h2>"
   ]
  },
  {
   "cell_type": "markdown",
   "metadata": {},
   "source": [
    "Create a decorator that calculates the fuel mileage surcharges on vehicles<br>\n",
    "returned over the 50,000 lease agreement. <br>\n",
    "The rules are as follows:<br>\n",
    "Every rental is charged $500<br>\n",
    "For every mile over 50,000 charge 10 cent per mile up to 60,000 miles<br>\n",
    "For every mile over 60,000 charge 15 cent per mile up to 70,000 miles<br>\n",
    "For every mile over 70,000 charge 25 cent per mile<br>\n",
    "<code>\n",
    "mileage = [30000,55000,60000,65000,70000,75000,80000]\n",
    "</code>"
   ]
  },
  {
   "cell_type": "code",
   "execution_count": null,
   "metadata": {},
   "outputs": [],
   "source": []
  },
  {
   "cell_type": "code",
   "execution_count": null,
   "metadata": {},
   "outputs": [],
   "source": []
  },
  {
   "cell_type": "markdown",
   "metadata": {},
   "source": [
    "<h2>Flask</h2>"
   ]
  },
  {
   "cell_type": "markdown",
   "metadata": {},
   "source": [
    "From this point forward we will be running our code in VS code and creating<br>\n",
    "programs with a .py extension.<br>\n",
    "We will run our code by executing from the terminal<br>\n",
    "<br>\n",
    "python test_flask.py\n",
    "<br>\n",
    "After running we will see the following message:<br>\n",
    "<code>\n",
    " * Serving Flask app \"test_flask\" (lazy loading)\n",
    " * Environment: production\n",
    "   WARNING: This is a development server. Do not use it in a production deployment.\n",
    "   Use a production WSGI server instead.\n",
    " * Debug mode: on\n",
    " * Restarting with stat\n",
    " * Debugger is active!\n",
    " * Debugger PIN: 781-154-690\n",
    " * Running on http://localhost:8000/ (Press CTRL+C to quit)\n",
    "</code>\n",
    "We know that our local server is up and running and waiting for requests<br>\n",
    "to hit our endpoints.<br>\n",
    "NOTICE: To restart the server after any code changes do a CTRL+C to quit on a windows machine<br>\n",
    "Run the code below.  You can change the port number if there is an issue<br>\n",
    "<br>\n",
    "After saving and running the code in VS Code open a browser window and type:<br>\n",
    "http://localhost:8000/<br>\n",
    "NOTE: Your port must match!!!!<br>\n",
    "Also with the debugger on you will be able to read your errors."
   ]
  },
  {
   "cell_type": "code",
   "execution_count": null,
   "metadata": {},
   "outputs": [],
   "source": [
    "# Copy and paste this code into VS code and name it test_flask.py\n",
    "from flask import Flask\n",
    "\n",
    "app = Flask(__name__)\n",
    "\n",
    "@app.route('/')\n",
    "def index():\n",
    "    return '<h1>** Hello World ** !</h1>'\n",
    "\n",
    "if __name__ == '__main__':\n",
    "    app.run(host='localhost',debug=True, port=8000)"
   ]
  },
  {
   "cell_type": "markdown",
   "metadata": {},
   "source": [
    "We ran our first flask app and it didn't do much.  Let's add another endpoint<br>\n",
    "to our flask app.  Create a new program called test_flask2.py (code is below)and save it<br>\n",
    "Make sure you stop your previous flask service from running.  <br>\n",
    "python test_flask2.py<br>\n",
    "Open a new browser tab and type the following<br>\n",
    "http://localhost:8000/<br>\n",
    "http://localhost:8000/user/Frank<br>\n",
    "http://localhost:8000/user/Gregory<br>   \n",
    "NOTE: Everytime you save your code in VS Code it wil save the new endpoint\n"
   ]
  },
  {
   "cell_type": "code",
   "execution_count": null,
   "metadata": {},
   "outputs": [],
   "source": [
    "from flask import Flask\n",
    "app = Flask(__name__)\n",
    "\n",
    "\n",
    "@app.route('/')\n",
    "def hello():\n",
    "    return \"<h2>Hello World!</h2>\"\n",
    "\n",
    "@app.route('/user/<name>')     # <---- THE NEW ENDPOINT - The variable has to be <name>\n",
    "def hello_name(name):\n",
    "    return f\"<h1>-- Hello {name} --</h1>\"\n",
    "\n",
    "if __name__ == '__main__':\n",
    "    app.run(host='localhost',debug=True, port=8000)"
   ]
  },
  {
   "cell_type": "markdown",
   "metadata": {},
   "source": [
    "<h2>Exercise</h2>"
   ]
  },
  {
   "cell_type": "markdown",
   "metadata": {},
   "source": [
    "Let's create a new endpoint that will be used to check if a number is prime<br>\n",
    "The endpoint should be 'number/ name '<br>\n",
    "The endpoint should pass in a number and return whether the number is a prime or not<br>\n",
    "If the number is a prime use h1 to format the number otherwise use h4<br>\n",
    "http://localhost:8000/number/23<br>\n",
    "http://localhost:8000/number/12<br>\n",
    "http://localhost:8000/number/56<br>"
   ]
  },
  {
   "cell_type": "code",
   "execution_count": null,
   "metadata": {},
   "outputs": [],
   "source": []
  },
  {
   "cell_type": "markdown",
   "metadata": {},
   "source": [
    "<h2>Exercise</h2>"
   ]
  },
  {
   "cell_type": "markdown",
   "metadata": {},
   "source": [
    "Write the code to create a new endpoint called 'factors/'<br>\n",
    "Enter a number and return all of the factors of the number<br>\n",
    "http://localhost:8000/factors/100<br>\n",
    "http://localhost:8000/factors/24<br>\n",
    "http://localhost:8000/factors/121<br>\n",
    "http://localhost:8000/factors/67<br>"
   ]
  },
  {
   "cell_type": "code",
   "execution_count": null,
   "metadata": {},
   "outputs": [],
   "source": []
  },
  {
   "cell_type": "markdown",
   "metadata": {},
   "source": [
    "<h2>Exercise</h2>"
   ]
  },
  {
   "cell_type": "markdown",
   "metadata": {},
   "source": [
    "Write an endpoint that allows you to enter a key and return<br>\n",
    "an item from the dictionary.  The endpoint is '/song'<br>\n",
    "If the note is not part of the song return 'The note ___ is not part of the song!'<br>\n",
    "Try:<br>\n",
    "http://localhost:8000/song/zi<br>\n",
    "http://localhost:8000/song/do<br>\n",
    "http://localhost:8000/song/me<br>\n",
    "<code>\n",
    "lyrics = {'do': 'Doe, a deer a female deer',\n",
    "         're': 'Ray, A drop of golden sun',\n",
    "         'me': 'Me, a name I call myself',\n",
    "         'fa': 'Far, a long long way to run',\n",
    "         'so': 'Sew, a needle pulling thread',\n",
    "         'la': 'La, a note to follow so',\n",
    "         'ti': 'Tea, a drink with jam and bread'}\n",
    "</code>"
   ]
  },
  {
   "cell_type": "code",
   "execution_count": null,
   "metadata": {},
   "outputs": [],
   "source": []
  },
  {
   "cell_type": "markdown",
   "metadata": {},
   "source": [
    "<h2>Exercise</h2>"
   ]
  },
  {
   "cell_type": "markdown",
   "metadata": {},
   "source": [
    "Review HTML by clicking [here](https://www.w3schools.com/tags/ref_byfunc.asp)."
   ]
  },
  {
   "cell_type": "markdown",
   "metadata": {},
   "source": [
    "This notebook is part of a course at www.codeimmersives.com called Rest Apis with Python. If you accessed this notebook outside the course, \n",
    "you can get more information about this course online by clicking [here](https://www.codeimmersives.com/programs/python-aws/)."
   ]
  }
 ],
 "metadata": {
  "kernelspec": {
   "display_name": "Python 3",
   "language": "python",
   "name": "python3"
  },
  "language_info": {
   "codemirror_mode": {
    "name": "ipython",
    "version": 3
   },
   "file_extension": ".py",
   "mimetype": "text/x-python",
   "name": "python",
   "nbconvert_exporter": "python",
   "pygments_lexer": "ipython3",
   "version": "3.7.4"
  }
 },
 "nbformat": 4,
 "nbformat_minor": 4
}
